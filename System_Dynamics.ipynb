{
 "cells": [
  {
   "cell_type": "code",
   "execution_count": 166,
   "id": "preliminary-hybrid",
   "metadata": {},
   "outputs": [],
   "source": [
    "import numpy as np \n",
    "from scipy.sparse import diags, spdiags # used for banded matrices\n",
    "import matplotlib.pyplot as plt \n",
    "from IPython.display import display, Markdown, Latex # used for printing latex and markdown output in code cells"
   ]
  },
  {
   "cell_type": "code",
   "execution_count": 167,
   "metadata": {},
   "outputs": [
    {
     "output_type": "error",
     "ename": "SyntaxError",
     "evalue": "invalid syntax (<ipython-input-167-d5bc4191b91a>, line 1)",
     "traceback": [
      "\u001b[0;36m  File \u001b[0;32m\"<ipython-input-167-d5bc4191b91a>\"\u001b[0;36m, line \u001b[0;32m1\u001b[0m\n\u001b[0;31m    TODO write documentation\u001b[0m\n\u001b[0m         ^\u001b[0m\n\u001b[0;31mSyntaxError\u001b[0m\u001b[0;31m:\u001b[0m invalid syntax\n"
     ]
    }
   ],
   "source": [
    "TODO write documentation"
   ]
  },
  {
   "cell_type": "code",
   "execution_count": 234,
   "metadata": {},
   "outputs": [],
   "source": [
    "def Transfer_Matrix(x=0.1, n=6, x_2=None):\n",
    "    \"\"\" \n",
    "    implement next neighbor hopping\n",
    "    \"\"\"\n",
    "\n",
    "    # Ensure probabilities are non-negative\n",
    "    assert 2 * (x + x_2) <= 1, f\"For consistency, twice the sum of x and x_2 has to be at most 1, you have 2 * (x + x_2) = {2 * (x + x_2):.3f}\"\n",
    "\n",
    "    # n=3 NN hopping for n=3 is equal to normal hopping\n",
    "    if x_2 and n > 3:\n",
    "        return np.eye(n) * (1 - 2*(x + x_2)) + Hopping_Matrix(n) * x + NN_Hopping_Matrix(n) * x_2\n",
    "    else:\n",
    "        return np.eye(n) * (1 - 2*x) + Hopping_Matrix(n) * x\n",
    "\n",
    "\n",
    "def Hopping_Matrix(n = 6):\n",
    "    \"\"\"\n",
    "    blub\n",
    "    \"\"\"\n",
    "\n",
    "    ### Check if system is large enough, i.e. if n=>2\n",
    "    assert n >= 2, \"error n must be greater or equal to 2\"\n",
    "\n",
    "    diagonal_entries = [np.ones(n-1), np.ones(n-1)]\n",
    "    H = diags(diagonal_entries, [-1, 1]).toarray()\n",
    "\n",
    "    # take care of the values not on the lower and upper main diagonal\n",
    "    H[[0, n-1], [n-1, 0]] = 1\n",
    "\n",
    "    return H\n",
    "\n",
    "\n",
    "def NN_Hopping_Matrix(n = 6):\n",
    "    \"\"\"\n",
    "    write documentation\n",
    "    \"\"\"\n",
    "\n",
    "    ### Check if system is large enough, i.e. if n=>3\n",
    "    assert n >= 3, \"error n must be greater or equal to 2\"\n",
    "    # due to symmetrie, 4x4 next neighbor hopping introduces errors if not handled with care\n",
    "    if n == 4:\n",
    "        diagonal_entries = [np.ones(n-2), np.ones(n-2)]\n",
    "        return diags(diagonal_entries, [-2, 2,]).toarray()\n",
    "    else: \n",
    "        diagonal_entries = [[1, 1], np.ones(n-2), np.ones(n-2), [1, 1]]\n",
    "        return diags(diagonal_entries, [-n+2, -2, 2, n-2]).toarray()"
   ]
  },
  {
   "cell_type": "code",
   "execution_count": 241,
   "metadata": {
    "tags": []
   },
   "outputs": [
    {
     "output_type": "execute_result",
     "data": {
      "text/plain": [
       "' for n in np.arange(3, 20):\\n    print(f\"n = {n}\")\\n    for x_2 in [0, 0.01]:\\n        print(f\"x_2 = {x_2}\")\\n        print(f\"H = \\n {Hopping_Matrix(n=n)}\")\\n        print(f\"NN = \\n {NN_Hopping_Matrix(n=n)}\")\\n        print(f\"T = \\n{Transfer_Matrix(x=0.3, x_2 = x_2, n=n)}\")\\n    print(f\"\\n\") '"
      ]
     },
     "metadata": {},
     "execution_count": 241
    }
   ],
   "source": [
    "\"\"\" for n in np.arange(3, 20):\n",
    "    print(f\"n = {n}\")\n",
    "    for x_2 in [0, 0.01]:\n",
    "        print(f\"x_2 = {x_2}\")\n",
    "        print(f\"H = \\n {Hopping_Matrix(n=n)}\")\n",
    "        print(f\"NN = \\n {NN_Hopping_Matrix(n=n)}\")\n",
    "        print(f\"T = \\n{Transfer_Matrix(x=0.3, x_2 = x_2, n=n)}\")\n",
    "    print(f\"\\n\") \"\"\""
   ]
  },
  {
   "cell_type": "code",
   "execution_count": null,
   "metadata": {},
   "outputs": [],
   "source": []
  }
 ],
 "metadata": {
  "kernelspec": {
   "name": "python3",
   "display_name": "Python 3.8.5 64-bit"
  },
  "language_info": {
   "codemirror_mode": {
    "name": "ipython",
    "version": 3
   },
   "file_extension": ".py",
   "mimetype": "text/x-python",
   "name": "python",
   "nbconvert_exporter": "python",
   "pygments_lexer": "ipython3",
   "version": "3.8.5"
  },
  "interpreter": {
   "hash": "767d51c1340bd893661ea55ea3124f6de3c7a262a8b4abca0554b478b1e2ff90"
  }
 },
 "nbformat": 4,
 "nbformat_minor": 5
}