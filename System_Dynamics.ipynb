{
 "cells": [
  {
   "cell_type": "code",
   "execution_count": 155,
   "id": "preliminary-hybrid",
   "metadata": {},
   "outputs": [],
   "source": [
    " #widget has bugs with reloading plot\n",
    "#%matplotlib inline\n",
    "\n",
    "import numpy as np \n",
    "from scipy.sparse import diags # Used for banded matrices\n",
    "\n",
    "import matplotlib\n",
    "import matplotlib.pyplot as plt # Plotting\n",
    "import seaborn as sns\n",
    "plt.style.use('seaborn-dark')\n",
    "plt.rcParams.update({'font.size':14})\n",
    "\n",
    "from IPython.display import display, Markdown, Latex # used for printing Latex and Markdown output in code cells\n",
    "from ipywidgets import interact, interactive, fixed, interact_manual, FloatSlider\n",
    "import ipywidgets as widgets\n",
    "import matplotlib.pyplot as plt, random\n",
    "from ipywidgets import HBox, Label, Layout, Button, VBox\n",
    "\n",
    "# imaginary unit\n",
    "ii = 1j"
   ]
  },
  {
   "cell_type": "code",
   "execution_count": 156,
   "metadata": {},
   "outputs": [],
   "source": [
    "# TODO write documentation"
   ]
  },
  {
   "cell_type": "code",
   "execution_count": 157,
   "metadata": {},
   "outputs": [],
   "source": [
    "def Transfer_Matrix(x=0.01, n=6, x_2=0.):\n",
    "    \"\"\" \n",
    "    # TODO implement next neighbor hopping\n",
    "    \"\"\"\n",
    "\n",
    "    # Ensure probabilities are non-negative\n",
    "    assert 2 * (x + x_2) <= 1, f\"For consistency, twice the sum of x and x_2 has to be at most 1, you have 2 * (x + x_2) = {2 * (x + x_2):.3f}\"\n",
    "\n",
    "    # n=3 NN hopping for n=3 is equal to normal hopping\n",
    "    if x_2 and n > 3:\n",
    "        return np.eye(n) * (1 - 2*(x + x_2)) + Hopping_Matrix(n) * x + NN_Hopping_Matrix(n) * x_2\n",
    "    else:\n",
    "        return np.eye(n) * (1 - 2*x) + Hopping_Matrix(n) * x\n",
    "\n",
    "\n",
    "def Hopping_Matrix(n = 6):\n",
    "    \"\"\"\n",
    "    blub\n",
    "    \"\"\"\n",
    "\n",
    "    ### Check if system is large enough, i.e. if n=>2\n",
    "    assert n >= 2, \"error n must be greater or equal to 2\"\n",
    "\n",
    "    diagonal_entries = [np.ones(n-1), np.ones(n-1)]\n",
    "    H = diags(diagonal_entries, [-1, 1]).toarray()\n",
    "\n",
    "    # take care of the values not on the lower and upper main diagonal\n",
    "    H[[0, n-1], [n-1, 0]] = 1\n",
    "\n",
    "    return H\n",
    "\n",
    "\n",
    "def NN_Hopping_Matrix(n = 6):\n",
    "    \"\"\"\n",
    "    write documentation\n",
    "    \"\"\"\n",
    "\n",
    "    ### Check if system is large enough, i.e. if n=>3\n",
    "    assert n >= 3, \"error n must be greater or equal to 2\"\n",
    "    # due to symmetrie, 4x4 next neighbor hopping introduces errors if not handled with care\n",
    "    if n == 4:\n",
    "        diagonal_entries = [np.ones(n-2), np.ones(n-2)]\n",
    "        return diags(diagonal_entries, [-2, 2,]).toarray()\n",
    "    else: \n",
    "        diagonal_entries = [[1, 1], np.ones(n-2), np.ones(n-2), [1, 1]]\n",
    "        return diags(diagonal_entries, [-n+2, -2, 2, n-2]).toarray()"
   ]
  },
  {
   "cell_type": "code",
   "execution_count": 158,
   "metadata": {
    "tags": []
   },
   "outputs": [
    {
     "output_type": "execute_result",
     "data": {
      "text/plain": [
       "' for n in np.arange(3, 20):\\n    print(f\"n = {n}\")\\n    for x_2 in [0, 0.01]:\\n        print(f\"x_2 = {x_2}\")\\n        print(f\"H = \\n {Hopping_Matrix(n=n)}\")\\n        print(f\"NN = \\n {NN_Hopping_Matrix(n=n)}\")\\n        print(f\"T = \\n{Transfer_Matrix(x=0.3, x_2 = x_2, n=n)}\")\\n    print(f\"\\n\") '"
      ]
     },
     "metadata": {},
     "execution_count": 158
    }
   ],
   "source": [
    "#Test cwll\n",
    "\"\"\" for n in np.arange(3, 20):\n",
    "    print(f\"n = {n}\")\n",
    "    for x_2 in [0, 0.01]:\n",
    "        print(f\"x_2 = {x_2}\")\n",
    "        print(f\"H = \\n {Hopping_Matrix(n=n)}\")\n",
    "        print(f\"NN = \\n {NN_Hopping_Matrix(n=n)}\")\n",
    "        print(f\"T = \\n{Transfer_Matrix(x=0.3, x_2 = x_2, n=n)}\")\n",
    "    print(f\"\\n\") \"\"\""
   ]
  },
  {
   "cell_type": "code",
   "execution_count": 345,
   "metadata": {},
   "outputs": [],
   "source": [
    "def Calc_Markov(state=np.array([1,0,0,0,0,0]), n_its=400, **kwargs):\n",
    "    T = Transfer_Matrix(*kwargs.values()) #TODO make varibale sliders x=0.1, n=6, x_2=None)\n",
    "\n",
    "    state = np.array(state)\n",
    "    observations = [state]\n",
    "    for _ in np.arange(n_its):\n",
    "        state = T @ state\n",
    "        observations.append(state)\n",
    "    return np.array(observations)\n",
    "\n",
    "\n",
    "Button_Markov = Button(\n",
    "        layout=Layout(width = \"5cm\"),\n",
    "        description=\"Click to save current figure\",\n",
    "        style = {'description_width': 'initial'}\n",
    "        )\n",
    "\n",
    "states_dict = {5:[[1,0,0,0,0], [0,1,0,0,0], [0,0,1,0,0], [0.5,0.3,0.2,0,0]],\n",
    "               6:[[1,0,0,0,0,0], [0,1,0,0,0,0], [0,0,1,0,0,0], [0.5,0.3,0.2,0,0,0]]}\n",
    "\n",
    "def Plot_Markov(state=np.array([1,0,0,0,0,0]), n_its=400, button=Button_Markov, **kwargs):\n",
    "    Initial_State.options = states_dict[kwargs.get(\"n\", 6)]\n",
    "\n",
    "    observations = Calc_Markov(state, n_its, **kwargs)\n",
    "    \n",
    "    fig = plt.figure(figsize=(6,6))\n",
    "    plt.title(f\"Markov evolution of the initial state {state}\")\n",
    "    plt.xlabel(r\"Number of iterations $n_{\\mathrm{its}}$\")\n",
    "    plt.ylabel(r\"Probability of finding particle at site $i$\")\n",
    "    plt.grid()\n",
    "\n",
    "    for site in np.arange(len(state)):\n",
    "        plt.plot(observations[:, site], label=f\"Site {site+1}\")\n",
    "    legend = plt.legend(bbox_to_anchor=(1.05, 1), loc=\"upper left\")\n",
    "    \n",
    "    ### save image if requested\n",
    "    def on_button_clicked(_):\n",
    "        fig.savefig(\"Figures/Markov.pdf\", bbox_inches='tight')\n",
    "    button.on_click(on_button_clicked)\n",
    "    plt.show()\n",
    "\n",
    "Initial_State = widgets.Dropdown(\n",
    "    equals=np.array_equal, #otherwise \"value\" checks element wise\n",
    "    options=[([1,0,0,0,0,0])],\n",
    "    #    ('2', [0,1,0,0,0,0]),\n",
    "    #    (\"3\", [0,0,1,0,0,0]),\n",
    "    #    (\"mix\", [0.5,0.2,0.3,0,0,0])\n",
    "    #    ],\n",
    "    value=np.array([1,0,0,0,0,0]),#np.array([1,0,0,0,0,0]),\n",
    "    description='Initial State:',\n",
    "    style = {'description_width': 'initial'},\n",
    "    disabled=False,\n",
    ")\n",
    "\n",
    "\n",
    "Iterations_Slider = widgets.IntSlider(\n",
    "            min=1,\n",
    "            max=400,\n",
    "            step=1,\n",
    "            value=50,\n",
    "            layout=Layout(width = \"10cm\"),# height=\"80px\"),#\"auto\"),\n",
    "            description=r'Number of iterations $x$',\n",
    "            style = {'description_width': 'initial'},\n",
    "            continuous_update=False,\n",
    "            )\n",
    "\n",
    "x_Slider = widgets.FloatSlider(\n",
    "            min=0,\n",
    "            max=1,\n",
    "            step=0.01,\n",
    "            value=0.1,\n",
    "            layout=Layout(width = \"10cm\"),# height=\"80px\"),#\"auto\"),\n",
    "            description=r'$x$',\n",
    "            style = {'description_width': 'initial'},\n",
    "            continuous_update=False\n",
    "            )\n",
    "\n",
    "x2_Slider = widgets.FloatSlider(\n",
    "            min=0,\n",
    "            max=1,\n",
    "            step=0.01,\n",
    "            value=0.,\n",
    "            layout=Layout(width = \"10cm\"),# height=\"80px\"),#\"auto\"),\n",
    "            description=r'$x_2$',\n",
    "            style = {'description_width': 'initial'},\n",
    "            continuous_update=False\n",
    "            )\n",
    "\n",
    "n_Slider = widgets.IntSlider(\n",
    "            min=2,\n",
    "            max=10,\n",
    "            step=1,\n",
    "            value=6,\n",
    "            layout=Layout(width = \"10cm\"),# height=\"80px\"),#\"auto\"),\n",
    "            description=r'$n$',\n",
    "            style = {'description_width': 'initial'},\n",
    "            continuous_update=False\n",
    "            )\n"
   ]
  },
  {
   "cell_type": "code",
   "execution_count": 346,
   "metadata": {},
   "outputs": [
    {
     "output_type": "display_data",
     "data": {
      "text/plain": "Button(description='Click to save current figure', layout=Layout(width='5cm'), style=ButtonStyle())",
      "application/vnd.jupyter.widget-view+json": {
       "version_major": 2,
       "version_minor": 0,
       "model_id": "99d5981a58564564b83b714a9d5a1cc2"
      }
     },
     "metadata": {}
    },
    {
     "output_type": "display_data",
     "data": {
      "text/plain": "interactive(children=(Dropdown(description='Initial State:', options=([1, 0, 0, 0, 0, 0],), style=DescriptionS…",
      "application/vnd.jupyter.widget-view+json": {
       "version_major": 2,
       "version_minor": 0,
       "model_id": "3de4d6220dad4d239707444bd26f8611"
      }
     },
     "metadata": {}
    }
   ],
   "source": [
    "display(Button_Markov)\n",
    "w = interactive(Plot_Markov,\n",
    "        state=Initial_State,\n",
    "        n_its=Iterations_Slider,\n",
    "        button=fixed(Button_Markov),\n",
    "        x=x_Slider,\n",
    "        n=n_Slider,\n",
    "        x2=x2_Slider);\n",
    "\n",
    "display(w)"
   ]
  },
  {
   "source": [
    "# Quantum Mechanical Time evolution"
   ],
   "cell_type": "markdown",
   "metadata": {}
  },
  {
   "cell_type": "code",
   "execution_count": 10,
   "metadata": {},
   "outputs": [],
   "source": [
    "from scipy.linalg import expm "
   ]
  },
  {
   "cell_type": "code",
   "execution_count": 11,
   "metadata": {},
   "outputs": [],
   "source": [
    "def Time_Evolution_Operator(H=Hopping_Matrix(), t=0.1):\n",
    "    '''\n",
    "    TODO\n",
    "    '''\n",
    "    return expm(ii * t * H)\n",
    "\n",
    "def Plot_QM_Evolution(state=np.array([1,0,0,0,0,0]), m_its=100):\n",
    "    '''\n",
    "    TODO\n",
    "    '''\n",
    "    observations = [state]\n",
    "    U = Time_Evolution_Operator()\n",
    "\n",
    "    for _ in np.arange(m_its):\n",
    "        state = U @ state\n",
    "        #print(np.linalg.norm(state)**2)\n",
    "        observations.append(state)\n",
    "    observations = np.array(observations)\n",
    "    for site in np.arange(4):\n",
    "        plt.plot(np.abs(observations[:, site])**2)\n"
   ]
  },
  {
   "cell_type": "code",
   "execution_count": 12,
   "metadata": {},
   "outputs": [
    {
     "output_type": "display_data",
     "data": {
      "text/plain": "<Figure size 432x288 with 1 Axes>",
      "image/svg+xml": "<?xml version=\"1.0\" encoding=\"utf-8\" standalone=\"no\"?>\n<!DOCTYPE svg PUBLIC \"-//W3C//DTD SVG 1.1//EN\"\n  \"http://www.w3.org/Graphics/SVG/1.1/DTD/svg11.dtd\">\n<!-- Created with matplotlib (https://matplotlib.org/) -->\n<svg height=\"248.390625pt\" version=\"1.1\" viewBox=\"0 0 372.16 248.390625\" width=\"372.16pt\" xmlns=\"http://www.w3.org/2000/svg\" xmlns:xlink=\"http://www.w3.org/1999/xlink\">\n <metadata>\n  <rdf:RDF xmlns:cc=\"http://creativecommons.org/ns#\" xmlns:dc=\"http://purl.org/dc/elements/1.1/\" xmlns:rdf=\"http://www.w3.org/1999/02/22-rdf-syntax-ns#\">\n   <cc:Work>\n    <dc:type rdf:resource=\"http://purl.org/dc/dcmitype/StillImage\"/>\n    <dc:date>2021-07-11T13:23:05.938563</dc:date>\n    <dc:format>image/svg+xml</dc:format>\n    <dc:creator>\n     <cc:Agent>\n      <dc:title>Matplotlib v3.3.4, https://matplotlib.org/</dc:title>\n     </cc:Agent>\n    </dc:creator>\n   </cc:Work>\n  </rdf:RDF>\n </metadata>\n <defs>\n  <style type=\"text/css\">*{stroke-linecap:butt;stroke-linejoin:round;}</style>\n </defs>\n <g id=\"figure_1\">\n  <g id=\"patch_1\">\n   <path d=\"M 0 248.390625 \nL 372.16 248.390625 \nL 372.16 0 \nL 0 0 \nz\n\" style=\"fill:#ffffff;\"/>\n  </g>\n  <g id=\"axes_1\">\n   <g id=\"patch_2\">\n    <path d=\"M 30.16 224.64 \nL 364.96 224.64 \nL 364.96 7.2 \nL 30.16 7.2 \nz\n\" style=\"fill:#eaeaf2;\"/>\n   </g>\n   <g id=\"matplotlib.axis_1\">\n    <g id=\"xtick_1\">\n     <g id=\"line2d_1\"/>\n     <g id=\"text_1\">\n      <!-- 0 -->\n      <g style=\"fill:#262626;\" transform=\"translate(41.485526 238.285625)scale(0.14 -0.14)\">\n       <defs>\n        <path d=\"M 51.703125 34.421875 \nQ 51.703125 17.1875 45.625 8.09375 \nQ 39.546875 -0.984375 27.6875 -0.984375 \nQ 15.828125 -0.984375 9.859375 8.046875 \nQ 3.90625 17.09375 3.90625 34.421875 \nQ 3.90625 52.15625 9.6875 60.984375 \nQ 15.484375 69.828125 27.984375 69.828125 \nQ 40.140625 69.828125 45.921875 60.890625 \nQ 51.703125 51.953125 51.703125 34.421875 \nz\nM 42.78125 34.421875 \nQ 42.78125 49.3125 39.328125 56 \nQ 35.890625 62.703125 27.984375 62.703125 \nQ 19.875 62.703125 16.328125 56.109375 \nQ 12.796875 49.515625 12.796875 34.421875 \nQ 12.796875 19.78125 16.375 12.984375 \nQ 19.96875 6.203125 27.78125 6.203125 \nQ 35.546875 6.203125 39.15625 13.125 \nQ 42.78125 20.0625 42.78125 34.421875 \nz\n\" id=\"LiberationSans-48\"/>\n       </defs>\n       <use xlink:href=\"#LiberationSans-48\"/>\n      </g>\n     </g>\n    </g>\n    <g id=\"xtick_2\">\n     <g id=\"line2d_2\"/>\n     <g id=\"text_2\">\n      <!-- 20 -->\n      <g style=\"fill:#262626;\" transform=\"translate(98.465597 238.285625)scale(0.14 -0.14)\">\n       <defs>\n        <path d=\"M 5.03125 0 \nL 5.03125 6.203125 \nQ 7.515625 11.921875 11.109375 16.28125 \nQ 14.703125 20.65625 18.65625 24.1875 \nQ 22.609375 27.734375 26.484375 30.765625 \nQ 30.375 33.796875 33.5 36.8125 \nQ 36.625 39.84375 38.546875 43.15625 \nQ 40.484375 46.484375 40.484375 50.6875 \nQ 40.484375 56.34375 37.15625 59.46875 \nQ 33.84375 62.59375 27.9375 62.59375 \nQ 22.3125 62.59375 18.671875 59.546875 \nQ 15.046875 56.5 14.40625 50.984375 \nL 5.421875 51.8125 \nQ 6.390625 60.0625 12.421875 64.9375 \nQ 18.453125 69.828125 27.9375 69.828125 \nQ 38.328125 69.828125 43.921875 64.921875 \nQ 49.515625 60.015625 49.515625 50.984375 \nQ 49.515625 46.96875 47.671875 43.015625 \nQ 45.84375 39.0625 42.234375 35.109375 \nQ 38.625 31.15625 28.421875 22.859375 \nQ 22.796875 18.265625 19.46875 14.578125 \nQ 16.15625 10.890625 14.703125 7.46875 \nL 50.59375 7.46875 \nL 50.59375 0 \nz\n\" id=\"LiberationSans-50\"/>\n       </defs>\n       <use xlink:href=\"#LiberationSans-50\"/>\n       <use x=\"55.615234\" xlink:href=\"#LiberationSans-48\"/>\n      </g>\n     </g>\n    </g>\n    <g id=\"xtick_3\">\n     <g id=\"line2d_3\"/>\n     <g id=\"text_3\">\n      <!-- 40 -->\n      <g style=\"fill:#262626;\" transform=\"translate(159.338324 238.285625)scale(0.14 -0.14)\">\n       <defs>\n        <path d=\"M 43.015625 15.578125 \nL 43.015625 0 \nL 34.71875 0 \nL 34.71875 15.578125 \nL 2.296875 15.578125 \nL 2.296875 22.40625 \nL 33.796875 68.796875 \nL 43.015625 68.796875 \nL 43.015625 22.515625 \nL 52.6875 22.515625 \nL 52.6875 15.578125 \nz\nM 34.71875 58.890625 \nQ 34.625 58.59375 33.34375 56.296875 \nQ 32.078125 54 31.453125 53.078125 \nL 13.8125 27.09375 \nL 11.1875 23.484375 \nL 10.40625 22.515625 \nL 34.71875 22.515625 \nz\n\" id=\"LiberationSans-52\"/>\n       </defs>\n       <use xlink:href=\"#LiberationSans-52\"/>\n       <use x=\"55.615234\" xlink:href=\"#LiberationSans-48\"/>\n      </g>\n     </g>\n    </g>\n    <g id=\"xtick_4\">\n     <g id=\"line2d_4\"/>\n     <g id=\"text_4\">\n      <!-- 60 -->\n      <g style=\"fill:#262626;\" transform=\"translate(220.211051 238.285625)scale(0.14 -0.14)\">\n       <defs>\n        <path d=\"M 51.21875 22.515625 \nQ 51.21875 11.625 45.3125 5.3125 \nQ 39.40625 -0.984375 29 -0.984375 \nQ 17.390625 -0.984375 11.234375 7.65625 \nQ 5.078125 16.3125 5.078125 32.8125 \nQ 5.078125 50.6875 11.46875 60.25 \nQ 17.875 69.828125 29.6875 69.828125 \nQ 45.265625 69.828125 49.3125 55.8125 \nL 40.921875 54.296875 \nQ 38.328125 62.703125 29.59375 62.703125 \nQ 22.078125 62.703125 17.9375 55.6875 \nQ 13.8125 48.6875 13.8125 35.40625 \nQ 16.21875 39.84375 20.5625 42.15625 \nQ 24.90625 44.484375 30.515625 44.484375 \nQ 40.046875 44.484375 45.625 38.515625 \nQ 51.21875 32.5625 51.21875 22.515625 \nz\nM 42.28125 22.125 \nQ 42.28125 29.59375 38.625 33.640625 \nQ 34.96875 37.703125 28.421875 37.703125 \nQ 22.265625 37.703125 18.484375 34.109375 \nQ 14.703125 30.515625 14.703125 24.21875 \nQ 14.703125 16.265625 18.625 11.1875 \nQ 22.5625 6.109375 28.71875 6.109375 \nQ 35.0625 6.109375 38.671875 10.375 \nQ 42.28125 14.65625 42.28125 22.125 \nz\n\" id=\"LiberationSans-54\"/>\n       </defs>\n       <use xlink:href=\"#LiberationSans-54\"/>\n       <use x=\"55.615234\" xlink:href=\"#LiberationSans-48\"/>\n      </g>\n     </g>\n    </g>\n    <g id=\"xtick_5\">\n     <g id=\"line2d_5\"/>\n     <g id=\"text_5\">\n      <!-- 80 -->\n      <g style=\"fill:#262626;\" transform=\"translate(281.083778 238.285625)scale(0.14 -0.14)\">\n       <defs>\n        <path d=\"M 51.265625 19.1875 \nQ 51.265625 9.671875 45.203125 4.34375 \nQ 39.15625 -0.984375 27.828125 -0.984375 \nQ 16.796875 -0.984375 10.5625 4.234375 \nQ 4.34375 9.46875 4.34375 19.09375 \nQ 4.34375 25.828125 8.203125 30.421875 \nQ 12.0625 35.015625 18.0625 35.984375 \nL 18.0625 36.1875 \nQ 12.453125 37.5 9.203125 41.890625 \nQ 5.953125 46.296875 5.953125 52.203125 \nQ 5.953125 60.0625 11.828125 64.9375 \nQ 17.71875 69.828125 27.640625 69.828125 \nQ 37.796875 69.828125 43.671875 65.03125 \nQ 49.5625 60.25 49.5625 52.09375 \nQ 49.5625 46.1875 46.28125 41.796875 \nQ 43.015625 37.40625 37.359375 36.28125 \nL 37.359375 36.078125 \nQ 43.953125 35.015625 47.609375 30.5 \nQ 51.265625 25.984375 51.265625 19.1875 \nz\nM 40.4375 51.609375 \nQ 40.4375 63.28125 27.640625 63.28125 \nQ 21.4375 63.28125 18.1875 60.34375 \nQ 14.9375 57.421875 14.9375 51.609375 \nQ 14.9375 45.703125 18.28125 42.59375 \nQ 21.625 39.5 27.734375 39.5 \nQ 33.9375 39.5 37.1875 42.359375 \nQ 40.4375 45.21875 40.4375 51.609375 \nz\nM 42.140625 20.015625 \nQ 42.140625 26.421875 38.328125 29.65625 \nQ 34.515625 32.90625 27.640625 32.90625 \nQ 20.953125 32.90625 17.1875 29.40625 \nQ 13.421875 25.921875 13.421875 19.828125 \nQ 13.421875 5.609375 27.9375 5.609375 \nQ 35.109375 5.609375 38.625 9.046875 \nQ 42.140625 12.5 42.140625 20.015625 \nz\n\" id=\"LiberationSans-56\"/>\n       </defs>\n       <use xlink:href=\"#LiberationSans-56\"/>\n       <use x=\"55.615234\" xlink:href=\"#LiberationSans-48\"/>\n      </g>\n     </g>\n    </g>\n    <g id=\"xtick_6\">\n     <g id=\"line2d_6\"/>\n     <g id=\"text_6\">\n      <!-- 100 -->\n      <g style=\"fill:#262626;\" transform=\"translate(338.063849 238.285625)scale(0.14 -0.14)\">\n       <defs>\n        <path d=\"M 7.625 0 \nL 7.625 7.46875 \nL 25.140625 7.46875 \nL 25.140625 60.40625 \nL 9.625 49.3125 \nL 9.625 57.625 \nL 25.875 68.796875 \nL 33.984375 68.796875 \nL 33.984375 7.46875 \nL 50.734375 7.46875 \nL 50.734375 0 \nz\n\" id=\"LiberationSans-49\"/>\n       </defs>\n       <use xlink:href=\"#LiberationSans-49\"/>\n       <use x=\"55.615234\" xlink:href=\"#LiberationSans-48\"/>\n       <use x=\"111.230469\" xlink:href=\"#LiberationSans-48\"/>\n      </g>\n     </g>\n    </g>\n   </g>\n   <g id=\"matplotlib.axis_2\">\n    <g id=\"ytick_1\">\n     <g id=\"line2d_7\"/>\n     <g id=\"text_7\">\n      <!-- 0.0 -->\n      <g style=\"fill:#262626;\" transform=\"translate(7.2 219.829176)scale(0.14 -0.14)\">\n       <defs>\n        <path d=\"M 9.125 0 \nL 9.125 10.6875 \nL 18.65625 10.6875 \nL 18.65625 0 \nz\n\" id=\"LiberationSans-46\"/>\n       </defs>\n       <use xlink:href=\"#LiberationSans-48\"/>\n       <use x=\"55.615234\" xlink:href=\"#LiberationSans-46\"/>\n       <use x=\"83.398438\" xlink:href=\"#LiberationSans-48\"/>\n      </g>\n     </g>\n    </g>\n    <g id=\"ytick_2\">\n     <g id=\"line2d_8\"/>\n     <g id=\"text_8\">\n      <!-- 0.2 -->\n      <g style=\"fill:#262626;\" transform=\"translate(7.2 180.294631)scale(0.14 -0.14)\">\n       <use xlink:href=\"#LiberationSans-48\"/>\n       <use x=\"55.615234\" xlink:href=\"#LiberationSans-46\"/>\n       <use x=\"83.398438\" xlink:href=\"#LiberationSans-50\"/>\n      </g>\n     </g>\n    </g>\n    <g id=\"ytick_3\">\n     <g id=\"line2d_9\"/>\n     <g id=\"text_9\">\n      <!-- 0.4 -->\n      <g style=\"fill:#262626;\" transform=\"translate(7.2 140.760085)scale(0.14 -0.14)\">\n       <use xlink:href=\"#LiberationSans-48\"/>\n       <use x=\"55.615234\" xlink:href=\"#LiberationSans-46\"/>\n       <use x=\"83.398438\" xlink:href=\"#LiberationSans-52\"/>\n      </g>\n     </g>\n    </g>\n    <g id=\"ytick_4\">\n     <g id=\"line2d_10\"/>\n     <g id=\"text_10\">\n      <!-- 0.6 -->\n      <g style=\"fill:#262626;\" transform=\"translate(7.2 101.22554)scale(0.14 -0.14)\">\n       <use xlink:href=\"#LiberationSans-48\"/>\n       <use x=\"55.615234\" xlink:href=\"#LiberationSans-46\"/>\n       <use x=\"83.398438\" xlink:href=\"#LiberationSans-54\"/>\n      </g>\n     </g>\n    </g>\n    <g id=\"ytick_5\">\n     <g id=\"line2d_11\"/>\n     <g id=\"text_11\">\n      <!-- 0.8 -->\n      <g style=\"fill:#262626;\" transform=\"translate(7.2 61.690994)scale(0.14 -0.14)\">\n       <use xlink:href=\"#LiberationSans-48\"/>\n       <use x=\"55.615234\" xlink:href=\"#LiberationSans-46\"/>\n       <use x=\"83.398438\" xlink:href=\"#LiberationSans-56\"/>\n      </g>\n     </g>\n    </g>\n    <g id=\"ytick_6\">\n     <g id=\"line2d_12\"/>\n     <g id=\"text_12\">\n      <!-- 1.0 -->\n      <g style=\"fill:#262626;\" transform=\"translate(7.2 22.156449)scale(0.14 -0.14)\">\n       <use xlink:href=\"#LiberationSans-49\"/>\n       <use x=\"55.615234\" xlink:href=\"#LiberationSans-46\"/>\n       <use x=\"83.398438\" xlink:href=\"#LiberationSans-48\"/>\n      </g>\n     </g>\n    </g>\n   </g>\n   <g id=\"line2d_13\">\n    <path clip-path=\"url(#p36bdf06f1e)\" d=\"M 45.378182 17.083636 \nL 48.421818 21.007551 \nL 51.465455 32.430074 \nL 54.509091 50.342226 \nL 57.552727 73.186426 \nL 60.596364 99.026214 \nL 63.64 125.753434 \nL 66.683636 151.307475 \nL 69.727273 173.880289 \nL 72.770909 192.083472 \nL 75.814545 205.059327 \nL 78.858182 212.525648 \nL 81.901818 214.752833 \nL 84.945455 212.480626 \nL 87.989091 206.789035 \nL 91.032727 198.94292 \nL 94.076364 190.231727 \nL 97.12 181.824771 \nL 100.163636 174.658662 \nL 103.207273 169.36761 \nL 106.250909 166.260443 \nL 109.294545 165.341277 \nL 112.338182 166.364966 \nL 115.381818 168.914492 \nL 118.425455 172.485825 \nL 121.469091 176.566607 \nL 124.512727 180.697912 \nL 127.556364 184.512695 \nL 130.6 187.749608 \nL 133.643636 190.245512 \nL 136.687273 191.913698 \nL 139.730909 192.716746 \nL 142.774545 192.642916 \nL 145.818182 191.693111 \nL 148.861818 189.882122 \nL 151.905455 187.253808 \nL 154.949091 183.90586 \nL 157.992727 180.016691 \nL 161.036364 175.865408 \nL 164.08 171.836121 \nL 167.123636 168.400113 \nL 170.167273 166.073225 \nL 173.210909 165.350681 \nL 176.254545 166.626513 \nL 179.298182 170.108947 \nL 182.341818 175.745705 \nL 185.385455 183.173587 \nL 188.429091 191.704659 \nL 191.472727 200.357054 \nL 194.516364 207.932339 \nL 197.56 213.134426 \nL 200.603636 214.71819 \nL 203.647273 211.650422 \nL 206.690909 203.262294 \nL 209.734545 189.371999 \nL 212.778182 170.358709 \nL 215.821818 147.174358 \nL 218.865455 121.287381 \nL 221.909091 94.561273 \nL 224.952727 69.079685 \nL 227.996364 46.937239 \nL 231.04 30.020459 \nL 234.083636 19.805185 \nL 237.127273 17.19539 \nL 240.170909 22.423461 \nL 243.214545 35.024448 \nL 246.258182 53.887538 \nL 249.301818 77.378259 \nL 252.345455 103.516132 \nL 255.389091 130.185728 \nL 258.432727 155.355325 \nL 261.476364 177.27709 \nL 264.52 194.645812 \nL 267.563636 206.699304 \nL 270.607273 213.251658 \nL 273.650909 214.659476 \nL 276.694545 211.729724 \nL 279.738182 205.584763 \nL 282.781818 197.504612 \nL 285.825455 188.767943 \nL 288.869091 180.511745 \nL 291.912727 173.625392 \nL 294.956364 168.688728 \nL 298 165.956812 \nL 301.043636 165.387199 \nL 304.087273 166.700046 \nL 307.130909 169.457775 \nL 310.174545 173.149802 \nL 313.218182 177.269018 \nL 316.261818 181.369935 \nL 319.305455 185.102963 \nL 322.349091 188.224281 \nL 325.392727 190.585387 \nL 328.436364 192.109769 \nL 331.48 192.76576 \nL 334.523636 192.544292 \nL 337.567273 191.448112 \nL 340.610909 189.495501 \nL 343.654545 186.737474 \nL 346.698182 183.283487 \nL 349.741818 179.327812 \n\" style=\"fill:none;stroke:#1f77b4;stroke-linecap:round;stroke-width:1.5;\"/>\n   </g>\n   <g id=\"line2d_14\">\n    <path clip-path=\"url(#p36bdf06f1e)\" d=\"M 45.378182 214.756364 \nL 48.421818 212.799318 \nL 51.465455 207.160303 \nL 54.509091 198.505912 \nL 57.552727 187.852015 \nL 60.596364 176.434922 \nL 63.64 165.556595 \nL 66.683636 156.424989 \nL 69.727273 150.010911 \nL 72.770909 146.94007 \nL 75.814545 147.433644 \nL 78.858182 151.303574 \nL 81.901818 158.000932 \nL 84.945455 166.708336 \nL 87.989091 176.461529 \nL 91.032727 186.281737 \nL 94.076364 195.299735 \nL 97.12 202.85475 \nL 100.163636 208.555841 \nL 103.207273 212.299696 \nL 106.250909 214.245606 \nL 109.294545 214.754826 \nL 112.338182 214.306565 \nL 115.381818 213.405667 \nL 118.425455 212.497417 \nL 121.469091 211.902722 \nL 124.512727 211.782715 \nL 127.556364 212.13631 \nL 130.6 212.828375 \nL 133.643636 213.640964 \nL 136.687273 214.336295 \nL 139.730909 214.718521 \nL 142.774545 214.682031 \nL 145.818182 214.236855 \nL 148.861818 213.506266 \nL 151.905455 212.697042 \nL 154.949091 212.048148 \nL 157.992727 211.767848 \nL 161.036364 211.971814 \nL 164.08 212.635062 \nL 167.123636 213.568522 \nL 170.167273 214.427022 \nL 173.210909 214.750033 \nL 176.254545 214.030687 \nL 179.298182 211.803181 \nL 182.341818 207.734802 \nL 185.385455 201.707013 \nL 188.429091 193.87085 \nL 191.472727 184.665082 \nL 194.516364 174.790961 \nL 197.56 165.143917 \nL 200.603636 156.709417 \nL 203.647273 150.436226 \nL 206.690909 147.10451 \nL 209.734545 147.207942 \nL 212.778182 150.867783 \nL 215.821818 157.792991 \nL 218.865455 167.294233 \nL 221.909091 178.35212 \nL 224.952727 189.732172 \nL 227.996364 200.13216 \nL 231.04 208.34247 \nL 234.083636 213.397946 \nL 237.127273 214.700491 \nL 240.170909 212.095577 \nL 243.214545 205.892068 \nL 246.258182 196.822619 \nL 249.301818 185.950129 \nL 252.345455 174.533177 \nL 255.389091 163.868896 \nL 258.432727 155.134627 \nL 261.476364 149.249508 \nL 264.52 146.77393 \nL 267.563636 147.85908 \nL 270.607273 152.251488 \nL 273.650909 159.349616 \nL 276.694545 168.302353 \nL 279.738182 178.133734 \nL 282.781818 187.875222 \nL 285.825455 196.686626 \nL 288.869091 203.949398 \nL 291.912727 209.320929 \nL 294.956364 212.744907 \nL 298 214.419632 \nL 301.043636 214.732491 \nL 304.087273 214.173453 \nL 307.130909 213.242898 \nL 310.174545 212.369013 \nL 313.218182 211.847432 \nL 316.261818 211.811287 \nL 319.305455 212.234235 \nL 322.349091 212.963161 \nL 325.392727 213.772248 \nL 328.436364 214.426668 \nL 331.48 214.742898 \nL 334.523636 214.633719 \nL 337.567273 214.129148 \nL 340.610909 213.369266 \nL 343.654545 212.570313 \nL 346.698182 211.970624 \nL 349.741818 211.767002 \n\" style=\"fill:none;stroke:#ff7f0e;stroke-linecap:round;stroke-width:1.5;\"/>\n   </g>\n   <g id=\"line2d_15\">\n    <path clip-path=\"url(#p36bdf06f1e)\" d=\"M 45.378182 214.756364 \nL 48.421818 214.751463 \nL 51.465455 214.679894 \nL 54.509091 214.385173 \nL 57.552727 213.650827 \nL 60.596364 212.257825 \nL 63.64 210.048491 \nL 66.683636 206.983953 \nL 69.727273 203.182848 \nL 72.770909 198.931961 \nL 75.814545 194.66414 \nL 78.858182 190.904587 \nL 81.901818 188.192371 \nL 84.945455 186.988893 \nL 87.989091 187.588104 \nL 91.032727 190.044033 \nL 94.076364 194.129311 \nL 97.12 199.334236 \nL 100.163636 204.909941 \nL 103.207273 209.952415 \nL 106.250909 213.517511 \nL 109.294545 214.751691 \nL 112.338182 213.020016 \nL 115.381818 208.012367 \nL 118.425455 199.811252 \nL 121.469091 188.909477 \nL 124.512727 176.172854 \nL 127.556364 162.750914 \nL 130.6 149.946145 \nL 133.643636 139.058485 \nL 136.687273 131.225692 \nL 139.730909 127.281181 \nL 142.774545 127.648771 \nL 145.818182 132.288857 \nL 148.861818 140.703447 \nL 151.905455 151.999372 \nL 154.949091 165.000924 \nL 157.992727 178.396411 \nL 161.036364 190.898621 \nL 164.08 201.397534 \nL 167.123636 209.085135 \nL 170.167273 213.536505 \nL 173.210909 214.737857 \nL 176.254545 213.059892 \nL 179.298182 209.182558 \nL 182.341818 203.983895 \nL 185.385455 198.410236 \nL 188.429091 193.346871 \nL 191.472727 189.507305 \nL 194.516364 187.355587 \nL 197.56 187.070519 \nL 200.603636 188.553841 \nL 203.647273 191.477717 \nL 206.690909 195.361163 \nL 209.734545 199.661223 \nL 212.778182 203.863285 \nL 215.821818 207.55611 \nL 218.865455 210.480554 \nL 221.909091 212.546057 \nL 224.952727 213.814826 \nL 227.996364 214.459207 \nL 231.04 214.702254 \nL 234.083636 214.754011 \nL 237.127273 214.75636 \nL 240.170909 214.747266 \nL 243.214545 214.651367 \nL 246.258182 214.298718 \nL 249.301818 213.468064 \nL 252.345455 211.946234 \nL 255.389091 209.59188 \nL 258.432727 206.390575 \nL 261.476364 202.489351 \nL 264.52 198.202001 \nL 267.563636 193.981451 \nL 270.607273 190.361247 \nL 273.650909 187.873947 \nL 276.694545 186.958793 \nL 279.738182 187.873775 \nL 282.781818 190.627489 \nL 285.825455 194.943967 \nL 288.869091 200.269084 \nL 291.912727 205.821008 \nL 294.956364 210.680293 \nL 298 213.908719 \nL 301.043636 214.680915 \nL 304.087273 212.409989 \nL 307.130909 206.848351 \nL 310.174545 198.147743 \nL 313.218182 186.867792 \nL 316.261818 173.929563 \nL 319.305455 160.518359 \nL 322.349091 147.947498 \nL 325.392727 137.500602 \nL 328.436364 130.273416 \nL 331.48 127.036588 \nL 334.523636 128.138227 \nL 337.567273 133.45966 \nL 340.610909 142.430532 \nL 343.654545 154.101139 \nL 346.698182 167.262012 \nL 349.741818 180.594298 \n\" style=\"fill:none;stroke:#2ca02c;stroke-linecap:round;stroke-width:1.5;\"/>\n   </g>\n   <g id=\"line2d_16\">\n    <path clip-path=\"url(#p36bdf06f1e)\" d=\"M 45.378182 214.756364 \nL 48.421818 214.756342 \nL 51.465455 214.754986 \nL 54.509091 214.741058 \nL 57.552727 214.673344 \nL 60.596364 214.453747 \nL 63.64 213.901848 \nL 66.683636 212.740095 \nL 69.727273 210.597646 \nL 72.770909 207.037921 \nL 75.814545 201.610559 \nL 78.858182 193.923484 \nL 81.901818 183.726015 \nL 84.945455 170.990372 \nL 87.989091 155.977152 \nL 91.032727 139.270995 \nL 94.076364 121.775635 \nL 97.12 104.662711 \nL 100.163636 89.275229 \nL 103.207273 76.993623 \nL 106.250909 69.078779 \nL 109.294545 66.511143 \nL 112.338182 69.847327 \nL 115.381818 79.114895 \nL 118.425455 93.762292 \nL 121.469091 112.67445 \nL 124.512727 134.256405 \nL 127.556364 156.578311 \nL 130.6 177.566806 \nL 133.643636 195.221045 \nL 136.687273 207.827783 \nL 139.730909 214.149304 \nL 142.774545 213.560933 \nL 145.818182 206.120919 \nL 148.861818 192.563908 \nL 151.905455 174.218818 \nL 154.949091 152.861451 \nL 157.992727 130.520246 \nL 161.036364 109.259177 \nL 164.08 90.964142 \nL 167.123636 77.158026 \nL 170.167273 68.865175 \nL 173.210909 66.538993 \nL 176.254545 70.057783 \nL 179.298182 78.78503 \nL 182.341818 91.682356 \nL 185.385455 107.457368 \nL 188.429091 124.725354 \nL 191.472727 142.163627 \nL 194.516364 158.64002 \nL 197.56 173.302156 \nL 200.603636 185.620747 \nL 203.647273 195.387147 \nL 206.690909 202.671815 \nL 209.734545 207.755126 \nL 212.778182 211.044611 \nL 215.821818 212.992895 \nL 218.865455 214.0285 \nL 221.909091 214.507827 \nL 224.952727 214.691775 \nL 227.996364 214.745482 \nL 231.04 214.755548 \nL 234.083636 214.756356 \nL 237.127273 214.756364 \nL 240.170909 214.756308 \nL 243.214545 214.754135 \nL 246.258182 214.735244 \nL 249.301818 214.650811 \nL 252.345455 214.390499 \nL 255.389091 213.758174 \nL 258.432727 212.459726 \nL 261.476364 210.110648 \nL 264.52 206.267781 \nL 267.563636 200.485089 \nL 270.607273 192.388328 \nL 273.650909 181.758851 \nL 276.694545 168.613439 \nL 279.738182 153.265675 \nL 282.781818 136.355421 \nL 285.825455 118.836325 \nL 288.869091 101.916746 \nL 291.912727 86.956188 \nL 294.956364 75.326327 \nL 298 68.25194 \nL 301.043636 66.651441 \nL 304.087273 70.998525 \nL 307.130909 81.225182 \nL 310.174545 96.68214 \nL 313.218182 116.165988 \nL 316.261818 138.013821 \nL 319.305455 160.257305 \nL 322.349091 180.819856 \nL 325.392727 197.734367 \nL 328.436364 209.355517 \nL 331.48 214.540722 \nL 334.523636 212.777271 \nL 337.567273 204.239727 \nL 340.610909 189.770358 \nL 343.654545 170.785077 \nL 346.698182 149.116695 \nL 349.741818 126.815043 \n\" style=\"fill:none;stroke:#d62728;stroke-linecap:round;stroke-width:1.5;\"/>\n   </g>\n   <g id=\"patch_3\">\n    <path d=\"M 30.16 224.64 \nL 30.16 7.2 \n\" style=\"fill:none;\"/>\n   </g>\n   <g id=\"patch_4\">\n    <path d=\"M 364.96 224.64 \nL 364.96 7.2 \n\" style=\"fill:none;\"/>\n   </g>\n   <g id=\"patch_5\">\n    <path d=\"M 30.16 224.64 \nL 364.96 224.64 \n\" style=\"fill:none;\"/>\n   </g>\n   <g id=\"patch_6\">\n    <path d=\"M 30.16 7.2 \nL 364.96 7.2 \n\" style=\"fill:none;\"/>\n   </g>\n  </g>\n </g>\n <defs>\n  <clipPath id=\"p36bdf06f1e\">\n   <rect height=\"217.44\" width=\"334.8\" x=\"30.16\" y=\"7.2\"/>\n  </clipPath>\n </defs>\n</svg>\n",
      "image/png": "[encoded data removed]"
     },
     "metadata": {}
    }
   ],
   "source": [
    "Plot_QM_Evolution()"
   ]
  },
  {
   "cell_type": "code",
   "execution_count": 336,
   "metadata": {},
   "outputs": [
    {
     "output_type": "execute_result",
     "data": {
      "text/plain": [
       "array([], dtype=int64)"
      ]
     },
     "metadata": {},
     "execution_count": 336
    }
   ],
   "source": [
    "np.arange(-1)"
   ]
  },
  {
   "cell_type": "code",
   "execution_count": 211,
   "metadata": {},
   "outputs": [],
   "source": [
    "button.on_click(on_button_clicked)"
   ]
  },
  {
   "cell_type": "code",
   "execution_count": 57,
   "metadata": {},
   "outputs": [
    {
     "output_type": "display_data",
     "data": {
      "text/plain": "Button(description='Savefig', style=ButtonStyle())",
      "application/vnd.jupyter.widget-view+json": {
       "version_major": 2,
       "version_minor": 0,
       "model_id": "fb438ad432b9482ba9d5b71ad95d99ba"
      }
     },
     "metadata": {}
    },
    {
     "output_type": "display_data",
     "data": {
      "text/plain": "interactive(children=(FloatSlider(value=0.01, continuous_update=False, description='p', max=1.0, min=0.01, ste…",
      "application/vnd.jupyter.widget-view+json": {
       "version_major": 2,
       "version_minor": 0,
       "model_id": "f847eceef86f47b1a8efba2ce8b30419"
      }
     },
     "metadata": {}
    },
    {
     "output_type": "execute_result",
     "data": {
      "text/plain": [
       "<function __main__.plotfields(p, a)>"
      ]
     },
     "metadata": {},
     "execution_count": 57
    }
   ],
   "source": [
    "import numpy as np\n",
    "from ipywidgets import interact, interactive,FloatSlider,IntSlider,Button\n",
    "from IPython.display import display\n",
    "import matplotlib.pylab as plt\n",
    "%matplotlib inline\n",
    "button = Button(description=\"Savefig\")\n",
    "display(button)\n",
    "\n",
    "\n",
    "\n",
    "def plotfields(p,a):\n",
    "    fig = plt.figure()\n",
    "    X,Y=np.meshgrid(np.linspace(0,100,100),np.linspace(0,100,100))\n",
    "    b1 = np.sin(p*X)*np.cos(a*Y)\n",
    "    b2 = np.sin(a*X)*np.cos(p*Y)\n",
    "    plt.imshow(b1,aspect='auto')\n",
    "    plt.ylabel(r'$t$')\n",
    "    plt.xlabel(r'$x$')\n",
    "    plt.tight_layout()\n",
    "    def on_button_clicked(b):\n",
    "        print(\"test\")\n",
    "        fig.savefig(\"test_p{:.3s}_a{:.3s}.eps\".format(str(int(100*p)),str(int(100*a))))\n",
    "        fig.savefig(\"test_p{:.3s}_a{:.3s}.png\".format(str(int(100*p)),str(int(100*a))))\n",
    "    button.on_click(on_button_clicked)\n",
    "\n",
    "p_w  = FloatSlider(min=0.01, max=1, step=0.01, value=0.01, continuous_update=False)\n",
    "a_w  = FloatSlider(min=0.01, max=1, step=0.01, value=0.01, continuous_update=False)\n",
    "interact(plotfields,p=p_w,a=a_w)\n"
   ]
  },
  {
   "cell_type": "code",
   "execution_count": 125,
   "metadata": {},
   "outputs": [
    {
     "output_type": "display_data",
     "data": {
      "text/plain": "interactive(children=(IntSlider(value=5, description='p', max=15, min=-5), Dropdown(description='q', options=(…",
      "application/vnd.jupyter.widget-view+json": {
       "version_major": 2,
       "version_minor": 0,
       "model_id": "31c2ba631cf247478c016345edc1d07c"
      }
     },
     "metadata": {}
    }
   ],
   "source": [
    "def h(p, q):\n",
    "    print (p, q)\n",
    "\n",
    "interact(h, p=5, q=[\"a\", \"b\"]);"
   ]
  },
  {
   "cell_type": "code",
   "execution_count": 367,
   "metadata": {},
   "outputs": [
    {
     "output_type": "display_data",
     "data": {
      "text/plain": "interactive(children=(Combobox(value='John', description='Combobox:', ensure_option=True, options=('Paul', 'Jo…",
      "application/vnd.jupyter.widget-view+json": {
       "version_major": 2,
       "version_minor": 0,
       "model_id": "9579d2965a30469c9972427924376902"
      }
     },
     "metadata": {}
    }
   ],
   "source": [
    "c = widgets.Combobox(\n",
    "    value='John',\n",
    "    placeholder='Choose Someone',\n",
    "    options=['Paul', 'John', 'George', 'Ringo'],\n",
    "    description='Combobox:',\n",
    "    ensure_option=True,\n",
    "    disabled=False\n",
    ")\n",
    "\n",
    "def test(a):\n",
    "    print(a)\n",
    "\n",
    "interact(test, a=widgets.Combobox(\n",
    "    value='John',\n",
    "    placeholder='Choose Someone',\n",
    "    options=['Paul', 'John', 'George', 'Ringo'],\n",
    "    description='Combobox:',\n",
    "    ensure_option=True,\n",
    "    disabled=False\n",
    "));"
   ]
  },
  {
   "cell_type": "code",
   "execution_count": 350,
   "metadata": {},
   "outputs": [
    {
     "output_type": "display_data",
     "data": {
      "text/plain": "interactive(children=(Checkbox(value=True, description='x'), FloatSlider(value=1.0, description='y', max=3.0, …",
      "application/vnd.jupyter.widget-view+json": {
       "version_major": 2,
       "version_minor": 0,
       "model_id": "19926e4df3b94c3d8da14dc084911842"
      }
     },
     "metadata": {}
    }
   ],
   "source": [
    "@interact(x=True, y=1.0)\n",
    "def g(x, y):\n",
    "    return (x, y)\n",
    "\n"
   ]
  },
  {
   "cell_type": "code",
   "execution_count": 369,
   "metadata": {},
   "outputs": [
    {
     "output_type": "display_data",
     "data": {
      "text/plain": "interactive(children=(Combobox(value='', description='x', options=('Chicago', 'New York', 'Washington')), Outp…",
      "application/vnd.jupyter.widget-view+json": {
       "version_major": 2,
       "version_minor": 0,
       "model_id": "ed174d6ae910482586486b95a7242d40"
      }
     },
     "metadata": {}
    }
   ],
   "source": [
    "\n",
    "\n",
    "def f(x):\n",
    "    return x\n",
    "\n",
    "interact(f, x=widgets.Combobox(options=[\"Chicago\", \"New York\", \"Washington\"]));"
   ]
  },
  {
   "cell_type": "code",
   "execution_count": null,
   "metadata": {},
   "outputs": [],
   "source": []
  }
 ],
 "metadata": {
  "kernelspec": {
   "name": "python3",
   "display_name": "Python 3.8.10 64-bit"
  },
  "language_info": {
   "codemirror_mode": {
    "name": "ipython",
    "version": 3
   },
   "file_extension": ".py",
   "mimetype": "text/x-python",
   "name": "python",
   "nbconvert_exporter": "python",
   "pygments_lexer": "ipython3",
   "version": "3.8.10"
  },
  "interpreter": {
   "hash": "767d51c1340bd893661ea55ea3124f6de3c7a262a8b4abca0554b478b1e2ff90"
  }
 },
 "nbformat": 4,
 "nbformat_minor": 5
}