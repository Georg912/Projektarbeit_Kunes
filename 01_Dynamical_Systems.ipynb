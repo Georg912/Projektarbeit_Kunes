{
 "cells": [
  {
   "cell_type": "markdown",
   "id": "12462f1e",
   "metadata": {},
   "source": [
    "# Import all the relevant modules"
   ]
  },
  {
   "cell_type": "code",
   "execution_count": 9,
   "id": "738a09c3",
   "metadata": {},
   "outputs": [
    {
     "name": "stdout",
     "output_type": "stream",
     "text": [
      "The autoreload extension is already loaded. To reload it, use:\n",
      "  %reload_ext autoreload\n"
     ]
    }
   ],
   "source": [
    "#%matplotlib widget\n",
    "%matplotlib inline\n",
    "#TODO: matplotlib widget works, but size is too big. But nice to interactively zoom in plot\n",
    "\n",
    "import numpy as np\n",
    "np.set_printoptions(linewidth=200) #set output length, default=75\n",
    "\n",
    "import matplotlib.pyplot as plt# Plotting\n",
    "plt.style.use('seaborn-dark')\n",
    "plt.rcParams.update({'font.size':14})\n",
    "#plt.rcParams.update({\"figure.autolayout\":True})\n",
    "\n",
    "import ipywidgets as widgets\n",
    "from ipywidgets import HBox, VBox\n",
    "import functools\n",
    "\n",
    "%load_ext autoreload\n",
    "%autoreload 2\n",
    "  \n",
    "# adding `Modules/` to the system path\n",
    "import sys\n",
    "sys.path.insert(0, 'Modules/')"
   ]
  },
  {
   "cell_type": "markdown",
   "id": "2231878c",
   "metadata": {},
   "source": [
    "# About Jupyter and the following Notebooks\n",
    "\n",
    "(Almost) every function is documented in the [Numpy docstring convention](https://numpydoc.readthedocs.io/en/latest/format.html) and the documentation can be displayed for each object individually by calling `help(<object>)` or `<object>?`, e.g. `help(np.linspace)` or `np.linspace?`. Also, for readability and good practice, many functions and sliders are defined as modules in the `Modules/` folder.\n",
    "\n",
    "(Almost) always the initial setup is taken from the lecture, i.e. has $n = 6, t = 0.1$, etc. as default parameters.\n",
    "\n",
    "\n",
    "This Notebook contains interactive widgets to change parameters on the fly and get a feeling for the different models via hands-on experience by the user. If the widgets in the notebook are **not displayed correctly** please refer to the official [Ipywidgets Documentation](https://ipywidgets.readthedocs.io/en/latest/user_install.html) for help.\n",
    "\n",
    "Some Notebooks feature enhanced display options leveraging TeX in the background. Although all outputs work without TeX support the quality and human readability might suffer. It is therefore recommended (if not already present) to install a working Latex distribution (e.g. [MiKTeX](https://miktex.org/), [TeX Live](https://www.tug.org/texlive/), [MacTeX](http://www.tug.org/mactex/))"
   ]
  },
  {
   "cell_type": "markdown",
   "id": "b1ad9744",
   "metadata": {},
   "source": [
    "# Part 1 - Introduction: Classical vs Quantum Mechanical dynamics\n",
    "<!---  Define a few convenience macros for bra-ket notation. -->\n",
    "$\\newcommand{\\ket}[1]{\\left\\vert{#1}\\right\\rangle}$\n",
    "$\\newcommand{\\bra}[1]{\\left\\langle{#1}\\right\\vert}$\n",
    "$\\newcommand{\\braket}[2]{\\left\\langle{#1}\\middle|{#2}\\right\\rangle}$\n",
    "$\\newcommand{\\dyad}[2]{\\left|{#1}\\middle\\rangle\\middle\\langle{#2}\\right|}$\n",
    "$\\newcommand{\\mela}[3]{\\left\\langle #1 \\vphantom{#2#3} \\right| #2 \\left| #3 \\vphantom{#1#2} \\right\\rangle}$\n",
    "$\\newcommand\\dif{\\mathop{}\\!\\mathrm{d}}$\n",
    "$\\newcommand\\ii{\\mathrm{i}}$\n",
    "$\\newcommand{\\coloneqq}{\\mathop{:=}}$\n",
    "\n",
    "We first want to explore the difference between classical and quantum mechanical (QM) dynamics using a simple Model: One Particle on a one dimensional $n$-chain with nearest neighbor hopping and periodic boundary conditions (see image below).\n",
    "\n",
    "\n",
    "[//]:# \"![](Images_For_Notebooks/1D_NN_Chain.png)\"\n",
    "\n",
    "<img src=\"Images_For_Notebooks/1D_NN_Chain.png\" height=200 />\n",
    "<figcaption> Fig: 1D NN-Chain with 8 sites and a particle (blue) on site 1</figcaption>\n",
    "\n",
    "# Markovian evolution\n",
    "<a id='markovian_evolution'></a>\n",
    "In the classical sense this model's dynamics might be governed by a [Markovian Process](https://en.wikipedia.org/wiki/Markov_chain) (and describe e.g. Brownian motion) where:\n",
    "\n",
    "* The particle is always at a definite site $j \\in \\{1,2, \\ldots, n\\}$.\n",
    "* At each discrete time-step it might hop with equal probability $p_1$ to the left or right, or it stays put with $p_0 = 1 - 2p_1$.\n",
    "    + In general $p_i$ determines the probability of hopping $i$ steps to the left or right and $p_0 = 1 - \\sum_i 2p_i$\n",
    "* We assume $0 \\leq p_i \\leq 1\\; \\forall i$ and $\\sum_{i=0} p_i = 1$, for a valid probability.\n",
    "* The $j$-th component of the $n$-vector $(x_1, x_2, \\ldots, x_n)$ is the probability of finding the particle at site $j$.\n",
    "\n",
    "\n"
   ]
  },
  {
   "cell_type": "markdown",
   "id": "fb7e58be",
   "metadata": {},
   "source": [
    "Let us first define the `Hopping_Matrix` $H$ (which in fact will prove to be our discretized Hamiltonian in QM time evolution) whose entries $H_{ij} \\in \\{0, 1\\}$ determine if a particle can take a direct path from site $i$ to another site $j$ and afterwards the `Transfer_Matrix` $T$ which includes all hopping probabilities for this different paths. For $T$ to be a valid transition matrix, all rows sum have to equal 1, $\\sum_j T_{ij} = 1\\, \\forall i$."
   ]
  },
  {
   "cell_type": "code",
   "execution_count": 10,
   "id": "e509bc8b",
   "metadata": {},
   "outputs": [
    {
     "name": "stdout",
     "output_type": "stream",
     "text": [
      "H = \n",
      "[[0. 1. 0. 0. 0. 1.]\n",
      " [1. 0. 1. 0. 0. 0.]\n",
      " [0. 1. 0. 1. 0. 0.]\n",
      " [0. 0. 1. 0. 1. 0.]\n",
      " [0. 0. 0. 1. 0. 1.]\n",
      " [1. 0. 0. 0. 1. 0.]]\n",
      "\n",
      "T = \n",
      "[[0.98 0.01 0.   0.   0.   0.01]\n",
      " [0.01 0.98 0.01 0.   0.   0.  ]\n",
      " [0.   0.01 0.98 0.01 0.   0.  ]\n",
      " [0.   0.   0.01 0.98 0.01 0.  ]\n",
      " [0.   0.   0.   0.01 0.98 0.01]\n",
      " [0.01 0.   0.   0.   0.01 0.98]]\n"
     ]
    }
   ],
   "source": [
    "from Module_Markov import Hopping_Matrix, Transfer_Matrix\n",
    "\n",
    "print(f\"H = \", Hopping_Matrix(), \"\", sep=\"\\n\")\n",
    "print(f\"T = \", Transfer_Matrix(), sep=\"\\n\")"
   ]
  },
  {
   "cell_type": "markdown",
   "id": "5bb06ec1",
   "metadata": {},
   "source": [
    "We are now ready to calculate the time evolution of an initial `state` $s(t=0)$ via $$\\large s(t) = T^t s(0).$$\n",
    "\n",
    "The code below adds slider to change the number of sites $n$, the hopping probabilites $p_i$ and the number of iterations $n_\\mathrm{its}$. One can also choose a different initial state via the `Dropdown` menu or add a custom one by changing `User Input`. Finally choosing a filename and pressing the `Save Current Figure` button stores the plot in the folder `Figures/` ."
   ]
  },
  {
   "cell_type": "code",
   "execution_count": 11,
   "id": "ddddc506",
   "metadata": {},
   "outputs": [],
   "source": [
    "from Module_Markov import Calc_Markov, Plot_Markov\n",
    "from Module_Widgets_and_Sliders import Text_Box, Iterations_Slider, p1_Slider, p2_Slider, Initial_State, n_Slider, Save_Figure_Button\n",
    "from Module_Widgets_and_Sliders import states_dict, set_filename, Click_Save_Figure"
   ]
  },
  {
   "cell_type": "code",
   "execution_count": 12,
   "id": "0dd4ff0e",
   "metadata": {},
   "outputs": [
    {
     "data": {
      "application/vnd.jupyter.widget-view+json": {
       "model_id": "0a48df6f8d5d41b29eaabe214758b7c9",
       "version_major": 2,
       "version_minor": 0
      },
      "text/plain": [
       "HBox(children=(Button(description='Save Current Figure', layout=Layout(width='5cm'), style=ButtonStyle()), Tex…"
      ]
     },
     "metadata": {},
     "output_type": "display_data"
    },
    {
     "data": {
      "application/vnd.jupyter.widget-view+json": {
       "model_id": "4dc16e8fc7d2468895e2ca2b083861bd",
       "version_major": 2,
       "version_minor": 0
      },
      "text/plain": [
       "VBox(children=(Text(value='[1, 0, 0, 0, 0, 0]', continuous_update=False, description='User Input:', placeholde…"
      ]
     },
     "metadata": {},
     "output_type": "display_data"
    }
   ],
   "source": [
    "m = widgets.interactive(Plot_Markov,\n",
    "        state=Initial_State,\n",
    "        n_its=Iterations_Slider,\n",
    "        n=n_Slider,\n",
    "        p1=p1_Slider,\n",
    "        p2=p2_Slider);\n",
    "\n",
    "output_markov = widgets.Output()\n",
    "filename = set_filename(\"Markov.pdf\")\n",
    "Save_Figure_Button.on_click(functools.partial(Click_Save_Figure, widget=m, name_widget=filename, output=output_markov))\n",
    "\n",
    "display(HBox([Save_Figure_Button, filename, output_markov]))\n",
    "display(VBox([Text_Box, m]))"
   ]
  },
  {
   "cell_type": "markdown",
   "id": "25b0f1a9",
   "metadata": {
    "tags": []
   },
   "source": [
    "# Markov Evolution by counting paths\n",
    "\n",
    "One can also arrive at the result obtained above by explicitly simulating not one particle, but many individual particles and calculating the different probabilities by taking an ensemble average.\n",
    "\n",
    "In detail:\n",
    "\n",
    "1. Assume we have $n$ positions for a particle, where $s_i, s \\in \\{1, 2, \\ldots, n\\}$ is the site a particles occupies after $i$ iterations.\n",
    "\n",
    "2. After each time step the new position of a particle $s_{i+1}$ is given by\n",
    "\n",
    "    $$ \\large\n",
    "        s_{i+1} = \\begin{cases} s_{i} \\mod{n} & \\text{with probability } 1 - 2p_1\\\\\n",
    "                                (s_i + 1) \\mod{n} & \\text{with probability } p_1 \\\\\n",
    "                                (s_i - 1) \\mod{n} & \\text{with probability } p_1,\n",
    "                   \\end{cases}\n",
    "    $$\n",
    "    \n",
    "    to account for periodicity.\n",
    "\n",
    "3. If we perform this calculation for $N$ particles the probability of finding a particle at site $s$ after $i$ iterations $P_i(s)$ is given by \n",
    "\n",
    "    $$\n",
    "        \\large P_i(s) = \\frac{N_i(s)}{N},\n",
    "    $$\n",
    "    \n",
    "    where $N_i(s)$ is the number of times a particle occupied position $s$ after $i$ iterations."
   ]
  },
  {
   "cell_type": "code",
   "execution_count": 13,
   "id": "f4791422",
   "metadata": {},
   "outputs": [],
   "source": [
    "from Module_Widgets_and_Sliders import seed_Slider, n_paths_Slider, initial_position_Slider\n",
    "from Module_Markov import Calc_Markov_Path, Plot_Markov_Path"
   ]
  },
  {
   "cell_type": "code",
   "execution_count": 14,
   "id": "adecd0f5",
   "metadata": {},
   "outputs": [
    {
     "data": {
      "application/vnd.jupyter.widget-view+json": {
       "model_id": "a5f119016bf9446f8a11c958753a43ab",
       "version_major": 2,
       "version_minor": 0
      },
      "text/plain": [
       "HBox(children=(Button(description='Save Current Figure', layout=Layout(width='5cm'), style=ButtonStyle()), Tex…"
      ]
     },
     "metadata": {},
     "output_type": "display_data"
    },
    {
     "data": {
      "application/vnd.jupyter.widget-view+json": {
       "model_id": "50c237306649442fbb23ed7e45b6f46c",
       "version_major": 2,
       "version_minor": 0
      },
      "text/plain": [
       "VBox(children=(interactive(children=(Dropdown(description='Initial position:', options=(1, 2, 3, 4, 5, 6), sty…"
      ]
     },
     "metadata": {},
     "output_type": "display_data"
    }
   ],
   "source": [
    "m_path = widgets.interactive(Plot_Markov_Path,\n",
    "            initial_position=initial_position_Slider,\n",
    "            n_its=Iterations_Slider,\n",
    "            p1=p1_Slider,\n",
    "            n_paths=n_paths_Slider,\n",
    "            seed=seed_Slider,\n",
    "            n=n_Slider);\n",
    "\n",
    "output_markov_path = widgets.Output()\n",
    "filename = set_filename(\"Markov_Path.pdf\")\n",
    "Save_Figure_Button.on_click(functools.partial(Click_Save_Figure, widget=m_path, name_widget=filename, output=output_markov_path))\n",
    "\n",
    "display(HBox([Save_Figure_Button, filename, output_markov_path]))\n",
    "display(VBox([m_path]))"
   ]
  },
  {
   "cell_type": "markdown",
   "id": "8402b7a9",
   "metadata": {},
   "source": [
    "# Quantum Mechanical Time Evolution\n",
    "<a id='qm_evolution'></a>\n",
    "In a quantum mechanical system we have:\n",
    "* A state of the system at a given time $t$ (which is represented by a wave function $\\ket{\\psi(t)}$) is described by a complex $n$-vector\n",
    "* The particle is in a superposition of the different sites and not localised until the measurement.\n",
    "* At each time-step the wave function (WF) undergoes a unitary time evolution given by\n",
    "$$\n",
    "    \\large \\ket{\\psi(t)} = U \\ket{\\psi(0)},\n",
    "$$\n",
    "\n",
    "    where $U = \\exp(-\\ii t H)$ is the time evolution operator. This follows from integrating the time dependent Schrödinger equation\n",
    "$$\n",
    "    \\large \\ii \\frac{\\dif}{\\dif t} \\ket{\\psi(t)} = H \\ket{\\psi(t)}\n",
    "$$\n",
    "\n",
    "    and setting the inital state $\\ket{\\psi(0)}$ at $t=0$.\n",
    "* The probability of measuring the particle at time $t'$ on site $j$ is given by the overlap of the WF with the site vector, i.e. the absolute square of the their inner product. By choosing the Euclidean basis $\\ket{\\mathrm{e}_i}$ for our sites we simply take the amplitude, i.e. the absolute square of the $j$-th component of the WF $\\ket{\\psi(t')}$ to arrive at the specific probability."
   ]
  },
  {
   "cell_type": "code",
   "execution_count": 15,
   "id": "92880dcc",
   "metadata": {},
   "outputs": [],
   "source": [
    "from Module_QM import Calc_QM, Plot_QM_Evolution\n",
    "from Module_Widgets_and_Sliders import t_Slider"
   ]
  },
  {
   "cell_type": "markdown",
   "id": "665548de",
   "metadata": {},
   "source": [
    "We are now ready to take a look at the quantum mechanical evolution"
   ]
  },
  {
   "cell_type": "code",
   "execution_count": 16,
   "id": "4ee50336",
   "metadata": {},
   "outputs": [
    {
     "data": {
      "application/vnd.jupyter.widget-view+json": {
       "model_id": "b1bca769f9ca4bf5aa1ed672269fdaab",
       "version_major": 2,
       "version_minor": 0
      },
      "text/plain": [
       "HBox(children=(Button(description='Save Current Figure', layout=Layout(width='5cm'), style=ButtonStyle()), Tex…"
      ]
     },
     "metadata": {},
     "output_type": "display_data"
    },
    {
     "data": {
      "application/vnd.jupyter.widget-view+json": {
       "model_id": "00c86817161142b39067692c77d8c76f",
       "version_major": 2,
       "version_minor": 0
      },
      "text/plain": [
       "VBox(children=(Text(value='[1, 0, 0, 0, 0, 0]', continuous_update=False, description='User Input:', placeholde…"
      ]
     },
     "metadata": {},
     "output_type": "display_data"
    }
   ],
   "source": [
    "qm = widgets.interactive(Plot_QM_Evolution,\n",
    "        state=Initial_State,\n",
    "        n_its=Iterations_Slider,\n",
    "        n=n_Slider,\n",
    "        t=t_Slider);\n",
    "\n",
    "output_qm = widgets.Output()\n",
    "filename = set_filename(\"QM.pdf\")\n",
    "Save_Figure_Button.on_click(functools.partial(Click_Save_Figure, widget=qm, name_widget=filename, output=output_qm))\n",
    "\n",
    "display(HBox([Save_Figure_Button, filename, output_qm]))\n",
    "display(VBox([Text_Box, qm]))"
   ]
  },
  {
   "cell_type": "markdown",
   "id": "7de68e61",
   "metadata": {},
   "source": [
    "For completeness and better comparison a side by side view of the Markovian and Qantum Mechanical models."
   ]
  },
  {
   "cell_type": "code",
   "execution_count": 17,
   "id": "08611ed2",
   "metadata": {},
   "outputs": [
    {
     "data": {
      "application/vnd.jupyter.widget-view+json": {
       "model_id": "7487e7e57f87402fb63677470dec0a7a",
       "version_major": 2,
       "version_minor": 0
      },
      "text/plain": [
       "HBox(children=(VBox(children=(Text(value='[1, 0, 0, 0, 0, 0]', continuous_update=False, description='User Inpu…"
      ]
     },
     "metadata": {},
     "output_type": "display_data"
    }
   ],
   "source": [
    "#qm.close(), m.close() #close previous widgets instances to make execution faster\n",
    "#qm.open(), m.open() #open them again, to be able to display them\n",
    "\n",
    "display(HBox([VBox([Text_Box, m]), VBox([Text_Box, qm])]))"
   ]
  },
  {
   "cell_type": "markdown",
   "id": "bcfc0b77",
   "metadata": {
    "tags": []
   },
   "source": [
    "# Time evolution using Eigenstates of the Hamiltonian $H$\n",
    "\n",
    "Instead of directly propagating the initial state with the Time Evolution Operator $U$, we can also use the Eigensystem of the Hamiltonian to achieve time evolution, if the Hamiltonian is not explicitly time dependent. \n",
    "\n",
    "Starting from the time-independent Schrödinger equation\n",
    "$$\n",
    "    \\large H \\ket{\\phi_n} = E_n \\ket{\\phi_n},\n",
    "$$\n",
    "\n",
    "with $\\ket{\\phi_n}$ being the Eigenvector corresponding to the $n$-th Eigenvalue $E_n$, one can construct a complete orthonormal eigenbasis of the Hamiltonian $\\sum_n \\dyad{\\phi_n}{\\phi_n} = \\mathbb{1}$. This Basis has to exist, as the operator is hermitian. Inserting the latter into the time evolution of a state $\\ket{\\psi(0)}$\n",
    "\n",
    "$$\n",
    "    \\large \\ket{\\psi(t)} = U \\ket{\\psi(0)} = \\exp(-\\ii t H) \\ket{\\psi(0)},\n",
    "$$\n",
    "and massaging the equation, we arrive at\n",
    "\n",
    "\n",
    "$${\\large \n",
    "    \\begin{align}\n",
    "       \\ket{\\psi(t)} &= \\exp(-\\ii t H) \\mathbb{1} \\ket{\\psi(0)} \\\\\n",
    "                      &= \\sum_n \\exp(-\\ii t H) \\ket{\\phi_n} \\underbrace{\\braket{\\phi_n}{\\psi(0)}}_{\\coloneqq c_n} \\\\\n",
    "                      &= \\sum_n c_n \\exp(-\\ii t H) \\ket{\\phi_n} \\\\\n",
    "                      &= \\sum_n c_n \\exp(-\\ii t E_n) \\ket{\\phi_n},\n",
    "    \\end{align}\n",
    "   }% \n",
    "$$\n",
    "\n",
    "where $c_n = \\braket{\\phi_n}{\\psi(0)}$ are the (complex) basis coefficients. In the last step we used the Eigenvalue equation of $H$ together with the fact, that a matrix exponential is [defined](https://en.wikipedia.org/wiki/Matrix_exponential) by the taylor series of the exponential function $$\\large \\mathrm{e}^X = \\sum_{k=0}^\\infty \\frac{X^n}{n!}.$$ Note, how the time evolution operator uses a matrix exponential, whereas the Eigendecomposition only relies on the exponential of a scalar.\n",
    "\n",
    "Finally, the probability of measuring the particle on site $j$ after $m$ steps is again given by\n",
    "$$\n",
    "    \\large P(m, j) = \\left|\\braket{\\mathrm{e}_j}{\\psi(m)}\\right|^2\n",
    "$$"
   ]
  },
  {
   "cell_type": "markdown",
   "id": "619efc45",
   "metadata": {},
   "source": [
    "Let us first take a look at eigenvalues of the $n=6$-ring Hamiltonian. We can see that two of the eigenvalues are doubly degenerate, which occurs due to the symmetry of hopping either once or twice to the left or right at any given position."
   ]
  },
  {
   "cell_type": "code",
   "execution_count": 18,
   "id": "5103259c",
   "metadata": {},
   "outputs": [
    {
     "name": "stdout",
     "output_type": "stream",
     "text": [
      "Eigenvalues for H with n = 6: [-2. -1. -1.  1.  1.  2.]\n"
     ]
    }
   ],
   "source": [
    "values, _ = np.linalg.eigh(Hopping_Matrix())\n",
    "print(f\"Eigenvalues for H with n = 6: {values}\")"
   ]
  },
  {
   "cell_type": "code",
   "execution_count": 19,
   "id": "3a188aad",
   "metadata": {},
   "outputs": [],
   "source": [
    "from Module_QM import Calc_QM_with_Eigenstates, Plot_QM_with_Eigenstates"
   ]
  },
  {
   "cell_type": "markdown",
   "id": "c54c8d53",
   "metadata": {},
   "source": [
    "We check our derivation by plotting once again a quantum mechanical time evolution and expecting the exact same behaviour."
   ]
  },
  {
   "cell_type": "code",
   "execution_count": 20,
   "id": "f316f7a7",
   "metadata": {},
   "outputs": [
    {
     "data": {
      "application/vnd.jupyter.widget-view+json": {
       "model_id": "578894ee2994453ab75efa29e577f939",
       "version_major": 2,
       "version_minor": 0
      },
      "text/plain": [
       "HBox(children=(Button(description='Save Current Figure', layout=Layout(width='5cm'), style=ButtonStyle()), Tex…"
      ]
     },
     "metadata": {},
     "output_type": "display_data"
    },
    {
     "data": {
      "application/vnd.jupyter.widget-view+json": {
       "model_id": "ba608890f71d42a7ad03fbcd17f722df",
       "version_major": 2,
       "version_minor": 0
      },
      "text/plain": [
       "VBox(children=(Text(value='[1, 0, 0, 0, 0, 0]', continuous_update=False, description='User Input:', placeholde…"
      ]
     },
     "metadata": {},
     "output_type": "display_data"
    }
   ],
   "source": [
    "qm_Eigenstates = widgets.interactive(Plot_QM_with_Eigenstates,\n",
    "        state=Initial_State,\n",
    "        n_its=Iterations_Slider,\n",
    "        n=n_Slider,\n",
    "        t=t_Slider);\n",
    "\n",
    "output_qm_Eigenstates = widgets.Output()\n",
    "filename = set_filename(\"QM_Eigenstates.pdf\")\n",
    "Save_Figure_Button.on_click(functools.partial(Click_Save_Figure, widget=qm_Eigenstates, name_widget=filename, output=output_qm_Eigenstates))\n",
    "\n",
    "display(HBox([Save_Figure_Button, filename, output_qm_Eigenstates]))\n",
    "display(VBox([Text_Box, qm_Eigenstates]))"
   ]
  },
  {
   "cell_type": "code",
   "execution_count": null,
   "id": "2cd2f9b3-0d37-4912-9835-ee892c8181c6",
   "metadata": {},
   "outputs": [],
   "source": []
  }
 ],
 "metadata": {
  "interpreter": {
   "hash": "767d51c1340bd893661ea55ea3124f6de3c7a262a8b4abca0554b478b1e2ff90"
  },
  "kernelspec": {
   "display_name": "Python 3 (ipykernel)",
   "language": "python",
   "name": "python3"
  },
  "language_info": {
   "codemirror_mode": {
    "name": "ipython",
    "version": 3
   },
   "file_extension": ".py",
   "mimetype": "text/x-python",
   "name": "python",
   "nbconvert_exporter": "python",
   "pygments_lexer": "ipython3",
   "version": "3.8.10"
  }
 },
 "nbformat": 4,
 "nbformat_minor": 5
}
