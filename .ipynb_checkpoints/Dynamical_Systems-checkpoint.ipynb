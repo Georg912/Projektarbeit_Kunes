{
 "cells": [
  {
   "cell_type": "markdown",
   "id": "a4b02051",
   "metadata": {},
   "source": [
    "# Import all the relevant modules"
   ]
  },
  {
   "cell_type": "code",
   "execution_count": 1,
   "id": "4ac3e64a",
   "metadata": {},
   "outputs": [],
   "source": [
    "#widget has bugs with reloading plot\n",
    "#%matplotlib widget\n",
    "%matplotlib inline\n",
    "#TODO: widget works, but size is not displayed correctly\n",
    "\n",
    "import numpy as np \n",
    "from scipy.sparse import diags # Used for banded matrices\n",
    "\n",
    "import matplotlib as mpl\n",
    "import matplotlib.pyplot as plt # Plotting\n",
    "from cycler import cycler\n",
    "\n",
    "\n",
    "import seaborn as sns\n",
    "plt.style.use('seaborn-dark')\n",
    "plt.rcParams.update({'font.size':14})\n",
    "#mpl.rcParams['figure.dpi']= 100\n",
    "\n",
    "from IPython.display import display, Markdown, Latex, clear_output # used for printing Latex and Markdown output in code cells\n",
    "from ipywidgets import Layout, fixed, HBox, VBox #interact, interactive, interact_manual, FloatSlider, , Label, Layout, Button, VBox\n",
    "import ipywidgets as widgets\n",
    "\n",
    "import functools\n",
    "import time, math\n"
   ]
  },
  {
   "cell_type": "markdown",
   "id": "64e648f4",
   "metadata": {},
   "source": [
    "# About Jupyter and this Notebook\n",
    "\n",
    "(Almost) every function is documented in the [Numpy docstring convention](https://numpydoc.readthedocs.io/en/latest/format.html) and the documentation can be displayed for each object individually by calling `help(<object>)`, e.g. `help(np.linspace)`.\n",
    "\n",
    "(Almost) always the initial setup has $N = 6$ as default parameter.\n",
    "\n",
    "\n",
    "This Notebook contains interactive widgets to change parameters on the fly and get a feeling for the different models via hands-on experience by the user. If the widgets in the notebook are **not displayed correctly** please refer to the official [Ipywidgets Documentation](https://ipywidgets.readthedocs.io/en/latest/user_install.html).\n",
    "\n"
   ]
  },
  {
   "cell_type": "markdown",
   "id": "f74c50cd",
   "metadata": {},
   "source": [
    "# Introduction\n",
    "<!---  Define a few convenience macros for bra-ket notation. -->\n",
    "$\\newcommand{\\ket}[1]{\\left\\vert{#1}\\right\\rangle}$\n",
    "$\\newcommand{\\bra}[1]{\\left\\langle{#1}\\right\\vert}$\n",
    "$\\newcommand{\\braket}[2]{\\left\\langle{#1}\\middle|{#2}\\right\\rangle}$\n",
    "$\\newcommand{\\dyad}[2]{\\left|{#1}\\middle\\rangle\\middle\\langle{#2}\\right|}$\n",
    "$\\newcommand{\\mela}[3]{\\left\\langle #1 \\vphantom{#2#3} \\right| #2 \\left| #3 \\vphantom{#1#2} \\right\\rangle}$\n",
    "$\\newcommand\\dif{\\mathop{}\\!\\mathrm{d}}$\n",
    "$\\newcommand\\ii{\\mathrm{i}}$\n",
    "$\\newcommand{\\coloneqq}{\\mathop{:=}}$\n",
    "\n",
    "We first want to explore the difference between classical and quantum mechanical dynamics using a simple Model: One Particle on a one dimensional $N$-chain with nearest neighbor hopping and periodic boundary conditions (see image below).\n",
    "\n",
    "\n",
    "[//]:# \"![](Images_Notebook/1D_NN_Chain.png)\"\n",
    "\n",
    "<img src=\"Images_Notebook/1D_NN_Chain.png\" height=200 />\n",
    "<figcaption> Fig: 1D NN-Chain with 8 sites and a particle (blue) on site 1</figcaption>\n",
    "\n",
    "In the classical sense this model's dynamics might be governed by a [Markovian Process](https://en.wikipedia.org/wiki/Markov_chain) (and describe e.g. Brownian motion) where:\n",
    "\n",
    "* The particle is always at a definite site $j \\in \\{1,2, \\ldots, N\\}$\n",
    "* At each discrete time-step it might hop with equal probability $p_1$ to the left or right, or it stays put with $p_0 = 1 - 2p_1$.\n",
    "* We assume $0 \\leq p_i \\leq 1\\; \\forall i$ and $\\sum_{i=0} p_i = 1$, for a valid probability\n",
    "* The $j$-th component of the $N$-vector $(x_1, x_2, \\ldots, x_N)$ is the probability of finding the particle at site $j$.\n",
    "\n",
    "\n"
   ]
  },
  {
   "cell_type": "code",
   "execution_count": 2,
   "id": "363818ac",
   "metadata": {},
   "outputs": [],
   "source": [
    "#TODO: write Theory, documentation and legend of symbols used with current symbols i.e. watch video 1 and possibly 2\n",
    "#TODO: Write prof kunes, provide custom docker filfe, test with philipp and samy\n",
    "#TODO: add info and example how to use the help function and how we follow the numpy/scipy code style"
   ]
  },
  {
   "cell_type": "markdown",
   "id": "1b6b3591",
   "metadata": {},
   "source": [
    "# Markovian Evolution\n",
    "\n",
    "Let us first define the `Hopping_Matrix` $H$ (which is in fact our Hamiltonian) from one site to another and afterwards the `Transfer_Matrix` $T$ which includes all hopping probabilities"
   ]
  },
  {
   "cell_type": "code",
   "execution_count": 3,
   "id": "39410d3c",
   "metadata": {},
   "outputs": [],
   "source": [
    "def Hopping_Matrix(n = 6):\n",
    "    \"\"\"\n",
    "    TODO: write documentation\n",
    "    \"\"\"\n",
    "\n",
    "    ### Check if system is large enough, i.e. if n=>2\n",
    "    assert n >= 2, \"error n must be greater or equal to 2\"\n",
    "\n",
    "    diagonal_entries = [np.ones(n-1), np.ones(n-1)]\n",
    "    H = diags(diagonal_entries, [-1, 1]).toarray()\n",
    "\n",
    "    # take care of the values not on the lower and upper main diagonal\n",
    "    H[[0, n-1], [n-1, 0]] = 1\n",
    "\n",
    "    return H\n",
    "    \n",
    "    \n",
    "def Transfer_Matrix(n=6, x=0.01, x2=0.):\n",
    "    \"\"\" \n",
    "    TODO: implement next neighbor hopping\n",
    "    TODO: write documentation\n",
    "    TODO: possibly extend to hopping on all places\n",
    "    TODO: python assertion with markdown, ask question on stack overflow\n",
    "    \"\"\"\n",
    "\n",
    "    # Ensure probabilities are non-negative\n",
    "    assert 2 * (x + x2) <= 1, f\"For consistency, twice the sum of x and x2 has to be at most 1, you have 2 * (x + x2) = {2 * (x + x2):.3f}\"\n",
    "\n",
    "    # n=3 NN hopping for n=3 is equal to normal hopping\n",
    "    if x2 and n > 3:\n",
    "        return np.eye(n) * (1 - 2*(x + x2)) + Hopping_Matrix(n) * x + NN_Hopping_Matrix(n) * x2\n",
    "    elif n == 2:\n",
    "        # There is only one x for n==2:\n",
    "        return np.eye(n) * (1 - x) + Hopping_Matrix(n) * x\n",
    "    else:\n",
    "        return np.eye(n) * (1 - 2*x) + Hopping_Matrix(n) * x\n",
    "\n",
    "\n",
    "\n",
    "def NN_Hopping_Matrix(n = 6):\n",
    "    \"\"\"\n",
    "    TODO: write documentation\n",
    "    TODO: possibly extend with arbitrary neighbor hopping, beware of double hopping errors\n",
    "    \"\"\"\n",
    "\n",
    "    ### Check if system is large enough, i.e. if n=>3\n",
    "    assert n >= 3, \"error n must be greater or equal to 2\"\n",
    "    # due to symmetrie, 4x4 next neighbor hopping introduces errors if not handled with care\n",
    "    if n == 4:\n",
    "        diagonal_entries = [np.ones(n-2), np.ones(n-2)]\n",
    "        return diags(diagonal_entries, [-2, 2,]).toarray()\n",
    "    else: \n",
    "        diagonal_entries = [[1, 1], np.ones(n-2), np.ones(n-2), [1, 1]]\n",
    "        return diags(diagonal_entries, [-n+2, -2, 2, n-2]).toarray()"
   ]
  },
  {
   "cell_type": "code",
   "execution_count": 4,
   "id": "2cc3ae76",
   "metadata": {},
   "outputs": [
    {
     "name": "stdout",
     "output_type": "stream",
     "text": [
      "H = [[0. 1. 0. 0. 0. 1.]\n",
      " [1. 0. 1. 0. 0. 0.]\n",
      " [0. 1. 0. 1. 0. 0.]\n",
      " [0. 0. 1. 0. 1. 0.]\n",
      " [0. 0. 0. 1. 0. 1.]\n",
      " [1. 0. 0. 0. 1. 0.]]\n",
      "T = [[0.98 0.01 0.   0.   0.   0.01]\n",
      " [0.01 0.98 0.01 0.   0.   0.  ]\n",
      " [0.   0.01 0.98 0.01 0.   0.  ]\n",
      " [0.   0.   0.01 0.98 0.01 0.  ]\n",
      " [0.   0.   0.   0.01 0.98 0.01]\n",
      " [0.01 0.   0.   0.   0.01 0.98]]\n"
     ]
    }
   ],
   "source": [
    "print(f\"H = {Hopping_Matrix()}\",)\n",
    "print(f\"T = {Transfer_Matrix()}\")"
   ]
  },
  {
   "cell_type": "markdown",
   "id": "ba5659d8",
   "metadata": {},
   "source": [
    "We are now ready to calculate the time evolution of an initial `state` $s$ via $s' = T s$.\n",
    "\n",
    "The code below adds slider to change the number of sites $n$, the hopping probabilites $p_i$ and the number of iterations $n_\\mathrm{its}$. One can also choose a different initial state via the Dropdown menu or add a custom one. Finally choosing a filename and pressing the `save figure` button saves the plot in the folder `Figures/` ."
   ]
  },
  {
   "cell_type": "code",
   "execution_count": 5,
   "id": "c678009d",
   "metadata": {},
   "outputs": [],
   "source": [
    "def check_if_int(string):\n",
    "    \"\"\"\n",
    "    Convert decimal value of `string` as integer/float/complex datatype without additional zeros after comma (e.g. \"3.0\" => 3).\n",
    "\n",
    "    Parameters:\n",
    "    -----------\n",
    "    string : str\n",
    "    \n",
    "    Returns:\n",
    "    --------\n",
    "    value \n",
    "    \"\"\"\n",
    "    value = complex(string)\n",
    "    if np.isreal(value):\n",
    "        value = value.real\n",
    "        if value.is_integer():\n",
    "            return int(value)\n",
    "        else:\n",
    "            return value\n",
    "    return value\n",
    "\n",
    "Button_Markov = widgets.Button(\n",
    "        layout=Layout(width = \"5cm\"),\n",
    "        description=\"Click to save current figure\",\n",
    "        style = {'description_width': 'initial'}\n",
    "        )\n",
    "\n",
    "\n",
    "Iterations_Slider = widgets.IntSlider(\n",
    "            min=1,\n",
    "            max=400,\n",
    "            step=1,\n",
    "            value=50,\n",
    "            layout=Layout(width = \"10cm\"),# height=\"80px\"),#\"auto\"),\n",
    "            description=r\"Number of iterations $x$:\",\n",
    "            style = {'description_width': 'initial'},\n",
    "            continuous_update=True,\n",
    "            )\n",
    "\n",
    "\n",
    "x_Slider = widgets.FloatSlider(\n",
    "            min=0,\n",
    "            max=1,\n",
    "            step=0.01,\n",
    "            value=0.1,\n",
    "            layout=Layout(width = \"10cm\"),# height=\"80px\"),#\"auto\"),\n",
    "            description=r'$x$',\n",
    "            style = {'description_width': 'initial'},\n",
    "            continuous_update=False\n",
    "            )\n",
    "\n",
    "\n",
    "x2_Slider = widgets.FloatSlider(\n",
    "            min=0,\n",
    "            max=1,\n",
    "            step=0.01,\n",
    "            value=0.,\n",
    "            layout=Layout(width = \"10cm\"),# height=\"80px\"),#\"auto\"),\n",
    "            description=r'$x_2$',\n",
    "            style = {'description_width': 'initial'},\n",
    "            continuous_update=False\n",
    "            )\n",
    "\n",
    "#TODO: Fix weird error, where states_dict is not recognized as a list of 2 \n",
    "states_dict = {\n",
    "    2:[[1,0], [0,1], [0.8,0.2], [0.5,0.5]],\n",
    "    3:[[1,0,0], [0,1,0], [0,0,1], [0.5,0.3,0.2]],\n",
    "    4:[[1,0,0,0], [0,1,0,0], [0,0,1,0], [0.5,0.3,0.2,0]],\n",
    "    5:[[1,0,0,0,0], [0,1,0,0,0], [0,0,1,0,0], [0.5,0.3,0.2,0,0]],\n",
    "    6:[[1,0,0,0,0,0], [0,1,0,0,0,0], [0,0,1,0,0,0], [0.5,0.3,0.2,0,0,0]],\n",
    "    7:[[1,0,0,0,0,0,0], [0,1,0,0,0,0,0], [0,0,1,0,0,0,0], [0.5,0.3,0.2,0,0,0,0]],\n",
    "    8:[[1,0,0,0,0,0,0,0], [0,1,0,0,0,0,0,0], [0,0,1,0,0,0,0,0], [0.5,0.3,0.2,0,0,0,0,0]],\n",
    "    9:[[1,0,0,0,0,0,0,0,0], [0,1,0,0,0,0,0,0,0], [0,0,1,0,0,0,0,0,0], [0.5,0.3,0.2,0,0,0,0,0,0]],\n",
    "    10:[[1,0,0,0,0,0,0,0,0,0], [0,1,0,0,0,0,0,0,0,0], [0,0,1,0,0,0,0,0,0,0], [0.5,0.3,0.2,0,0,0,0,0,0,0]]\n",
    "    }"
   ]
  },
  {
   "cell_type": "code",
   "execution_count": 6,
   "id": "d32c0457",
   "metadata": {},
   "outputs": [],
   "source": [
    "def Calc_Markov(state=[1,0,0,0,0,0], n_its=400, **kwargs):\n",
    "    \"\"\"TODO: add doc string\"\"\"\n",
    "    #Check if state is valid\n",
    "    assert not any(isinstance(num, complex) for num in state), f\"Markovian evolution cannot deal with complex state {state}\"\n",
    "    assert math.isclose(sum(state), 1, rel_tol=1e-04), f\"The norm of the state vector {state} = {sum(state)} != 1\"\n",
    "    \n",
    "    T = Transfer_Matrix(**kwargs)\n",
    "    print(state)\n",
    "    print(T)\n",
    "    state = np.array(state)\n",
    "    observations = [state]\n",
    "    for _ in np.arange(n_its):\n",
    "        state = T @ state\n",
    "        observations.append(state)\n",
    "    return np.array(observations)\n",
    "\n",
    "Initial_State = widgets.Dropdown(\n",
    "    equals=np.array_equal, #otherwise \"value\" checks element wise\n",
    "    options=[([1,0,0,0,0,0]),\n",
    "        ('2', [0,1,0,0,0,0]),\n",
    "        (\"3\", [0,0,1,0,0,0]),\n",
    "        (\"mix\", [0.5,0.2,0.3,0,0,0])\n",
    "        ],\n",
    "    value=[1,0,0,0,0,0],#np.array([1,0,0,0,0,0]),\n",
    "    description='Initial State:',\n",
    "    style = {'description_width': 'initial'},\n",
    "    continuous_update=False,\n",
    ")\n",
    "\n",
    "\n",
    "n_Slider = widgets.BoundedIntText(\n",
    "            min=2,\n",
    "            max=10,\n",
    "            step=1,\n",
    "            value=6,\n",
    "            layout=Layout(width = \"3cm\"),# height=\"80px\"),#\"auto\"),\n",
    "            description=r'$n$',\n",
    "            style = {'description_width': 'initial'},\n",
    "            continuous_update=False\n",
    "            )\n",
    "\n",
    "\n",
    "Text_Box = widgets.Text(continuous_update=False,\n",
    "                 placeholder='Input Initial State',\n",
    "                 description='User Input:',\n",
    "                 value=str(Initial_State.value),\n",
    "                 style = {'description_width': 'initial'},\n",
    "                )\n",
    "\n",
    "\n",
    "def transform(inp):\n",
    "        #with output:\n",
    "        #print(inp)\n",
    "        #print(t.get_state)\n",
    "        #print(Initial_State.options,  inp, type(inp))\n",
    "        #print(Initial_State.options[0],  inp, type(inp))\n",
    "    inp = list(map(check_if_int, inp.strip('][').split(',')))\n",
    "        #print(Initial_State.value, type(Initial_State.value), inp, type(inp))\n",
    "        #print(\"test\")\n",
    "    \n",
    "    #Avoid duplicate entries in `Initial_State.options'\n",
    "    if inp not in Initial_State.options:\n",
    "        Initial_State.options += tuple([inp])\n",
    "    Initial_State.value = inp\n",
    "    return inp\n",
    "    \n",
    "def Get_Options(n):\n",
    "    Initial_State.options = states_dict[n]\n",
    "    return Initial_State.value\n",
    "\n",
    "def Set_Initial_Userinput(n):\n",
    "        #with output:\n",
    "        \n",
    "        #print(Initial_State.options)\n",
    "        #print(Initial_State.value)\n",
    "        #print(str(Initial_State.value))\n",
    "    Text_Box.value = str(Initial_State.options[0])\n",
    "    return Text_Box.value\n",
    "\n",
    "def test(state):\n",
    "    Text_Box.value = str(Initial_State.value)\n",
    "    return Text_Box.value\n",
    "    \n",
    "widgets.dlink((Text_Box, 'value'), (Initial_State, 'value'), transform);\n",
    "widgets.dlink((n_Slider, 'value'), (Initial_State, 'value'), Get_Options);\n",
    "widgets.dlink((n_Slider, 'value'), (Text_Box, 'value'), Set_Initial_Userinput);\n",
    "widgets.dlink((Initial_State, 'value'), (Text_Box, 'value'), test);\n",
    "\n",
    "\n",
    "\n",
    "def Plot_Markov(state=[1,0,0,0,0,0], n_its=400, button=Button_Markov, **kwargs):\n",
    "    #Initial_State.options = states_dict[kwargs.get(\"n\", 6)]\n",
    "    observations = Calc_Markov(state, n_its, **kwargs)\n",
    "    \n",
    "    fig = plt.figure(figsize=(10,6))\n",
    "\n",
    "    plt.title(f\"Markov evolution of the initial state {state}\")\n",
    "    plt.xlabel(r\"Number of iterations $n_{\\mathrm{its}}$\")\n",
    "    plt.ylabel(r\"Probability of finding particle at site $i$\")\n",
    "    plt.grid()\n",
    "    \n",
    "    mpl.rcParams['axes.prop_cycle'] = cycler(\"color\", plt.cm.get_cmap(\"tab10\").reversed().colors[-kwargs.get(\"n\", 6):])\n",
    "\n",
    "    for site in np.arange(len(state))[::-1]:\n",
    "        plt.plot(observations[:, site], \".-\", label=f\"Site {site+1}\")\n",
    "    legend = plt.legend(bbox_to_anchor=(1.05, 1), loc=\"upper left\")\n",
    "    \n",
    "    plt.show()\n",
    "    return fig\n"
   ]
  },
  {
   "cell_type": "code",
   "execution_count": 7,
   "id": "112e3660",
   "metadata": {},
   "outputs": [],
   "source": [
    "output = widgets.Output()\n",
    "\n",
    "filename = widgets.Text(continuous_update=False,\n",
    "                 placeholder='enter filename',\n",
    "                 description='Filename:',\n",
    "                 value=\"Markov.pdf\",\n",
    "                 style = {'description_width': 'initial'},\n",
    "                )\n",
    "\n",
    "def on_button_clicked(b, widget):\n",
    "    widget.result.savefig(f\"Figures/{filename.value}\", bbox_inches='tight')\n",
    "\n",
    "    with output:\n",
    "        print(\" Done\")\n",
    "        time.sleep(2)\n",
    "        clear_output()\n",
    "\n",
    "\n",
    "w = widgets.interactive(Plot_Markov,\n",
    "        state=Initial_State,\n",
    "        n_its=Iterations_Slider,\n",
    "        button=fixed(Button_Markov),\n",
    "        n=n_Slider,\n",
    "        x=x_Slider,\n",
    "        x2=x2_Slider);\n",
    "\n",
    "\n",
    "Button_Markov.on_click(functools.partial(on_button_clicked, widget=w))"
   ]
  },
  {
   "cell_type": "code",
   "execution_count": 8,
   "id": "6d397ff3",
   "metadata": {},
   "outputs": [
    {
     "data": {
      "application/vnd.jupyter.widget-view+json": {
       "model_id": "db30279cdc084099a87fa7b5df480beb",
       "version_major": 2,
       "version_minor": 0
      },
      "text/plain": [
       "HBox(children=(Button(description='Click to save current figure', layout=Layout(width='5cm'), style=ButtonStyl…"
      ]
     },
     "metadata": {},
     "output_type": "display_data"
    },
    {
     "data": {
      "application/vnd.jupyter.widget-view+json": {
       "model_id": "cac9d03986f84c55a96795f4bb66cac3",
       "version_major": 2,
       "version_minor": 0
      },
      "text/plain": [
       "VBox(children=(Text(value='[1, 0, 0, 0, 0, 0]', continuous_update=False, description='User Input:', placeholde…"
      ]
     },
     "metadata": {},
     "output_type": "display_data"
    }
   ],
   "source": [
    "#TODO: change filename on slider change\n",
    "filename.value=\"Markov.pdf\"\n",
    "display(HBox([Button_Markov, filename, output]))\n",
    "display(VBox([Text_Box, w]))"
   ]
  },
  {
   "cell_type": "markdown",
   "id": "a5bc6a00",
   "metadata": {},
   "source": [
    "# Quantum Mechanical Time Evolution"
   ]
  },
  {
   "cell_type": "markdown",
   "id": "1e76ce1a",
   "metadata": {},
   "source": [
    "In a quantum mechanical system we have:\n",
    "* A state of the system at a given time $t$ (which is represented by a wave function $\\ket{\\psi(t)}$) is described by a complex $N$-vector\n",
    "* The particle is in a superposition of the different sites and not localised until the measurement.\n",
    "* At each time-step the wave function (WF) undergoes a unitary time evolution given by\n",
    "$$\n",
    "    \\ket{\\psi(t)} = U \\ket{\\psi(0)},\n",
    "$$\n",
    "\n",
    "    where $U = \\exp(-\\ii t H)$ is the time evolution operator. This follows from integrating the time dependent Schrödinger equation\n",
    "$$\n",
    "    \\ii \\frac{\\dif}{\\dif t} \\ket{\\psi(t)} = H \\ket{\\psi(t)}\n",
    "$$\n",
    "\n",
    "    and setting the inital state $\\ket{\\psi(0)}$ at $t=0$.\n",
    "* The probability of measuring the particle at time $t'$ on site $j$ is given by the overlap of the WF with the site vector, i.e. the absolute square of the their inner product. By choosing the Euclidean basis $\\ket{\\mathrm{e_i}}$ for our sites we simply take the amplitude, i.e. the absolute square of the $j$-th component of the WF $\\ket{\\psi(t')}$ to arrive at the specifiy probability."
   ]
  },
  {
   "cell_type": "code",
   "execution_count": 9,
   "id": "93d952a3",
   "metadata": {},
   "outputs": [],
   "source": [
    "from scipy.linalg import expm "
   ]
  },
  {
   "cell_type": "code",
   "execution_count": 10,
   "id": "9f5da44b",
   "metadata": {},
   "outputs": [],
   "source": [
    "t_Slider = widgets.FloatSlider(\n",
    "            min=0,\n",
    "            max=1,\n",
    "            step=0.01,\n",
    "            value=0.1,\n",
    "            layout=Layout(width = \"10cm\"),# height=\"80px\"),#\"auto\"),\n",
    "            description=r'$t$',\n",
    "            style = {'description_width': 'initial'},\n",
    "            continuous_update=False\n",
    "            )\n",
    "\n",
    "widgets.link((t_Slider, \"value\"), (x_Slider, \"value\"));"
   ]
  },
  {
   "cell_type": "code",
   "execution_count": 11,
   "id": "62b938e7",
   "metadata": {},
   "outputs": [],
   "source": [
    "def Time_Evolution_Operator(n=6, t=0.1):\n",
    "    '''TODO: write documentation'''\n",
    "    H = Hopping_Matrix(n)\n",
    "    #H = Transfer_Matrix(n=n, x=t, x2=t2)\n",
    "    return expm(-1j * t * H)\n",
    "\n",
    "\n",
    "def Calc_QM(state=[1,0,0,0,0,0], n_its=400, **kwargs):\n",
    "    \"\"\"TODO: add doc string\"\"\"\n",
    "    \n",
    "    #Check if state is valid\n",
    "    #TODO: possibly add optin of automatically normalizing state\n",
    "    assert math.isclose(np.linalg.norm(state), 1, rel_tol=1e-04), f\"The norm of the state vector {state} = {np.linalg.norm(state)} != 1\"\n",
    "    \n",
    "    U = Time_Evolution_Operator(**kwargs)\n",
    "\n",
    "    state = np.array(state)\n",
    "    observations = [state]\n",
    "    for _ in np.arange(n_its):\n",
    "        state = U @ state\n",
    "        observations.append(state)\n",
    "    return np.array(observations)\n",
    "\n",
    "\n",
    "def Plot_QM_Evolution(state=[1,0,0,0,0,0], n_its=400, button=Button_Markov, **kwargs):\n",
    "    #TODO: write documentation\n",
    "    observations = Calc_QM(state, n_its, **kwargs)\n",
    "    \n",
    "    fig = plt.figure(figsize=(10,6))\n",
    "    plt.title(f\"Quantum mechanical evolution of the initial state {state}\")\n",
    "    plt.xlabel(r\"Number of iterations $n_{\\mathrm{its}}$\")\n",
    "    plt.ylabel(r\"Probability of finding particle at site $i$\")\n",
    "    plt.grid()\n",
    "    \n",
    "    mpl.rcParams['axes.prop_cycle'] = cycler(\"color\", plt.cm.get_cmap(\"tab10\").reversed().colors[-kwargs.get(\"n\", 6):])\n",
    "\n",
    "    for site in np.arange(len(state))[::-1]:\n",
    "        plt.plot(np.abs(observations[:, site])**2, \".-\", label=f\"Site {site+1}\", )\n",
    "    legend = plt.legend(bbox_to_anchor=(1.05, 1), loc=\"upper left\")\n",
    "    \n",
    "    plt.show()\n",
    "    return fig"
   ]
  },
  {
   "cell_type": "code",
   "execution_count": 12,
   "id": "3f1dad46",
   "metadata": {},
   "outputs": [],
   "source": []
  },
  {
   "cell_type": "code",
   "execution_count": 20,
   "id": "491e3f44",
   "metadata": {},
   "outputs": [
    {
     "data": {
      "application/vnd.jupyter.widget-view+json": {
       "model_id": "ac7c33d1b8864c31a127092407167b8c",
       "version_major": 2,
       "version_minor": 0
      },
      "text/plain": [
       "HBox(children=(Button(description='Click to save current figure', layout=Layout(width='5cm'), style=ButtonStyl…"
      ]
     },
     "metadata": {},
     "output_type": "display_data"
    },
    {
     "data": {
      "application/vnd.jupyter.widget-view+json": {
       "model_id": "6d243432969744deaddccff44fb4eb82",
       "version_major": 2,
       "version_minor": 0
      },
      "text/plain": [
       "VBox(children=(Text(value='[1, 0, 0, 0, 0, 0]', continuous_update=False, description='User Input:', placeholde…"
      ]
     },
     "metadata": {},
     "output_type": "display_data"
    }
   ],
   "source": [
    "qm = widgets.interactive(Plot_QM_Evolution,\n",
    "        state=Initial_State,\n",
    "        n_its=Iterations_Slider,\n",
    "        button=fixed(Button_Markov),\n",
    "        n=n_Slider,\n",
    "        t=t_Slider);\n",
    "        #t2=x2_Slider);\n",
    "\n",
    "\n",
    "Button_Markov.on_click(functools.partial(on_button_clicked, widget=qm))\n",
    "\n",
    "#TODO: display U or T next to image to compare\n",
    "#TODO: fragen wie das mit NN hopping bei U is und gscheit implementieren\n",
    "#TODO: if widgets infleuce eahc other and updates get slow\n",
    "filename.value=\"QM.pdf\"\n",
    "display(HBox([Button_Markov, filename, output]))\n",
    "display(VBox([Text_Box, qm]))"
   ]
  },
  {
   "cell_type": "markdown",
   "id": "2a6f74ff-21f9-4c25-941a-63bfeb2ffc34",
   "metadata": {},
   "source": [
    "# Time evolution using Eigenstates of the Hamiltonian $H$\n",
    "\n",
    "Instead of directly propagating the initial state with the Time Evolution Operator $U$, we can also use the Eigensystem of the Hamiltonian to achieve time evolution, if the Hamiltonian is not explicitly time dependent. \n",
    "\n",
    "Starting from the time-independent Schrödinger equation\n",
    "$$\n",
    "    H \\ket{\\phi_n} = E_n \\ket{\\phi_n},\n",
    "$$\n",
    "with $\\ket{\\phi_n}$ being the Eigenvector corresponding to the $n$-th Eigenvalue $E_n$, one can construct a complete orthonormal eigenbasis of the Hamiltonian $\\sum_n \\dyad{\\phi_n}{\\phi_n} = \\mathbb{1}$. This Basis has to exist, as the operator is hermitian. Inserting the latter into the time evolution of a state $\\ket{\\psi(0)}$\n",
    "\n",
    "$$\n",
    "    \\ket{\\psi(t)} = U \\ket{\\psi(0)} = \\exp(-\\ii t H) \\ket{\\psi(0)},\n",
    "$$\n",
    "and massaging the equation, we arrive at\n",
    "\n",
    "\\begin{align}\n",
    "    \\ket{\\psi(t)} &= \\exp(-\\ii t H) \\mathbb{1} \\ket{\\psi(0)} \\\\\n",
    "                  &= \\sum_n \\exp(-\\ii t H) \\ket{\\phi_n} \\underbrace{\\braket{\\phi_n}{\\psi(0)}}_{\\coloneqq c_n} \\\\\n",
    "                  &= \\sum_n c_n \\exp(-\\ii t H) \\ket{\\phi_n} \\\\\n",
    "                  &= \\sum_n c_n \\exp(-\\ii t E_n) \\ket{\\phi_n},\n",
    "\\end{align}\n",
    "where $c_n = \\braket{\\phi_n}{\\psi(0)}$ are the (complex) basis coefficients. In the last step we used the Eigenvalue equation of $H$ together with the fact, that a matrix exponential is [defined](https://en.wikipedia.org/wiki/Matrix_exponential) by the taylor series of the exponential function. Note, how the time evolution operator uses a matrix exponential, whereas the Eigendecomposition only relies on the exponential of a scalar.\n",
    "\n",
    "Finally, the probability of measuring the particle on site $j$ after $m$ steps is again given by\n",
    "$$\n",
    "    P(m, j) = \\left|\\braket{e_j}{\\psi(m)}\\right|^2\n",
    "$$"
   ]
  },
  {
   "cell_type": "code",
   "execution_count": 14,
   "id": "27b0cde6-f0c4-44b7-aaff-07b6c8f7cb88",
   "metadata": {},
   "outputs": [],
   "source": [
    "def Calc_QM_with_Eigenstates(state=[1,0,0,0,0,0], n_its=50, **kwargs):\n",
    "    \"\"\"TODO: add doc string\"\"\"\n",
    "    \n",
    "    #Check if state is valid\n",
    "    #TODO: possibly add optin of automatically normalizing state\n",
    "    assert math.isclose(np.linalg.norm(state), 1, rel_tol=1e-04), f\"The norm of the state vector {state} = {np.linalg.norm(state)} != 1\"\n",
    "    \n",
    "    #TODO: check numerics of eigenvalues when rounding\n",
    "    # Note, eigh is necessary, as np.eigdoes not necessarily compute orthogonal eigevectors\n",
    "    eig_vals, eig_vecs = np.linalg.eigh(Hopping_Matrix(kwargs.get(\"n\", 6)))\n",
    "    state = np.array(state)\n",
    "    observations = []\n",
    "    \n",
    "    for its in np.arange(n_its):\n",
    "        c_n = np.einsum(\"i, ij -> j\", np.conj(state), eig_vecs)\n",
    "        psi_t = np.einsum(\"j, kj -> k\",  (c_n * np.exp(-1.j * its * kwargs.get(\"t\", 0.1) * eig_vals)), eig_vecs)\n",
    "        #psi_t = eig_vecs @(c_n * np.exp(-1j * its * kwargs.get(\"t\", 0.1) * eig_vals))\n",
    "        observations.append(psi_t)\n",
    "    return np.array(observations)\n",
    "\n",
    "\n",
    "def Plot_QM_with_Eigenstates(state=[1,0,0,0,0,0], n_its=400, button=Button_Markov, **kwargs):\n",
    "    #TODO: write documentation\n",
    "    observations = Calc_QM_with_Eigenstates(state, n_its, **kwargs)\n",
    "    \n",
    "    fig = plt.figure(figsize=(10,6))\n",
    "    plt.title(f\"Quantum mechanical evolution of the initial state {state} using eigenbasis of $H$\")\n",
    "    plt.xlabel(r\"Number of iterations $n_{\\mathrm{its}}$\")\n",
    "    plt.ylabel(r\"Probability of finding particle at site $i$\")\n",
    "    plt.grid()\n",
    "    \n",
    "    mpl.rcParams['axes.prop_cycle'] = cycler(\"color\", plt.cm.get_cmap(\"tab10\").reversed().colors[-kwargs.get(\"n\", 6):])\n",
    "\n",
    "    for site in np.arange(len(state))[::-1]:\n",
    "        plt.plot(np.abs(observations[:, site])**2, \".-\", label=f\"Site {site+1}\", )\n",
    "    legend = plt.legend(bbox_to_anchor=(1.05, 1), loc=\"upper left\")\n",
    "    \n",
    "    plt.show()\n",
    "    return fig"
   ]
  },
  {
   "cell_type": "code",
   "execution_count": 19,
   "id": "4877bf38",
   "metadata": {},
   "outputs": [],
   "source": [
    "qm_Eigenstates = widgets.interactive(Plot_QM_with_Eigenstates,\n",
    "        state=Initial_State,\n",
    "        n_its=Iterations_Slider,\n",
    "        button=fixed(Button_Markov),\n",
    "        n=n_Slider,\n",
    "        t=t_Slider);\n",
    "\n",
    "\n",
    "Button_Markov.on_click(functools.partial(on_button_clicked, widget=qm_Eigenstates))"
   ]
  },
  {
   "cell_type": "code",
   "execution_count": 20,
   "id": "016a46cc-acfe-4277-bb1b-aa1077f52024",
   "metadata": {},
   "outputs": [
    {
     "name": "stdout",
     "output_type": "stream",
     "text": [
      "[[0. 1. 0. 0. 0. 1.]\n",
      " [1. 0. 1. 0. 0. 0.]\n",
      " [0. 1. 0. 1. 0. 0.]\n",
      " [0. 0. 1. 0. 1. 0.]\n",
      " [0. 0. 0. 1. 0. 1.]\n",
      " [1. 0. 0. 0. 1. 0.]]\n"
     ]
    }
   ],
   "source": [
    "print(Hopping_Matrix())"
   ]
  },
  {
   "cell_type": "code",
   "execution_count": 21,
   "id": "9d92f2a9-f44c-43b3-8939-49424445fd44",
   "metadata": {},
   "outputs": [
    {
     "data": {
      "application/vnd.jupyter.widget-view+json": {
       "model_id": "77c2b10aca264352a818e9f7a263f0fd",
       "version_major": 2,
       "version_minor": 0
      },
      "text/plain": [
       "HBox(children=(Button(description='Click to save current figure', layout=Layout(width='5cm'), style=ButtonStyl…"
      ]
     },
     "metadata": {},
     "output_type": "display_data"
    },
    {
     "data": {
      "application/vnd.jupyter.widget-view+json": {
       "model_id": "ab2944f0b6374f1ca299d2d77a7708df",
       "version_major": 2,
       "version_minor": 0
      },
      "text/plain": [
       "VBox(children=(Text(value='[1, 0, 0, 0]', continuous_update=False, description='User Input:', placeholder='Inp…"
      ]
     },
     "metadata": {},
     "output_type": "display_data"
    }
   ],
   "source": [
    "#TODO: fragen wie das mit NN hopping bei U is und gscheit implementieren\n",
    "filename.value=\"QM.pdf\"\n",
    "display(HBox([Button_Markov, filename, output]))\n",
    "display(VBox([Text_Box, qm_Eigenstates]))"
   ]
  },
  {
   "cell_type": "code",
   "execution_count": 96,
   "id": "26935249",
   "metadata": {},
   "outputs": [
    {
     "data": {
      "text/plain": [
       "array([ 0.57732307, -0.29351503, -0.28380804,  0.57732307, -0.29351503,\n",
       "       -0.28380804])"
      ]
     },
     "execution_count": 96,
     "metadata": {},
     "output_type": "execute_result"
    }
   ],
   "source": []
  },
  {
   "cell_type": "code",
   "execution_count": 196,
   "id": "d46d702a",
   "metadata": {},
   "outputs": [
    {
     "data": {
      "text/plain": [
       "array([1., 4., 2.])"
      ]
     },
     "execution_count": 196,
     "metadata": {},
     "output_type": "execute_result"
    }
   ],
   "source": [
    "np.absolute(np.array([1j, 2j, 1-1j]))**2"
   ]
  },
  {
   "cell_type": "code",
   "execution_count": 211,
   "id": "7308acef",
   "metadata": {},
   "outputs": [
    {
     "data": {
      "text/plain": [
       "(array([-2., -1., -1.,  1.,  1.,  2.]),\n",
       " array([[ 4.08248290e-01, -5.77350269e-01,  0.00000000e+00,\n",
       "          0.00000000e+00,  5.77350269e-01, -4.08248290e-01],\n",
       "        [-4.08248290e-01,  2.88675135e-01, -5.00000000e-01,\n",
       "         -5.00000000e-01,  2.88675135e-01, -4.08248290e-01],\n",
       "        [ 4.08248290e-01,  2.88675135e-01,  5.00000000e-01,\n",
       "         -5.00000000e-01, -2.88675135e-01, -4.08248290e-01],\n",
       "        [-4.08248290e-01, -5.77350269e-01, -5.55111512e-17,\n",
       "         -5.55111512e-17, -5.77350269e-01, -4.08248290e-01],\n",
       "        [ 4.08248290e-01,  2.88675135e-01, -5.00000000e-01,\n",
       "          5.00000000e-01, -2.88675135e-01, -4.08248290e-01],\n",
       "        [-4.08248290e-01,  2.88675135e-01,  5.00000000e-01,\n",
       "          5.00000000e-01,  2.88675135e-01, -4.08248290e-01]]))"
      ]
     },
     "execution_count": 211,
     "metadata": {},
     "output_type": "execute_result"
    }
   ],
   "source": [
    "import scipy as sp\n",
    "sp.linalg.eigh(Hopping_Matrix())"
   ]
  },
  {
   "cell_type": "code",
   "execution_count": null,
   "id": "c9c9b1bd",
   "metadata": {},
   "outputs": [],
   "source": [
    "#TODO: fragen wie das mit NN hopping bei U is und gscheit implementieren\n",
    "filename.value=\"QM.pdf\"\n",
    "display(HBox([Button_Markov, filename, output]))\n",
    "display(HBox([VBox([Text_Box, qm]), VBox([Text_Box, qm_Eigenstates])]))"
   ]
  },
  {
   "cell_type": "code",
   "execution_count": null,
   "id": "abd6ff82",
   "metadata": {},
   "outputs": [],
   "source": []
  },
  {
   "cell_type": "code",
   "execution_count": null,
   "id": "f093329a",
   "metadata": {},
   "outputs": [],
   "source": []
  },
  {
   "cell_type": "code",
   "execution_count": null,
   "id": "71cd7569",
   "metadata": {},
   "outputs": [],
   "source": []
  },
  {
   "cell_type": "code",
   "execution_count": null,
   "id": "6a9ec735",
   "metadata": {},
   "outputs": [],
   "source": []
  },
  {
   "cell_type": "code",
   "execution_count": null,
   "id": "410e931c",
   "metadata": {},
   "outputs": [],
   "source": []
  },
  {
   "cell_type": "code",
   "execution_count": null,
   "id": "9d6ac88c",
   "metadata": {},
   "outputs": [],
   "source": []
  },
  {
   "cell_type": "code",
   "execution_count": null,
   "id": "a889ad99",
   "metadata": {},
   "outputs": [],
   "source": []
  },
  {
   "cell_type": "code",
   "execution_count": null,
   "id": "90d7cb15",
   "metadata": {},
   "outputs": [],
   "source": []
  },
  {
   "cell_type": "code",
   "execution_count": null,
   "id": "58d83a84",
   "metadata": {},
   "outputs": [],
   "source": []
  },
  {
   "cell_type": "code",
   "execution_count": null,
   "id": "8a0f601f",
   "metadata": {},
   "outputs": [],
   "source": []
  },
  {
   "cell_type": "code",
   "execution_count": null,
   "id": "7627d4cf",
   "metadata": {},
   "outputs": [],
   "source": []
  },
  {
   "cell_type": "code",
   "execution_count": null,
   "id": "3a757fbf",
   "metadata": {},
   "outputs": [],
   "source": []
  },
  {
   "cell_type": "code",
   "execution_count": null,
   "id": "bc0a88b6",
   "metadata": {},
   "outputs": [],
   "source": []
  },
  {
   "cell_type": "code",
   "execution_count": null,
   "id": "eba4ff0e",
   "metadata": {},
   "outputs": [],
   "source": []
  },
  {
   "cell_type": "code",
   "execution_count": null,
   "id": "395ed722",
   "metadata": {},
   "outputs": [],
   "source": []
  },
  {
   "cell_type": "code",
   "execution_count": null,
   "id": "c8ab210e",
   "metadata": {},
   "outputs": [],
   "source": []
  },
  {
   "cell_type": "code",
   "execution_count": null,
   "id": "fdc3c6f5",
   "metadata": {},
   "outputs": [],
   "source": []
  },
  {
   "cell_type": "code",
   "execution_count": null,
   "id": "1cd8db70",
   "metadata": {},
   "outputs": [],
   "source": []
  },
  {
   "cell_type": "code",
   "execution_count": null,
   "id": "000b3656",
   "metadata": {},
   "outputs": [],
   "source": []
  },
  {
   "cell_type": "code",
   "execution_count": null,
   "id": "a2d4ba74",
   "metadata": {},
   "outputs": [],
   "source": []
  },
  {
   "cell_type": "code",
   "execution_count": null,
   "id": "cc5685af",
   "metadata": {},
   "outputs": [],
   "source": []
  },
  {
   "cell_type": "code",
   "execution_count": null,
   "id": "ddb0d9dd",
   "metadata": {},
   "outputs": [],
   "source": []
  },
  {
   "cell_type": "code",
   "execution_count": null,
   "id": "87f156a4",
   "metadata": {},
   "outputs": [],
   "source": []
  },
  {
   "cell_type": "code",
   "execution_count": null,
   "id": "a2c1b04f",
   "metadata": {},
   "outputs": [],
   "source": []
  },
  {
   "cell_type": "code",
   "execution_count": null,
   "id": "90f29600",
   "metadata": {},
   "outputs": [],
   "source": []
  },
  {
   "cell_type": "code",
   "execution_count": null,
   "id": "90d4a91c",
   "metadata": {},
   "outputs": [],
   "source": []
  },
  {
   "cell_type": "code",
   "execution_count": null,
   "id": "6782c8e0",
   "metadata": {},
   "outputs": [],
   "source": []
  },
  {
   "cell_type": "code",
   "execution_count": null,
   "id": "defd2ea0",
   "metadata": {},
   "outputs": [],
   "source": []
  },
  {
   "cell_type": "code",
   "execution_count": null,
   "id": "644b4259",
   "metadata": {},
   "outputs": [],
   "source": []
  },
  {
   "cell_type": "code",
   "execution_count": null,
   "id": "d976edd5",
   "metadata": {},
   "outputs": [],
   "source": []
  },
  {
   "cell_type": "code",
   "execution_count": null,
   "id": "f280560c",
   "metadata": {},
   "outputs": [],
   "source": [
    "\n",
    "output = widgets.Output()\n",
    "\n",
    "def on_button_clicked(b, widget, name):\n",
    "    widget.result.savefig(f\"Figures/{name}\", bbox_inches='tight')\n",
    "    \n",
    "    with output:\n",
    "        print(\"done\")\n",
    "        time.sleep(2)\n",
    "        clear_output()\n",
    "\n",
    "\n",
    "w = widgets.interactive(Plot_Markov,\n",
    "        state=Initial_State,\n",
    "        n_its=Iterations_Slider,\n",
    "        button=fixed(Button_Markov),\n",
    "        x=x_Slider,\n",
    "        n=n_Slider,\n",
    "        x2=x2_Slider);\n",
    "\n",
    "\n",
    "Button_Markov.on_click(functools.partial(on_button_clicked, widget=w, name=\"test.pdf\"))"
   ]
  }
 ],
 "metadata": {
  "interpreter": {
   "hash": "767d51c1340bd893661ea55ea3124f6de3c7a262a8b4abca0554b478b1e2ff90"
  },
  "kernelspec": {
   "display_name": "Python 3 (ipykernel)",
   "language": "python",
   "name": "python3"
  },
  "language_info": {
   "codemirror_mode": {
    "name": "ipython",
    "version": 3
   },
   "file_extension": ".py",
   "mimetype": "text/x-python",
   "name": "python",
   "nbconvert_exporter": "python",
   "pygments_lexer": "ipython3",
   "version": "3.8.10"
  }
 },
 "nbformat": 4,
 "nbformat_minor": 5
}
