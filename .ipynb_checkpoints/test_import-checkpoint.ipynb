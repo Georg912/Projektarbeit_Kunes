{
 "cells": [
  {
   "cell_type": "code",
   "execution_count": null,
   "id": "e9a4b4fe-db0e-4ac0-8c5b-73e7e4f92b95",
   "metadata": {},
   "outputs": [],
   "source": [
    "n_Slider = widgets.BoundedIntText(\n",
    "            min=2,\n",
    "            max=10,\n",
    "            step=1,\n",
    "            value=6,\n",
    "            layout=Layout(width = \"3cm\"),# height=\"80px\"),#\"auto\"),\n",
    "            description=r'$n$',\n",
    "            style = {'description_width': 'initial'},\n",
    "            continuous_update=False\n",
    "            )\n"
   ]
  }
 ],
 "metadata": {
  "kernelspec": {
   "display_name": "Python 3 (ipykernel)",
   "language": "python",
   "name": "python3"
  },
  "language_info": {
   "codemirror_mode": {
    "name": "ipython",
    "version": 3
   },
   "file_extension": ".py",
   "mimetype": "text/x-python",
   "name": "python",
   "nbconvert_exporter": "python",
   "pygments_lexer": "ipython3",
   "version": "3.8.10"
  }
 },
 "nbformat": 4,
 "nbformat_minor": 5
}
