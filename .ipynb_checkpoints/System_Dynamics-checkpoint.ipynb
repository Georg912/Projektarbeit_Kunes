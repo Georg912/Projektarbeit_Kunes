{
 "cells": [
  {
   "cell_type": "code",
   "execution_count": 1,
   "id": "preliminary-hybrid",
   "metadata": {},
   "outputs": [],
   "source": [
    " #widget has bugs with reloading plot\n",
    "#%matplotlib inline\n",
    "\n",
    "import numpy as np \n",
    "from scipy.sparse import diags # Used for banded matrices\n",
    "\n",
    "import matplotlib\n",
    "import matplotlib.pyplot as plt # Plotting\n",
    "import seaborn as sns\n",
    "plt.style.use('seaborn-dark')\n",
    "plt.rcParams.update({'font.size':14})\n",
    "\n",
    "from IPython.display import display, Markdown, Latex # used for printing Latex and Markdown output in code cells\n",
    "from ipywidgets import interact, interactive, fixed, interact_manual, FloatSlider\n",
    "import ipywidgets as widgets\n",
    "import matplotlib.pyplot as plt, random\n",
    "from ipywidgets import HBox, Label, Layout, Button, VBox\n",
    "\n",
    "# imaginary unit\n",
    "ii = 1j"
   ]
  },
  {
   "cell_type": "code",
   "execution_count": 2,
   "id": "grand-dimension",
   "metadata": {},
   "outputs": [],
   "source": [
    "# TODO write documentation"
   ]
  },
  {
   "cell_type": "code",
   "execution_count": 3,
   "id": "nutritional-adventure",
   "metadata": {},
   "outputs": [],
   "source": [
    "def Transfer_Matrix(x=0.01, n=6, x_2=0.):\n",
    "    \"\"\" \n",
    "    # TODO implement next neighbor hopping\n",
    "    \"\"\"\n",
    "\n",
    "    # Ensure probabilities are non-negative\n",
    "    assert 2 * (x + x_2) <= 1, f\"For consistency, twice the sum of x and x_2 has to be at most 1, you have 2 * (x + x_2) = {2 * (x + x_2):.3f}\"\n",
    "\n",
    "    # n=3 NN hopping for n=3 is equal to normal hopping\n",
    "    if x_2 and n > 3:\n",
    "        return np.eye(n) * (1 - 2*(x + x_2)) + Hopping_Matrix(n) * x + NN_Hopping_Matrix(n) * x_2\n",
    "    else:\n",
    "        return np.eye(n) * (1 - 2*x) + Hopping_Matrix(n) * x\n",
    "\n",
    "\n",
    "def Hopping_Matrix(n = 6):\n",
    "    \"\"\"\n",
    "    blub\n",
    "    \"\"\"\n",
    "\n",
    "    ### Check if system is large enough, i.e. if n=>2\n",
    "    assert n >= 2, \"error n must be greater or equal to 2\"\n",
    "\n",
    "    diagonal_entries = [np.ones(n-1), np.ones(n-1)]\n",
    "    H = diags(diagonal_entries, [-1, 1]).toarray()\n",
    "\n",
    "    # take care of the values not on the lower and upper main diagonal\n",
    "    H[[0, n-1], [n-1, 0]] = 1\n",
    "\n",
    "    return H\n",
    "\n",
    "\n",
    "def NN_Hopping_Matrix(n = 6):\n",
    "    \"\"\"\n",
    "    write documentation\n",
    "    \"\"\"\n",
    "\n",
    "    ### Check if system is large enough, i.e. if n=>3\n",
    "    assert n >= 3, \"error n must be greater or equal to 2\"\n",
    "    # due to symmetrie, 4x4 next neighbor hopping introduces errors if not handled with care\n",
    "    if n == 4:\n",
    "        diagonal_entries = [np.ones(n-2), np.ones(n-2)]\n",
    "        return diags(diagonal_entries, [-2, 2,]).toarray()\n",
    "    else: \n",
    "        diagonal_entries = [[1, 1], np.ones(n-2), np.ones(n-2), [1, 1]]\n",
    "        return diags(diagonal_entries, [-n+2, -2, 2, n-2]).toarray()"
   ]
  },
  {
   "cell_type": "code",
   "execution_count": 4,
   "id": "boring-arena",
   "metadata": {
    "tags": []
   },
   "outputs": [
    {
     "data": {
      "text/plain": [
       "' for n in np.arange(3, 20):\\n    print(f\"n = {n}\")\\n    for x_2 in [0, 0.01]:\\n        print(f\"x_2 = {x_2}\")\\n        print(f\"H = \\n {Hopping_Matrix(n=n)}\")\\n        print(f\"NN = \\n {NN_Hopping_Matrix(n=n)}\")\\n        print(f\"T = \\n{Transfer_Matrix(x=0.3, x_2 = x_2, n=n)}\")\\n    print(f\"\\n\") '"
      ]
     },
     "execution_count": 4,
     "metadata": {},
     "output_type": "execute_result"
    }
   ],
   "source": [
    "#Test cwll\n",
    "\"\"\" for n in np.arange(3, 20):\n",
    "    print(f\"n = {n}\")\n",
    "    for x_2 in [0, 0.01]:\n",
    "        print(f\"x_2 = {x_2}\")\n",
    "        print(f\"H = \\n {Hopping_Matrix(n=n)}\")\n",
    "        print(f\"NN = \\n {NN_Hopping_Matrix(n=n)}\")\n",
    "        print(f\"T = \\n{Transfer_Matrix(x=0.3, x_2 = x_2, n=n)}\")\n",
    "    print(f\"\\n\") \"\"\""
   ]
  },
  {
   "cell_type": "code",
   "execution_count": 5,
   "id": "robust-junior",
   "metadata": {},
   "outputs": [],
   "source": [
    "def Calc_Markov(state=np.array([1,0,0,0,0,0]), n_its=400, **kwargs):\n",
    "    T = Transfer_Matrix(*kwargs.values()) #TODO make varibale sliders x=0.1, n=6, x_2=None)\n",
    "\n",
    "    state = np.array(state)\n",
    "    observations = [state]\n",
    "    for _ in np.arange(n_its):\n",
    "        state = T @ state\n",
    "        observations.append(state)\n",
    "    return np.array(observations)\n",
    "\n",
    "\n",
    "Button_Markov = Button(\n",
    "        layout=Layout(width = \"5cm\"),\n",
    "        description=\"Click to save current figure\",\n",
    "        style = {'description_width': 'initial'}\n",
    "        )\n",
    "\n",
    "states_dict = {5:[[1,0,0,0,0], [0,1,0,0,0], [0,0,1,0,0], [0.5,0.3,0.2,0,0]],\n",
    "               6:[[1,0,0,0,0,0], [0,1,0,0,0,0], [0,0,1,0,0,0], [0.5,0.3,0.2,0,0,0]]}\n",
    "\n",
    "def Plot_Markov(state=np.array([1,0,0,0,0,0]), n_its=400, button=Button_Markov, **kwargs):\n",
    "    Initial_State.options = states_dict[kwargs.get(\"n\", 6)]\n",
    "\n",
    "    observations = Calc_Markov(state, n_its, **kwargs)\n",
    "    \n",
    "    fig = plt.figure(figsize=(6,6))\n",
    "    plt.title(f\"Markov evolution of the initial state {state}\")\n",
    "    plt.xlabel(r\"Number of iterations $n_{\\mathrm{its}}$\")\n",
    "    plt.ylabel(r\"Probability of finding particle at site $i$\")\n",
    "    plt.grid()\n",
    "\n",
    "    for site in np.arange(len(state)):\n",
    "        plt.plot(observations[:, site], label=f\"Site {site+1}\")\n",
    "    legend = plt.legend(bbox_to_anchor=(1.05, 1), loc=\"upper left\")\n",
    "    \n",
    "    ### save image if requested\n",
    "    def on_button_clicked(_):\n",
    "        fig.savefig(\"Figures/Markov.pdf\", bbox_inches='tight')\n",
    "    button.on_click(on_button_clicked)\n",
    "    plt.show()\n",
    "\n",
    "Initial_State = widgets.Dropdown(\n",
    "    equals=np.array_equal, #otherwise \"value\" checks element wise\n",
    "    options=[([1,0,0,0,0,0])],\n",
    "    #    ('2', [0,1,0,0,0,0]),\n",
    "    #    (\"3\", [0,0,1,0,0,0]),\n",
    "    #    (\"mix\", [0.5,0.2,0.3,0,0,0])\n",
    "    #    ],\n",
    "    value=np.array([1,0,0,0,0,0]),#np.array([1,0,0,0,0,0]),\n",
    "    description='Initial State:',\n",
    "    style = {'description_width': 'initial'},\n",
    "    disabled=False,\n",
    ")\n",
    "\n",
    "\n",
    "Iterations_Slider = widgets.IntSlider(\n",
    "            min=1,\n",
    "            max=400,\n",
    "            step=1,\n",
    "            value=50,\n",
    "            layout=Layout(width = \"10cm\"),# height=\"80px\"),#\"auto\"),\n",
    "            description=r'Number of iterations $x$',\n",
    "            style = {'description_width': 'initial'},\n",
    "            continuous_update=False,\n",
    "            )\n",
    "\n",
    "x_Slider = widgets.FloatSlider(\n",
    "            min=0,\n",
    "            max=1,\n",
    "            step=0.01,\n",
    "            value=0.1,\n",
    "            layout=Layout(width = \"10cm\"),# height=\"80px\"),#\"auto\"),\n",
    "            description=r'$x$',\n",
    "            style = {'description_width': 'initial'},\n",
    "            continuous_update=False\n",
    "            )\n",
    "\n",
    "x2_Slider = widgets.FloatSlider(\n",
    "            min=0,\n",
    "            max=1,\n",
    "            step=0.01,\n",
    "            value=0.,\n",
    "            layout=Layout(width = \"10cm\"),# height=\"80px\"),#\"auto\"),\n",
    "            description=r'$x_2$',\n",
    "            style = {'description_width': 'initial'},\n",
    "            continuous_update=False\n",
    "            )\n",
    "\n",
    "n_Slider = widgets.IntSlider(\n",
    "            min=2,\n",
    "            max=10,\n",
    "            step=1,\n",
    "            value=6,\n",
    "            layout=Layout(width = \"10cm\"),# height=\"80px\"),#\"auto\"),\n",
    "            description=r'$n$',\n",
    "            style = {'description_width': 'initial'},\n",
    "            continuous_update=False\n",
    "            )\n"
   ]
  },
  {
   "cell_type": "code",
   "execution_count": 6,
   "id": "spare-acrobat",
   "metadata": {},
   "outputs": [
    {
     "data": {
      "application/vnd.jupyter.widget-view+json": {
       "model_id": "d122d52c3ce74363a3dee70bb072e5e5",
       "version_major": 2,
       "version_minor": 0
      },
      "text/plain": [
       "Button(description='Click to save current figure', layout=Layout(width='5cm'), style=ButtonStyle())"
      ]
     },
     "metadata": {},
     "output_type": "display_data"
    },
    {
     "data": {
      "application/vnd.jupyter.widget-view+json": {
       "model_id": "94aaeb80a80f4f68889811c34011160e",
       "version_major": 2,
       "version_minor": 0
      },
      "text/plain": [
       "interactive(children=(Dropdown(description='Initial State:', options=([1, 0, 0, 0, 0, 0],), style=DescriptionS…"
      ]
     },
     "metadata": {},
     "output_type": "display_data"
    }
   ],
   "source": [
    "display(Button_Markov)\n",
    "w = interactive(Plot_Markov,\n",
    "        state=Initial_State,\n",
    "        n_its=Iterations_Slider,\n",
    "        button=fixed(Button_Markov),\n",
    "        x=x_Slider,\n",
    "        n=n_Slider,\n",
    "        x2=x2_Slider);\n",
    "\n",
    "display(w)"
   ]
  },
  {
   "cell_type": "markdown",
   "id": "embedded-omega",
   "metadata": {},
   "source": [
    "# Quantum Mechanical Time evolution"
   ]
  },
  {
   "cell_type": "code",
   "execution_count": 7,
   "id": "cubic-dairy",
   "metadata": {},
   "outputs": [],
   "source": [
    "from scipy.linalg import expm "
   ]
  },
  {
   "cell_type": "code",
   "execution_count": 8,
   "id": "christian-bailey",
   "metadata": {},
   "outputs": [],
   "source": [
    "def Time_Evolution_Operator(H=Hopping_Matrix(), t=0.1):\n",
    "    '''\n",
    "    TODO\n",
    "    '''\n",
    "    return expm(ii * t * H)\n",
    "\n",
    "def Plot_QM_Evolution(state=np.array([1,0,0,0,0,0]), m_its=100):\n",
    "    '''\n",
    "    TODO\n",
    "    '''\n",
    "    observations = [state]\n",
    "    U = Time_Evolution_Operator()\n",
    "\n",
    "    for _ in np.arange(m_its):\n",
    "        state = U @ state\n",
    "        #print(np.linalg.norm(state)**2)\n",
    "        observations.append(state)\n",
    "    observations = np.array(observations)\n",
    "    for site in np.arange(4):\n",
    "        plt.plot(np.abs(observations[:, site])**2)\n"
   ]
  },
  {
   "cell_type": "code",
   "execution_count": 9,
   "id": "sixth-plasma",
   "metadata": {},
   "outputs": [
    {
     "data": {
      "image/png": "[encoded data removed]",
      "text/plain": [
       "<Figure size 432x288 with 1 Axes>"
      ]
     },
     "metadata": {},
     "output_type": "display_data"
    }
   ],
   "source": [
    "Plot_QM_Evolution()"
   ]
  },
  {
   "cell_type": "code",
   "execution_count": 10,
   "id": "signal-genesis",
   "metadata": {},
   "outputs": [
    {
     "data": {
      "text/plain": [
       "array([], dtype=int64)"
      ]
     },
     "execution_count": 10,
     "metadata": {},
     "output_type": "execute_result"
    }
   ],
   "source": [
    "np.arange(-1)"
   ]
  },
  {
   "cell_type": "code",
   "execution_count": 11,
   "id": "absent-livestock",
   "metadata": {},
   "outputs": [
    {
     "ename": "NameError",
     "evalue": "name 'button' is not defined",
     "output_type": "error",
     "traceback": [
      "\u001b[0;31m---------------------------------------------------------------------------\u001b[0m",
      "\u001b[0;31mNameError\u001b[0m                                 Traceback (most recent call last)",
      "\u001b[0;32m<ipython-input-11-7f4e81691b7a>\u001b[0m in \u001b[0;36m<module>\u001b[0;34m\u001b[0m\n\u001b[0;32m----> 1\u001b[0;31m \u001b[0mbutton\u001b[0m\u001b[0;34m.\u001b[0m\u001b[0mon_click\u001b[0m\u001b[0;34m(\u001b[0m\u001b[0mon_button_clicked\u001b[0m\u001b[0;34m)\u001b[0m\u001b[0;34m\u001b[0m\u001b[0;34m\u001b[0m\u001b[0m\n\u001b[0m",
      "\u001b[0;31mNameError\u001b[0m: name 'button' is not defined"
     ]
    }
   ],
   "source": [
    "button.on_click(on_button_clicked)"
   ]
  },
  {
   "cell_type": "code",
   "execution_count": null,
   "id": "personal-pierce",
   "metadata": {},
   "outputs": [],
   "source": [
    "import numpy as np\n",
    "from ipywidgets import interact, interactive,FloatSlider,IntSlider,Button\n",
    "from IPython.display import display\n",
    "import matplotlib.pylab as plt\n",
    "%matplotlib inline\n",
    "button = Button(description=\"Savefig\")\n",
    "display(button)\n",
    "\n",
    "\n",
    "\n",
    "def plotfields(p,a):\n",
    "    fig = plt.figure()\n",
    "    X,Y=np.meshgrid(np.linspace(0,100,100),np.linspace(0,100,100))\n",
    "    b1 = np.sin(p*X)*np.cos(a*Y)\n",
    "    b2 = np.sin(a*X)*np.cos(p*Y)\n",
    "    plt.imshow(b1,aspect='auto')\n",
    "    plt.ylabel(r'$t$')\n",
    "    plt.xlabel(r'$x$')\n",
    "    plt.tight_layout()\n",
    "    def on_button_clicked(b):\n",
    "        print(\"test\")\n",
    "        fig.savefig(\"test_p{:.3s}_a{:.3s}.eps\".format(str(int(100*p)),str(int(100*a))))\n",
    "        fig.savefig(\"test_p{:.3s}_a{:.3s}.png\".format(str(int(100*p)),str(int(100*a))))\n",
    "    button.on_click(on_button_clicked)\n",
    "\n",
    "p_w  = FloatSlider(min=0.01, max=1, step=0.01, value=0.01, continuous_update=False)\n",
    "a_w  = FloatSlider(min=0.01, max=1, step=0.01, value=0.01, continuous_update=False)\n",
    "interact(plotfields,p=p_w,a=a_w)\n"
   ]
  },
  {
   "cell_type": "code",
   "execution_count": null,
   "id": "lasting-acquisition",
   "metadata": {},
   "outputs": [],
   "source": [
    "def h(p, q):\n",
    "    print (p, q)\n",
    "\n",
    "interact(h, p=5, q=[\"a\", \"b\"]);"
   ]
  },
  {
   "cell_type": "code",
   "execution_count": null,
   "id": "positive-blair",
   "metadata": {},
   "outputs": [],
   "source": [
    "c = widgets.Combobox(\n",
    "    value='John',\n",
    "    placeholder='Choose Someone',\n",
    "    options=['Paul', 'John', 'George', 'Ringo'],\n",
    "    description='Combobox:',\n",
    "    ensure_option=True,\n",
    "    disabled=False\n",
    ")\n",
    "\n",
    "def test(a):\n",
    "    print(a)\n",
    "\n",
    "interact(test, a=widgets.Combobox(\n",
    "    value='John',\n",
    "    placeholder='Choose Someone',\n",
    "    options=['Paul', 'John', 'George', 'Ringo'],\n",
    "    description='Combobox:',\n",
    "    ensure_option=True,\n",
    "    disabled=False\n",
    "));"
   ]
  },
  {
   "cell_type": "code",
   "execution_count": null,
   "id": "incomplete-watch",
   "metadata": {},
   "outputs": [],
   "source": [
    "@interact(x=True, y=1.0)\n",
    "def g(x, y):\n",
    "    return (x, y)\n",
    "\n"
   ]
  },
  {
   "cell_type": "code",
   "execution_count": null,
   "id": "answering-regulation",
   "metadata": {},
   "outputs": [],
   "source": [
    "\n",
    "\n",
    "def f(x):\n",
    "    return x\n",
    "\n",
    "interact(f, x=widgets.Combobox(options=[\"Chicago\", \"New York\", \"Washington\"]));"
   ]
  },
  {
   "cell_type": "code",
   "execution_count": null,
   "id": "detected-christian",
   "metadata": {},
   "outputs": [],
   "source": []
  }
 ],
 "metadata": {
  "interpreter": {
   "hash": "767d51c1340bd893661ea55ea3124f6de3c7a262a8b4abca0554b478b1e2ff90"
  },
  "kernelspec": {
   "display_name": "Python 3",
   "language": "python",
   "name": "python3"
  },
  "language_info": {
   "codemirror_mode": {
    "name": "ipython",
    "version": 3
   },
   "file_extension": ".py",
   "mimetype": "text/x-python",
   "name": "python",
   "nbconvert_exporter": "python",
   "pygments_lexer": "ipython3",
   "version": "3.8.10"
  }
 },
 "nbformat": 4,
 "nbformat_minor": 5
}
