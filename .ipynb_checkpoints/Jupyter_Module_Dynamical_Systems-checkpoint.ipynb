{
 "cells": [
  {
   "cell_type": "code",
   "execution_count": 6,
   "id": "e9f54d77-529e-4dcd-bda7-4acd69548be9",
   "metadata": {},
   "outputs": [],
   "source": [
    "import ipywidgets as widgets\n",
    "import numpy as np \n",
    "from scipy.sparse import diags # Used for banded matrices"
   ]
  },
  {
   "cell_type": "code",
   "execution_count": 4,
   "id": "5ac4126a-a586-47a0-9b86-cae50126eb69",
   "metadata": {},
   "outputs": [],
   "source": [
    "def check_if_int(string):\n",
    "    \"\"\"\n",
    "    Convert decimal value of `string` as integer/float/complex datatype without additional zeros after comma (e.g. \"3.0\" => 3).\n",
    "\n",
    "    Parameters:\n",
    "    -----------\n",
    "    string : str\n",
    "    \n",
    "    Returns:\n",
    "    --------\n",
    "    value \n",
    "    \"\"\"\n",
    "    value = complex(string)\n",
    "    if np.isreal(value):\n",
    "        value = value.real\n",
    "        if value.is_integer():\n",
    "            return int(value)\n",
    "        else:\n",
    "            return value\n",
    "    return value"
   ]
  },
  {
   "cell_type": "code",
   "execution_count": 5,
   "id": "00efe3b8-29bb-4188-9879-92bc21219185",
   "metadata": {},
   "outputs": [],
   "source": [
    "def Hopping_Matrix(n = 6):\n",
    "    \"\"\"\n",
    "    TODO: write documentation\n",
    "    \"\"\"\n",
    "\n",
    "    ### Check if system is large enough, i.e. if n=>2\n",
    "    assert n >= 2, \"error n must be greater or equal to 2\"\n",
    "\n",
    "    diagonal_entries = [np.ones(n-1), np.ones(n-1)]\n",
    "    H = diags(diagonal_entries, [-1, 1]).toarray()\n",
    "\n",
    "    # take care of the values not on the lower and upper main diagonal\n",
    "    H[[0, n-1], [n-1, 0]] = 1\n",
    "\n",
    "    return H\n",
    "    \n",
    "#TODO: rename x into p1   \n",
    "def Transfer_Matrix(n=6, x=0.01, x2=0.):\n",
    "    \"\"\" \n",
    "    TODO: implement next neighbor hopping\n",
    "    TODO: write documentation\n",
    "    TODO: possibly extend to hopping on all places\n",
    "    TODO: python assertion with markdown, ask question on stack overflow\n",
    "    \"\"\"\n",
    "\n",
    "    # Ensure probabilities are non-negative\n",
    "    assert 2 * (x + x2) <= 1, f\"For consistency, twice the sum of x and x2 has to be at most 1, you have 2 * (x + x2) = {2 * (x + x2):.3f}\"\n",
    "\n",
    "    # n=3 NN hopping for n=3 is equal to normal hopping\n",
    "    if x2 and n > 3:\n",
    "        return np.eye(n) * (1 - 2*(x + x2)) + Hopping_Matrix(n) * x + NN_Hopping_Matrix(n) * x2\n",
    "    elif n == 2:\n",
    "        # There is only one x for n==2:\n",
    "        return np.eye(n) * (1 - x) + Hopping_Matrix(n) * x\n",
    "    else:\n",
    "        return np.eye(n) * (1 - 2*x) + Hopping_Matrix(n) * x\n",
    "\n",
    "\n",
    "\n",
    "def NN_Hopping_Matrix(n = 6):\n",
    "    \"\"\"\n",
    "    TODO: write documentation\n",
    "    TODO: possibly extend with arbitrary neighbor hopping, beware of double hopping errors\n",
    "    \"\"\"\n",
    "\n",
    "    ### Check if system is large enough, i.e. if n=>3\n",
    "    assert n >= 3, \"error n must be greater or equal to 2\"\n",
    "    # due to symmetrie, 4x4 next neighbor hopping introduces errors if not handled with care\n",
    "    if n == 4:\n",
    "        diagonal_entries = [np.ones(n-2), np.ones(n-2)]\n",
    "        return diags(diagonal_entries, [-2, 2,]).toarray()\n",
    "    else: \n",
    "        diagonal_entries = [[1, 1], np.ones(n-2), np.ones(n-2), [1, 1]]\n",
    "        return diags(diagonal_entries, [-n+2, -2, 2, n-2]).toarray()"
   ]
  },
  {
   "cell_type": "code",
   "execution_count": null,
   "id": "8ee63035-ae29-46fe-b170-b4cdbb282cc0",
   "metadata": {},
   "outputs": [],
   "source": []
  }
 ],
 "metadata": {
  "kernelspec": {
   "display_name": "Python 3 (ipykernel)",
   "language": "python",
   "name": "python3"
  },
  "language_info": {
   "codemirror_mode": {
    "name": "ipython",
    "version": 3
   },
   "file_extension": ".py",
   "mimetype": "text/x-python",
   "name": "python",
   "nbconvert_exporter": "python",
   "pygments_lexer": "ipython3",
   "version": "3.8.10"
  }
 },
 "nbformat": 4,
 "nbformat_minor": 5
}
