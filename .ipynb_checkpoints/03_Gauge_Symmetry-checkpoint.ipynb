{
 "cells": [
  {
   "cell_type": "markdown",
   "id": "642fdccc-0864-4488-8a25-00b1fba44cf9",
   "metadata": {},
   "source": [
    "# Part 2 - Gauge Freedom and Symmetries"
   ]
  },
  {
   "cell_type": "code",
   "execution_count": 2,
   "id": "558b94da-a4b3-4bfb-a0bf-4fda1526cf79",
   "metadata": {},
   "outputs": [
    {
     "name": "stdout",
     "output_type": "stream",
     "text": [
      "The autoreload extension is already loaded. To reload it, use:\n",
      "  %reload_ext autoreload\n"
     ]
    }
   ],
   "source": [
    "#widget has bugs with reloading plot\n",
    "#%matplotlib widget\n",
    "%matplotlib inline\n",
    "#TODO: widget works, but size is not displayed correctly\n",
    "\n",
    "import numpy as np \n",
    "np.set_printoptions(linewidth=200) #set output length, default=75\n",
    "from scipy.sparse import diags # Used for banded matrices\n",
    "\n",
    "import matplotlib as mpl\n",
    "import matplotlib.pyplot as plt # Plotting\n",
    "from cycler import cycler\n",
    "\n",
    "\n",
    "import seaborn as sns\n",
    "plt.style.use('seaborn-dark')\n",
    "plt.rcParams.update({'font.size':14})\n",
    "#mpl.rcParams['figure.dpi']= 100\n",
    "\n",
    "from IPython.display import display, Markdown, Latex, clear_output # used for printing Latex and Markdown output in code cells\n",
    "from ipywidgets import Layout, fixed, HBox, VBox #interact, interactive, interact_manual, FloatSlider, , Label, Layout, Button, VBox\n",
    "import ipywidgets as widgets\n",
    "\n",
    "import functools\n",
    "import time, math\n",
    "from scipy.linalg import expm \n",
    "\n",
    "\n",
    "%load_ext autoreload\n",
    "%autoreload 2\n",
    "\n",
    "  \n",
    "# adding `Modules/` to the system path\n",
    "import sys\n",
    "sys.path.insert(0, 'Modules/')"
   ]
  },
  {
   "cell_type": "markdown",
   "id": "20962452-ec09-45f8-938b-b6e5c3ea19ee",
   "metadata": {},
   "source": [
    "# Gauge Freedom\n",
    "<!---  Define a few convenience macros for bra-ket notation. -->\n",
    "$\\newcommand{\\ket}[1]{\\left\\vert{#1}\\right\\rangle}$\n",
    "$\\newcommand{\\bra}[1]{\\left\\langle{#1}\\right\\vert}$\n",
    "$\\newcommand{\\braket}[2]{\\left\\langle{#1}\\middle|{#2}\\right\\rangle}$\n",
    "$\\newcommand{\\dyad}[2]{\\left|{#1}\\middle\\rangle\\middle\\langle{#2}\\right|}$\n",
    "$\\newcommand{\\mela}[3]{\\left\\langle #1 \\vphantom{#2#3} \\right| #2 \\left| #3 \\vphantom{#1#2} \\right\\rangle}$\n",
    "$\\newcommand\\dif{\\mathop{}\\!\\mathrm{d}}$\n",
    "$\\newcommand\\ii{\\mathrm{i}}$\n",
    "$\\newcommand{\\coloneqq}{\\mathop{:=}\\mathop{}}$\n",
    "$\\renewcommand{\\vec}{\\mathbf}$\n",
    "\n",
    "A wavefunction $\\ket{\\psi}$ is not observable and thus not necessarily unique. One can add an arbitrary phase to each orbital of our $n$-chain, which would change the wavefunction, but not the underlying physics, as probabilities of an outcome $O_i$ are calculated using the norm of the projection of the probed wavefunction onto the $i$-th eigenstate of the operator $|\\braket{\\phi_i}{\\psi}|^2$. The same holds for Operators, whose representation depends on the chosen picture. Observables however are unique and correspond to the eigenvalues of a hermitian operator $\\hat O $.\n",
    "\n",
    "In the following the phase $\\exp(\\ii \\theta_{ij})$ accumulated for hopping from one orbital $i$ to another $j$ can be changed. Observe how on the one hand the matrix elements of the Hamiltonian $H_{ij}$ change, but on the other hand the eigenvalues (and thus the possible observables) stay the same. The values of $\\theta_{ij}$ are calculated using a `phase` vector as input\n",
    "\\begin{equation}\n",
    "    \\theta_{ij} = \\mathrm{phase}[i] - \\mathrm{phase}[j] .\n",
    "\\end{equation}\n",
    "This guarantees that no matter which path we take from any given initial position back to the same position, we will always end up with a net phase of zero and thus preserve the structure of the Hamiltonian.\n",
    "\n",
    "The freedom to redefine the structure and fix redundant degrees of freedom in ones theory (in our case the change of a - not observable - phase for each orbital) without changing the underlying physics is commonly called **Gauge Freedom**. Another example from [classical electromagnetism](https://en.wikipedia.org/wiki/Gauge_theory#Classical_electromagnetism) would be the gauge freedom to add a gradient of a (twice continuously differentiable) scalar function $\\nabla f$ to the vector potential $\\vec A$, which does not change the observables, namely the electric- and magentic fields $\\vec E$ and $\\vec B$, respectively."
   ]
  },
  {
   "cell_type": "code",
   "execution_count": 11,
   "id": "64e6037d-4f78-4296-927c-f0e950ab99ad",
   "metadata": {},
   "outputs": [],
   "source": [
    "#TODO add dropdwon to display different hamiltionains with their respective eigenvalues and explain the phases\n",
    "#TODO possibly add slider to change number of decimal digets diplayed\n",
    "from Module_Widgets_and_Sliders import phase_Text_Box, n_Slider, phase_Dropdown, precision_Slider\n",
    "from Module_Symmetry_and_Gauge import Hopping_Matrix_with_Phase, Show_Hamiltonian_Gaugefreedom"
   ]
  },
  {
   "cell_type": "code",
   "execution_count": 12,
   "id": "7bed20db-1c34-4d22-be2a-232b3d6b9b3e",
   "metadata": {},
   "outputs": [
    {
     "data": {
      "application/vnd.jupyter.widget-view+json": {
       "model_id": "440ae47f6b1341589382e6d6c3316ba1",
       "version_major": 2,
       "version_minor": 0
      },
      "text/plain": [
       "VBox(children=(Text(value='[0, 0, 0, 0, 0, 0]', continuous_update=False, description='User Phase Vector $\\\\the…"
      ]
     },
     "metadata": {},
     "output_type": "display_data"
    }
   ],
   "source": [
    "#TODO: add description of what happenw ith pahse exp(i) everywhere\n",
    "# TODO: chekc that pahse 0 teturn a real hamiltonian\n",
    "\n",
    "H_phase = widgets.interactive(Show_Hamiltonian_Gaugefreedom,\n",
    "            phase=phase_Dropdown,           \n",
    "            n=n_Slider,\n",
    "            precision=precision_Slider);\n",
    "\n",
    "\n",
    "display(VBox([phase_Text_Box, H_phase]))"
   ]
  },
  {
   "cell_type": "markdown",
   "id": "74f5fdb2-c52f-42ca-8a53-c93b1318ea67",
   "metadata": {},
   "source": [
    "TODO: add theory to magnetic flux and matrix\n",
    "TODO: add slider and widgets to play around with the phase\n",
    "TODO: add default phases"
   ]
  },
  {
   "cell_type": "code",
   "execution_count": 13,
   "id": "b64e2d96-5020-4d58-935b-9dea0a663b62",
   "metadata": {},
   "outputs": [],
   "source": [
    "from Module_Symmetry_and_Gauge import Magnetic_Flux_Matrix, Show_Magnetic_Flux\n",
    "#TODO: possibly add more than just exp(1j) as phase"
   ]
  },
  {
   "cell_type": "code",
   "execution_count": 14,
   "id": "e7d1aa32-b994-40a4-881e-da1d2db2662d",
   "metadata": {},
   "outputs": [
    {
     "data": {
      "application/vnd.jupyter.widget-view+json": {
       "model_id": "c83cbe87898143428e92a54c71385394",
       "version_major": 2,
       "version_minor": 0
      },
      "text/plain": [
       "interactive(children=(BoundedIntText(value=6, description='$n = $', layout=Layout(width='3cm'), max=10, min=2,…"
      ]
     },
     "metadata": {},
     "output_type": "display_data"
    }
   ],
   "source": [
    "M_widget = widgets.interactive(Show_Magnetic_Flux,           \n",
    "            n=n_Slider,\n",
    "            precision=precision_Slider);\n",
    "\n",
    "\n",
    "display(M_widget)"
   ]
  },
  {
   "cell_type": "markdown",
   "id": "c55a3292-42a8-45ff-8d75-02c72cd33667",
   "metadata": {},
   "source": [
    "# Symmetry\n",
    "\n",
    "Let us focus on one of the most important and fundamental concepts in the entire field of physics: **Symmetry**. Local and global symmetries are present in all modern theories of physics (QED, QCD, QFT, GR, the Standard Model, etc.) and lead to interesting concepts such as gauge freedom and conservation laws via Noether's theorem and are present in things as simple as coordinate transformations. \n",
    "\n",
    "But what is a symmetry of an object? Plainly speaking, if an object is invariant (i.e. stays the same) after applying some transformation, this action is called a symmetry operation. As a simple example consider as object a square. The transformaton of rotating it by either $\\frac{pi}{2}, \\pi, \\frac{3\\pi}{2}$ or $2\\pi$ is a symmetry operation."
   ]
  },
  {
   "cell_type": "markdown",
   "id": "c0d4e50e-844a-4c2c-a298-1cfa7a925d9d",
   "metadata": {},
   "source": [
    "## Groups\n",
    "The underlying mathematical structure that deals (among other things) with all symmetry operations of an object is called the object's [symmetry group](https://en.wikipedia.org/wiki/Symmetry_group#One_dimension). Mathematically, a [group](https://en.wikipedia.org/wiki/Group_(mathematics)) is a set $G$ with a binary operation $\\circ$ such that:\n",
    "\n",
    "1. Closure: Every combination of elements from $G$ is again contained in $G$\n",
    "    $$ a \\circ b \\in G \\quad \\forall a, b \\in G.$$\n",
    "    \n",
    "2. Associativity:\n",
    "    $$ (a \\circ b) \\circ c = a \\circ (b \\circ c) \\quad \\forall a, b, c \\in G.$$\n",
    "    \n",
    "3. Identity: There exists a neutral element $e \\in G$, such that\n",
    "    $$ e \\circ a = a = a \\circ e \\quad \\forall a \\in G.$$\n",
    "    \n",
    "4. Inverse: For each element $a \\in G$ there exists an (unique) inverse element, denoted $a^{-1} \\in G$, such that\n",
    "    $$ a \\circ a^{-1} = e = a^{-1} \\circ a \\quad \\forall a \\in G.$$"
   ]
  },
  {
   "cell_type": "markdown",
   "id": "aef9aa37-88ef-4b4d-b12d-e56fb3811136",
   "metadata": {},
   "source": [
    "## Symmetry in QM\n",
    "### Invariance of $H$\n",
    "Now that we know the precise definiton of a group, we can specify symmetry in QM. First, note that a symmetry operation must leave the norm of a wave vector invariant. Thus leaving us with unitary operators ($\\hat{O} \\hat{O}^\\dagger = \\mathbb{1}$). A unitary operator $O$ that encapsulates a symmetry with the Hamiltonian $\\hat{H}$ is defined by vanishing commutator, i.e.\n",
    "    $$ [\\hat{H}, \\hat{O}] = 0,$$\n",
    "where $[\\hat{A}, \\hat{B}] \\coloneqq \\hat{A} \\hat{B} - \\hat{B} \\hat{A}$ denotes the commutator of two operators. The reason for symmetry being connected with vanishing commutator becomes apparant by considering the inverse of a unitary operator is just its conjugate transpose, i.e. $\\hat{O}^{-1} = \\hat{O}^\\dagger$ and thus\n",
    "$$\n",
    "    [O,H] = 0 \\implies OH = HO. \n",
    "$$\n",
    "Multiplying with the inverse of $O$ from the right thus gives\n",
    "$$\n",
    "    OHO^{-1} = OHO^\\dagger = HOO^{-1} = H.\n",
    "$$\n",
    "which implies that $H$ is invariant under the linear transfomation $OHO^\\dagger$ induced by $O$.\n",
    "\n",
    "### Common eigen basis\n",
    "Another very important property of commuting operators is, that they have a common eigenbasis, meaning that every eigenvector of the one operator is also an eigenvector of the other operator. The proof is straight forward and we will perform it for the Hamilton operator:\n",
    "\n",
    "Assume $\\{E_n\\}$ and $\\{\\ket{\\psi_n}\\}$ are the sets of eigenvalues and corresponding eigenvectors of the Hamiltonian, respectively. Thus\n",
    "    $$ H \\ket{\\psi_n} = E_n \\ket{\\psi_n},$$\n",
    "    \n",
    "holds. Acting with an operator $T$ that commutes with $H$, $[H, T] = 0$ on the eigenvalue equation gives\n",
    "    $$  H (T\\ket{\\psi_n})  = T (H \\ket{\\psi_n}) = T (E_n \\ket{\\psi_n}=  E_n (T \\ket{\\psi_n}), $$\n",
    "\n",
    "implying that the vector $T\\ket{\\psi_n}$ is also an eigenvector of the Hamiltonian. Assuming non-degenerate eigenvalues because $T\\ket{\\psi_n}$ and $\\ket{\\psi_n}$ are both eingevectors of $H$ they can differ only by a multiplicative constant $t_n$. This implies \n",
    "$$ T\\ket{\\psi_n} = t_n \\ket{\\psi_n}, $$\n",
    "proving that $T$ and $H$ share a common set of eigenvectors.\n",
    "\n",
    "Note: This also holds for degnerete eigenvalues, but the proof is a bit more subtile.\n",
    "\n",
    "The gist of all this is that we can apply a symmetry operation to our eigenvectors and are guranteed to get back an eigenvector (or at least a linear combination of eigenvectors if degenerate eigenvalues are present) of $H$"
   ]
  },
  {
   "cell_type": "markdown",
   "id": "e1f9085a-c0cd-48b6-87bd-47d7b9bf5d7d",
   "metadata": {
    "tags": []
   },
   "source": [
    "### Cyclic group $C_n$ / Abelian group of translations\n",
    "\n",
    "The $n$-chain model consists of a special type of symmetry group, the [cyclic group $C_n$](https://en.wikipedia.org/wiki/Cyclic_group) which can be represented by $n$ rotations around the origin with angle $\\frac{2 \\pi m}{n}$ where $m \\in \\{0, 1, \\ldots n-1\\}$. This group has another special property in addition to the four group axioms, all group operations are commutative\n",
    "    $$ a \\circ b = b \\circ a \\quad \\forall a, b \\in C_n .$$\n",
    "    \n",
    "Groups with this property are called abelian groups. Intuitively rotations emit this property as no matter the order you perform two consecutive rotations, the result can be expressed by a rotation with the sum of both rotation angles.\n",
    "\n",
    "Aditionaly, one can construct all matrix representations of the elements of the group $C_n$ by repeatedly applying a single roation to the right $T$, which results in all the elements $\\{\\mathbb{1}_n, T, T^2, \\ldots, T^{n-1}\\}$. The matrix $T \\in \\mathbb{R}^{n \\times n}$ is defined by\n",
    "\n",
    "$$ T = \\begin{pmatrix}\n",
    "            0 & 1 & 0 & 0 & \\cdots \\\\\n",
    "            0 & 0 & 1 & 0 & \\cdots \\\\\n",
    "            \\vdots & \\vdots & \\ddots & \\ddots & \\vdots\\\\\n",
    "            1 & 0 & 0 & 0 & 0\n",
    "        \\end{pmatrix}\n",
    "$$"
   ]
  },
  {
   "cell_type": "markdown",
   "id": "d3268ce7-387c-4000-a86d-d7a1f369cb4b",
   "metadata": {},
   "source": [
    "In the code below one can look at the different matrices representing rotations from one position to another. Note that the identity element is always the $n$-dimensional unit matrix."
   ]
  },
  {
   "cell_type": "code",
   "execution_count": 15,
   "id": "f6758be7-0571-4f75-87bf-d0d556ef9601",
   "metadata": {},
   "outputs": [],
   "source": [
    "#TODO: consistent use of hat operator for operators in theory\n",
    "from Module_Widgets_and_Sliders import turns_Slider\n",
    "from Module_Symmetry_and_Gauge import Translation_Group, Right_Translation_Matrix"
   ]
  },
  {
   "cell_type": "code",
   "execution_count": 16,
   "id": "2ca71168-73f7-44a1-b749-b2c7390d514b",
   "metadata": {},
   "outputs": [
    {
     "data": {
      "application/vnd.jupyter.widget-view+json": {
       "model_id": "0114b94d86ee4b60b22dd28e1be7da48",
       "version_major": 2,
       "version_minor": 0
      },
      "text/plain": [
       "interactive(children=(BoundedIntText(value=6, description='$n = $', layout=Layout(width='3cm'), max=10, min=2,…"
      ]
     },
     "metadata": {},
     "output_type": "display_data"
    }
   ],
   "source": [
    "translation_widget = widgets.interactive(Right_Translation_Matrix,\n",
    "                                        n=n_Slider,\n",
    "                                        turns=turns_Slider,\n",
    "                                        show=widgets.fixed(True));\n",
    "\n",
    "display(translation_widget)"
   ]
  },
  {
   "cell_type": "markdown",
   "id": "4988db3d-b758-4e8d-aa69-f0fc350ce7b5",
   "metadata": {},
   "source": [
    "Note how a left translation $t_\\mathrm{l}$ (with negative number of roations) is equivalent to a right translations with $t_\\mathrm{r} = t_\\mathrm{l} \\operatorname{mod} n$, e. g. for $n=6$, two turns to the left, $t_\\mathrm{l} = -2 \\iff t_\\mathrm{r} = 4$ is equal to four right turns.\n",
    "\n",
    "Now let's look at the (abelian) cyclic group $C_n$ with all its elements"
   ]
  },
  {
   "cell_type": "code",
   "execution_count": 17,
   "id": "4591277d-7c34-47a6-bbc8-530bf3ad5b8f",
   "metadata": {},
   "outputs": [
    {
     "data": {
      "application/vnd.jupyter.widget-view+json": {
       "model_id": "e97841cbb4fa4a02b0e0356444787796",
       "version_major": 2,
       "version_minor": 0
      },
      "text/plain": [
       "interactive(children=(BoundedIntText(value=6, description='$n = $', layout=Layout(width='3cm'), max=10, min=2,…"
      ]
     },
     "metadata": {},
     "output_type": "display_data"
    }
   ],
   "source": [
    "translation_group_widget = widgets.interactive(Translation_Group,\n",
    "                                        n=n_Slider,\n",
    "                                        show=widgets.fixed(True));\n",
    "\n",
    "display(translation_group_widget)"
   ]
  },
  {
   "cell_type": "markdown",
   "id": "fa2b9c8f-8770-4ab2-bae3-b958a83e03bc",
   "metadata": {},
   "source": [
    "Finally we can check that our Hamiltonian $H$ commutes with a right Translation $T$. Interestingly, also the Hamiltonian with magnetic flux, $M$ commutes with $T$. But the Hamiltonian does not commute anymore, if we add an arbitray `phase` vector."
   ]
  },
  {
   "cell_type": "code",
   "execution_count": 18,
   "id": "2ddba410-5a79-4edc-a88a-09917d7e6f1c",
   "metadata": {},
   "outputs": [],
   "source": [
    "# Ask professot why this is? And also ask if this changes the physics, as the eigenvalues of TH stay the same."
   ]
  },
  {
   "cell_type": "code",
   "execution_count": 19,
   "id": "b57389e1-e20d-4441-a925-c907d0171be1",
   "metadata": {},
   "outputs": [],
   "source": [
    "from Module_Symmetry_and_Gauge import Commutator, Show_Commutator"
   ]
  },
  {
   "cell_type": "code",
   "execution_count": 20,
   "id": "d2c0785a-be16-4659-9ad8-506cad794535",
   "metadata": {},
   "outputs": [
    {
     "data": {
      "application/vnd.jupyter.widget-view+json": {
       "model_id": "a77910287ef94ae89343075fff5cee7f",
       "version_major": 2,
       "version_minor": 0
      },
      "text/plain": [
       "HBox(children=(VBox(children=(Text(value='[0, 0, 0, 0, 0, 0]', continuous_update=False, description='User Phas…"
      ]
     },
     "metadata": {},
     "output_type": "display_data"
    }
   ],
   "source": [
    "H = Hopping_Matrix_with_Phase\n",
    "T = Right_Translation_Matrix\n",
    "M = Magnetic_Flux_Matrix\n",
    "#TOOO  adjust space evenly for widget output\n",
    "#TODO think about wheter dispaying the eigenvlaues is usefull for understing the concept\n",
    "comm_HT_widget = widgets.interactive(Show_Commutator,\n",
    "                            A=fixed(H),\n",
    "                            B=fixed(T),\n",
    "                            name_A=fixed(\"H\"),\n",
    "                            name_B=fixed(\"T\"),\n",
    "                            phase=phase_Dropdown,\n",
    "                            n=n_Slider,\n",
    "                            precision=precision_Slider,\n",
    "                            turns=turns_Slider,\n",
    "                        );\n",
    "\n",
    "comm_TM_widget = widgets.interactive(Show_Commutator,\n",
    "                            A=fixed(M),\n",
    "                            B=fixed(T),\n",
    "                            name_A=fixed(\"M\"),\n",
    "                            name_B=fixed(\"T\"),\n",
    "                            n=n_Slider,\n",
    "                            precision=precision_Slider,\n",
    "                            turns=turns_Slider,\n",
    "                        );\n",
    "\n",
    "display(HBox([VBox([phase_Text_Box, comm_HT_widget]),\n",
    "             VBox([widgets.Text(\"Not supported\"), widgets.Text(\"not supported\"), comm_TM_widget])]))"
   ]
  },
  {
   "cell_type": "markdown",
   "id": "668f92f7-de3b-4373-a6d8-7dd69efcb193",
   "metadata": {
    "tags": []
   },
   "source": [
    "# Reflection Symmetry\n",
    "\n",
    "Another important symmetry of our $n$-chain is **reflection** symmetry. A regular $n$-gon has $n$ axis of symmetry, which\n",
    "* are the $n$ lines connecting the midpoints of an edge with its opposite vertex, iff $n$ is odd,\n",
    "\n",
    "or\n",
    "* are $n/2$ lines connecting two opposite vertices and another $n/2$ lines connecting the midpoints of opposite edges (also known as perpendicular bisector), iff $n$ is even\n",
    "\n",
    "To be able to distinguish different vertices and edges we use the following notation:\n",
    "1. We view each $n$-chain (no matter the parity) hanging as if one vertex was attached to a string and beeing pulled down by gravity. This anker vertex is assigned the number 1 \n",
    "2. Every other vertex is numbered upwards going clockwise.\n",
    "3. Each edge is also numbered from 1 to $n$ clockwise starting from the edge on the right of vertex 1.\n",
    "\n",
    "For example, take this pentagon with an axis of reflection going through vertex 1 and the midpoint of edge 3\n",
    "\n",
    "<img src=\"Images_For_Notebooks/pentagon_symmetry_line.png\" width=200 />\n",
    "<figcaption> Fig: 1D NN-Chain with 8 sites and a particle (blue) on site 1</figcaption>\n",
    "\n",
    "TODO: change figure caption and add hexagon with symmetry lines adn caption of `axis` parameter, also add matrix of refelction for both cases\n",
    "\n",
    "In the code below one can look at different reflection matrices, where the axis of reflection can be chosen via the `axis` parameter, which starts from 1 representing a reflection along the vertical line going through vertex 1. Incrementing `axis` turns the axis of rotation clockwise to the right onto the next symmetry line."
   ]
  },
  {
   "cell_type": "code",
   "execution_count": 21,
   "id": "7124622c-4027-412e-ad21-7b9aa5247709",
   "metadata": {},
   "outputs": [
    {
     "data": {
      "application/vnd.jupyter.widget-view+json": {
       "model_id": "9a60793d410743ae87de1b23b0ab8864",
       "version_major": 2,
       "version_minor": 0
      },
      "text/plain": [
       "interactive(children=(BoundedIntText(value=6, description='$n = $', layout=Layout(width='3cm'), max=10, min=2,…"
      ]
     },
     "metadata": {},
     "output_type": "display_data"
    }
   ],
   "source": [
    "from Module_Symmetry_and_Gauge import Reflection_Matrix, All_Reflections\n",
    "from Module_Widgets_and_Sliders import axis_Slider\n",
    "\n",
    "reflection_widget = widgets.interactive(Reflection_Matrix,\n",
    "                                        n=n_Slider,\n",
    "                                        axis=axis_Slider,\n",
    "                                        show=widgets.fixed(True));\n",
    "\n",
    "display(reflection_widget)"
   ]
  },
  {
   "cell_type": "markdown",
   "id": "ac1ab8ad-3a19-4586-a71b-fbe53555b6fe",
   "metadata": {},
   "source": [
    "Now we can check if reflections commute with $H$ or the magnetic flux Hamiltonian $M$. Turns out, reflections do not commute with $M$, because hopping to the right adds a positive phase (check that) while hopping to the left a negative phase. Reflections break the symmetry in the sign of the phase.\n",
    "\n",
    "Numeric complex numbers are hard to read, but in exponential terms, the only non vanishing entries in the commutator $[R, M]$ are therefore proportional to $$ -\\exp(-\\ii) + \\exp(\\ii) \\approx 1.68 \\ii,$$ which is precisely the difference in phase when hopping left or right."
   ]
  },
  {
   "cell_type": "code",
   "execution_count": 22,
   "id": "249ac0be-430e-4c33-99b5-ac3da84e0593",
   "metadata": {},
   "outputs": [
    {
     "data": {
      "application/vnd.jupyter.widget-view+json": {
       "model_id": "fe85d5c2c8ed4f06a311710031432ba2",
       "version_major": 2,
       "version_minor": 0
      },
      "text/plain": [
       "HBox(children=(VBox(children=(Text(value='[0, 0, 0, 0, 0, 0]', continuous_update=False, description='User Phas…"
      ]
     },
     "metadata": {},
     "output_type": "display_data"
    }
   ],
   "source": [
    "R = Reflection_Matrix\n",
    "#TOOO  adjust space evenly for widget output\n",
    "comm_RH_widget = widgets.interactive(Show_Commutator,\n",
    "                            A=fixed(H),\n",
    "                            B=fixed(R),\n",
    "                            name_A=fixed(\"H\"),\n",
    "                            name_B=fixed(\"R\"),\n",
    "                            phase=phase_Dropdown,\n",
    "                            n=n_Slider,\n",
    "                            precision=precision_Slider,\n",
    "                            axis=axis_Slider,\n",
    "                        );\n",
    "\n",
    "comm_RM_widget = widgets.interactive(Show_Commutator,\n",
    "                            A=fixed(R),\n",
    "                            B=fixed(M),\n",
    "                            name_A=fixed(\"R\"),\n",
    "                            name_B=fixed(\"M\"),\n",
    "                            n=n_Slider,\n",
    "                            precision=precision_Slider,\n",
    "                            axis=axis_Slider,\n",
    "                        );\n",
    "\n",
    "display(HBox([VBox([phase_Text_Box, comm_RH_widget]),\n",
    "             VBox([widgets.Text(\"Not supported\"), widgets.Text(\"not supported\"),comm_RM_widget])]))"
   ]
  },
  {
   "cell_type": "markdown",
   "id": "e3374d00-e51b-4e4f-becd-ac06d5fddb11",
   "metadata": {},
   "source": [
    "## Properties of Reflection Matrices\n",
    "\n",
    "* Reflection matrices $R$ are examples of [involutory matrices](https://en.wikipedia.org/wiki/Involutory_matrix) meaning they are there own inverse, i.e. $RR = \\mathbb{1}$.\n",
    "* They are also symmetric, which implies they are unitary (to be specific: orthogonal, because they are purely real) matrices.\n",
    "* Hence, the eigenvalues of reflection matrices are $\\pm 1$.\n",
    "* Reflection matrices are generally **not commutative** for $n \\geq 3$. Moreover the action of two reflections results in a rotation!"
   ]
  },
  {
   "cell_type": "markdown",
   "id": "bc31a672-2138-424d-975a-2a3179377747",
   "metadata": {},
   "source": [
    "The code below calculates the commutator of two reflection matrices as well as the resulting linear operator when applying two reflections. Compare the resulting matrix with the rotation matrices from above."
   ]
  },
  {
   "cell_type": "code",
   "execution_count": 23,
   "id": "cf9c5234-93dd-4f84-b39b-82bbf2ba4740",
   "metadata": {},
   "outputs": [
    {
     "data": {
      "application/vnd.jupyter.widget-view+json": {
       "model_id": "c7aa9e07aed74c6382e89f6f9afc51d5",
       "version_major": 2,
       "version_minor": 0
      },
      "text/plain": [
       "HBox(children=(VBox(children=(interactive(children=(IntSlider(value=1, continuous_update=False, description='A…"
      ]
     },
     "metadata": {},
     "output_type": "display_data"
    }
   ],
   "source": [
    "from Module_Symmetry_and_Gauge import Show_Commutator_2, Show_R1_R2\n",
    "from Module_Widgets_and_Sliders import axis2_Slider\n",
    "#TOOO  adjust space evenly for widget output\n",
    "comm_RR_widget = widgets.interactive(Show_Commutator_2,\n",
    "                            A=fixed(R),\n",
    "                            B=fixed(R),\n",
    "                            name_A=fixed(\"R1\"),\n",
    "                            name_B=fixed(\"R2\"),\n",
    "                            axis1=axis_Slider,\n",
    "                            axis2=axis2_Slider,\n",
    "                            n=n_Slider,\n",
    "                            #precision=precision_Slider,\n",
    "                        );\n",
    "\n",
    "R1R2_widget = widgets.interactive(Show_R1_R2,\n",
    "                                  R1 = fixed(R),\n",
    "                                  R2 = fixed(R),\n",
    "                                  n=n_Slider,\n",
    "                                  axis1=axis_Slider,\n",
    "                                  axis2=axis2_Slider,\n",
    "                                 );\n",
    "\n",
    "display(HBox([VBox([comm_RR_widget]),\n",
    "              VBox([R1R2_widget])]))"
   ]
  },
  {
   "cell_type": "markdown",
   "id": "c12586fc-3aab-4594-8cd1-0dda74343753",
   "metadata": {},
   "source": [
    "# The Dihedral group $D_n$\n",
    "\n",
    "An attentive reader will have already figured out, reflections alone are not a closed set under matrix multiplication $ \\implies$ they do not form a group (for $ n \\geq 3 $). Nevertheless, if one includes the set of rotations we end up with a  valid group. The group of roations and reflections of regular $n$-gons, which is called the [Dihedral group $D_n$](https://en.wikipedia.org/wiki/Dihedral_group#Definition). The Cyclic group $C_n$ is a proper Subgroup of $D_n$, that is $C_n \\subset D_n$. This group is non-abelian as we saw that reflections (generally) do not commute and yield rotations. Furthermore reflections and rotations also do not commute and give reflections again.\n",
    "\n",
    "In the code below you can play around with different rotations and reflections, look at the commutator and what kind of transformation originates from a combination of both."
   ]
  },
  {
   "cell_type": "code",
   "execution_count": 24,
   "id": "dc1b27d4-bcde-4a23-9974-f45de06dea30",
   "metadata": {},
   "outputs": [],
   "source": [
    "#TODO add swithc to change order of T and R"
   ]
  },
  {
   "cell_type": "code",
   "execution_count": 25,
   "id": "69cf9734-2392-4b86-80e3-a081ab6c5cac",
   "metadata": {},
   "outputs": [
    {
     "data": {
      "application/vnd.jupyter.widget-view+json": {
       "model_id": "1670f5664cde458997d7201e386a8373",
       "version_major": 2,
       "version_minor": 0
      },
      "text/plain": [
       "HBox(children=(VBox(children=(interactive(children=(BoundedIntText(value=6, description='$n = $', layout=Layou…"
      ]
     },
     "metadata": {},
     "output_type": "display_data"
    }
   ],
   "source": [
    "#TOOO  adjust space evenly for widget output\n",
    "comm_RT_widget = widgets.interactive(Show_Commutator,\n",
    "                            A=fixed(R),\n",
    "                            B=fixed(T),\n",
    "                            name_A=fixed(\"R\"),\n",
    "                            name_B=fixed(\"T\"),\n",
    "                            n=n_Slider,\n",
    "                            axis=axis_Slider,\n",
    "                            turns=turns_Slider,\n",
    "                            #precision=precision_Slider,\n",
    "                        );\n",
    "\n",
    "RT_widget = widgets.interactive(lambda R, T, **kwargs: print(\"R T = \", R(**kwargs) @ T(**kwargs), sep =\"\\n\"),\n",
    "                                  R = fixed(T),\n",
    "                                  T = fixed(R),\n",
    "                                  n=n_Slider,\n",
    "                                  axis=axis_Slider,\n",
    "                                  turns=turns_Slider,\n",
    "                                 );\n",
    "\n",
    "display(HBox([VBox([comm_RT_widget]),\n",
    "              VBox([RT_widget])]))"
   ]
  },
  {
   "cell_type": "markdown",
   "id": "10b23f31-f3d5-4f44-99ff-de460f953d0d",
   "metadata": {},
   "source": [
    "TODO add linear transformation $RHR^{-1} and show how it changes H, exaclty negative phase"
   ]
  },
  {
   "cell_type": "markdown",
   "id": "03a52051-dcd0-4dec-a744-502140702b67",
   "metadata": {},
   "source": [
    "# Simultaneous Diagonalization\n",
    "\n",
    "We explored different symmetry groups, constructed one (of many) possible matrix representations of these groups and calculated some commutators. We want to now use the property that commuting operators share a common eigenbasis to diagonalize the Hamiltonian with the eigenvectors of these symmetry matrices. This is possible, because all these symmetry operators are unitary (to preserve the norm of a wavefunction) and their eigenvectors are thus guaranteed to be orthonormal and consitute a complete basis.\n",
    "\n",
    "Let us consider the case of commuting operators $A$ and $B$, $[A,B]=0$, where both $A$ and $B$ are normal $A A^\\dagger = A^\\dagger A$ and $B B^\\dagger = B^\\dagger B$, i.e. they commute with their conjugate transpose. These include special cases like hermitian and unitary matrices. From this we know, that they have to be diagonalizable by a unitary transformation and also, via vanishing commutator, that they share a common eigenbasis which simulteniously digonalizes both.\n",
    "\n",
    "## Unique Eigenvalues\n",
    "\n",
    "Let us first assume that all the eigenvalues of $A$ are unique, i.e. do no repeat, then each eigenvector spans a (linearly independent) one dimensional subspace of our vectorspace. In particular, we have shown that each eigenvector of $A$ is also an eigenvector of $B$ (up to some scaling factor). This implies, that the unitary transformation matrix $U$ consisting of the normalized eigenvectors of $A$ diagonalizes both $A$ and $B$. To be precise, let\n",
    "\n",
    "\\begin{align}\n",
    "    A \\ket{\\phi_i} &= \\lambda_i \\ket{\\phi_i} \\\\\n",
    "    B \\ket{\\phi_i} &= \\mu_i \\ket{\\phi_i},\n",
    "\\end{align}\n",
    "\n",
    "be the $i$th eigenvector of $A$ (and by the uniqueness and comutation assumption also of $B$) and $\\lambda_i$, $\\mu_i$ the $i$th eigenvalue corresponding to $\\ket{\\phi_i}$ of $A$ and $B$, respectively. Then we can compute the diagonal matrices $D_A, D_B$ containing $A$'s and $B$'s eigenvalue via\n",
    "\n",
    "\\begin{align}\n",
    "    U^\\dagger A U &= D_A = \\begin{pmatrix}\n",
    "                                \\lambda_1 & & & \\\\\n",
    "                                & \\lambda_2 & & \\\\\n",
    "                                & & \\ddots & \\\\\n",
    "                                & & & \\lambda_n\n",
    "                            \\end{pmatrix} \\\\\n",
    "    %%%%%%%%%%\n",
    "    U^\\dagger B U &= D_B = \\begin{pmatrix}\n",
    "                                \\mu_1 & & & \\\\\n",
    "                                & \\mu_2 & & \\\\\n",
    "                                & & \\ddots & \\\\\n",
    "                                & & & \\mu_n\n",
    "                            \\end{pmatrix}\n",
    "\\end{align}"
   ]
  },
  {
   "cell_type": "markdown",
   "id": "343dbaa7-28b0-4f32-ac64-19c6f6284804",
   "metadata": {},
   "source": [
    "Observe in the code below, that the single right rotation matrix has unique eigenvalues and commutes with $H$ as well as $M$ and is thus able to diagonalize both of them. "
   ]
  },
  {
   "cell_type": "code",
   "execution_count": 26,
   "id": "4b596358-703b-4f6b-b076-eb1274de1f18",
   "metadata": {},
   "outputs": [
    {
     "data": {
      "application/vnd.jupyter.widget-view+json": {
       "model_id": "453fefa2e9be441387c10704418e985c",
       "version_major": 2,
       "version_minor": 0
      },
      "text/plain": [
       "interactive(children=(BoundedIntText(value=6, description='$n = $', layout=Layout(width='3cm'), max=10, min=2,…"
      ]
     },
     "metadata": {},
     "output_type": "display_data"
    }
   ],
   "source": [
    "def Sort_Eigenvalues_And_Eigenvectors(vals, vecs):\n",
    "    idx = vals.argsort()   \n",
    "    vals = vals[idx]\n",
    "    vecs = vecs[:, idx]\n",
    "    return vals, vecs\n",
    "\n",
    "\n",
    "def Eig(M):\n",
    "    if is_hermitian(M):\n",
    "        return np.linalg.eigh(M)\n",
    "    else:\n",
    "        return np.linalg.eig(M)\n",
    "    \n",
    "def Sorted_Eig(M):\n",
    "    vals, vecs = Eig(M) \n",
    "    idx = vals.argsort()   \n",
    "    vals = vals[idx]\n",
    "    vecs = vecs[:, idx]\n",
    "    return vals, vecs\n",
    "\n",
    "\n",
    "def Print_Eigenvalues_And_Eigenvectors(M, name_M, **kwargs):\n",
    "    M = M(**kwargs)\n",
    "    precision = kwargs.get(\"precision\", 2)\n",
    "    eigvals, eigvecs = Sort_Eigenvalues_And_Eigenvectors(*np.linalg.eig(M))\n",
    "    \n",
    "    print(f\"Eigenvalues of {name_M}: {np.round(eigvals, precision+1)}\", \"\", sep=\"\\n\")\n",
    "    print(f\"Eigenvectors of {name_M}:\", np.round(eigvecs, precision), sep=\"\\n\")\n",
    "    \n",
    "    \n",
    "    \n",
    "eigenvalues_R_widget = widgets.interactive(Print_Eigenvalues_And_Eigenvectors,\n",
    "                                        M=fixed(Right_Translation_Matrix),\n",
    "                                        name_M=fixed(\"T\"),\n",
    "                                        n=n_Slider,\n",
    "                                        precision=precision_Slider);\n",
    "\n",
    "display(eigenvalues_R_widget)"
   ]
  },
  {
   "cell_type": "markdown",
   "id": "bd9d52c4-8dfc-4ff6-a55d-c1ab2d49f9a6",
   "metadata": {},
   "source": [
    "Now let us diagonalize $H$ and $M$ with $R$'s eigenbasis"
   ]
  },
  {
   "cell_type": "code",
   "execution_count": 27,
   "id": "a504facf-830f-4aed-8405-dd7359fbdfb4",
   "metadata": {},
   "outputs": [
    {
     "data": {
      "application/vnd.jupyter.widget-view+json": {
       "model_id": "3bfabbf1f5784b3e8a4708d0eda452a4",
       "version_major": 2,
       "version_minor": 0
      },
      "text/plain": [
       "interactive(children=(Dropdown(description='Matrix:', options=(('H', <function Hopping_Matrix_with_Phase at 0x…"
      ]
     },
     "metadata": {},
     "output_type": "display_data"
    }
   ],
   "source": [
    "#TODO sort eigenvalues, make function pretty, possibly add phase?\n",
    "matrix_widget = widgets.Dropdown(options=((\"H\", H), (\"M\", M)), description=\"Matrix:\")\n",
    "\n",
    "def Diagonalize_With_T(M, **kwargs):\n",
    "    precision = kwargs.get(\"precision\", 2)\n",
    "    n = kwargs.get(\"n\", 6)\n",
    "    M = M(**kwargs)\n",
    "    eigvals, U = Sort_Eigenvalues_And_Eigenvectors(*np.linalg.eig(Right_Translation_Matrix(n=n)))\n",
    "    name = matrix_widget.label\n",
    "    D = np.round(U.conj().T @ M @ U, precision).real\n",
    "    \n",
    "    print(f\"Eigenvalues of T: {np.round(eigvals, precision+1)}\")\n",
    "    print(f\"Eigenvalues of {name}: {np.round(np.sort(np.linalg.eigvals(M)).real, precision+1)}\", \"\", sep=\"\\n\")\n",
    "    print(f\"D = U^t {name} U = \", D, sep=\"\\n\")\n",
    "    \n",
    "diagonal_R_widget = widgets.interactive(Diagonalize_With_T,\n",
    "                                M=matrix_widget,\n",
    "                                n=n_Slider,\n",
    "                                precision=precision_Slider);\n",
    "\n",
    "display(diagonal_R_widget)"
   ]
  },
  {
   "cell_type": "markdown",
   "id": "959c3da3-5b1b-427e-98a3-1355089596c1",
   "metadata": {},
   "source": [
    "## Degenerate Eigenvalues / Block Structure\n",
    "\n",
    "Up until now we always worked with unique eigenvalues. If however we have at least one degeneracy in the eigenvalues of $A$, i.e. different eigenvectors to the same eigenvalue, $A$'s eigenvectors do not automatically diagonalise $B$. Instead, Linear algebra dictates that eigenvectors with degenerate eigenvalues form invariant subspaces with dimensions according to the multiplicity of each eigenvalue. This means that the linear map $U$ consisting of the normalized eigenvectors of $A$ (ordered with respect to their eigenvalue) transforms $B$ into a [block matrix](https://en.wikipedia.org/wiki/Block_matrix) structure.\n",
    "\n",
    "Take for example the reflection matrix $R$ along axis 1, which has degenerate eigenvalues. E.g for $n=6$, $\\lambda_1 = 1$ is four-fold degenerate, while $\\lambda_2 = -1$ is two-fold degenerate."
   ]
  },
  {
   "cell_type": "code",
   "execution_count": 28,
   "id": "6ecadd10-7959-432f-939e-0a9c4d4ceedc",
   "metadata": {},
   "outputs": [
    {
     "data": {
      "application/vnd.jupyter.widget-view+json": {
       "model_id": "935fca1a19a644fbae9829c06a3cbedd",
       "version_major": 2,
       "version_minor": 0
      },
      "text/plain": [
       "interactive(children=(BoundedIntText(value=6, description='$n = $', layout=Layout(width='3cm'), max=10, min=2,…"
      ]
     },
     "metadata": {},
     "output_type": "display_data"
    }
   ],
   "source": [
    "eigenvalues_R1_widget = widgets.interactive(Print_Eigenvalues_And_Eigenvectors,\n",
    "                                        M=fixed(Reflection_Matrix),\n",
    "                                        name_M=fixed(\"R1\"),\n",
    "                                        n=n_Slider,\n",
    "                                        precision=precision_Slider);\n",
    "\n",
    "display(eigenvalues_R1_widget)"
   ]
  },
  {
   "cell_type": "markdown",
   "id": "a225fad4-1625-4b0f-b701-665947111a85",
   "metadata": {},
   "source": [
    "Again, we try to diagonalise $H$ and $M$ with the eigenvectors of $R1$. Note the (2,4)-block structure of $H$ for $n=4$ and how $M$ cannot be simplified by $R1$ as they do not commute, $[R1, M]\\neq 0$."
   ]
  },
  {
   "cell_type": "code",
   "execution_count": 29,
   "id": "c66f8b7c-be79-4ab1-93ed-6cbda938f738",
   "metadata": {},
   "outputs": [
    {
     "data": {
      "application/vnd.jupyter.widget-view+json": {
       "model_id": "d1ec422beb4b421d82e549f84b098eed",
       "version_major": 2,
       "version_minor": 0
      },
      "text/plain": [
       "interactive(children=(Dropdown(description='Matrix:', options=(('H', <function Hopping_Matrix_with_Phase at 0x…"
      ]
     },
     "metadata": {},
     "output_type": "display_data"
    }
   ],
   "source": [
    "#TODO add possibility of choosing 2 turn rotation matrix\n",
    "def Diagonalize_With_R1(M, **kwargs):\n",
    "    precision = kwargs.get(\"precision\", 2)\n",
    "    n = kwargs.get(\"n\", 6)\n",
    "    M = M(**kwargs)\n",
    "    eigvals, U = Sort_Eigenvalues_And_Eigenvectors(*np.linalg.eig(Reflection_Matrix(n=n)))\n",
    "    #eigvals, U = Sort_Eigenvalues_And_Eigenvectors(*np.linalg.eig(Right_Translation_Matrix(n=n, turns=2)))\n",
    "    name = matrix_widget.label\n",
    "    D = np.round(U.conj().T @ M @ U, precision)#.real\n",
    "    \n",
    "    print(f\"Eigenvalues of R1: {np.round(eigvals, precision+1)}\")\n",
    "    print(f\"Eigenvalues of {name}: {np.round(np.sort(np.linalg.eigvals(M)).real, precision+1)}\", \"\", sep=\"\\n\")\n",
    "    print(f\"D = U^t {name} U = \", D, sep=\"\\n\")\n",
    "\n",
    "diagonal_R1_widget = widgets.interactive(Diagonalize_With_R1,\n",
    "                                M=matrix_widget,\n",
    "                                n=n_Slider,\n",
    "                                precision=precision_Slider);\n",
    "\n",
    "display(diagonal_R1_widget)"
   ]
  },
  {
   "cell_type": "markdown",
   "id": "8ba93df4-26cb-4dc9-8390-c891d112e77f",
   "metadata": {},
   "source": [
    "## Common Eigenbasis for degenerate Eigenvalues"
   ]
  },
  {
   "cell_type": "markdown",
   "id": "b35119c4-64c9-4b82-a379-14175d21a21e",
   "metadata": {},
   "source": [
    "Fortunately not all hope is lost, as one can prove that commuting operators share a common eigenbasis for degenerate eigenvalues too. Assume again $A$ and $B$ commute, aren both ormal matrices and both matrices have degenerate eigenvalues. The idea is the following:\n",
    "1. Transform $B$ into a block structure $B_\\mathrm{Block}$ using $A$'s eigenbasis, denoted by $U_A$\n",
    "    $$\n",
    "        B_\\mathrm{Block} = U_A^\\dagger B U_A\n",
    "    $$\n",
    "    \n",
    "2. Compute the eigenbasis of $B_\\mathrm{Block}$, denoted $U_B'$. Because of $B_\\mathrm{Block} $'s block-diagonal structure we can efficently perform this calculation, as we can  consider each invariant subspace spanned by each eigenvalue seperately and eventually pad with zeros to get back to original dimension.\n",
    "\n",
    "3. $U_B'$'s entries are precisely the coefficients to construct a new eigenbasis as linear combination of $U_A$'s eigenvalues. This new basis $U_{AB}$ diagonalizes $A$ and $B$ simultaneously.\n",
    "\n",
    "Note, that the diagonal entries (and thus eigenvalues) of $B$ are still be $B$'s eigenvalues.\n",
    "\n",
    "Assume $n=5$ and take for example the reflection matrix along axis 1,\n",
    "$$\n",
    "    R_1 = \\begin{pmatrix}\n",
    "            1    &0   &0    &0   &0 \\\\\n",
    "            0    &0   &0    &0   &1 \\\\\n",
    "            0    &0   &0    &1   &0 \\\\\n",
    "            0    &0   &1    &0   &0 \\\\\n",
    "            0    &1   &0    &0   &0 \\\\\n",
    "        \\end{pmatrix},\n",
    "$$\n",
    "with eigenvalues and (non-normalized) eigenvectors\n",
    "\\begin{align}\n",
    "    \\lambda_{1,2} = -1 &\\qquad u_1 = \\begin{pmatrix} 0 \\\\ 1 \\\\ 0 \\\\ 0 \\\\ -1 \\end{pmatrix},\\, u_2 = \\begin{pmatrix} 0 \\\\ 0 \\\\ -1 \\\\ 1 \\\\ 0 \\end{pmatrix}, \\\\\n",
    "    \\lambda_{3,4,5} = 1 &\\qquad u_3 = \\begin{pmatrix} 0 \\\\ 1 \\\\ 0 \\\\ 0 \\\\ 1 \\end{pmatrix},\\, u_4 = \\begin{pmatrix} 0 \\\\ 0 \\\\ 1 \\\\ 1 \\\\ 0 \\end{pmatrix},\\, u_5 = \\begin{pmatrix} 1 \\\\ 0 \\\\ 0 \\\\ 0 \\\\ 0 \\end{pmatrix}.\n",
    "\\end{align}\n",
    "The matrix\n",
    "$$\n",
    "    U_{R_1} = (u_1, u_2, u_3, u_4, u_5) = \\begin{pmatrix}\n",
    "                                                 0 &  0&  0&  0  & 1 \\\\\n",
    "                                                 1 & 0 & 1 &0  & 0 \\\\\n",
    "                                                 0 & -1& 0 & 1 & 0 \\\\\n",
    "                                                 0 &  1& 0 & 1 & 0 \\\\\n",
    "                                                -1 & 0 & 1 &0  & 0 \n",
    "                                            \\end{pmatrix}\n",
    "$$\n",
    "block diagonalizes $H$ into\n",
    "\n",
    "$$\n",
    "    H_\\mathrm{Block} = U_{R_1}^\\dagger H U_{R_1} = \\begin{pmatrix}\n",
    "                                                     0 &  -2&  0&  0  & 0 \\\\\n",
    "                                                     -2 & -2 & 1 &0  & 0 \\\\\n",
    "                                                     0 & 0& 0 & 2 & 2 \\\\\n",
    "                                                     0 &  0& 2 & 2 & 0 \\\\\n",
    "                                                    0 & 0 & 2 &0  & 0 \n",
    "                                                \\end{pmatrix}.\n",
    "$$\n",
    "\n",
    "Finally, we only have to calculate the eigenbasis of a 2x2 and a 3x3 block, instead of the complete 5x5 matrix $H_\\mathrm{Block}$, which results in the (padded) eigenvectors of the 2x2 block\n",
    "\n",
    "$$\n",
    "    v_1 = \\begin{pmatrix} \\Phi \\\\ -1 \\end{pmatrix} \\implies \\begin{pmatrix} \\Phi \\\\ -1 \\\\ 0 \\\\ 0 \\\\ 0\\end{pmatrix} \\quad \\mathrm{and} \\quad v_2 = \\begin{pmatrix} 1 \\\\ \\Phi \\end{pmatrix} \\implies \\begin{pmatrix} 1 \\\\ \\Phi \\\\ 0 \\\\0 \\\\ 0 \\end{pmatrix},\n",
    "$$\n",
    "where $\\Phi = \\frac{1+ \\sqrt{5}}{2}$ is the golden ratio. The 3x3 block gives\n",
    "\n",
    "$$\n",
    "    v_3 \\approx \\begin{pmatrix} 1.8 \\\\ 2.2 \\\\ 1 \\end{pmatrix} \\implies \\begin{pmatrix} 0 \\\\ 0 \\\\ 1.8 \\\\ 2.2 \\\\ 1 \\end{pmatrix} \\quad \\mathrm{and} \\quad v_4 \\approx \\begin{pmatrix} -1.2 \\\\ 0.5 \\\\ 1 \\end{pmatrix} \\implies \\begin{pmatrix} 0 \\\\ 0 \\\\ -1.2 \\\\ 0.5 \\\\ 1 \\end{pmatrix}  \\quad \\mathrm{and} \\quad v_5 \\approx \\begin{pmatrix} 0.4 \\\\ -0.8 \\\\ 1 \\end{pmatrix} \\implies \\begin{pmatrix} 0 \\\\ 0 \\\\ 0.4 \\\\ -0.8 \\\\ 1 \\end{pmatrix},\n",
    "$$\n",
    "where we define $V \\coloneqq (v_1, v_2, v_3, v_4, v_5)$. \n",
    "\n",
    "Thus the eigenvectors that diagonalize $H$ and $R_1$ simultaneously are\n",
    "$$\n",
    "    u_1' = \\Phi u_1 - u_2, \\quad u_2' = u_1 + \\Phi u_2, \\quad u_3' = 1.8 u_3 + 2.2 u_4 + u_5, \\quad u_4' = -1.2 u_3 + 0.5 u_4 + u_5, \\quad u_5' = 0.4 u_3 + -0.8 u_4 + u_5.\n",
    "$$\n",
    "\n",
    "One can write this relation conveniently as\n",
    "$$\n",
    "    U_{AB} = (u'_1, u'_2, u'_3, u'_4, u'_5) =  U_A V,\n",
    "$$\n",
    "which results in the following diagonalizations:\n",
    "\n",
    "\\begin{align}\n",
    "    U_{AB}^\\dagger H U_{AB} &= D_H = \\begin{pmatrix}\n",
    "                                -1.62 & & & &\\\\\n",
    "                                & -1.62 & & &\\\\\n",
    "                                & & 0.62 & &\\\\\n",
    "                                & & & 0.62 &\\\\\n",
    "                                & & & & 2\n",
    "                            \\end{pmatrix} \\\\\n",
    "    %%%%%%%%%%\n",
    "    U_{AB}^\\dagger R_1 U_{AB}  &= D_{R_1} \\begin{pmatrix}\n",
    "                                1 & & & &\\\\\n",
    "                                & -1 & & &\\\\\n",
    "                                & & 1 & &\\\\\n",
    "                                & & & -1 &\\\\\n",
    "                                & & & & 1\n",
    "                            \\end{pmatrix}\n",
    "\\end{align}\n",
    "\n",
    "Compare the (degenerate) eigenvalues of $H_\\mathrm{Block}$,  $\\lambda_{H_\\mathrm{Block}} = \\lambda_H = \\{-\\Phi \\approx -1.62,\\, 1/\\Phi \\approx 0.62,\\, 1\\}$ with $H$'s diagonal form.\n",
    "\n",
    "Note, if $B$ is not hermitian, we can still find a basis i"
   ]
  },
  {
   "cell_type": "code",
   "execution_count": 81,
   "id": "3353fa65-4913-4646-902e-b3908f818650",
   "metadata": {},
   "outputs": [],
   "source": [
    "import copy\n",
    "\n",
    "def is_hermitian(A, tol=1e-8):\n",
    "    return np.linalg.norm(A-A.conj().T, np.Inf) < tol;\n",
    "\n",
    "def is_unique(arr):\n",
    "    return len(np.unique(np.round(arr, 3))) == len(arr)\n",
    "\n",
    "def isreal(arr, precision=5):\n",
    "    return np.all(np.isreal(arr.round(precision)))\n",
    "\n",
    "def print_isreal(arr, precision=5):\n",
    "    if isreal(arr, precision):\n",
    "        return arr.real\n",
    "    return arr\n",
    "\n",
    "\n",
    "def Diagonalize(A, B, text=True, **kwargs):\n",
    "    state=None\n",
    "    #TODO replce all np.rond with.round for convenience\n",
    "    #TODO give all relevent functions specific .name attributes\n",
    "    \n",
    "    #check if A and B Commute, i.e. [A,B]==0\n",
    "    assert np.count_nonzero(Commutator(A, B)) == 0, \"Error, matrices do not commute => cannot be simultaneously diagonalized.\"\n",
    "    \n",
    "    #calc (possibly real) eigenvalues\n",
    "    lam_A, U_A = Sorted_Eig(A)\n",
    "    lam_B, U_B = Sorted_Eig(B)\n",
    "    \n",
    "    #check if A == B\n",
    "    if np.array_equal(A,B):\n",
    "        if text:\n",
    "            print(\"Identical matrices => U_A = U_AB = U_B\") \n",
    "        D_A = U_A.conj().T @ A @ U_A\n",
    "        state = \"A==B\"\n",
    "        return U_A, D_A, None, None, state\n",
    "    \n",
    "    #check if A's or B's eigenvalues are unique => U_A or U_B is sufficient to diagonalize both A and B\n",
    "    if is_unique(lam_A):\n",
    "        if text:\n",
    "            print(\"Unique eigenvalues of A => U_A = U_AB\")\n",
    "        D_A = U_A.conj().T @ A @ U_A\n",
    "        D_B = U_A.conj().T @ B @ U_A\n",
    "        state = \"A\"\n",
    "        return U_A, D_A, D_B, None, state\n",
    "    \n",
    "    if is_unique(lam_B):\n",
    "        if text:\n",
    "            print(\"Unique eigenvalues of B => U_B = U_AB\")\n",
    "        D_A = U_B.conj().T @ A @ U_B\n",
    "        D_B = U_B.conj().T @ B @ U_B\n",
    "        state = \"B\"\n",
    "        return U_B, D_A, D_B, None, state\n",
    "    \n",
    "    #degenerate Eigenvalues\n",
    "    B_Block = np.round(U_A.conj().T @ B @ U_A,6) #Has to be rounded, else numeric errors occure\n",
    "    _, V_B = Eig(B_Block)\n",
    "    U_AB = U_A @ V_B\n",
    "    D_A = U_AB.conj().T @ A @ U_AB\n",
    "    D_B = U_AB.conj().T @ B @ U_AB\n",
    "    \n",
    "    return U_AB, D_A, D_B, B_Block, state\n",
    "\n",
    "\n",
    "def Show_Diagonalize(A, B, text=False, **kwargs):\n",
    "    precision = kwargs.get(\"precision\", 2)\n",
    "    #n = kwargs.get(\"n\", 6)\n",
    "    U_AB, D_A, D_B, B_Block, state = Diagonalize(A(**kwargs), B(**kwargs), text=text)\n",
    "    \n",
    "    if hasattr(A, \"name\") and hasattr(B, \"name\"):\n",
    "        if state == \"A==B\":\n",
    "            print(f\"Identical matrices => U_{A.name} = U_{A.name}{B.name} = U_{B.name}\", \"\", sep=\"\\n\")\n",
    "        elif state == \"A\":\n",
    "            print(f\"Unique eigenvalues of {A.name} => U_{A.name} = U_{A.name}{B.name}\", \"\", sep=\"\\n\")\n",
    "        elif state == \"B\":\n",
    "            print(f\"Unique eigenvalues of {B.name} => U_{B.name} = U_{A.name}{B.name}\", \"\", sep=\"\\n\")\n",
    "        \n",
    "        #+0. added to avoid \"-0.\" in output due to rounding of negative floats\n",
    "        print(f\"U_{A.name}{B.name} = \", U_AB.round(precision)+0., \"\", sep=\"\\n\")\n",
    "        print(f\"D_{A.name} \", print_isreal(D_A.round(precision)+0.), \"\", sep=\"\\n\")\n",
    "        if D_B is not None:\n",
    "            print(f\"D_{B.name} = \", print_isreal(D_B.round(precision)+0.), \"\", sep=\"\\n\")\n",
    "        if B_Block is not None:\n",
    "            print(f\"{B.name}_Block = \", B_Block.round(precision)+0., sep=\"\\n\")\n",
    "    else: print(\"error\")"
   ]
  },
  {
   "cell_type": "code",
   "execution_count": 82,
   "id": "89a181cf-dcdf-4cb4-a8e3-6cb2a8e16c8e",
   "metadata": {},
   "outputs": [
    {
     "data": {
      "application/vnd.jupyter.widget-view+json": {
       "model_id": "414ac7fa9d0947c096fcf66d15460690",
       "version_major": 2,
       "version_minor": 0
      },
      "text/plain": [
       "interactive(children=(Dropdown(description='Matrix:', options=(('H', <function Hopping_Matrix_with_Phase at 0x…"
      ]
     },
     "metadata": {},
     "output_type": "display_data"
    }
   ],
   "source": [
    "matrix2_widget = widgets.Dropdown(options=((H.name, H), (M.name, M), (T.name, T), (R.name, R)), description=\"Matrix:\")\n",
    "matrix3_widget = widgets.Dropdown(options=((H.name, H), (M.name, M), (T.name, T), (R.name, R)), description=\"Matrix:\")\n",
    "\n",
    "general_diagonalization_widget = widgets.interactive(Show_Diagonalize,\n",
    "                                A=matrix2_widget,\n",
    "                                B=matrix3_widget,\n",
    "                                text=fixed(False),\n",
    "                                n=n_Slider,\n",
    "                                precision=precision_Slider,\n",
    "                                turns=turns_Slider,\n",
    "                                axis=axis_Slider);\n",
    "\n",
    "display(general_diagonalization_widget)"
   ]
  },
  {
   "cell_type": "code",
   "execution_count": 76,
   "id": "3d55deab-197f-4d27-8a71-5ef2bcc559a5",
   "metadata": {},
   "outputs": [
    {
     "name": "stdout",
     "output_type": "stream",
     "text": [
      "[-0.130967   0.386152   -0.469611  -0.270386  -0.199224   0.452846  -0.333333  -0.0410856    0.427238]\n",
      "[  0.45766  -0.199224   -0.386152  -0.427238  0.0410856  -0.113002  -0.333333    0.270387   -0.469611]\n",
      "[-0.326693  -0.455342   -0.122008   0.122008   0.122008  -0.339844  -0.333333    0.455342    0.455342]\n",
      "[-0.130967  0.0410855    0.199224   0.469611  -0.270387   0.452846  -0.333333    0.427238   -0.386152]\n",
      "[  0.45766   0.469611    0.427238  0.0410857   0.386152  -0.113002  -0.333333    0.199224    0.270387]\n",
      "[-0.326693   0.122009    0.455342  -0.455342  -0.455342  -0.339844  -0.333333   -0.122008   -0.122008]\n",
      "[-0.130967  -0.427238    0.270387  -0.199224   0.469611   0.452846  -0.333333   -0.386152  -0.0410856]\n",
      "[  0.45766  -0.270387  -0.0410856   0.386152  -0.427238  -0.113002  -0.333333   -0.469611    0.199224]\n",
      "[-0.326693   0.333333   -0.333333   0.333333   0.333333  -0.339844  -0.333333   -0.333333   -0.333333]\n",
      "\n",
      "[     -1.0  -7.86e-30    2.2e-31  -1.29e-31   6.17e-31  -3.89e-32   5.39e-32  -2.54e-31  -7.01e-32]\n",
      "[-7.88e-30      0.347   6.38e-31   1.81e-31  -1.48e-31  -2.52e-31   3.45e-32  -1.05e-31  -8.44e-32]\n",
      "[ 1.73e-31   5.99e-31       1.53  -8.43e-31  -3.26e-31   1.03e-31   3.34e-31  -1.42e-30   5.54e-31]\n",
      "[-1.22e-31   1.79e-31  -8.31e-31      0.347   4.79e-31  -1.34e-31   -4.6e-33   -1.9e-31   -1.4e-33]\n",
      "[ 6.34e-31  -1.46e-31  -3.23e-31   5.27e-31      -1.88   7.91e-31   6.92e-32  -1.97e-30    1.2e-31]\n",
      "[-5.59e-32  -2.51e-31   8.64e-32  -1.31e-31   8.07e-31       -1.0  -2.97e-31  -4.66e-31   4.94e-31]\n",
      "[ 1.03e-31   -2.4e-32   3.27e-31   8.13e-34   1.53e-31  -2.31e-31        2.0  -5.46e-32   -1.3e-31]\n",
      "[-2.34e-31  -1.05e-31   -1.4e-30  -1.79e-31  -1.95e-30  -4.55e-31  -8.06e-32       1.53  -3.66e-30]\n",
      "[-6.58e-32  -5.29e-32   5.51e-31  -1.14e-32   1.29e-31   5.47e-31  -1.62e-31  -3.59e-30      -1.88]\n"
     ]
    }
   ],
   "source": [
    "import mpmath as mp\n",
    "import numpy\n",
    "mp.mp.dps = 30\n",
    "\n",
    "l_a, U_A = mp.eig_sort(*mp.eigh(mp.matrix(H(n=9))))\n",
    "HB = U_A.transpose_conj() @ mp.matrix(Right_Translation_Matrix(n=9, turns=2)) @ U_A\n",
    "l_block, V = mp.eigh(HB)\n",
    "U_AB = U_A @ V\n",
    "mp.nprint(U_AB)\n",
    "print()\n",
    "mp.nprint(U_AB.transpose_conj() @ mp.matrix(H(n=9)) @ U_AB, n=3)"
   ]
  },
  {
   "cell_type": "code",
   "execution_count": null,
   "id": "b282dec8-b24b-4f28-ae43-39b2d0a8f9bd",
   "metadata": {},
   "outputs": [],
   "source": []
  },
  {
   "cell_type": "code",
   "execution_count": null,
   "id": "fb86e94a-e431-4309-80c5-b15bd2860352",
   "metadata": {},
   "outputs": [],
   "source": []
  },
  {
   "cell_type": "code",
   "execution_count": null,
   "id": "3d7776b9-7482-4045-8c6c-315dfe219ea7",
   "metadata": {},
   "outputs": [],
   "source": []
  },
  {
   "cell_type": "code",
   "execution_count": null,
   "id": "09e885cb-5af5-4b36-9ccf-e895504b8aef",
   "metadata": {},
   "outputs": [],
   "source": []
  }
 ],
 "metadata": {
  "kernelspec": {
   "display_name": "Python 3 (ipykernel)",
   "language": "python",
   "name": "python3"
  },
  "language_info": {
   "codemirror_mode": {
    "name": "ipython",
    "version": 3
   },
   "file_extension": ".py",
   "mimetype": "text/x-python",
   "name": "python",
   "nbconvert_exporter": "python",
   "pygments_lexer": "ipython3",
   "version": "3.8.10"
  }
 },
 "nbformat": 4,
 "nbformat_minor": 5
}
