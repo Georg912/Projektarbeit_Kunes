{
 "cells": [
  {
   "cell_type": "code",
   "execution_count": 19,
   "id": "897e7ab3-c694-4944-b038-b7cb31a720b7",
   "metadata": {},
   "outputs": [],
   "source": [
    "import numpy as np\n",
    "\n",
    "from scipy.sparse import diags # Used for banded matrices"
   ]
  },
  {
   "cell_type": "code",
   "execution_count": 228,
   "id": "88a6a3f2-6f43-4927-9201-41c81027f91f",
   "metadata": {},
   "outputs": [
    {
     "data": {
      "text/plain": [
       "array([[ 1.        +0.j        ,  0.54030231+0.84147098j,\n",
       "        -0.41614684+0.90929743j, -0.9899925 +0.14112001j,\n",
       "        -0.65364362-0.7568025j ,  0.28366219-0.95892427j],\n",
       "       [ 0.54030231-0.84147098j,  1.        +0.j        ,\n",
       "         0.54030231+0.84147098j, -0.41614684+0.90929743j,\n",
       "        -0.9899925 +0.14112001j, -0.65364362-0.7568025j ],\n",
       "       [-0.41614684-0.90929743j,  0.54030231-0.84147098j,\n",
       "         1.        +0.j        ,  0.54030231+0.84147098j,\n",
       "        -0.41614684+0.90929743j, -0.9899925 +0.14112001j],\n",
       "       [-0.9899925 -0.14112001j, -0.41614684-0.90929743j,\n",
       "         0.54030231-0.84147098j,  1.        +0.j        ,\n",
       "         0.54030231+0.84147098j, -0.41614684+0.90929743j],\n",
       "       [-0.65364362+0.7568025j , -0.9899925 -0.14112001j,\n",
       "        -0.41614684-0.90929743j,  0.54030231-0.84147098j,\n",
       "         1.        +0.j        ,  0.54030231+0.84147098j],\n",
       "       [ 0.28366219+0.95892427j, -0.65364362+0.7568025j ,\n",
       "        -0.9899925 -0.14112001j, -0.41614684-0.90929743j,\n",
       "         0.54030231-0.84147098j,  1.        +0.j        ]])"
      ]
     },
     "execution_count": 228,
     "metadata": {},
     "output_type": "execute_result"
    }
   ],
   "source": [
    "np.exp(1j*(a[None, :] - a[:, None]))"
   ]
  },
  {
   "cell_type": "code",
   "execution_count": 238,
   "id": "650f77e8-24c7-4560-a6b5-cce5fece7dd1",
   "metadata": {},
   "outputs": [],
   "source": [
    "def Hopping_Matrix_with_Phase(n = 6, phase=None):\n",
    "    \"\"\"\n",
    "    TODO: write documentation\n",
    "    \"\"\"\n",
    "\n",
    "    ### Check if system is large enough, i.e. if n=>2\n",
    "    assert n >= 2, \"error n must be greater or equal to 2\"\n",
    "\n",
    "    diagonal_entries = [np.ones(n-1), np.ones(n-1)]\n",
    "    H = diags(diagonal_entries, [-1, 1]).toarray()\n",
    "\n",
    "    # take care of the values not on the lower and upper main diagonal\n",
    "    H[[0, n-1], [n-1, 0]] = 1\n",
    "    \n",
    "    if phase is not None:\n",
    "        H = H.astype(complex) #otherwise float conversion error\n",
    "        #Calculte H * exp(1*Theta_ij)\n",
    "        H *= np.exp(1j*(phase[None, :] - phase[:, None]))\n",
    "\n",
    "    return H"
   ]
  },
  {
   "cell_type": "code",
   "execution_count": 239,
   "id": "6cb39dd8-611e-43df-a6e9-fef308f8ac76",
   "metadata": {},
   "outputs": [
    {
     "data": {
      "text/plain": [
       "array([[0., 1., 0., 0., 0., 1.],\n",
       "       [1., 0., 1., 0., 0., 0.],\n",
       "       [0., 1., 0., 1., 0., 0.],\n",
       "       [0., 0., 1., 0., 1., 0.],\n",
       "       [0., 0., 0., 1., 0., 1.],\n",
       "       [1., 0., 0., 0., 1., 0.]])"
      ]
     },
     "execution_count": 239,
     "metadata": {},
     "output_type": "execute_result"
    }
   ],
   "source": [
    "np.round(Hopping_Matrix_with_Phase(), 0)"
   ]
  },
  {
   "cell_type": "code",
   "execution_count": 240,
   "id": "8e3f966e-051d-4ef5-9bd7-77cf85ac1bcf",
   "metadata": {},
   "outputs": [
    {
     "data": {
      "text/plain": [
       "array([[ 0.+0.j,  1.+1.j, -0.+0.j, -0.+0.j,  0.-0.j,  0.-1.j],\n",
       "       [ 1.-1.j,  0.+0.j,  1.+1.j, -0.+0.j, -0.+0.j,  0.-0.j],\n",
       "       [ 0.-0.j,  1.-1.j,  0.+0.j,  1.+1.j, -0.+0.j, -0.+0.j],\n",
       "       [ 0.-0.j,  0.-0.j,  1.-1.j,  0.+0.j,  1.+1.j, -0.+0.j],\n",
       "       [-0.+0.j,  0.-0.j,  0.-0.j,  1.-1.j,  0.+0.j,  1.+1.j],\n",
       "       [ 0.+1.j, -0.+0.j,  0.-0.j,  0.-0.j,  1.-1.j,  0.+0.j]])"
      ]
     },
     "execution_count": 240,
     "metadata": {},
     "output_type": "execute_result"
    }
   ],
   "source": [
    "np.round(Hopping_Matrix_with_Phase(phase=np.arange(6)), 0)"
   ]
  },
  {
   "cell_type": "code",
   "execution_count": 241,
   "id": "8c981ce6-c98f-4741-a838-269a6bf0064c",
   "metadata": {},
   "outputs": [
    {
     "data": {
      "text/plain": [
       "(array([-2., -1., -1.,  1.,  1.,  2.]),\n",
       " array([[-0.40824829+0.j        ,  0.28667137+0.j        ,\n",
       "         -0.50115154+0.j        ,  0.42829064+0.j        ,\n",
       "          0.38716981+0.j        ,  0.40824829+0.j        ],\n",
       "        [ 0.22057749-0.34352909j, -0.49716844+0.01017487j,\n",
       "         -0.104706  -0.27402554j,  0.43996521-0.09487709j,\n",
       "         -0.2541071 -0.25727779j,  0.22057749-0.34352909j],\n",
       "        [ 0.16989123+0.37121912j,  0.37935678-0.16318079j,\n",
       "          0.07860481-0.39574623j,  0.33610969-0.03203669j,\n",
       "         -0.19266696+0.42686848j, -0.16989123-0.37121912j],\n",
       "        [-0.40416274-0.057612j  , -0.2838025 -0.04045507j,\n",
       "          0.49613626+0.07072251j,  0.42400452+0.06044038j,\n",
       "          0.3832952 +0.05463741j, -0.40416274-0.057612j  ],\n",
       "        [ 0.26684889-0.30896332j,  0.49362891+0.06008737j,\n",
       "          0.06498767+0.28605934j,  0.44895131-0.03183971j,\n",
       "         -0.21525708-0.29056268j, -0.26684889+0.30896332j],\n",
       "        [ 0.1158046 +0.3914792j , -0.39858844+0.10801292j,\n",
       "         -0.13366588+0.38069309j,  0.33726709+0.01571572j,\n",
       "         -0.25097853+0.39540743j,  0.1158046 +0.3914792j ]]))"
      ]
     },
     "execution_count": 241,
     "metadata": {},
     "output_type": "execute_result"
    }
   ],
   "source": [
    "np.linalg.eigh(Hopping_Matrix_with_Phase(phase=np.arange(6)))"
   ]
  },
  {
   "cell_type": "code",
   "execution_count": null,
   "id": "608af368-c4df-4a75-993c-806af2137c04",
   "metadata": {},
   "outputs": [],
   "source": []
  }
 ],
 "metadata": {
  "kernelspec": {
   "display_name": "Python 3 (ipykernel)",
   "language": "python",
   "name": "python3"
  },
  "language_info": {
   "codemirror_mode": {
    "name": "ipython",
    "version": 3
   },
   "file_extension": ".py",
   "mimetype": "text/x-python",
   "name": "python",
   "nbconvert_exporter": "python",
   "pygments_lexer": "ipython3",
   "version": "3.8.10"
  }
 },
 "nbformat": 4,
 "nbformat_minor": 5
}
