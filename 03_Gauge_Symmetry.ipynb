{
 "cells": [
  {
   "cell_type": "markdown",
   "id": "264f5463",
   "metadata": {},
   "source": [
    "# Part 2 - Gauge Freedom and Symmetries"
   ]
  },
  {
   "cell_type": "code",
   "execution_count": 1,
   "id": "83ccd4e8",
   "metadata": {},
   "outputs": [],
   "source": [
    "#%matplotlib widget\n",
    "%matplotlib inline\n",
    "#TODO: `matplotlib widget` works, but size is too big. However, nice to interactively zoom in plot\n",
    "\n",
    "import numpy as np \n",
    "np.set_printoptions(linewidth=200) #set output length, default=75\n",
    "\n",
    "import matplotlib.pyplot as plt # Plotting\n",
    "plt.style.use('seaborn-dark')\n",
    "plt.rcParams.update({'font.size':14})\n",
    "\n",
    "import ipywidgets as widgets\n",
    "from ipywidgets import HBox, VBox, fixed\n",
    "\n",
    "import functools\n",
    "\n",
    "%load_ext autoreload\n",
    "%autoreload 2\n",
    "\n",
    "#todo: use fixed\n",
    "# adding `Modules/` to the system path\n",
    "import sys\n",
    "sys.path.insert(0, 'Modules/')"
   ]
  },
  {
   "cell_type": "markdown",
   "id": "8b4840a2",
   "metadata": {},
   "source": [
    "# Gauge Freedom\n",
    "<!---  Define a few convenience macros for bra-ket notation. -->\n",
    "$\\newcommand{\\ket}[1]{\\left\\vert{#1}\\right\\rangle}$\n",
    "$\\newcommand{\\bra}[1]{\\left\\langle{#1}\\right\\vert}$\n",
    "$\\newcommand{\\braket}[2]{\\left\\langle{#1}\\middle|{#2}\\right\\rangle}$\n",
    "$\\newcommand{\\dyad}[2]{\\left|{#1}\\middle\\rangle\\middle\\langle{#2}\\right|}$\n",
    "$\\newcommand{\\mela}[3]{\\left\\langle #1 \\vphantom{#2#3} \\right| #2 \\left| #3 \\vphantom{#1#2} \\right\\rangle}$\n",
    "$\\newcommand\\dif{\\mathop{}\\!\\mathrm{d}}$\n",
    "$\\newcommand\\ii{\\mathrm{i}}$\n",
    "$\\newcommand{\\coloneqq}{\\mathop{:=}\\mathop{}}$\n",
    "$\\renewcommand{\\vec}{\\mathbf}$\n",
    "$\\newcommand{\\e}{\\mathop{e}}$\n",
    "\n",
    "A wavefunction $\\ket{\\psi}$ is not observable and thus not necessarily unique. One can add an arbitrary phase to each orbital of our $n$-chain, which would change the wavefunction, but not the underlying physics, as probabilities of an outcome $O_i$ are calculated using the norm of the projection of the probed wavefunction onto the $i$-th eigenstate of the operator $|\\braket{\\phi_i}{\\psi}|^2$. The same holds for Operators, whose representation depends on the chosen picture. Observables however are unique and correspond to the eigenvalues of a hermitian operator $\\hat O $.\n",
    "\n",
    "In the following code the phase $\\exp(\\ii \\theta_{ij})$ accumulated for hopping from one orbital $i$ to another $j$ can be changed. Observe how on the one hand the matrix elements of the Hamiltonian $H_{ij}$ change, but on the other hand the eigenvalues (and thus the possible observables) stay the same. The values of $\\theta_{ij}$ are calculated using a `phase` vector as input\n",
    "\n",
    "$$\n",
    "    \\large \\theta_{ij} = \\mathrm{phase}[j] - \\mathrm{phase}[i] \\implies H_{ij}^\\mathrm{phase} = H_{ij} \\exp(\\ii \\theta_{ij}).\n",
    "$$\n",
    "\n",
    "This guarantees that no matter which path we take from any given initial position back to the same original position, we will always end up with a net phase of zero and thus preserve the structure of the Hamiltonian.\n",
    "\n",
    "The freedom to redefine the structure and fix redundant degrees of freedom in ones theory (in our case the change of a - not observable - phase for each orbital) without changing the underlying physics is commonly called **Gauge Freedom**. Another example from [classical electromagnetism](https://en.wikipedia.org/wiki/Gauge_theory#Classical_electromagnetism) would be the gauge freedom to add a gradient of a (twice continuously differentiable) scalar function $\\nabla f$ to the vector potential $\\vec A$, which does not change the observables, namely the electric- and magnetic fields $\\vec E$ and $\\vec B$, respectively."
   ]
  },
  {
   "cell_type": "markdown",
   "id": "c36890e1",
   "metadata": {},
   "source": [
    "As a simple example, take $n=4$ and `phase` $=$ [1,2,3,4]. We get\n",
    "$$\n",
    "    \\large \\theta_{ij} = \\begin{pmatrix}\n",
    "                                        0 & 1 & 0 & 3 \\\\\n",
    "                                        -1 & 0 & 1 & 0 \\\\\n",
    "                                        0 & -1 & 0 & 1 \\\\\n",
    "                                        -3 & 0 & -1 & 0\\\\\n",
    "                                   \\end{pmatrix}\n",
    "   \\implies\n",
    "   H_{ij}^\\mathrm{phase} = \\begin{pmatrix}\n",
    "                                        0 & \\e^{\\ii} & 0 & \\e^{3\\ii} \\\\\n",
    "                                        \\e^{-\\ii} & 0 & \\e^{\\ii} & 0 \\\\\n",
    "                                        0 & \\e^{-\\ii} & 0 & \\e^{\\ii} \\\\\n",
    "                                        \\e^{-3\\ii} & 0 & \\e^{-\\ii} & 0\\\\\n",
    "                                   \\end{pmatrix}\n",
    "$$\n",
    "\n",
    "which means every hopping to the left a phase $+\\ii$ is accumulated and at the end of the cycle a phase $-3\\ii$ to counteract is introduced."
   ]
  },
  {
   "cell_type": "code",
   "execution_count": 2,
   "id": "86c5a873",
   "metadata": {},
   "outputs": [],
   "source": [
    "from Module_Widgets_and_Sliders import phase_Text_Box, n_Slider, phase_Dropdown, precision_Slider\n",
    "from Module_Symmetry_and_Gauge import Hopping_Matrix_with_Phase, Show_Hamiltonian_Gaugefreedom"
   ]
  },
  {
   "cell_type": "code",
   "execution_count": 3,
   "id": "d50dbed9",
   "metadata": {},
   "outputs": [
    {
     "data": {
      "application/vnd.jupyter.widget-view+json": {
       "model_id": "01804a6433b44c7794d9d06513c5384c",
       "version_major": 2,
       "version_minor": 0
      },
      "text/plain": [
       "VBox(children=(Text(value='[0, 0, 0, 0, 0, 0]', continuous_update=False, description='User Phase Vector $\\\\the…"
      ]
     },
     "metadata": {},
     "output_type": "display_data"
    }
   ],
   "source": [
    "H_phase = widgets.interactive(Show_Hamiltonian_Gaugefreedom,\n",
    "            phase=phase_Dropdown,           \n",
    "            n=n_Slider,\n",
    "            precision=precision_Slider);\n",
    "\n",
    "\n",
    "display(VBox([phase_Text_Box, H_phase]))"
   ]
  },
  {
   "cell_type": "markdown",
   "id": "5e5940a7",
   "metadata": {},
   "source": [
    "# Magnetic Flux Hamiltonian $\\hat{M}$\n",
    "\n",
    "We can ask ourselves if we need the phase to cancel out, or if it is just enough to take a hermitian phase matrix that has entries with length one.\n",
    "Take for example a system were a magnetic flux is present, such that we have a preferential direction breaking isotropy. Hopping in one direction (e.g. to the left) adds a positive phase $\\exp(\\ii)$, while a phase $\\exp(-\\ii)$ is accumulated when hopping in the opposite direction. \n",
    "\n",
    "In $n=4$ the matrix representation of the Hamiltonian with magnetic flux $\\hat{M}$ might look something like:\n",
    "\n",
    "$$\n",
    "\\large M_{ij} = \\begin{pmatrix}\n",
    "                        0 & \\e^{\\ii} & 0 & \\e^{-\\ii} \\\\\n",
    "                        \\e^{-\\ii} & 0 & \\e^{\\ii} & 0 \\\\\n",
    "                        0 & \\e^{-\\ii} & 0 & \\e^{\\ii} \\\\\n",
    "                        \\e^{\\ii} & 0 & \\e^{-\\ii} & 0\\\\\n",
    "                   \\end{pmatrix}\n",
    "$$\n",
    "\n",
    "In a more general setup one might construct a phase vector $\\varphi$ similar to the one for $H$ where ${\\varphi}$ gives the phase accumulated when hopping from site $i$ to site $i+1$. However, this time the total phase does not have to cancel when wrapping once around the ring. The matrix representing this might look something like\n",
    "$$\n",
    "\\large \\begin{pmatrix}\n",
    "            0 & \\e^{\\ii \\varphi_1} & 0 & \\cdots &\\e^{-\\ii \\varphi_n} \\\\\n",
    "            \\e^{-\\ii \\varphi_1} & 0 & \\e^{\\ii \\varphi_2} &\\cdots & 0 &\\\\\n",
    "            0 & \\e^{-\\ii \\varphi_2} & 0 & \\ddots & 0 \\\\ \n",
    "            \\vdots & \\vdots & \\ddots & \\ddots & \\e^{\\ii \\varphi_{n-1}}\\\\\n",
    "            \\e^{\\ii \\varphi_n} & 0 & \\cdots & \\e^{-\\ii \\varphi_{n-1}} & 0\\\\\n",
    "       \\end{pmatrix},\n",
    "$$\n",
    "where the hermiticity constraint fixes the phase when hopping to the left.\n",
    "\n",
    "\n",
    "In the code below, one can compare the eigenvalues of $H_{ij}$ with the ones for $M_{ij}$. Also the phase $\\varphi$ can be changed.\n",
    "$M_{ij}$'s eigenvalues are non-degenerate and its eigenvalues only depend on the total phase around the ring. One can check this gauge symmetry by pressing the `permute` button which permutates the values of $\\varphi$ and observe, that this permutations does not change the total phase and thus the eigenvalues."
   ]
  },
  {
   "cell_type": "code",
   "execution_count": 6,
   "id": "d2569cf0",
   "metadata": {},
   "outputs": [],
   "source": [
    "from Module_Symmetry_and_Gauge import Magnetic_Flux_Matrix, Show_Magnetic_Flux\n",
    "from Module_Widgets_and_Sliders import phi_Dropdown, phi_Text_Box, button_permute, out"
   ]
  },
  {
   "cell_type": "code",
   "execution_count": 8,
   "id": "ed44d6f8",
   "metadata": {},
   "outputs": [
    {
     "data": {
      "application/vnd.jupyter.widget-view+json": {
       "model_id": "5a96b5bd99904b189e4b3ec1c8e39543",
       "version_major": 2,
       "version_minor": 0
      },
      "text/plain": [
       "Button(description='permute phase', layout=Layout(width='5cm'), style=ButtonStyle())"
      ]
     },
     "metadata": {},
     "output_type": "display_data"
    },
    {
     "data": {
      "application/vnd.jupyter.widget-view+json": {
       "model_id": "6ca1a46a222e4eb9b8a10420c4b7d05b",
       "version_major": 2,
       "version_minor": 0
      },
      "text/plain": [
       "Text(value='[-1.57, 1.57, 1.57]', continuous_update=False, description='User Phase Vector $\\\\varphi$:', layout…"
      ]
     },
     "metadata": {},
     "output_type": "display_data"
    },
    {
     "data": {
      "application/vnd.jupyter.widget-view+json": {
       "model_id": "972c76e9a0e64cb3916bc502265dab56",
       "version_major": 2,
       "version_minor": 0
      },
      "text/plain": [
       "interactive(children=(Dropdown(description='Choose Phase Vector $\\\\varphi$:', index=9, layout=Layout(width='15…"
      ]
     },
     "metadata": {},
     "output_type": "display_data"
    }
   ],
   "source": [
    "M_widget = widgets.interactive(Show_Magnetic_Flux,\n",
    "            phi=phi_Dropdown,\n",
    "            n=n_Slider,\n",
    "            precision=precision_Slider,\n",
    "            );\n",
    "\n",
    "\n",
    "display(button_permute, phi_Text_Box, M_widget)"
   ]
  },
  {
   "cell_type": "markdown",
   "id": "81ddae13",
   "metadata": {},
   "source": [
    "# 1. Symmetry\n",
    "\n",
    "Let us focus on one of the most important and fundamental concepts in the entire field of physics: **Symmetry**. Local and global symmetries are present in all modern theories of physics (QED, QCD, QFT, GR, the Standard Model, etc.) and lead to interesting concepts such as gauge freedom and conservation laws via Noether's theorem and are present in things as simple as coordinate transformations. \n",
    "\n",
    "But what is a symmetry of an object? Plainly speaking, if an object is invariant (i.e. stays the same) after applying some transformation, this action is called a symmetry operation. As a simple example consider as object a square. The transformation of rotating it by either $\\large 0, \\frac{pi}{2}, \\pi, \\frac{3\\pi}{2}$ or $2\\pi$, etc. is a symmetry operation."
   ]
  },
  {
   "cell_type": "markdown",
   "id": "20c3e524",
   "metadata": {},
   "source": [
    "## 1.1 Groups\n",
    "The underlying mathematical structure that deals (among other things) with all symmetry operations of an object is called the object's [symmetry group](https://en.wikipedia.org/wiki/Symmetry_group#One_dimension). Mathematically, a [group](https://en.wikipedia.org/wiki/Group_(mathematics)) is a set $G$ with a binary operation $\\circ$ such that:\n",
    "\n",
    "1. Closure: Every combination of elements from $G$ is again contained in $G$\n",
    "\n",
    "    $$ \\large a \\circ b \\in G \\quad \\forall a, b \\in G.$$\n",
    "    \n",
    "2. Associativity:\n",
    "\n",
    "    $$ \\large (a \\circ b) \\circ c = a \\circ (b \\circ c) \\quad \\forall a, b, c \\in G.$$\n",
    "    \n",
    "3. Identity: There exists a neutral element $e \\in G$, such that\n",
    "\n",
    "    $$ \\large e \\circ a = a = a \\circ e \\quad \\forall a \\in G.$$\n",
    "    \n",
    "4. Inverse: For each element $a \\in G$ there exists an (unique) inverse element, denoted $a^{-1} \\in G$, such that\n",
    "\n",
    "    $$ \\large a \\circ a^{-1} = e = a^{-1} \\circ a \\quad \\forall a \\in G.$$"
   ]
  },
  {
   "cell_type": "markdown",
   "id": "05747948",
   "metadata": {},
   "source": [
    "# 2. Symmetry in QM\n",
    "## 2.1 Invariance of $H$\n",
    "Now that we know the precise definition of a group, we can specify symmetry in QM. First, note that a symmetry operation must leave the norm of a wave vector invariant. Thus leaving us with unitary operators ($\\hat{O} \\hat{O}^\\dagger = \\mathbb{1}$). A unitary operator $\\hat{O}$ encapsulating a symmetry with the Hamiltonian $\\hat{H}$ is defined by vanishing commutator, i.e.\n",
    "\n",
    "$$ \\large [\\hat{H}, \\hat{O}] = 0,$$\n",
    "    \n",
    "where $[\\hat{A}, \\hat{B}] \\coloneqq \\hat{A} \\hat{B} - \\hat{B} \\hat{A}$ denotes the commutator of two operators. The reason for symmetry being connected with vanishing commutator becomes apparent by considering the inverse of a unitary operator is just its conjugate transpose, i.e. $\\hat{O}^{-1} = \\hat{O}^\\dagger$ and thus\n",
    "\n",
    "$$\n",
    "    \\large [\\hat{O},\\hat{H}] = 0 \\implies \\hat{O}\\hat{H} = \\hat{H}\\hat{O}. \n",
    "$$\n",
    "\n",
    "Multiplying with the inverse of $\\hat{O}$ from the right thus gives\n",
    "\n",
    "$$\n",
    "    \\large \\hat{O}\\hat{H}\\hat{O}^{-1} = \\hat{O}\\hat{H}\\hat{O}^\\dagger = \\hat{H}O\\hat{O}^{-1} = \\hat{H}.\n",
    "$$\n",
    "\n",
    "which implies that $\\hat{H}$ is invariant under the linear transformation $\\hat{O}\\hat{H}\\hat{O}^\\dagger$ induced by $\\hat{O}$."
   ]
  },
  {
   "cell_type": "markdown",
   "id": "0c14e0d3",
   "metadata": {},
   "source": [
    "## 2.2 Common eigen basis\n",
    "Another very important property of commuting operators is, that they have a common eigen basis, meaning that every eigenvector of the one operator is also an eigenvector of the other operator. The proof is straight forward and we will perform it for the Hamilton operator:\n",
    "\n",
    "Assume $\\{E_n\\}$ and $\\{\\ket{\\psi_n}\\}$ are the sets of eigenvalues and corresponding eigenvectors of the Hamiltonian, respectively. Thus\n",
    "\n",
    "$$ \\large \\hat{H} \\ket{\\psi_n} = E_n \\ket{\\psi_n},$$\n",
    "    \n",
    "holds. Acting with an operator $\\hat{T}$ that commutes with $\\hat{H}$, $[\\hat{H}, \\hat{T}] = 0$ on the eigenvalue equation gives\n",
    "\n",
    "$$  \\large \\hat{H} (\\hat{T}\\ket{\\psi_n})  = \\hat{T} (\\hat{H} \\ket{\\psi_n}) = \\hat{T} (E_n \\ket{\\psi_n}=  E_n (\\hat{T} \\ket{\\psi_n}), $$\n",
    "\n",
    "implying that the vector $\\hat{T}\\ket{\\psi_n}$ is also an eigenvector of the Hamiltonian. Assuming non-degenerate eigenvalues because $\\hat{T}\\ket{\\psi_n}$ and $\\ket{\\psi_n}$ are both eigen vectors of $\\hat{H}$, they can differ only by a multiplicative constant $t_n$. This implies\n",
    "\n",
    "$$ \\large \\hat{T}\\ket{\\psi_n} = t_n \\ket{\\psi_n}, $$\n",
    "\n",
    "proving that $\\hat{T}$ and $\\hat{H}$ share a common set of eigenvectors.\n",
    "\n",
    "Note: This also holds for degenerate eigenvalues, but the proof is a bit more subtle.\n",
    "\n",
    "**The gist of all this is that we can apply a symmetry operation to our eigenvectors and are guaranteed to get back an eigenvector of $H$ (or at least a linear combination of eigenvectors if degenerate eigenvalues are present)**"
   ]
  },
  {
   "cell_type": "markdown",
   "id": "0a9e0b86",
   "metadata": {
    "tags": []
   },
   "source": [
    "# 3. Cyclic group $C_n$ / Abelian group of translations\n",
    "\n",
    "The $n$-chain model consists of a special type of symmetry group, the [cyclic group $C_n$](https://en.wikipedia.org/wiki/Cyclic_group) which can be represented by $n$ rotations around the origin with angle $\\frac{2 \\pi m}{n}$ where $m \\in \\{0, 1, \\ldots n-1\\}$. This group has another special property in addition to the four group axioms, all group operations are commutative\n",
    "    $$ \\large a \\circ b = b \\circ a \\quad \\forall a, b \\in C_n .$$\n",
    "    \n",
    "Groups with this property are called Abelian groups. Intuitively rotations emit this property as no matter the order you perform two consecutive rotations, the result can be expressed by a rotation with the sum of both rotation angles.\n",
    "\n",
    "Additionally, one can construct all matrix representations of the elements of the group $C_n$ by repeatedly applying a single rotation to the right $T$, which results in all the elements $\\{\\mathbb{1}_n, T, T^2, \\ldots, T^{n-1}\\}$. The matrix $T_{ij} \\in \\mathbb{R}^{n \\times n}$ is defined by\n",
    "\n",
    "$$ \\large T_{ij} = \\begin{pmatrix}\n",
    "            0 & 1 & 0 & 0 & 0 & \\cdots \\\\\n",
    "            0 & 0 & 1 & 0 & 0 & \\cdots \\\\\n",
    "            \\vdots & \\vdots & \\ddots & \\ddots & \\ddots & \\vdots \\\\\n",
    "            1 & 0 & 0 & 0 & 1 & 0\n",
    "        \\end{pmatrix}\n",
    "$$"
   ]
  },
  {
   "cell_type": "markdown",
   "id": "c7c486af",
   "metadata": {},
   "source": [
    "In the code below one can look at the different matrices representing rotations from one position to another. Note that the identity element is always the $n$-dimensional identity matrix."
   ]
  },
  {
   "cell_type": "code",
   "execution_count": null,
   "id": "3886008f",
   "metadata": {},
   "outputs": [],
   "source": [
    "from Module_Widgets_and_Sliders import turns_Slider\n",
    "from Module_Symmetry_and_Gauge import Translation_Group, Right_Translation_Matrix"
   ]
  },
  {
   "cell_type": "code",
   "execution_count": null,
   "id": "2f867294",
   "metadata": {},
   "outputs": [],
   "source": [
    "translation_widget = widgets.interactive(Right_Translation_Matrix,\n",
    "                                        n=n_Slider,\n",
    "                                        turns=turns_Slider,\n",
    "                                        show=widgets.fixed(True));\n",
    "\n",
    "display(translation_widget)"
   ]
  },
  {
   "cell_type": "markdown",
   "id": "2d051a69",
   "metadata": {},
   "source": [
    "Note how a left translation $T_\\mathrm{l}$ (with negative number of rotations) is equivalent to a right translations with $T_\\mathrm{r} = T_\\mathrm{l} \\operatorname{mod} n$, e. g. for $n=6$, two turns to the left, $T_\\mathrm{l} = -2 \\iff T_\\mathrm{r} = 4$ is equal to four right turns.\n",
    "\n",
    "Now let's look at the (Abelian) cyclic group $C_n$ with all its elements"
   ]
  },
  {
   "cell_type": "code",
   "execution_count": null,
   "id": "2ff54e4a",
   "metadata": {},
   "outputs": [],
   "source": [
    "translation_group_widget = widgets.interactive(Translation_Group,\n",
    "                                        n=n_Slider,\n",
    "                                        show=widgets.fixed(True));\n",
    "\n",
    "display(translation_group_widget)"
   ]
  },
  {
   "cell_type": "markdown",
   "id": "a8988b62",
   "metadata": {},
   "source": [
    "Finally we can check that our Hamiltonian $\\hat{H}$ commutes with a right Translation $\\hat{T}$. Interestingly, also the Hamiltonian with magnetic flux, $\\hat{M}$ commutes with $\\hat{T}$. But the Hamiltonian does not commute anymore, if we add an arbitrary `phase` vector."
   ]
  },
  {
   "cell_type": "code",
   "execution_count": null,
   "id": "545f5573",
   "metadata": {},
   "outputs": [],
   "source": [
    "from Module_Symmetry_and_Gauge import Commutator, Show_Commutator"
   ]
  },
  {
   "cell_type": "code",
   "execution_count": null,
   "id": "28a87060",
   "metadata": {},
   "outputs": [],
   "source": [
    "H = Hopping_Matrix_with_Phase\n",
    "T = Right_Translation_Matrix\n",
    "M = Magnetic_Flux_Matrix\n",
    "\n",
    "comm_HT_widget = widgets.interactive(Show_Commutator,\n",
    "                            A=widgets.fixed(H),\n",
    "                            B=widgets.fixed(T),\n",
    "                            phase=phase_Dropdown,\n",
    "                            n=n_Slider,\n",
    "                            precision=precision_Slider,\n",
    "                            turns=turns_Slider,\n",
    "                        );\n",
    "\n",
    "comm_TM_widget = widgets.interactive(Show_Commutator,\n",
    "                            A=widgets.fixed(M),\n",
    "                            B=widgets.fixed(T),\n",
    "                            n=n_Slider,\n",
    "                            precision=precision_Slider,\n",
    "                            turns=turns_Slider,\n",
    "                        );\n",
    "\n",
    "display(HBox([VBox([phase_Text_Box, comm_HT_widget]),\n",
    "             VBox([widgets.Text(\"Not supported\"), widgets.Text(\"not supported\"), comm_TM_widget])]))"
   ]
  },
  {
   "cell_type": "markdown",
   "id": "dbd44b69",
   "metadata": {
    "tags": []
   },
   "source": [
    "# 4. Reflection Symmetry\n",
    "\n",
    "Another important symmetry of our $n$-chain is **reflection** symmetry.\n",
    "\n",
    "A regular $n$-gon has $n$ axis of symmetry, which\n",
    "* are the $n$ lines connecting the midpoints of an edge with its opposite vertex, iff $n$ is odd,\n",
    "* or are $n/2$ lines connecting two opposite vertices and another $n/2$ lines connecting the midpoints of opposite edges (also known as perpendicular bisectors), iff $n$ is even\n",
    "\n",
    "To be able to distinguish different vertices and edges we use the following notation:\n",
    "1. We view each $n$-chain (no matter the parity) hanging as if one vertex was attached to a string and being pulled down by gravity. This anchor vertex is assigned the number 1 \n",
    "2. Every other vertex is numbered upwards going clockwise.\n",
    "3. Each edge is also numbered from 1 to $n$ clockwise starting from the edge e1 on the right of vertex 1.\n",
    "\n",
    "For example, take this pentagon with an axis of reflection going through vertex 1 and the midpoint of edge e3 (Fig 2). Or a hexagon with the axis going through the midpoints of edge e1 and e4 (Fig 3).\n",
    "\n",
    "<table><tr>\n",
    "<td> \n",
    "  <p align=\"center\">\n",
    "    <img src=\"Images_For_Notebooks/pentagon_symmetry_line.png\" width=250 />\n",
    "    <figcaption> Fig 2: Pentagon with vertical reflection axis</figcaption>\n",
    "  </p> \n",
    "</td>\n",
    "<td> \n",
    "  <p align=\"center\">\n",
    "    <img src=\"Images_For_Notebooks/hexagon_symmetry_line.png\" width=260 />\n",
    "    <figcaption> Fig 3: Hexagon with diagonal reflection axis</figcaption>\n",
    "  </p> \n",
    "</td>\n",
    "</tr></table>\n",
    "\n",
    "The reflection matrices for both cases would look like:\n",
    "\n",
    "$$ \\large R_\\mathrm{pentagon} = \\begin{pmatrix}\n",
    "            1 & 0 & 0 & 0 & 0 \\\\\n",
    "            0 & 0 & 0 & 0 & 1 \\\\\n",
    "            0 & 0 & 0 & 1 & 0 \\\\\n",
    "            0 & 0 & 1 & 0 & 0 \\\\\n",
    "            0 & 1 & 0 & 0 & 0\n",
    "        \\end{pmatrix},  \n",
    "        \\quad%\n",
    "        R_\\mathrm{hexagon} = \\begin{pmatrix}\n",
    "            0 & 1 & 0 & 0 & 0 & 0 \\\\\n",
    "            1 & 0 & 0 & 0 & 0 & 0\\\\\n",
    "            0 & 0 & 0 & 0 & 0 & 1 \\\\\n",
    "            0 & 0 & 0 & 0 & 1 & 0 \\\\\n",
    "            0 & 0 & 0 & 1 & 0 & 0 \\\\\n",
    "            0 & 0 & 1 & 0 & 0 & 0\n",
    "        \\end{pmatrix}\n",
    "$$\n",
    "\n",
    "In the code below one can look at different reflection matrices, where the axis of reflection can be chosen via the `axis` parameter, which starts from 1 representing a reflection along the vertical line going through vertex 1. Incrementing `axis` turns the axis of rotation clockwise to the right onto the next symmetry line."
   ]
  },
  {
   "cell_type": "code",
   "execution_count": null,
   "id": "2e09825a",
   "metadata": {},
   "outputs": [],
   "source": [
    "from Module_Symmetry_and_Gauge import Reflection_Matrix, All_Reflections\n",
    "from Module_Widgets_and_Sliders import axis_Slider\n",
    "\n",
    "reflection_widget = widgets.interactive(Reflection_Matrix,\n",
    "                                        n=n_Slider,\n",
    "                                        axis=axis_Slider,\n",
    "                                        show=widgets.fixed(True));\n",
    "\n",
    "display(reflection_widget)"
   ]
  },
  {
   "cell_type": "markdown",
   "id": "4ab3e35e",
   "metadata": {},
   "source": [
    "Now we can check if reflections commute with $\\hat{H}$ or the magnetic flux Hamiltonian $\\hat{M}$. Turns out, reflections do not commute with $\\hat{M}$, because hopping to the right adds a positive phase while hopping to the left a negative phase. Reflections break the symmetry in the sign of the phase.\n",
    "\n",
    "Numeric complex numbers are hard to read, but in exponential terms, the only non vanishing entries in the commutator $[R, M]$ are therefore proportional to $$ -\\exp(-\\ii) + \\exp(\\ii) \\approx 1.68 \\ii,$$ which is precisely the difference in phase when hopping left or right."
   ]
  },
  {
   "cell_type": "code",
   "execution_count": null,
   "id": "b8919e90",
   "metadata": {},
   "outputs": [],
   "source": [
    "R = Reflection_Matrix\n",
    "comm_RH_widget = widgets.interactive(Show_Commutator,\n",
    "                            A=widgets.fixed(H),\n",
    "                            B=widgets.fixed(R),\n",
    "                            phase=phase_Dropdown,\n",
    "                            n=n_Slider,\n",
    "                            precision=precision_Slider,\n",
    "                            axis=axis_Slider,\n",
    "                        );\n",
    "\n",
    "comm_RM_widget = widgets.interactive(Show_Commutator,\n",
    "                            A=widgets.fixed(M),\n",
    "                            B=widgets.fixed(R),\n",
    "                            n=n_Slider,\n",
    "                            precision=precision_Slider,\n",
    "                            axis=axis_Slider,\n",
    "                        );\n",
    "\n",
    "display(HBox([VBox([phase_Text_Box, comm_RH_widget]),\n",
    "             VBox([widgets.Text(\"Not supported\"), widgets.Text(\"not supported\"),comm_RM_widget])]))"
   ]
  },
  {
   "cell_type": "markdown",
   "id": "0ab3852c",
   "metadata": {},
   "source": [
    "## Properties of Reflection Matrices\n",
    "\n",
    "* Reflection matrices $R$ are examples of [involutory matrices](https://en.wikipedia.org/wiki/Involutory_matrix) meaning they are their own inverse, i.e. $RR = \\mathbb{1}$.\n",
    "* They are also symmetric, which implies they are unitary (to be specific: orthogonal, because they are real) matrices.\n",
    "* Hence, the eigenvalues of reflection matrices are $\\pm 1$.\n",
    "* Reflection matrices are generally **not commutative** for $n \\geq 3$. Moreover the action of two reflections results in a rotation!"
   ]
  },
  {
   "cell_type": "markdown",
   "id": "ba5b0f38",
   "metadata": {},
   "source": [
    "The code below calculates the commutator of two reflection matrices as well as the resulting linear operator when applying two reflections. Compare the resulting matrix with the rotation matrices from above."
   ]
  },
  {
   "cell_type": "code",
   "execution_count": null,
   "id": "9a19dbcc",
   "metadata": {},
   "outputs": [],
   "source": [
    "from Module_Symmetry_and_Gauge import Show_Commutator_Rotations, Show_R1_R2\n",
    "from Module_Widgets_and_Sliders import axis2_Slider\n",
    "\n",
    "comm_RR_widget = widgets.interactive(Show_Commutator_Rotations,\n",
    "                            A=fixed(R),\n",
    "                            B=fixed(R),\n",
    "                            axis1=axis_Slider,\n",
    "                            axis2=axis2_Slider,\n",
    "                            n=n_Slider,\n",
    "                        );\n",
    "\n",
    "R1R2_widget = widgets.interactive(Show_R1_R2,\n",
    "                                  R1=fixed(R),\n",
    "                                  R2=fixed(R),\n",
    "                                  n=n_Slider,\n",
    "                                  axis1=axis_Slider,\n",
    "                                  axis2=axis2_Slider,\n",
    "                                 );\n",
    "\n",
    "display(HBox([VBox([comm_RR_widget]),\n",
    "              VBox([R1R2_widget])]))"
   ]
  },
  {
   "cell_type": "markdown",
   "id": "0fe249d3",
   "metadata": {},
   "source": [
    "# The Dihedral group $D_n$\n",
    "\n",
    "An attentive reader will have already figured out, reflections alone are not a closed set under matrix multiplication $ \\implies$ they do not form a group (for $ n \\geq 3 $). Nevertheless, if one includes the set of rotations we end up with a  valid group. The group of rotations and reflections of regular $n$-gons, which is called the [Dihedral group $D_n$](https://en.wikipedia.org/wiki/Dihedral_group#Definition). The Cyclic group $C_n$ is a proper Subgroup of $D_n$, that is $C_n \\subset D_n$. This group is non-Abelian as we saw that reflections (generally) do not commute and yield rotations. Furthermore reflections and rotations also do not commute and give reflections again.\n",
    "\n",
    "In the code below you can play around with different rotations and reflections, look at the commutator and what kind of transformation originates from a combination of both."
   ]
  },
  {
   "cell_type": "code",
   "execution_count": null,
   "id": "8541dff1",
   "metadata": {},
   "outputs": [],
   "source": [
    "from Module_Symmetry_and_Gauge import Show_A_B"
   ]
  },
  {
   "cell_type": "code",
   "execution_count": null,
   "id": "d73eb2d8",
   "metadata": {},
   "outputs": [],
   "source": [
    "comm_RT_widget = widgets.interactive(Show_Commutator,\n",
    "                            A=fixed(R),\n",
    "                            B=fixed(T),\n",
    "                            n=n_Slider,\n",
    "                            axis=axis_Slider,\n",
    "                            turns=turns_Slider,\n",
    "                            show_eigvals=fixed(False)\n",
    "                        );\n",
    "\n",
    "RT_widget = widgets.interactive(Show_A_B,\n",
    "                                  A = fixed(R),\n",
    "                                  B = fixed(T),\n",
    "                                  n=n_Slider,\n",
    "                                  axis=axis_Slider,\n",
    "                                  turns=turns_Slider,\n",
    "                                 );\n",
    "\n",
    "display(HBox([VBox([comm_RT_widget]),\n",
    "              VBox([RT_widget])]))"
   ]
  },
  {
   "cell_type": "markdown",
   "id": "7aa234ba",
   "metadata": {},
   "source": [
    "# Simultaneous Diagonalization\n",
    "\n",
    "We explored different symmetry groups, constructed one (of many) possible matrix representations of these groups and calculated some commutators. We want to now use the property that commuting operators share a common eigen basis to diagonalize the Hamiltonian with the eigenvectors of these symmetry matrices. This is possible, because all these symmetry operators are unitary (to preserve the norm of a wavefunction) and their eigenvectors are thus guaranteed to be orthonormal and constitute a complete basis.\n",
    "\n",
    "Let us consider the case of commuting operators $\\hat{A}$ and $\\hat{B}$, $[\\hat{A},\\hat{B}]=0$, where both $\\hat{A}$ and $\\hat{B}$ are normal $\\hat{A} \\hat{A}^\\dagger = \\hat{A}^\\dagger \\hat{A}$ and $\\hat{B} \\hat{B}^\\dagger = \\hat{B}^\\dagger \\hat{B}$, i.e. they commute with their conjugate transpose. These include special cases like hermitian and unitary matrices. From this we know, that they have to be diagonalizable by a unitary transformation and also, via vanishing commutator, that they share a common eigen basis which simultaneously diagonalizes both.\n",
    "\n",
    "## Unique Eigenvalues\n",
    "\n",
    "Let us first assume that all the eigenvalues of $\\hat{A}$ are unique, i.e. do no repeat, then each eigenvector spans a (linearly independent) one dimensional subspace of our vector space. In particular, we have shown that each eigenvector of $\\hat{A}$ is also an eigenvector of $\\hat{B}$ (up to some scaling factor). This implies, that the unitary transformation matrix $U$ consisting of the normalized eigenvectors of $\\hat{A}$ diagonalizes both $\\hat{A}$ and $\\hat{B}$. To be precise, let\n",
    "\n",
    "$$ \n",
    "\\large \\begin{align}\n",
    "    \\hat{A} \\ket{\\phi_i} &= \\lambda_i \\ket{\\phi_i} \\\\\n",
    "    \\hat{B} \\ket{\\phi_i} &= \\mu_i \\ket{\\phi_i},\n",
    "\\end{align}\n",
    "$$\n",
    "\n",
    "be the $i$th eigenvector of $\\hat{A}$ (and by the uniqueness and commutation assumption also of $\\hat{B}$) and $\\lambda_i$, $\\mu_i$ the $i$th eigenvalue corresponding to $\\ket{\\phi_i}$ of $\\hat{A}$ and $\\hat{B}$, respectively. Then we can compute the diagonal matrices $D_A, D_B$ containing $\\hat{A}$'s and $\\hat{B}$'s eigenvalue via\n",
    "\n",
    "$$ \\large\n",
    "\\begin{align}\n",
    "    \\hat{U}^\\dagger \\hat{A} \\hat{U} &= D_A = \\begin{pmatrix}\n",
    "                                \\lambda_1 & & & \\\\\n",
    "                                & \\lambda_2 & & \\\\\n",
    "                                & & \\ddots & \\\\\n",
    "                                & & & \\lambda_n\n",
    "                            \\end{pmatrix} \\\\\n",
    "    %%%%%%%%%%\n",
    "    \\hat{U}^\\dagger \\hat{B} \\hat{U} &= D_B = \\begin{pmatrix}\n",
    "                                \\mu_1 & & & \\\\\n",
    "                                & \\mu_2 & & \\\\\n",
    "                                & & \\ddots & \\\\\n",
    "                                & & & \\mu_n\n",
    "                            \\end{pmatrix}\n",
    "\\end{align}\n",
    "$$"
   ]
  },
  {
   "cell_type": "markdown",
   "id": "c68b20f3",
   "metadata": {},
   "source": [
    "Observe in the code below, that the single right rotation matrix has unique eigenvalues. From above we know that it also commutes with $\\hat{H}$ as well as $\\hat{M}$ and is thus able to diagonalize both of them. "
   ]
  },
  {
   "cell_type": "code",
   "execution_count": null,
   "id": "a93b3b1d",
   "metadata": {},
   "outputs": [],
   "source": [
    "from Module_Symmetry_and_Gauge import Print_Eigenvalues_And_Eigenvectors \n",
    "    \n",
    "eigenvalues_T_widget = widgets.interactive(Print_Eigenvalues_And_Eigenvectors,\n",
    "                                        A=fixed(Right_Translation_Matrix),\n",
    "                                        n=n_Slider,\n",
    "                                        precision=precision_Slider);\n",
    "\n",
    "display(eigenvalues_T_widget)"
   ]
  },
  {
   "cell_type": "markdown",
   "id": "38328b5c",
   "metadata": {},
   "source": [
    "Now let us diagonalize $\\hat{H}$ and $\\hat{M}$ with $T$'s eigen basis"
   ]
  },
  {
   "cell_type": "code",
   "execution_count": null,
   "id": "c5e5ac3d",
   "metadata": {},
   "outputs": [],
   "source": [
    "#TODO sort eigenvalues, make function pretty, possibly add phase?\n",
    "from Module_Widgets_and_Sliders import Hamilton_Dropdown\n",
    "from Module_Symmetry_and_Gauge import Diagonalize_A_With_B\n",
    "\n",
    "\n",
    "eigenvalues_T_widget.close()   \n",
    "diagonal_T_widget = widgets.interactive(Diagonalize_A_With_B,\n",
    "                                A=Hamilton_Dropdown,\n",
    "                                B=fixed(T),\n",
    "                                n=n_Slider,\n",
    "                                precision=precision_Slider);\n",
    "\n",
    "display(diagonal_T_widget)"
   ]
  },
  {
   "cell_type": "markdown",
   "id": "530c3a43",
   "metadata": {},
   "source": [
    "## Degenerate Eigen values / Block Structure\n",
    "\n",
    "Up until now we always worked with unique eigenvalues. If however we have at least one degeneracy in the eigenvalues of $\\hat{A}$, i.e. different eigenvectors to the same eigenvalue, $\\hat{A}$'s eigenvectors do not automatically diagonalize $\\hat{B}$. Instead, Linear algebra dictates that eigenvectors with degenerate eigenvalues form invariant subspaces with dimensions according to the multiplicity of each eigenvalue. This means that the linear map $U$ consisting of the normalized eigenvectors of $A$ (ordered with respect to their eigenvalue) transforms $B$ into a [block matrix](https://en.wikipedia.org/wiki/Block_matrix) structure.\n",
    "\n",
    "Take for example the reflection matrix $R$ along axis 1, which has degenerate eigenvalues. E.g for $n=6$, $\\lambda_1 = 1$ is four-fold degenerate, while $\\lambda_2 = -1$ is two-fold degenerate."
   ]
  },
  {
   "cell_type": "code",
   "execution_count": null,
   "id": "a11dc0c8",
   "metadata": {},
   "outputs": [],
   "source": [
    "eigenvalues_R_widget = widgets.interactive(Print_Eigenvalues_And_Eigenvectors,\n",
    "                                        A=fixed(R),\n",
    "                                        n=n_Slider,\n",
    "                                        precision=precision_Slider);\n",
    "\n",
    "display(eigenvalues_R_widget)"
   ]
  },
  {
   "cell_type": "markdown",
   "id": "294b4693",
   "metadata": {},
   "source": [
    "Again, we try to diagonalize $\\hat{H}$ and $\\hat{M}$ with the eigenvectors of $\\hat{R}$. Note the (2,4)-block structure of $H_{ij}$ for $n=6$ and how $\\hat{M}$ cannot be simplified by $\\hat{R}$ as they do not commute, $[\\hat{R}, \\hat{M}]\\neq 0$."
   ]
  },
  {
   "cell_type": "code",
   "execution_count": null,
   "id": "2adf53d8",
   "metadata": {},
   "outputs": [],
   "source": [
    "diagonal_R1_widget = widgets.interactive(Diagonalize_A_With_B,\n",
    "                                A=Hamilton_Dropdown,\n",
    "                                B=fixed(R),\n",
    "                                n=n_Slider,\n",
    "                                axis=axis_Slider,\n",
    "                                precision=precision_Slider);\n",
    "\n",
    "display(diagonal_R1_widget)"
   ]
  },
  {
   "cell_type": "markdown",
   "id": "1f7f6a9c",
   "metadata": {},
   "source": [
    "## Common Eigenbasis for degenerate Eigenvalues"
   ]
  },
  {
   "cell_type": "markdown",
   "id": "86f4ada3",
   "metadata": {},
   "source": [
    "Fortunately not all hope is lost, as one can prove that commuting operators share a common eigen basis for degenerate eigenvalues too. Assume again $\\hat{A}$ and $\\hat{B}$ commute, are both normal matrices and both matrices have degenerate eigenvalues. The idea is the following:\n",
    "1. Transform $B$ into a block structure $B_\\mathrm{Block}$ using $A$'s eigen basis, denoted by $U_A$\n",
    "    $$\n",
    "        B_\\mathrm{Block} = U_A^\\dagger B U_A\n",
    "    $$\n",
    "    \n",
    "2. Compute the eigen basis of $B_\\mathrm{Block}$, denoted $U_\\mathrm{Block}$. Because of $B_\\mathrm{Block} $'s block-diagonal structure we can efficiently perform this calculation, as we can  consider each invariant subspace spanned by each eigenvalue separately and eventually pad with zeros to get back to the original dimension.\n",
    "\n",
    "3. $U_\\mathrm{Block}'$'s entries are precisely the coefficients to construct a new eigen basis as linear combination of $U_A$'s eigenvalues. This new basis $U_{AB}$ diagonalizes $A$ and $B$ simultaneously."
   ]
  },
  {
   "cell_type": "markdown",
   "id": "453029ae-dcfb-4dab-899d-ab736052a56e",
   "metadata": {},
   "source": [
    "Assume $n=5$ and take for example the reflection matrix along axis 1,\n",
    "\n",
    "$$ \\large\n",
    "    R_1 = \\begin{pmatrix}\n",
    "            1    &0   &0    &0   &0 \\\\\n",
    "            0    &0   &0    &0   &1 \\\\\n",
    "            0    &0   &0    &1   &0 \\\\\n",
    "            0    &0   &1    &0   &0 \\\\\n",
    "            0    &1   &0    &0   &0 \\\\\n",
    "        \\end{pmatrix},\n",
    "$$\n",
    "\n",
    "with eigenvalues and (non-normalized) eigenvectors\n",
    "$$ \\large\n",
    "\\begin{align}\n",
    "    \\lambda_{1,2} = -1 &\\qquad u_1 = \\begin{pmatrix} 0 \\\\ 1 \\\\ 0 \\\\ 0 \\\\ -1 \\end{pmatrix},\\, u_2 = \\begin{pmatrix} 0 \\\\ 0 \\\\ -1 \\\\ 1 \\\\ 0 \\end{pmatrix}, \\\\\n",
    "    \\lambda_{3,4,5} = 1 &\\qquad u_3 = \\begin{pmatrix} 0 \\\\ 1 \\\\ 0 \\\\ 0 \\\\ 1 \\end{pmatrix},\\, u_4 = \\begin{pmatrix} 0 \\\\ 0 \\\\ 1 \\\\ 1 \\\\ 0 \\end{pmatrix},\\, u_5 = \\begin{pmatrix} 1 \\\\ 0 \\\\ 0 \\\\ 0 \\\\ 0 \\end{pmatrix}.\n",
    "\\end{align}\n",
    "$$\n",
    "\n",
    "The matrix\n",
    "$$ \\large\n",
    "    U_{R_1} = (u_1, u_2, u_3, u_4, u_5) = \\begin{pmatrix}\n",
    "                                                 0 &  0&  0&  0  & 1 \\\\\n",
    "                                                 1 & 0 & 1 &0  & 0 \\\\\n",
    "                                                 0 & -1& 0 & 1 & 0 \\\\\n",
    "                                                 0 &  1& 0 & 1 & 0 \\\\\n",
    "                                                -1 & 0 & 1 &0  & 0 \n",
    "                                            \\end{pmatrix}\n",
    "$$\n",
    "\n",
    "block diagonalizes $H$ into\n",
    "\n",
    "$$ \\large \n",
    "    H_\\mathrm{Block} = U_{R_1}^\\dagger H U_{R_1} = \\begin{pmatrix}\n",
    "                                                     0 &  -2&  0&  0  & 0 \\\\\n",
    "                                                     -2 & -2 & 0 &0  & 0 \\\\\n",
    "                                                     0 & 0& 0 & 2 & 2 \\\\\n",
    "                                                     0 &  0& 2 & 2 & 0 \\\\\n",
    "                                                    0 & 0 & 2 &0  & 0 \n",
    "                                                \\end{pmatrix}.\n",
    "$$\n",
    "\n",
    "Finally, we only have to calculate the eigen basis of a 2x2 and a 3x3 block, instead of the complete 5x5 matrix $H_\\mathrm{Block}$, which results in the (padded) eigenvectors of the 2x2 block\n",
    "\n",
    "$$\n",
    "    \\begin{pmatrix} \\Phi \\\\ -1 \\end{pmatrix} \\implies v_1 = \\begin{pmatrix} \\Phi \\\\ -1 \\\\ 0 \\\\ 0 \\\\ 0\\end{pmatrix} \\quad \\mathrm{and} \\quad \\begin{pmatrix} 1 \\\\ \\Phi \\end{pmatrix} \\implies v_2 =  \\begin{pmatrix} 1 \\\\ \\Phi \\\\ 0 \\\\0 \\\\ 0 \\end{pmatrix},\n",
    "$$\n",
    "where $\\Phi = \\frac{1+ \\sqrt{5}}{2}$ is the golden ratio. The 3x3 block gives\n",
    "\n",
    "$$\n",
    "    \\begin{pmatrix} 1.8 \\\\ 2.2 \\\\ 1 \\end{pmatrix} \\implies v_3 \\approx \\begin{pmatrix} 0 \\\\ 0 \\\\ 1.8 \\\\ 2.2 \\\\ 1 \\end{pmatrix} \\quad \\mathrm{and} \\quad \\begin{pmatrix} -1.2 \\\\ 0.5 \\\\ 1 \\end{pmatrix} \\implies v_4 \\approx \\begin{pmatrix} 0 \\\\ 0 \\\\ -1.2 \\\\ 0.5 \\\\ 1 \\end{pmatrix}  \\quad \\mathrm{and} \\quad \\begin{pmatrix} 0.4 \\\\ -0.8 \\\\ 1 \\end{pmatrix} \\implies v_5 \\approx \\begin{pmatrix} 0 \\\\ 0 \\\\ 0.4 \\\\ -0.8 \\\\ 1 \\end{pmatrix},\n",
    "$$\n",
    "where we define $V \\coloneqq (v_1, v_2, v_3, v_4, v_5)$. \n",
    "\n",
    "Thus the eigenvectors that diagonalize $H$ and $R_1$ simultaneously are\n",
    "$$\n",
    "    u_1' = \\Phi u_1 - u_2, \\quad u_2' = u_1 + \\Phi u_2, \\quad u_3' = 1.8 u_3 + 2.2 u_4 + u_5, \\quad u_4' = -1.2 u_3 + 0.5 u_4 + u_5, \\quad u_5' = 0.4 u_3 + -0.8 u_4 + u_5.\n",
    "$$\n",
    "\n",
    "One can write this relation conveniently as\n",
    "$$\n",
    "    U_{AB} = (u'_1, u'_2, u'_3, u'_4, u'_5) =  U_A V,\n",
    "$$\n",
    "which results in the following diagonalizations:\n",
    "\n",
    "\\begin{align}\n",
    "    U_{AB}^\\dagger H U_{AB} &= D_H = \\begin{pmatrix}\n",
    "                                -1.62 & & & &\\\\\n",
    "                                & -1.62 & & &\\\\\n",
    "                                & & 0.62 & &\\\\\n",
    "                                & & & 0.62 &\\\\\n",
    "                                & & & & 2\n",
    "                            \\end{pmatrix} \\\\\n",
    "    %%%%%%%%%%\n",
    "    U_{AB}^\\dagger R_1 U_{AB}  &= D_{R_1} \\begin{pmatrix}\n",
    "                                1 & & & &\\\\\n",
    "                                & -1 & & &\\\\\n",
    "                                & & 1 & &\\\\\n",
    "                                & & & -1 &\\\\\n",
    "                                & & & & 1\n",
    "                            \\end{pmatrix}\n",
    "\\end{align}\n",
    "\n",
    "Compare the (degenerate) eigenvalues of $H_\\mathrm{Block}$,  $\\lambda_{H_\\mathrm{Block}} = \\lambda_H = \\{-\\Phi \\approx -1.62,\\, 1/\\Phi \\approx 0.62,\\, 2\\}$ with $H$'s diagonal form."
   ]
  },
  {
   "cell_type": "code",
   "execution_count": null,
   "id": "129b7f28",
   "metadata": {},
   "outputs": [],
   "source": [
    "from Module_Symmetry_and_Gauge import Show_Diagonalize\n",
    "from Module_Widgets_and_Sliders import Matrix1_Dropdown, Matrix2_Dropdown"
   ]
  },
  {
   "cell_type": "code",
   "execution_count": null,
   "id": "c321872b",
   "metadata": {},
   "outputs": [],
   "source": [
    "general_diagonalization_widget = widgets.interactive(Show_Diagonalize,\n",
    "                                A=Matrix1_Dropdown,\n",
    "                                B=Matrix2_Dropdown,\n",
    "                                text=fixed(False),\n",
    "                                n=n_Slider,\n",
    "                                precision=precision_Slider,\n",
    "                                turns=turns_Slider,\n",
    "                                axis=axis_Slider);\n",
    "\n",
    "display(general_diagonalization_widget)"
   ]
  },
  {
   "cell_type": "code",
   "execution_count": null,
   "id": "ca2ce971-20f6-4624-bd15-58024b205d29",
   "metadata": {},
   "outputs": [],
   "source": []
  }
 ],
 "metadata": {
  "interpreter": {
   "hash": "767d51c1340bd893661ea55ea3124f6de3c7a262a8b4abca0554b478b1e2ff90"
  },
  "kernelspec": {
   "display_name": "Python 3 (ipykernel)",
   "language": "python",
   "name": "python3"
  },
  "language_info": {
   "codemirror_mode": {
    "name": "ipython",
    "version": 3
   },
   "file_extension": ".py",
   "mimetype": "text/x-python",
   "name": "python",
   "nbconvert_exporter": "python",
   "pygments_lexer": "ipython3",
   "version": "3.8.10"
  }
 },
 "nbformat": 4,
 "nbformat_minor": 5
}
