{
 "cells": [
  {
   "cell_type": "markdown",
   "id": "642fdccc-0864-4488-8a25-00b1fba44cf9",
   "metadata": {},
   "source": [
    "# Part 2 - Gauge Freedom and Symmetries"
   ]
  },
  {
   "cell_type": "code",
   "execution_count": 1,
   "id": "558b94da-a4b3-4bfb-a0bf-4fda1526cf79",
   "metadata": {},
   "outputs": [],
   "source": [
    "#widget has bugs with reloading plot\n",
    "#%matplotlib widget\n",
    "%matplotlib inline\n",
    "#TODO: widget works, but size is not displayed correctly\n",
    "\n",
    "import numpy as np \n",
    "from scipy.sparse import diags # Used for banded matrices\n",
    "\n",
    "import matplotlib as mpl\n",
    "import matplotlib.pyplot as plt # Plotting\n",
    "from cycler import cycler\n",
    "\n",
    "\n",
    "import seaborn as sns\n",
    "plt.style.use('seaborn-dark')\n",
    "plt.rcParams.update({'font.size':14})\n",
    "#mpl.rcParams['figure.dpi']= 100\n",
    "\n",
    "from IPython.display import display, Markdown, Latex, clear_output # used for printing Latex and Markdown output in code cells\n",
    "from ipywidgets import Layout, fixed, HBox, VBox #interact, interactive, interact_manual, FloatSlider, , Label, Layout, Button, VBox\n",
    "import ipywidgets as widgets\n",
    "\n",
    "import functools\n",
    "import time, math\n",
    "from scipy.linalg import expm "
   ]
  },
  {
   "cell_type": "markdown",
   "id": "20962452-ec09-45f8-938b-b6e5c3ea19ee",
   "metadata": {},
   "source": [
    "# Gauge Freedom\n",
    "<!---  Define a few convenience macros for bra-ket notation. -->\n",
    "$\\newcommand{\\ket}[1]{\\left\\vert{#1}\\right\\rangle}$\n",
    "$\\newcommand{\\bra}[1]{\\left\\langle{#1}\\right\\vert}$\n",
    "$\\newcommand{\\braket}[2]{\\left\\langle{#1}\\middle|{#2}\\right\\rangle}$\n",
    "$\\newcommand{\\dyad}[2]{\\left|{#1}\\middle\\rangle\\middle\\langle{#2}\\right|}$\n",
    "$\\newcommand{\\mela}[3]{\\left\\langle #1 \\vphantom{#2#3} \\right| #2 \\left| #3 \\vphantom{#1#2} \\right\\rangle}$\n",
    "$\\newcommand\\dif{\\mathop{}\\!\\mathrm{d}}$\n",
    "$\\newcommand\\ii{\\mathrm{i}}$\n",
    "$\\newcommand{\\coloneqq}{\\mathop{:=}}$\n",
    "\n",
    "\n",
    "A wavefunction $\\ket{\\psi}$ is not observable and thus not necessarily unique. One can add an arbitrary phase to each orbital of our $n$-chain, which would change the wavefunction, but not the underlying physics, as probabilities of an outcome $O_i$ are calculated using the norm of the projection of the probed wavefunction onto the $i$-th eigenstate of the operator $|\\braket{\\phi_i}{\\psi}|^2$. The same holds for Operators, whose representation depends on the chosen picture. Observables however are unique and correspond to the eigenvalues of a hermitian operator $\\hat O $.\n",
    "\n",
    "In the following the phase $\\exp(\\ii \\theta_{ij})$ accumulated for hopping from one orbital $i$ to another $j$ can be changed. Observe how on the one hand the matrix elements of the Hamiltonian $H_{ij}$ change, but on the other hand the eigenvalues (and thus the possible observables) stay the same. The values of $\\theta_{ij}$ are calculated using a `phase` vector as input\n",
    "\\begin{equation}\n",
    "    \\theta_{ij} = \\mathrm{phase}[i] - \\mathrm{phase}[j].\n",
    "\\end{equation}\n",
    "This guarantees that no matter which path we take from any given initial position back to the same position, we will always end up with a net phase of zero and thus preserve the structure of the Hamiltonian.\n"
   ]
  },
  {
   "cell_type": "code",
   "execution_count": 2,
   "id": "e3968d41-55b5-48f8-8d65-771e742ca752",
   "metadata": {},
   "outputs": [],
   "source": [
    "#TODO: possibly implement triu or tril for hamilton matrix\n",
    "def Hopping_Matrix_with_Phase(n = 6, phase=None):\n",
    "    \"\"\"\n",
    "    TODO: write documentation\n",
    "    \"\"\"\n",
    "\n",
    "    ### Check if system is large enough, i.e. if n=>2\n",
    "    assert n >= 2, \"error n must be greater or equal to 2\"\n",
    "\n",
    "    diagonal_entries = [np.ones(n-1), np.ones(n-1)]\n",
    "    H = diags(diagonal_entries, [-1, 1]).toarray()\n",
    "    #TODO: check length of phase vector\n",
    "    # take care of the values not on the lower and upper main diagonal\n",
    "    H[[0, n-1], [n-1, 0]] = 1\n",
    "    \n",
    "    if phase is not None:\n",
    "        H = H.astype(complex) #otherwise float conversion error\n",
    "        #Calculte H * exp(1*theta_ij)\n",
    "        H *= np.exp(1j*(phase[None, :] - phase[:, None]))\n",
    "\n",
    "    return H\n",
    "\n",
    "\n",
    "phase_dict = {\n",
    "    2:[[1,2], [0,2], [-1, 0.45], [np.pi, -np.pi],\n",
    "    3:[[1,2-,3], [0,2,4], [-1,5,-0.45], [np.pi, -np.pi, -np.pi]],\n",
    "    4:[[1,2,3,4], [0,2,4,8], [-1,5,-2,0.45], [np.pi, -np.pi, -np.pi,np.pi]-],\n",
    "    5:[[1,2,3,4,5], [0,2,4,6,8], [-1,5,-2,1.5,0.45], [np.pi, -np.pi, -np.pi,np.pi,-np.pi]],\n",
    "    6:[[1,2,3,4,5,6], [0,2,4,6,8,10], [-1,5,-2,1.5,-0.83,0.45], [np.pi, -np.pi, -np.pi,np.pi,-np.pi,np.pi]],\n",
    "    7:[[1,2,3,4,5,6,7], [0,2,4,6,8,10,12], [-1,5,-2,1.5,-0.83,0.7,0.45], [np.pi, -np.pi, -np.pi,np.pi,-np.pi,np.pi,-np.pi]],\n",
    "    8:[[1,2,3,4,5,6,7,8], [0,2,4,6,8,10,12,14], [-1,5,-2,1.5,-0.83,0.7,-2,0.45], [np.pi, -np.pi, -np.pi,np.pi,-np.pi,np.pi,-np.pi,np.pi]],\n",
    "    9:[[1,2,3,4,5,6,7,8,9], [0,2,4,6,8,10,12,14,16], [-1,5,-2,1.5,-0.83,0.7,4,-1,0.45], [np.pi, -np.pi, -np.pi,np.pi,-np.pi,np.pi,-np.pi,np.pi,-np.pi]],\n",
    "    10:[[1,2,3,4,5,6,7,8,9,10], [0,2,4,6,8,10,12,14,16,18], [-1,5,-2,1.5,-0.83,0.7,1,-3,-10,0.45], [np.pi, -np.pi, -np.pi, np.pi, -np.pi, np.pi, -np.pi, np.pi, -np.pi, np.pi]]\n",
    "    }"
   ]
  },
  {
   "cell_type": "code",
   "execution_count": 3,
   "id": "d94fa7ac-e1d8-490e-ae17-becf63386958",
   "metadata": {},
   "outputs": [],
   "source": [
    "H = Hopping_Matrix_with_Phase()"
   ]
  },
  {
   "cell_type": "code",
   "execution_count": 4,
   "id": "eb6fb61c-dc44-4fef-81e0-b9c14f3879c8",
   "metadata": {},
   "outputs": [],
   "source": [
    "rng = np.random.default_rng(seed=5)"
   ]
  },
  {
   "cell_type": "code",
   "execution_count": 5,
   "id": "e20250bc-c567-481a-9f76-804d7f2e76f8",
   "metadata": {},
   "outputs": [
    {
     "data": {
      "text/plain": [
       "array([[-0.4+0.j , -0.6+0.j , -0.1+0.j ,  0.6+0.j , -0.1+0.j ,  0.4+0.j ],\n",
       "       [-0.4-0.1j, -0.3-0.1j,  0.5+0.1j, -0.2-0.j ,  0.5+0.1j, -0.4-0.1j],\n",
       "       [-0.4-0.2j,  0.2+0.1j,  0.5+0.2j, -0.3-0.2j, -0.4-0.2j,  0.4+0.2j],\n",
       "       [-0.4-0.1j,  0.6+0.1j,  0.1+0.j ,  0.6+0.1j, -0.1-0.j , -0.4-0.1j],\n",
       "       [ 0.3+0.3j, -0.2-0.3j,  0.3+0.4j,  0.1+0.1j, -0.3-0.4j, -0.3-0.3j],\n",
       "       [-0.4+0.1j, -0.2+0.j , -0.5+0.j , -0.4+0.j , -0.4+0.j , -0.4+0.1j]])"
      ]
     },
     "execution_count": 5,
     "metadata": {},
     "output_type": "execute_result"
    }
   ],
   "source": []
  },
  {
   "cell_type": "markdown",
   "id": "74f5fdb2-c52f-42ca-8a53-c93b1318ea67",
   "metadata": {},
   "source": [
    "TODO: add theory to magnetic flux and matrix\n",
    "TODO: add slider and widgets to play around with the phase\n",
    "TODO: add default phases"
   ]
  },
  {
   "cell_type": "markdown",
   "id": "c55a3292-42a8-45ff-8d75-02c72cd33667",
   "metadata": {},
   "source": [
    "# Symmetry\n",
    "\n",
    "### Abelian group of translations\n",
    "TODO add theory about group of translations, definition, properties, qm definiton via commutator\n",
    "Plot matrices"
   ]
  },
  {
   "cell_type": "code",
   "execution_count": 15,
   "id": "8870622b-ba3b-4a16-beab-18aca341fae0",
   "metadata": {},
   "outputs": [],
   "source": [
    "def Right_Translation_Matrix(n=6):\n",
    "    \"\"\"\n",
    "    TODO: write documentation\n",
    "    \"\"\"\n",
    "\n",
    "    ### Check if system is large enough, i.e. if n=>2\n",
    "    assert n >= 2, \"error n must be greater or equal to 2\"\n",
    "\n",
    "    diagonal_entries = [np.ones(n-1)]\n",
    "    P = diags(diagonal_entries, [1]).toarray()\n",
    "    # Translation from position n to 1\n",
    "    P[n-1, 0] = 1\n",
    "\n",
    "    return P\n",
    "\n",
    "def Translation_Group(n=6):\n",
    "    \"\"\"\n",
    "    TODO: write documentation\n",
    "    \"\"\"\n",
    "    P = Right_Translation_Matrix(n=n)\n",
    "    return np.array([np.linalg.matrix_power(P, i) for i in np.arange(n)])"
   ]
  },
  {
   "cell_type": "code",
   "execution_count": 16,
   "id": "4591277d-7c34-47a6-bbc8-530bf3ad5b8f",
   "metadata": {},
   "outputs": [],
   "source": [
    "P = Right_Translation()"
   ]
  },
  {
   "cell_type": "code",
   "execution_count": 17,
   "id": "cb2159fe-687e-40da-8f6d-e964f831f967",
   "metadata": {},
   "outputs": [
    {
     "data": {
      "text/plain": [
       "array([[[1., 0., 0., 0.],\n",
       "        [0., 1., 0., 0.],\n",
       "        [0., 0., 1., 0.],\n",
       "        [0., 0., 0., 1.]],\n",
       "\n",
       "       [[0., 1., 0., 0.],\n",
       "        [0., 0., 1., 0.],\n",
       "        [0., 0., 0., 1.],\n",
       "        [1., 0., 0., 0.]],\n",
       "\n",
       "       [[0., 0., 1., 0.],\n",
       "        [0., 0., 0., 1.],\n",
       "        [1., 0., 0., 0.],\n",
       "        [0., 1., 0., 0.]],\n",
       "\n",
       "       [[0., 0., 0., 1.],\n",
       "        [1., 0., 0., 0.],\n",
       "        [0., 1., 0., 0.],\n",
       "        [0., 0., 1., 0.]]])"
      ]
     },
     "execution_count": 17,
     "metadata": {},
     "output_type": "execute_result"
    }
   ],
   "source": [
    "Translation_Group(n=4)"
   ]
  },
  {
   "cell_type": "markdown",
   "id": "fa2b9c8f-8770-4ab2-bae3-b958a83e03bc",
   "metadata": {},
   "source": [
    "TODO calculate commutator and write about it"
   ]
  },
  {
   "cell_type": "code",
   "execution_count": 18,
   "id": "c9f79be2-9553-4f1f-9f3c-cf9e5105f26e",
   "metadata": {},
   "outputs": [
    {
     "name": "stdout",
     "output_type": "stream",
     "text": [
      "[[0. 0. 0. 0. 0. 0.]\n",
      " [0. 0. 0. 0. 0. 0.]\n",
      " [0. 0. 0. 0. 0. 0.]\n",
      " [0. 0. 0. 0. 0. 0.]\n",
      " [0. 0. 0. 0. 0. 0.]\n",
      " [0. 0. 0. 0. 0. 0.]]\n"
     ]
    }
   ],
   "source": [
    "print(P @ H - H @ P)"
   ]
  },
  {
   "cell_type": "markdown",
   "id": "668f92f7-de3b-4373-a6d8-7dd69efcb193",
   "metadata": {},
   "source": [
    "reflection symmetry theory"
   ]
  },
  {
   "cell_type": "code",
   "execution_count": 104,
   "id": "1d1abf4c-6a0e-42b7-a58f-208794f47186",
   "metadata": {},
   "outputs": [],
   "source": [
    "def Reflection_Matrix(n=6, pos=0):\n",
    "    \"\"\"\n",
    "    TODO: write documentation\n",
    "    \"\"\"\n",
    "\n",
    "    ### Check if system is large enough, i.e. if n=>2\n",
    "    assert n >= 2, \"error n must be greater or equal to 2\"\n",
    "\n",
    "    return np.roll(np.fliplr(np.eye(n)), shift=pos+1, axis=0)\n",
    "\n",
    "def All_Reflections(n=6):\n",
    "    return np.array([Reflection_Matrix(n, pos=i) for i in np.arange(n)])"
   ]
  },
  {
   "cell_type": "code",
   "execution_count": 118,
   "id": "20d9a74e-16f5-43a6-8957-c4645aee4694",
   "metadata": {},
   "outputs": [
    {
     "data": {
      "text/plain": [
       "array([[1., 0., 0., 0., 0., 0.],\n",
       "       [0., 0., 0., 0., 0., 1.],\n",
       "       [0., 0., 0., 0., 1., 0.],\n",
       "       [0., 0., 0., 1., 0., 0.],\n",
       "       [0., 0., 1., 0., 0., 0.],\n",
       "       [0., 1., 0., 0., 0., 0.]])"
      ]
     },
     "execution_count": 118,
     "metadata": {},
     "output_type": "execute_result"
    }
   ],
   "source": [
    "Reflection_Matrix()"
   ]
  },
  {
   "cell_type": "code",
   "execution_count": 116,
   "id": "e398eec7-82ac-4217-bec8-f44544deb653",
   "metadata": {},
   "outputs": [
    {
     "data": {
      "text/plain": [
       "array([[[1., 0., 0., 0., 0., 0.],\n",
       "        [0., 0., 0., 0., 0., 1.],\n",
       "        [0., 0., 0., 0., 1., 0.],\n",
       "        [0., 0., 0., 1., 0., 0.],\n",
       "        [0., 0., 1., 0., 0., 0.],\n",
       "        [0., 1., 0., 0., 0., 0.]],\n",
       "\n",
       "       [[0., 1., 0., 0., 0., 0.],\n",
       "        [1., 0., 0., 0., 0., 0.],\n",
       "        [0., 0., 0., 0., 0., 1.],\n",
       "        [0., 0., 0., 0., 1., 0.],\n",
       "        [0., 0., 0., 1., 0., 0.],\n",
       "        [0., 0., 1., 0., 0., 0.]],\n",
       "\n",
       "       [[0., 0., 1., 0., 0., 0.],\n",
       "        [0., 1., 0., 0., 0., 0.],\n",
       "        [1., 0., 0., 0., 0., 0.],\n",
       "        [0., 0., 0., 0., 0., 1.],\n",
       "        [0., 0., 0., 0., 1., 0.],\n",
       "        [0., 0., 0., 1., 0., 0.]],\n",
       "\n",
       "       [[0., 0., 0., 1., 0., 0.],\n",
       "        [0., 0., 1., 0., 0., 0.],\n",
       "        [0., 1., 0., 0., 0., 0.],\n",
       "        [1., 0., 0., 0., 0., 0.],\n",
       "        [0., 0., 0., 0., 0., 1.],\n",
       "        [0., 0., 0., 0., 1., 0.]],\n",
       "\n",
       "       [[0., 0., 0., 0., 1., 0.],\n",
       "        [0., 0., 0., 1., 0., 0.],\n",
       "        [0., 0., 1., 0., 0., 0.],\n",
       "        [0., 1., 0., 0., 0., 0.],\n",
       "        [1., 0., 0., 0., 0., 0.],\n",
       "        [0., 0., 0., 0., 0., 1.]],\n",
       "\n",
       "       [[0., 0., 0., 0., 0., 1.],\n",
       "        [0., 0., 0., 0., 1., 0.],\n",
       "        [0., 0., 0., 1., 0., 0.],\n",
       "        [0., 0., 1., 0., 0., 0.],\n",
       "        [0., 1., 0., 0., 0., 0.],\n",
       "        [1., 0., 0., 0., 0., 0.]]])"
      ]
     },
     "execution_count": 116,
     "metadata": {},
     "output_type": "execute_result"
    }
   ],
   "source": [
    "All_Reflections(n=6)"
   ]
  },
  {
   "cell_type": "code",
   "execution_count": 20,
   "id": "55db8c64-2482-4c12-b60b-0ab9b9a26e97",
   "metadata": {},
   "outputs": [
    {
     "name": "stdout",
     "output_type": "stream",
     "text": [
      "[[1. 0.]\n",
      " [0. 1.]]\n",
      "\n",
      "[[1. 0. 0.]\n",
      " [0. 0. 1.]\n",
      " [0. 1. 0.]]\n",
      "\n",
      "[[1. 0. 0. 0.]\n",
      " [0. 0. 0. 1.]\n",
      " [0. 0. 1. 0.]\n",
      " [0. 1. 0. 0.]]\n",
      "\n",
      "[[1. 0. 0. 0. 0.]\n",
      " [0. 0. 0. 0. 1.]\n",
      " [0. 0. 0. 1. 0.]\n",
      " [0. 0. 1. 0. 0.]\n",
      " [0. 1. 0. 0. 0.]]\n",
      "\n"
     ]
    }
   ],
   "source": [
    "R = Reflection_Matrix()\n",
    "for i in np.arange(2, 6):\n",
    "    print(Reflection_Matrix(n=i))\n",
    "    print()"
   ]
  },
  {
   "cell_type": "code",
   "execution_count": 21,
   "id": "fc9d7bc0-a633-430f-80ac-ab97cba710af",
   "metadata": {},
   "outputs": [
    {
     "name": "stdout",
     "output_type": "stream",
     "text": [
      "[[0. 0. 0. 0. 0. 0.]\n",
      " [0. 0. 0. 0. 0. 0.]\n",
      " [0. 0. 0. 0. 0. 0.]\n",
      " [0. 0. 0. 0. 0. 0.]\n",
      " [0. 0. 0. 0. 0. 0.]\n",
      " [0. 0. 0. 0. 0. 0.]]\n"
     ]
    }
   ],
   "source": [
    "print(R @ H - H @ R)"
   ]
  },
  {
   "cell_type": "code",
   "execution_count": 119,
   "id": "3167556a-b0a0-4ecf-a6b6-f3d79cacf3cf",
   "metadata": {},
   "outputs": [
    {
     "name": "stdout",
     "output_type": "stream",
     "text": [
      "[[ 0.  1.  0.  0.  0. -1.]\n",
      " [ 1.  0.  0.  0. -1.  0.]\n",
      " [ 0.  0.  0. -1.  0.  1.]\n",
      " [ 0.  0. -1.  0.  1.  0.]\n",
      " [ 0. -1.  0.  1.  0.  0.]\n",
      " [-1.  0.  1.  0.  0.  0.]]\n"
     ]
    }
   ],
   "source": [
    "print(R @ P - P @ R)"
   ]
  },
  {
   "cell_type": "code",
   "execution_count": 23,
   "id": "128085aa-3bb4-4607-b53f-ef8f35abd928",
   "metadata": {},
   "outputs": [
    {
     "data": {
      "text/plain": [
       "array([[1., 0., 0., 0., 0., 0.],\n",
       "       [0., 1., 0., 0., 0., 0.],\n",
       "       [0., 0., 1., 0., 0., 0.],\n",
       "       [0., 0., 0., 1., 0., 0.],\n",
       "       [0., 0., 0., 0., 1., 0.],\n",
       "       [0., 0., 0., 0., 0., 1.]])"
      ]
     },
     "execution_count": 23,
     "metadata": {},
     "output_type": "execute_result"
    }
   ],
   "source": [
    "np.linalg.matrix_power(R,4)"
   ]
  },
  {
   "cell_type": "code",
   "execution_count": 25,
   "id": "a1f70e03-40e7-401e-aaf9-ad1402327a1e",
   "metadata": {},
   "outputs": [
    {
     "data": {
      "text/plain": [
       "array([[1., 0., 0., 0., 0., 0.],\n",
       "       [0., 0., 0., 0., 0., 1.],\n",
       "       [0., 0., 0., 0., 1., 0.],\n",
       "       [0., 0., 0., 1., 0., 0.],\n",
       "       [0., 0., 1., 0., 0., 0.],\n",
       "       [0., 1., 0., 0., 0., 0.]])"
      ]
     },
     "execution_count": 25,
     "metadata": {},
     "output_type": "execute_result"
    }
   ],
   "source": [
    "R"
   ]
  },
  {
   "cell_type": "code",
   "execution_count": 124,
   "id": "84b75aa0-5ac9-425e-abf1-8ddb0323c3fb",
   "metadata": {},
   "outputs": [
    {
     "data": {
      "text/plain": [
       "array([-1. +0.j       , -0.5+0.8660254j, -0.5-0.8660254j,  0.5+0.8660254j,\n",
       "        0.5-0.8660254j,  1. +0.j       ])"
      ]
     },
     "execution_count": 124,
     "metadata": {},
     "output_type": "execute_result"
    }
   ],
   "source": [
    "np.linalg.eigvals(P)"
   ]
  },
  {
   "cell_type": "code",
   "execution_count": 125,
   "id": "f365a3cc-36c2-4cf5-ab44-64d8e4b1c57a",
   "metadata": {},
   "outputs": [],
   "source": [
    "_, pvec = np.linalg.eig(P)"
   ]
  },
  {
   "cell_type": "code",
   "execution_count": 130,
   "id": "abd044b1-af1e-46bd-b610-aec998e85445",
   "metadata": {},
   "outputs": [
    {
     "data": {
      "text/plain": [
       "array([[-2.,  0.,  0., -0., -0., -0.],\n",
       "       [ 0., -1.,  0.,  0., -0.,  0.],\n",
       "       [ 0.,  0., -1., -0.,  0.,  0.],\n",
       "       [-0.,  0., -0.,  1.,  0., -0.],\n",
       "       [-0., -0.,  0.,  0.,  1., -0.],\n",
       "       [-0.,  0.,  0., -0., -0.,  2.]])"
      ]
     },
     "execution_count": 130,
     "metadata": {},
     "output_type": "execute_result"
    }
   ],
   "source": [
    "np.round(pvec.T.conj() @ H @ pvec,0).real"
   ]
  },
  {
   "cell_type": "code",
   "execution_count": 138,
   "id": "9041d7df-fd50-4690-b113-efdb5109478c",
   "metadata": {},
   "outputs": [],
   "source": [
    "import test_import \n"
   ]
  },
  {
   "cell_type": "code",
   "execution_count": null,
   "id": "50f24361-861e-4f2e-a696-6615b42534d1",
   "metadata": {},
   "outputs": [],
   "source": []
  }
 ],
 "metadata": {
  "kernelspec": {
   "display_name": "Python 3 (ipykernel)",
   "language": "python",
   "name": "python3"
  },
  "language_info": {
   "codemirror_mode": {
    "name": "ipython",
    "version": 3
   },
   "file_extension": ".py",
   "mimetype": "text/x-python",
   "name": "python",
   "nbconvert_exporter": "python",
   "pygments_lexer": "ipython3",
   "version": "3.8.10"
  }
 },
 "nbformat": 4,
 "nbformat_minor": 5
}
