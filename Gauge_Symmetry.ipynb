{
 "cells": [
  {
   "cell_type": "markdown",
   "id": "642fdccc-0864-4488-8a25-00b1fba44cf9",
   "metadata": {},
   "source": [
    "# Part 2 - Gauge Freedom and Symmetries"
   ]
  },
  {
   "cell_type": "code",
   "execution_count": 1,
   "id": "558b94da-a4b3-4bfb-a0bf-4fda1526cf79",
   "metadata": {},
   "outputs": [],
   "source": [
    "#widget has bugs with reloading plot\n",
    "#%matplotlib widget\n",
    "%matplotlib inline\n",
    "#TODO: widget works, but size is not displayed correctly\n",
    "\n",
    "import numpy as np \n",
    "from scipy.sparse import diags # Used for banded matrices\n",
    "\n",
    "import matplotlib as mpl\n",
    "import matplotlib.pyplot as plt # Plotting\n",
    "from cycler import cycler\n",
    "\n",
    "\n",
    "import seaborn as sns\n",
    "plt.style.use('seaborn-dark')\n",
    "plt.rcParams.update({'font.size':14})\n",
    "#mpl.rcParams['figure.dpi']= 100\n",
    "\n",
    "from IPython.display import display, Markdown, Latex, clear_output # used for printing Latex and Markdown output in code cells\n",
    "from ipywidgets import Layout, fixed, HBox, VBox #interact, interactive, interact_manual, FloatSlider, , Label, Layout, Button, VBox\n",
    "import ipywidgets as widgets\n",
    "\n",
    "import functools\n",
    "import time, math\n",
    "from scipy.linalg import expm \n",
    "\n",
    "\n",
    "%load_ext autoreload\n",
    "%autoreload 2\n",
    "\n",
    "  \n",
    "# adding `Modules/` to the system path\n",
    "import sys\n",
    "sys.path.insert(0, 'Modules/')"
   ]
  },
  {
   "cell_type": "markdown",
   "id": "20962452-ec09-45f8-938b-b6e5c3ea19ee",
   "metadata": {},
   "source": [
    "# Gauge Freedom\n",
    "<!---  Define a few convenience macros for bra-ket notation. -->\n",
    "$\\newcommand{\\ket}[1]{\\left\\vert{#1}\\right\\rangle}$\n",
    "$\\newcommand{\\bra}[1]{\\left\\langle{#1}\\right\\vert}$\n",
    "$\\newcommand{\\braket}[2]{\\left\\langle{#1}\\middle|{#2}\\right\\rangle}$\n",
    "$\\newcommand{\\dyad}[2]{\\left|{#1}\\middle\\rangle\\middle\\langle{#2}\\right|}$\n",
    "$\\newcommand{\\mela}[3]{\\left\\langle #1 \\vphantom{#2#3} \\right| #2 \\left| #3 \\vphantom{#1#2} \\right\\rangle}$\n",
    "$\\newcommand\\dif{\\mathop{}\\!\\mathrm{d}}$\n",
    "$\\newcommand\\ii{\\mathrm{i}}$\n",
    "$\\newcommand{\\coloneqq}{\\mathop{:=}}$\n",
    "$\\renewcommand{\\vec}{\\mathbf}$\n",
    "\n",
    "\n",
    "A wavefunction $\\ket{\\psi}$ is not observable and thus not necessarily unique. One can add an arbitrary phase to each orbital of our $n$-chain, which would change the wavefunction, but not the underlying physics, as probabilities of an outcome $O_i$ are calculated using the norm of the projection of the probed wavefunction onto the $i$-th eigenstate of the operator $|\\braket{\\phi_i}{\\psi}|^2$. The same holds for Operators, whose representation depends on the chosen picture. Observables however are unique and correspond to the eigenvalues of a hermitian operator $\\hat O $.\n",
    "\n",
    "In the following the phase $\\exp(\\ii \\theta_{ij})$ accumulated for hopping from one orbital $i$ to another $j$ can be changed. Observe how on the one hand the matrix elements of the Hamiltonian $H_{ij}$ change, but on the other hand the eigenvalues (and thus the possible observables) stay the same. The values of $\\theta_{ij}$ are calculated using a `phase` vector as input\n",
    "\\begin{equation}\n",
    "    \\theta_{ij} = \\mathrm{phase}[i] - \\mathrm{phase}[j] .\n",
    "\\end{equation}\n",
    "This guarantees that no matter which path we take from any given initial position back to the same position, we will always end up with a net phase of zero and thus preserve the structure of the Hamiltonian.\n",
    "\n",
    "The freedom to redefine the structure and fix redundant degrees of freedom in our theory (in our case the change of a - not observable - phase for each orbital) without changing the underlying physics is commonly called **Gauge Freedom**. Another example from [classical electromagnetism](https://en.wikipedia.org/wiki/Gauge_theory#Classical_electromagnetism) would be the gauge freedom to add a gradient of a (twice continuously differentiable) scalar function $\\nabla f$ to the vector potential $\\vec A$, which do not change the observables, namely the electric- and magentic fields $\\vec E$ and $\\vec B$, respectively."
   ]
  },
  {
   "cell_type": "code",
   "execution_count": 2,
   "id": "64e6037d-4f78-4296-927c-f0e950ab99ad",
   "metadata": {},
   "outputs": [],
   "source": [
    "#TODO add dropdwon to display different hamiltionains with their respective eigenvalues and explain the phases\n",
    "#TODO possibly add slider to change number of decimal digets diplayed\n",
    "from Module_Widgets_and_Sliders import phase_Text_Box, n_Slider, phase_Dropdown, precision_Slider\n",
    "from Module_Symmetry_and_Gauge import Hopping_Matrix_with_Phase, Show_Hamiltonian_Gaugefreedom"
   ]
  },
  {
   "cell_type": "code",
   "execution_count": 3,
   "id": "7bed20db-1c34-4d22-be2a-232b3d6b9b3e",
   "metadata": {},
   "outputs": [
    {
     "data": {
      "application/vnd.jupyter.widget-view+json": {
       "model_id": "8fdf57df7aa847b5b2de4c9f9c7ce03c",
       "version_major": 2,
       "version_minor": 0
      },
      "text/plain": [
       "VBox(children=(Text(value='[0, 0, 0, 0, 0, 0]', continuous_update=False, description='User Phase Vector $\\\\the…"
      ]
     },
     "metadata": {},
     "output_type": "display_data"
    }
   ],
   "source": [
    "#TODO: add description of what happenw ith pahse exp(i) everywhere\n",
    "# TODO: chekc that pahse 0 teturn a real hamiltonian\n",
    "\n",
    "H_phase = widgets.interactive(Show_Hamiltonian_Gaugefreedom,\n",
    "            phase=phase_Dropdown,           \n",
    "            n=n_Slider,\n",
    "            precision=precision_Slider);\n",
    "\n",
    "\n",
    "display(VBox([phase_Text_Box, H_phase]))"
   ]
  },
  {
   "cell_type": "markdown",
   "id": "74f5fdb2-c52f-42ca-8a53-c93b1318ea67",
   "metadata": {},
   "source": [
    "TODO: add theory to magnetic flux and matrix\n",
    "TODO: add slider and widgets to play around with the phase\n",
    "TODO: add default phases"
   ]
  },
  {
   "cell_type": "code",
   "execution_count": 4,
   "id": "b64e2d96-5020-4d58-935b-9dea0a663b62",
   "metadata": {},
   "outputs": [],
   "source": [
    "from Module_Symmetry_and_Gauge import Magnetic_Flux_Matrix, Show_Magnetic_Flux\n",
    "#TODO: possibly add more than just exp(1j) as phase"
   ]
  },
  {
   "cell_type": "code",
   "execution_count": 5,
   "id": "e7d1aa32-b994-40a4-881e-da1d2db2662d",
   "metadata": {},
   "outputs": [
    {
     "data": {
      "application/vnd.jupyter.widget-view+json": {
       "model_id": "40ae612c970c4186b0a5c8a6c624fe88",
       "version_major": 2,
       "version_minor": 0
      },
      "text/plain": [
       "interactive(children=(BoundedIntText(value=6, description='$n = $', layout=Layout(width='3cm'), max=10, min=2,…"
      ]
     },
     "metadata": {},
     "output_type": "display_data"
    }
   ],
   "source": [
    "M_widget = widgets.interactive(Show_Magnetic_Flux,           \n",
    "            n=n_Slider,\n",
    "            precision=precision_Slider);\n",
    "\n",
    "\n",
    "display(M_widget)"
   ]
  },
  {
   "cell_type": "markdown",
   "id": "c55a3292-42a8-45ff-8d75-02c72cd33667",
   "metadata": {},
   "source": [
    "# Symmetry\n",
    "\n",
    "Let us focus on one of the most important and fundamental concepts in the entire field of physics: **Symmetry**. Local and global symmetries are present in all modern theories of physics (QED, QCD, QFT, GR, the Standard Model, etc.) and lead to interesting concepts such as gauge freedom and conservation laws via Noether's theorem and are present in things as simple as coordinate transformations. \n",
    "\n",
    "But what is a symmetry of an object? Plainly speaking, if an object is invariant (i.e. stays the same) after applying some transformation, this action is called a symmetry operation. As a simple example consider as object a square. The transformaton of rotating it by either $\\frac{pi}{2}, \\pi, \\frac{3\\pi}{2}$ or $2\\pi$ is a symmetry operation."
   ]
  },
  {
   "cell_type": "markdown",
   "id": "c0d4e50e-844a-4c2c-a298-1cfa7a925d9d",
   "metadata": {},
   "source": [
    "## Groups\n",
    "The underlying mathematical structure that deals (among other things) with all symmetry operations of an object is called the object's [symmetry group](https://en.wikipedia.org/wiki/Symmetry_group#One_dimension). Mathematically, a [group](https://en.wikipedia.org/wiki/Group_(mathematics)) is a set $G$ with a binary operation $\\circ$ such that:\n",
    "\n",
    "1. Closure: Every combination of elements from $G$ is again contained in $G$\n",
    "    $$ a \\circ b \\in G \\quad \\forall a, b \\in G.$$\n",
    "    \n",
    "2. Associativity:\n",
    "    $$ (a \\circ b) \\circ c = a \\circ (b \\circ c) \\quad \\forall a, b, c \\in G.$$\n",
    "    \n",
    "3. Identity: There exists a neutral element $e \\in G$, such that\n",
    "    $$ e \\circ a = a = a \\circ e \\quad \\forall a \\in G.$$\n",
    "    \n",
    "4. Inverse: For each element $a \\in G$ there exists an (unique) inverse element, denoted $a^{-1} \\in G$, such that\n",
    "    $$ a \\circ a^{-1} = e = a^{-1} \\circ a \\quad \\forall a \\in G.$$"
   ]
  },
  {
   "cell_type": "markdown",
   "id": "aef9aa37-88ef-4b4d-b12d-e56fb3811136",
   "metadata": {},
   "source": [
    "## Symmetry in QM\n",
    "### Invariance of $H$\n",
    "Now that we know the precise definiton of a group, we can specify symmetry in QM. First, note that a symmetry operation must leave the norm of a wave vector invariant. Thus leaving us with unitary operators ($\\hat{O} \\hat{O}^\\dagger = \\mathbb{1}$). A unitary operator $O$ that encapsulates a symmetry with the Hamiltonian $\\hat{H}$ is defined by vanishing commutator, i.e.\n",
    "    $$ [\\hat{H}, \\hat{O}] = 0,$$\n",
    "where $[\\hat{A}, \\hat{B}] \\coloneqq \\hat{A} \\hat{B} - \\hat{B} \\hat{A}$ denotes the commutator of two operators. The reason for symmetry being connected with vanishing commutator becomes apparant by considering the inverse of a unitary operator is just its conjugate transpose, i.e. $\\hat{O}^{-1} = \\hat{O}^\\dagger$ and thus\n",
    "$$\n",
    "    [O,H] = 0 \\implies OH = HO. \n",
    "$$\n",
    "Multiplying with the inverse of $O$ from the right thus gives\n",
    "$$\n",
    "    OHO^{-1} = OHO^\\dagger = HOO^{-1} = H.\n",
    "$$\n",
    "which implies that $H$ is invariant under the linear transfomation $OHO^\\dagger$ induced by $O$.\n",
    "\n",
    "### Common eigen basis\n",
    "Another very important property of commuting operators is, that they have a common eigenbasis, meaning that every eigenvector of the one operator is also an eigenvector of the other operator. The proof is straight forward and we will perform it for the Hamilton operator:\n",
    "\n",
    "Assume $\\{E_n\\}$ and $\\{\\ket{\\psi_n}\\}$ are the sets of eigenvalues and corresponding eigenvectors of the Hamiltonian, respectively. Thus\n",
    "    $$ H \\ket{\\psi_n} = E_n \\ket{\\psi_n},$$\n",
    "    \n",
    "holds. Acting with an operator $T$ that commutes with $H$, $[H, T] = 0$ on the eigenvalue equation gives\n",
    "    $$  H (T\\ket{\\psi_n})  = T (H \\ket{\\psi_n}) = T (E_n \\ket{\\psi_n}=  E_n (T \\ket{\\psi_n}), $$\n",
    "\n",
    "implying that the vector $T\\ket{\\psi_n}$ is also an eigenvector of the Hamiltonian. Assuming non-degenerate eigenvalues because $T\\ket{\\psi_n}$ and $\\ket{\\psi_n}$ are both eingevectors of $H$ they can differ only by a multiplicative constant $t_n$. This implies \n",
    "$$ T\\ket{\\psi_n} = t_n \\ket{\\psi_n}, $$\n",
    "proving that $T$ and $H$ share a common set of eigenvectors.\n",
    "\n",
    "Note: This also holds for degnerete eigenvalues, but the proof is a bit more subtile.\n",
    "\n",
    "The gist of all this is that we can apply a symmetry operation to our eigenvectors and are guranteed to get back an eigenvector (or at least a linear combination of eigenvectors if degenerate eigenvalues are present) of $H$"
   ]
  },
  {
   "cell_type": "markdown",
   "id": "e1f9085a-c0cd-48b6-87bd-47d7b9bf5d7d",
   "metadata": {
    "tags": []
   },
   "source": [
    "### Cyclic group $C_n$ / Abelian group of translations\n",
    "\n",
    "The $n$-chain model consists of a special type of symmetry group, the [cyclic group $C_n$](https://en.wikipedia.org/wiki/Cyclic_group) which can be represented by $n$ rotations around the origin with angle $\\frac{2 \\pi m}{n}$ where $m \\in \\{0, 1, \\ldots n-1\\}$. This group has another special property in addition to the four group axioms, all group operations are commutative\n",
    "    $$ a \\circ b = b \\circ a \\quad \\forall a, b \\in C_n .$$\n",
    "    \n",
    "Groups with this property are called abelian groups. Intuitively rotations emit this property as no matter the order you perform two consecutive rotations, the result can be expressed by a rotation with the sum of both rotation angles.\n",
    "\n",
    "Aditionaly, one can construct all matrix representations of the elements of the group $C_n$ by repeatedly applying a single roation to the right $T$, which results in all the elements $\\{\\mathbb{1}_n, T, T^2, \\ldots, T^{n-1}\\}$. The matrix $T \\in \\mathbb{R}^{n \\times n}$ is defined by\n",
    "\n",
    "$$ T = \\begin{pmatrix}\n",
    "            0 & 1 & 0 & 0 & \\cdots \\\\\n",
    "            0 & 0 & 1 & 0 & \\cdots \\\\\n",
    "            \\vdots & \\vdots & \\ddots & \\ddots & \\vdots\\\\\n",
    "            1 & 0 & 0 & 0 & 0\n",
    "        \\end{pmatrix}\n",
    "$$"
   ]
  },
  {
   "cell_type": "markdown",
   "id": "d3268ce7-387c-4000-a86d-d7a1f369cb4b",
   "metadata": {},
   "source": [
    "In the code below one can look at the different matrices representing rotations from one position to another. Note that the identity element is always the $n$-dimensional unit matrix."
   ]
  },
  {
   "cell_type": "code",
   "execution_count": 6,
   "id": "f6758be7-0571-4f75-87bf-d0d556ef9601",
   "metadata": {},
   "outputs": [],
   "source": [
    "from Module_Widgets_and_Sliders import turns_Slider\n",
    "from Module_Symmetry_and_Gauge import Translation_Group, Right_Translation_Matrix"
   ]
  },
  {
   "cell_type": "code",
   "execution_count": 7,
   "id": "2ca71168-73f7-44a1-b749-b2c7390d514b",
   "metadata": {},
   "outputs": [
    {
     "data": {
      "application/vnd.jupyter.widget-view+json": {
       "model_id": "a6dee14f51c54079923fb6d91e6a0f5d",
       "version_major": 2,
       "version_minor": 0
      },
      "text/plain": [
       "interactive(children=(BoundedIntText(value=6, description='$n = $', layout=Layout(width='3cm'), max=10, min=2,…"
      ]
     },
     "metadata": {},
     "output_type": "display_data"
    }
   ],
   "source": [
    "translation_widget = widgets.interactive(Right_Translation_Matrix,\n",
    "                                        n=n_Slider,\n",
    "                                        turns=turns_Slider,\n",
    "                                        show=widgets.fixed(True));\n",
    "\n",
    "display(translation_widget)"
   ]
  },
  {
   "cell_type": "markdown",
   "id": "4988db3d-b758-4e8d-aa69-f0fc350ce7b5",
   "metadata": {},
   "source": [
    "Note how a left translation $t_\\mathrm{l}$ (with negative number of roations) is equivalent to a right translations with $t_\\mathrm{r} = t_\\mathrm{l} \\operatorname{mod} n$, e. g. for $n=6$, two turns to the left, $t_\\mathrm{l} = -2 \\iff t_\\mathrm{r} = 4$ is equal to four right turns\n",
    "\n",
    "Now let's look at the abelian cyclic group $C_n$ with all its elements"
   ]
  },
  {
   "cell_type": "code",
   "execution_count": 8,
   "id": "4591277d-7c34-47a6-bbc8-530bf3ad5b8f",
   "metadata": {},
   "outputs": [
    {
     "data": {
      "application/vnd.jupyter.widget-view+json": {
       "model_id": "f3d0cc6d5c4744dc844b1df6910846e4",
       "version_major": 2,
       "version_minor": 0
      },
      "text/plain": [
       "interactive(children=(BoundedIntText(value=6, description='$n = $', layout=Layout(width='3cm'), max=10, min=2,…"
      ]
     },
     "metadata": {},
     "output_type": "display_data"
    }
   ],
   "source": [
    "translation_group_widget = widgets.interactive(Translation_Group,\n",
    "                                        n=n_Slider,\n",
    "                                        show=widgets.fixed(True));\n",
    "\n",
    "display(translation_group_widget)"
   ]
  },
  {
   "cell_type": "markdown",
   "id": "fa2b9c8f-8770-4ab2-bae3-b958a83e03bc",
   "metadata": {},
   "source": [
    "Finally we can check that our Hamiltonian $H$ commutes with a right Translation $T$. Interestingly, also the Hamiltonian with magnetic flux, $M$ commutes with $T$. But the Hamiltonian does not commute anymore, if we add an arbitray `phase` vector."
   ]
  },
  {
   "cell_type": "code",
   "execution_count": 9,
   "id": "2ddba410-5a79-4edc-a88a-09917d7e6f1c",
   "metadata": {},
   "outputs": [],
   "source": [
    "# Ask professot why this is? And also ask if this changes the physics, as the eigenvalues of TH stay the same."
   ]
  },
  {
   "cell_type": "code",
   "execution_count": 10,
   "id": "b57389e1-e20d-4441-a925-c907d0171be1",
   "metadata": {},
   "outputs": [],
   "source": [
    "from Module_Symmetry_and_Gauge import Commutator, Show_Commutator"
   ]
  },
  {
   "cell_type": "code",
   "execution_count": 11,
   "id": "d2c0785a-be16-4659-9ad8-506cad794535",
   "metadata": {},
   "outputs": [
    {
     "data": {
      "application/vnd.jupyter.widget-view+json": {
       "model_id": "004c7781b9d342e385199af2517b6b0e",
       "version_major": 2,
       "version_minor": 0
      },
      "text/plain": [
       "HBox(children=(VBox(children=(Text(value='[0, 0, 0, 0, 0, 0]', continuous_update=False, description='User Phas…"
      ]
     },
     "metadata": {},
     "output_type": "display_data"
    }
   ],
   "source": [
    "H = Hopping_Matrix_with_Phase\n",
    "T = Right_Translation_Matrix\n",
    "M = Magnetic_Flux_Matrix\n",
    "#TOOO  adjust space evenly for widget output\n",
    "#TODO think about wheter dispaying the eigenvlaues is usefull for understing the concept\n",
    "comm_HT_widget = widgets.interactive(Show_Commutator,\n",
    "                            A=fixed(H),\n",
    "                            B=fixed(T),\n",
    "                            name_A=fixed(\"H\"),\n",
    "                            name_B=fixed(\"T\"),\n",
    "                            phase=phase_Dropdown,\n",
    "                            n=n_Slider,\n",
    "                            precision=precision_Slider,\n",
    "                            turns=turns_Slider,\n",
    "                        );\n",
    "\n",
    "comm_TM_widget = widgets.interactive(Show_Commutator,\n",
    "                            A=fixed(M),\n",
    "                            B=fixed(T),\n",
    "                            name_A=fixed(\"M\"),\n",
    "                            name_B=fixed(\"T\"),\n",
    "                            n=n_Slider,\n",
    "                            precision=precision_Slider,\n",
    "                            turns=turns_Slider,\n",
    "                        );\n",
    "\n",
    "display(HBox([VBox([phase_Text_Box, comm_HT_widget]),\n",
    "             VBox([widgets.Text(), widgets.Text(), comm_TM_widget])]))"
   ]
  },
  {
   "cell_type": "markdown",
   "id": "668f92f7-de3b-4373-a6d8-7dd69efcb193",
   "metadata": {
    "tags": []
   },
   "source": [
    "# Reflection Symmetry\n",
    "\n",
    "Another important symmetry of our $n$-chain is **reflection** symmetry. A regular $n$-gon has $n$ axis of symmetry, which\n",
    "* are the $n$ lines connecting the midpoints of an edge with its opposite vertex, iff $n$ is odd,\n",
    "\n",
    "or\n",
    "* are $n/2$ lines connecting two opposite vertices and another $n/2$ lines connecting the midpoints of opposite edges (also known as perpendicular bisector), iff $n$ is even\n",
    "\n",
    "To be able to distinguish different vertices and edges we use the following notation:\n",
    "1. We view each $n$-chain (no matter the parity) hanging as if one vertex was attached to a string and beeing pulled down by gravity. This anker vertex is assigned the number 1 \n",
    "2. Every other vertex is numbered upwards going clockwise.\n",
    "3. Each edge is also numbered from 1 to $n$ clockwise starting from the edge on the right of vertex 1.\n",
    "\n",
    "For example, take this pentagon with an axis of reflection going through vertex 1 and the midpoint of edge 3\n",
    "\n",
    "<img src=\"Images_For_Notebooks/pentagon_symmetry_line.png\" width=200 />\n",
    "<figcaption> Fig: 1D NN-Chain with 8 sites and a particle (blue) on site 1</figcaption>\n",
    "\n",
    "TODO: change figure caption and add hexagon with symmetry lines adn caption of `axis` parameter\n",
    "\n",
    "In the code below one can look at different reflection matrices, where the axis of reflection can be chosen via the `axis` parameter, which starts from 1 representing a reflection along the vertical line going through vertex 1. Incrementing `axis` turns the axis of rotation clockwise to the right onto the next symmetry line."
   ]
  },
  {
   "cell_type": "code",
   "execution_count": 12,
   "id": "7124622c-4027-412e-ad21-7b9aa5247709",
   "metadata": {},
   "outputs": [
    {
     "data": {
      "application/vnd.jupyter.widget-view+json": {
       "model_id": "baf255a3357a45dbaaa0280a80694e41",
       "version_major": 2,
       "version_minor": 0
      },
      "text/plain": [
       "interactive(children=(BoundedIntText(value=6, description='$n = $', layout=Layout(width='3cm'), max=10, min=2,…"
      ]
     },
     "metadata": {},
     "output_type": "display_data"
    }
   ],
   "source": [
    "from Module_Symmetry_and_Gauge import Reflection_Matrix, All_Reflections\n",
    "from Module_Widgets_and_Sliders import axis_Slider\n",
    "\n",
    "reflection_widget = widgets.interactive(Reflection_Matrix,\n",
    "                                        n=n_Slider,\n",
    "                                        axis=axis_Slider,\n",
    "                                        show=widgets.fixed(True));\n",
    "\n",
    "display(reflection_widget)"
   ]
  },
  {
   "cell_type": "markdown",
   "id": "ac1ab8ad-3a19-4586-a71b-fbe53555b6fe",
   "metadata": {},
   "source": [
    "Now we can check if reflections commute with $H$ or the magnetic flux Hamiltonian $M$. Turns out, reflections do not commute with $M$, because hopping to the right adds a positive phase (check that) while hopping to the left a negative phase. Reflections break the symmetry in the sign of the phase.\n",
    "\n",
    "Numeric complex numbers are hard to read, but in exponential terms, the only non vanishing entries in the commutator $[R, M]$ are therefore proportional to $$ -\\exp(-\\ii) + \\exp(\\ii) \\approx 1.68 \\ii,$$ which is precisely the difference in phase when hopping left or right."
   ]
  },
  {
   "cell_type": "code",
   "execution_count": 13,
   "id": "249ac0be-430e-4c33-99b5-ac3da84e0593",
   "metadata": {},
   "outputs": [
    {
     "data": {
      "application/vnd.jupyter.widget-view+json": {
       "model_id": "5167211c6e034cbdb1fa878db396d111",
       "version_major": 2,
       "version_minor": 0
      },
      "text/plain": [
       "HBox(children=(VBox(children=(Text(value='[0, 0, 0, 0, 0, 0]', continuous_update=False, description='User Phas…"
      ]
     },
     "metadata": {},
     "output_type": "display_data"
    }
   ],
   "source": [
    "R = Reflection_Matrix\n",
    "#TOOO  adjust space evenly for widget output\n",
    "comm_RH_widget = widgets.interactive(Show_Commutator,\n",
    "                            A=fixed(H),\n",
    "                            B=fixed(R),\n",
    "                            name_A=fixed(\"H\"),\n",
    "                            name_B=fixed(\"R\"),\n",
    "                            phase=phase_Dropdown,\n",
    "                            n=n_Slider,\n",
    "                            precision=precision_Slider,\n",
    "                            axis=axis_Slider,\n",
    "                        );\n",
    "\n",
    "comm_RM_widget = widgets.interactive(Show_Commutator,\n",
    "                            A=fixed(R),\n",
    "                            B=fixed(M),\n",
    "                            name_A=fixed(\"R\"),\n",
    "                            name_B=fixed(\"M\"),\n",
    "                            n=n_Slider,\n",
    "                            precision=precision_Slider,\n",
    "                            axis=axis_Slider,\n",
    "                        );\n",
    "\n",
    "display(HBox([VBox([phase_Text_Box, comm_RH_widget]),\n",
    "             VBox([comm_RM_widget])]))"
   ]
  },
  {
   "cell_type": "markdown",
   "id": "e3374d00-e51b-4e4f-becd-ac06d5fddb11",
   "metadata": {},
   "source": [
    "## Properties of Reflection Matrices\n",
    "\n",
    "* Reflection matrices $R$ are examples of [involutory matrices](https://en.wikipedia.org/wiki/Involutory_matrix) meaning they are there own inverse, i.e. $RR = \\mathbb{1}$.\n",
    "* They are also symmetric, which implies they are unitary (to be specific: orthogonal, because they are purely real) matrices.\n",
    "* Hence, the eigenvalues of reflection matrices are $\\pm 1$.\n",
    "* Reflection matrices are generally **not commutative** for $n \\geq 3$. Moreover the action of two reflections results in a rotation!"
   ]
  },
  {
   "cell_type": "markdown",
   "id": "bc31a672-2138-424d-975a-2a3179377747",
   "metadata": {},
   "source": [
    "The code below calculates the commutator of two reflection matrices as well as the resulting linear operator when applying two reflections. Compare the resulting matrix with the rotation matrices from above."
   ]
  },
  {
   "cell_type": "code",
   "execution_count": 33,
   "id": "cf9c5234-93dd-4f84-b39b-82bbf2ba4740",
   "metadata": {},
   "outputs": [
    {
     "data": {
      "application/vnd.jupyter.widget-view+json": {
       "model_id": "d5b48fdf79784de08e7c384e88696d17",
       "version_major": 2,
       "version_minor": 0
      },
      "text/plain": [
       "HBox(children=(VBox(children=(interactive(children=(IntSlider(value=1, continuous_update=False, description='A…"
      ]
     },
     "metadata": {},
     "output_type": "display_data"
    }
   ],
   "source": [
    "from Module_Symmetry_and_Gauge import Show_Commutator_2, Show_R1_R2\n",
    "from Module_Widgets_and_Sliders import axis2_Slider\n",
    "#TOOO  adjust space evenly for widget output\n",
    "comm_RR_widget = widgets.interactive(Show_Commutator_2,\n",
    "                            A=fixed(R),\n",
    "                            B=fixed(R),\n",
    "                            name_A=fixed(\"R1\"),\n",
    "                            name_B=fixed(\"R2\"),\n",
    "                            axis1=axis_Slider,\n",
    "                            axis2=axis2_Slider,\n",
    "                            n=n_Slider,\n",
    "                            #precision=precision_Slider,\n",
    "                        );\n",
    "\n",
    "R1R2_widget = widgets.interactive(Show_R1_R2,\n",
    "                                  R1 = fixed(R),\n",
    "                                  R2 = fixed(R),\n",
    "                                  n=n_Slider,\n",
    "                                  axis1=axis_Slider,\n",
    "                                  axis2=axis2_Slider,\n",
    "                                 );\n",
    "\n",
    "display(HBox([VBox([comm_RR_widget]),\n",
    "              VBox([R1R2_widget])]))"
   ]
  },
  {
   "cell_type": "markdown",
   "id": "c12586fc-3aab-4594-8cd1-0dda74343753",
   "metadata": {},
   "source": [
    "# The Dihedral group $D_n$\n",
    "\n",
    "An attentive reader will have already figured out, reflections alone are not a closed set under matrix multiplication $ \\implies$ they do not form a group (for $ n \\geq 3 $). Nevertheless, if one includes the set of rotations we end up with a  valid group. The group of roations and reflections of regular $n$-gons, which is called the [Dihedral group $D_n$](https://en.wikipedia.org/wiki/Dihedral_group#Definition). The Cyclic group $C_n$ is a proper Subgroup of $D_n$, that is $C_n \\subset D_n$. This group is non-abelian as we saw that reflections (generally) do not commute and yield rotations. Furthermore reflections and rotations also do not commute and give reflections again.\n",
    "\n",
    "In the code below you can play around with different rotations and reflections, look at the commutator and what kind of transformation originates from a combination of both."
   ]
  },
  {
   "cell_type": "code",
   "execution_count": 34,
   "id": "dc1b27d4-bcde-4a23-9974-f45de06dea30",
   "metadata": {},
   "outputs": [],
   "source": [
    "#TODO add swithc to change order of T and R"
   ]
  },
  {
   "cell_type": "code",
   "execution_count": 37,
   "id": "69cf9734-2392-4b86-80e3-a081ab6c5cac",
   "metadata": {},
   "outputs": [
    {
     "data": {
      "application/vnd.jupyter.widget-view+json": {
       "model_id": "b01b1f79d96d445eb16b59545d3d3a2c",
       "version_major": 2,
       "version_minor": 0
      },
      "text/plain": [
       "HBox(children=(VBox(children=(interactive(children=(BoundedIntText(value=4, description='$n = $', layout=Layou…"
      ]
     },
     "metadata": {},
     "output_type": "display_data"
    }
   ],
   "source": [
    "#TOOO  adjust space evenly for widget output\n",
    "comm_RT_widget = widgets.interactive(Show_Commutator,\n",
    "                            A=fixed(R),\n",
    "                            B=fixed(T),\n",
    "                            name_A=fixed(\"R\"),\n",
    "                            name_B=fixed(\"T\"),\n",
    "                            n=n_Slider,\n",
    "                            axis=axis_Slider,\n",
    "                            turns=turns_Slider,\n",
    "                            #precision=precision_Slider,\n",
    "                        );\n",
    "\n",
    "RT_widget = widgets.interactive(lambda R, T, **kwargs: print(\"R T = \", R(**kwargs) @ T(**kwargs), sep =\"\\n\"),\n",
    "                                  R = fixed(T),\n",
    "                                  T = fixed(R),\n",
    "                                  n=n_Slider,\n",
    "                                  axis=axis_Slider,\n",
    "                                  turns=turns_Slider,\n",
    "                                 );\n",
    "\n",
    "display(HBox([VBox([comm_RT_widget]),\n",
    "              VBox([RT_widget])]))"
   ]
  },
  {
   "cell_type": "code",
   "execution_count": 44,
   "id": "3167556a-b0a0-4ecf-a6b6-f3d79cacf3cf",
   "metadata": {},
   "outputs": [
    {
     "ename": "NameError",
     "evalue": "name 'P' is not defined",
     "output_type": "error",
     "traceback": [
      "\u001b[0;31m---------------------------------------------------------------------------\u001b[0m",
      "\u001b[0;31mNameError\u001b[0m                                 Traceback (most recent call last)",
      "\u001b[0;32m/tmp/ipykernel_8296/31118553.py\u001b[0m in \u001b[0;36m<module>\u001b[0;34m\u001b[0m\n\u001b[0;32m----> 1\u001b[0;31m \u001b[0mprint\u001b[0m\u001b[0;34m(\u001b[0m\u001b[0mR\u001b[0m \u001b[0;34m@\u001b[0m \u001b[0mP\u001b[0m \u001b[0;34m-\u001b[0m \u001b[0mP\u001b[0m \u001b[0;34m@\u001b[0m \u001b[0mR\u001b[0m\u001b[0;34m)\u001b[0m\u001b[0;34m\u001b[0m\u001b[0;34m\u001b[0m\u001b[0m\n\u001b[0m",
      "\u001b[0;31mNameError\u001b[0m: name 'P' is not defined"
     ]
    }
   ],
   "source": [
    "print(R @ P - P @ R)"
   ]
  },
  {
   "cell_type": "code",
   "execution_count": 23,
   "id": "128085aa-3bb4-4607-b53f-ef8f35abd928",
   "metadata": {},
   "outputs": [
    {
     "data": {
      "text/plain": [
       "array([[1., 0., 0., 0., 0., 0.],\n",
       "       [0., 1., 0., 0., 0., 0.],\n",
       "       [0., 0., 1., 0., 0., 0.],\n",
       "       [0., 0., 0., 1., 0., 0.],\n",
       "       [0., 0., 0., 0., 1., 0.],\n",
       "       [0., 0., 0., 0., 0., 1.]])"
      ]
     },
     "execution_count": 23,
     "metadata": {},
     "output_type": "execute_result"
    }
   ],
   "source": [
    "np.linalg.matrix_power(R,4)"
   ]
  },
  {
   "cell_type": "code",
   "execution_count": 25,
   "id": "a1f70e03-40e7-401e-aaf9-ad1402327a1e",
   "metadata": {},
   "outputs": [
    {
     "data": {
      "text/plain": [
       "array([[1., 0., 0., 0., 0., 0.],\n",
       "       [0., 0., 0., 0., 0., 1.],\n",
       "       [0., 0., 0., 0., 1., 0.],\n",
       "       [0., 0., 0., 1., 0., 0.],\n",
       "       [0., 0., 1., 0., 0., 0.],\n",
       "       [0., 1., 0., 0., 0., 0.]])"
      ]
     },
     "execution_count": 25,
     "metadata": {},
     "output_type": "execute_result"
    }
   ],
   "source": [
    "R"
   ]
  },
  {
   "cell_type": "code",
   "execution_count": 124,
   "id": "84b75aa0-5ac9-425e-abf1-8ddb0323c3fb",
   "metadata": {},
   "outputs": [
    {
     "data": {
      "text/plain": [
       "array([-1. +0.j       , -0.5+0.8660254j, -0.5-0.8660254j,  0.5+0.8660254j,\n",
       "        0.5-0.8660254j,  1. +0.j       ])"
      ]
     },
     "execution_count": 124,
     "metadata": {},
     "output_type": "execute_result"
    }
   ],
   "source": [
    "np.linalg.eigvals(P)"
   ]
  },
  {
   "cell_type": "code",
   "execution_count": 125,
   "id": "f365a3cc-36c2-4cf5-ab44-64d8e4b1c57a",
   "metadata": {},
   "outputs": [],
   "source": [
    "_, pvec = np.linalg.eig(P)"
   ]
  },
  {
   "cell_type": "code",
   "execution_count": 130,
   "id": "abd044b1-af1e-46bd-b610-aec998e85445",
   "metadata": {},
   "outputs": [
    {
     "data": {
      "text/plain": [
       "array([[-2.,  0.,  0., -0., -0., -0.],\n",
       "       [ 0., -1.,  0.,  0., -0.,  0.],\n",
       "       [ 0.,  0., -1., -0.,  0.,  0.],\n",
       "       [-0.,  0., -0.,  1.,  0., -0.],\n",
       "       [-0., -0.,  0.,  0.,  1., -0.],\n",
       "       [-0.,  0.,  0., -0., -0.,  2.]])"
      ]
     },
     "execution_count": 130,
     "metadata": {},
     "output_type": "execute_result"
    }
   ],
   "source": [
    "np.round(pvec.T.conj() @ H @ pvec,0).real"
   ]
  },
  {
   "cell_type": "code",
   "execution_count": 138,
   "id": "9041d7df-fd50-4690-b113-efdb5109478c",
   "metadata": {},
   "outputs": [],
   "source": [
    "import test_import \n"
   ]
  },
  {
   "cell_type": "code",
   "execution_count": 71,
   "id": "50f24361-861e-4f2e-a696-6615b42534d1",
   "metadata": {},
   "outputs": [],
   "source": [
    "phase_dict = {\n",
    "    2:[[1,2], [0,2], [-1, 0.45], [np.pi/2, -np.pi/2]],\n",
    "    3:[[1,2,3], [0,2,4], [-1,5,-0.45], [np.pi/2, -np.pi/2, np.pi/2]],\n",
    "    4:[[1,2,3,4], [0,2,4,8], [-1,5,-2,0.45], [np.pi/2, -np.pi/2, np.pi/2, -np.pi/2]],\n",
    "    5:[[1,2,3,4,5], [0,2,4,6,8], [-1,5,-2,1.5,0.45], [np.pi/2, -np.pi/2, np.pi/2, -np.pi/2, np.pi/2]],\n",
    "    6:[[1,2,3,4,5,6], [0,2,4,6,8,10], [-1,5,-2,1.5,-0.83,0.45], [np.pi/2, -np.pi/2, np.pi/2, -np.pi/2, np.pi/2, -np.pi]],\n",
    "    7:[[1,2,3,4,5,6,7], [0,2,4,6,8,10,12], [-1,5,-2,1.5,-0.83,0.7,0.45], [np.pi/2, -np.pi/2, np.pi/2, -np.pi/2, np.pi/2, -np.pi/2, np.pi/2]],\n",
    "    8:[[1,2,3,4,5,6,7,8], [0,2,4,6,8,10,12,14], [-1,5,-2,1.5,-0.83,0.7,-2,0.45], [np.pi/2, -np.pi/2, np.pi/2, -np.pi/2, np.pi/2, -np.pi/2, np.pi/2, -np.pi]],\n",
    "    9:[[1,2,3,4,5,6,7,8,9], [0,2,4,6,8,10,12,14,16], [-1,5,-2,1.5,-0.83,0.7,4,-1,0.45], [np.pi/2, -np.pi/2, np.pi/2, -np.pi/2, np.pi/2, -np.pi/2, np.pi/2, -np.pi/2, np.pi/2]],\n",
    "    10:[[1,2,3,4,5,6,7,8,9,10], [0,2,4,6,8,10,12,14,16,18], [-1,5,-2,1.5,-0.83,0.7,1,-3,-10,0.45], [np.pi/2, -np.pi/2, np.pi/2, -np.pi/2, np.pi/2, -np.pi/2, np.pi/2, -np.pi/2, np.pi/2, -np.pi]]\n",
    "    }\n",
    "\n"
   ]
  },
  {
   "cell_type": "code",
   "execution_count": 91,
   "id": "288ac487-a2a9-4ec9-b3a8-0b026ff3ce8c",
   "metadata": {},
   "outputs": [],
   "source": [
    "a = [(f\"{list(np.round(i, 2))}\", i) for i in phase_dict[6]]\n",
    "test = widgets.Dropdown()"
   ]
  },
  {
   "cell_type": "code",
   "execution_count": 92,
   "id": "ba677165-ee9d-4155-b053-6c9e9084a1b7",
   "metadata": {},
   "outputs": [],
   "source": [
    "test.options = a"
   ]
  },
  {
   "cell_type": "code",
   "execution_count": 93,
   "id": "84965e80-d332-4ae1-b0a2-e75e4a1b003a",
   "metadata": {},
   "outputs": [
    {
     "data": {
      "application/vnd.jupyter.widget-view+json": {
       "model_id": "73d22853b1c0403e81331fd89ad42d7b",
       "version_major": 2,
       "version_minor": 0
      },
      "text/plain": [
       "Dropdown(options=(('[1, 2, 3, 4, 5, 6]', [1, 2, 3, 4, 5, 6]), ('[0, 2, 4, 6, 8, 10]', [0, 2, 4, 6, 8, 10]), ('…"
      ]
     },
     "metadata": {},
     "output_type": "display_data"
    }
   ],
   "source": [
    "test"
   ]
  },
  {
   "cell_type": "code",
   "execution_count": null,
   "id": "c1e0f85d-323e-4a0c-8531-4b7208effe26",
   "metadata": {},
   "outputs": [],
   "source": []
  }
 ],
 "metadata": {
  "kernelspec": {
   "display_name": "Python 3 (ipykernel)",
   "language": "python",
   "name": "python3"
  },
  "language_info": {
   "codemirror_mode": {
    "name": "ipython",
    "version": 3
   },
   "file_extension": ".py",
   "mimetype": "text/x-python",
   "name": "python",
   "nbconvert_exporter": "python",
   "pygments_lexer": "ipython3",
   "version": "3.8.10"
  }
 },
 "nbformat": 4,
 "nbformat_minor": 5
}
