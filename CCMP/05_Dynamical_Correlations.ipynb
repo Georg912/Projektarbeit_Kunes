{
 "cells": [
  {
   "cell_type": "markdown",
   "metadata": {},
   "source": [
    "## Import all the relevant Modules "
   ]
  },
  {
   "cell_type": "code",
   "execution_count": 1,
   "metadata": {},
   "outputs": [],
   "source": [
    "%matplotlib inline\n",
    "\n",
    "\n",
    "#TODO: Rename module shortcuts such as hb into something usefull after development\n",
    "import Modules.M05_Dynamical_Correlations.Module_Dynamical_Hubbard as dh\n",
    "from Modules.M00_General.Module_Widgets_and_Sliders import Save_Figure_Button, Click_Save_Figure, set_filename\n",
    "\n",
    "# default Jupyter widgets\n",
    "import ipywidgets as widgets\n",
    "from ipywidgets import HBox, VBox\n",
    "\n",
    "# Plotting\n",
    "import seaborn as sns\n",
    "sns.set_style(\"darkgrid\")\n",
    "import matplotlib.pyplot as plt\n",
    "plt.rcParams.update({'font.size':14})\n",
    "\n",
    "# for printlenght and save figures button\n",
    "import functools\n",
    "import numpy as np\n",
    "np.set_printoptions(linewidth=150) #set output length, default=75\n",
    "\n",
    "def close_widgets(DIR) -> None:\n",
    "    \"\"\"Close all widgets `wi` and displays `di` in notebook directory `dir()`.\n",
    "    Also clear `Save_Figure_Button`\n",
    "    \"\"\"\n",
    "    for i in range(100):\n",
    "        if f\"w{i}\" in DIR:\n",
    "            exec(f\"w{i}.close()\")\n",
    "        if f\"d{i}\" in DIR:\n",
    "            exec(f\"d{i}.close()\")\n",
    "    # clear `Save_Figure_Button` callbacks, otherwise all previous callbacks are executed and figures are saved multiple times\n",
    "    Save_Figure_Button._click_handlers.callbacks = []\n",
    "            \n",
    "\n",
    "%load_ext autoreload\n",
    "%autoreload 2"
   ]
  },
  {
   "cell_type": "markdown",
   "metadata": {},
   "source": [
    "# Dynamical Correlation Functions\n",
    "<!---  Define a few convenience macros for bra-ket notation. -->\n",
    "$\\newcommand{\\ket}[1]{\\left\\vert{#1}\\right\\rangle}$\n",
    "$\\newcommand{\\bra}[1]{\\left\\langle{#1}\\right\\vert}$\n",
    "$\\newcommand{\\braket}[2]{\\left\\langle{#1}\\middle|{#2}\\right\\rangle}$\n",
    "$\\newcommand{\\dyad}[2]{\\left|{#1}\\middle\\rangle\\middle\\langle{#2}\\right|}$\n",
    "$\\newcommand{\\mel}[3]{\\left\\langle{#1}\\vphantom{#2#3}\\right|{#2}\\left|{#3}\\vphantom{#1#2}\\right\\rangle}$\n",
    "$\\newcommand{\\expval}[1]{\\left\\langle{#1}\\right\\rangle}$\n",
    "$\\newcommand\\dif{\\mathop{}\\!\\mathrm{d}}$\n",
    "$\\newcommand\\ii{\\mathrm{i}}$\n",
    "$\\newcommand{\\coloneqq}{\\mathop{:=}}$\n",
    "$\\newcommand{\\abs}[1]{\\left\\vert{#1}\\right\\vert}$\n",
    "$\\newcommand{\\vb}[1]{\\mathbf{#1}}$\n",
    "$\\newcommand{\\im}[1]{\\operatorname{Im}{#1}}$\n",
    "$\\newcommand{\\re}[1]{\\operatorname{Re}{#1}}$\n",
    "\n",
    "Up until now we only looked at equal-time correlation functions. We want to further look at so-called **dynamical correlation functions** which depend on time $t$ or frequency $\\omega$. To this end we define the time dependent correlation function\n",
    "$$ \\large\n",
    "    \\expval{\\hat{A}(t)\\hat{B}(0)} \\coloneqq \\mel{\\psi_g}{e^{\\ii t \\hat{H}} \\hat{A} e^{-\\ii t \\hat{H}}  \\hat{B}}{\\psi_g},\n",
    "$$\n",
    "where $\\hat{A}$ and $\\hat{B}$ are arbitrary operators and $\\hat{A}(t) \\coloneqq e^{\\ii t \\hat{H}} \\hat{A} e^{-\\ii t \\hat{H}}$ is the time evolution of the operator $\\hat{A}$."
   ]
  },
  {
   "cell_type": "markdown",
   "metadata": {},
   "source": [
    "\n",
    "## Spectral Representation of the Correlation Function\n",
    "By using the completeness relation of the Hamiltonian's eigenfunctions $\\ket{n}$, i.e. $1 = \\sum_n \\dyad{n}{n}$ and the eigenvalue equation for $H$, we can rewrite the correlation function as\n",
    "\n",
    "$$ \\large\n",
    "\\begin{align*} \n",
    "\t\\expval{\\hat{A}(t)\\hat{B}(0)} &\\coloneqq \\mel{\\psi_g}{e^{\\ii t \\hat{H}} \\hat{A} e^{-\\ii t \\hat{H}}  \\hat{B}}{\\psi_g} \\\\\n",
    "\t%\n",
    "\t&= \\sum_n  \\mel{\\psi_g}{e^{\\ii t \\hat{H}} \\hat{A} \\dyad{n}{n} e^{-\\ii t \\hat{H}}  \\hat{B}}{\\psi_g} \\\\\n",
    "\t%\n",
    "\t&= \\sum_n e^{-\\ii t (E_n - E_g)} \\mel{\\psi_g}{ \\hat{A} }{n}\\mel{n} {\\hat{B}}{\\psi_g} \\\\\n",
    "\t%\n",
    "\t&= \\sum_n e^{-\\ii t \\bar{E}_n} \\mel{\\psi_g}{ \\hat{A} }{n}\\mel{n} {\\hat{B}}{\\psi_g},\n",
    "\\end{align*}\n",
    "$$\n",
    "\n",
    "where we defined the energy difference $\\bar{E}_n \\coloneqq E_n - E_g$.\n",
    "Note that we drastically simplified the expression from the complicated exponential of an operator to an exponential of just a number.\n",
    "As we have the sum of exponentials, it is natural to look at the Fourier transform of the correlation function."
   ]
  },
  {
   "cell_type": "markdown",
   "metadata": {},
   "source": [
    "## Fourier Transform of the Correlation Function\n",
    "If one were to naively apply the Fourier transform from time domain $t$ to frequency domain $\\omega$ of the correlation function, one would obtain an expression\n",
    "$$ \\large\n",
    "    \\propto \\int_{-\\infty}^{\\infty} \\dif{t} \\, e^{-\\ii t (\\omega - \\bar{E}_n)}, \n",
    "$$\n",
    "which is unfortunately not well defined as a function, but only in a distributional sence. We will remedy this problem in measurability in a twofold way.\n",
    "First, we will restrict the time range to the interval $[0, \\infty)$.\n",
    "From a physical point of few this implies that we are only interested in the correlation of the system were Operator $\\hat{A}$ is applied after operator $\\hat{B}$ was applied. \n",
    "One calls this the **causal Green's function** \n",
    "\n",
    "$$ \\large\n",
    "    G_{AB}(t) \\coloneqq \\Theta(t) \\mel{\\psi_g}{e^{\\ii t \\hat{H}} \\hat{A} e^{-\\ii t \\hat{H}}  \\hat{B}}{\\psi_g} = \\Theta(t) \\sum_n e^{-\\ii t \\bar{E}_n} \\mel{\\psi_g}{ \\hat{A} }{n}\\mel{n} {\\hat{B}}{\\psi_g}.\n",
    "$$,\n",
    "where $\\Theta(t)$ is the Heaviside step function.\n",
    "\n",
    "The second step is to promote $\\omega$ to a complex number, i.e. $\\omega \\to \\Omega \\coloneqq \\omega + \\ii \\delta$. We can therefore evaluate the Fourier transformation of the causal Green's function as\n",
    "\n",
    "$$ \\large\n",
    "    \\int_{-\\infty}^{\\infty} \\dif{t} \\, \\Theta(t) \\, e^{-\\ii t (\\omega - \\bar{E}_n)} =  \\int_{0}^{\\infty} \\dif{t} \\, e^{-\\ii t (\\omega - \\bar{E}_n)} = \\frac{1}{\\omega + \\ii \\delta - \\bar{E}_n} \\quad \\mathrm{for} \\quad \\delta > 0.\n",
    "$$\n",
    "\n",
    "To finally obtain the Fourier transform of the causal Green's function we have to take the limit $\\delta \\to 0$ from above, which gives (keeping in mind, that a distribution is only defined via integration by a test function)\n",
    "\n",
    "$$ \\large\n",
    "    \\lim_{\\delta \\to 0} \\frac{1}{\\omega + \\ii \\delta - \\bar{E}_n} = \\mathrm{P.V.} \\left(\\int_{-\\infty}^{\\infty} \\dif{\\omega} \\,\\frac{1}{\\omega - \\bar{E}_n}\\right) - \\ii \\pi \\delta(\\omega - \\bar{E}_n),\n",
    "$$\n",
    "\n",
    "where $\\mathrm{P.V.}$ denotes the principal value of an integral. \n",
    "This results in our final result for the Fourier transform of the causal Green's function\n",
    "\n",
    "$$ \\large\n",
    "\t\\tilde{G}_{AB}(\\omega) \\coloneqq \\expval{\\hat{A}\\hat{B}}_\\omega \\coloneqq \\sum_n \\mel{\\psi_g}{ \\hat{A} }{n}\\mel{n} {\\hat{B}}{\\psi_g} \\left( \\mathrm{P.V.} \\left(\\int_{-\\infty}^{\\infty} \\dif{\\omega} \\,\\frac{1}{\\omega - \\bar{E}_n}\\right) - \\ii \\pi \\delta(\\omega - \\bar{E}_n)\\right).\n",
    "$$"
   ]
  },
  {
   "cell_type": "markdown",
   "metadata": {},
   "source": [
    "## Numerical Approximation of $\\tilde{G}_{AB}(\\omega)$\n",
    "\n",
    "Since neither the principal value nor the delta distribution are well defined in a numerical sense, to visualize them we have to approximate them by using **Lorentzian curves** for the real and imaginary part of $\\tilde{G}_{AB}(\\omega)$. \n",
    "These Lorentzian curves are thus defined as\n",
    "$$\n",
    "\\large\n",
    "\\begin{align*} \n",
    "\t\\im{\\tilde{G}_{AB}(\\omega)} &\\approx \\sum_n  \\mel{\\psi_g}{ \\hat{A} }{n}\\mel{n} {\\hat{B}}{\\psi_g} \\left( \\frac{\\delta / 2}{(\\omega - \\bar{E}_n)^2 + \\delta^2} \\right) \\\\\n",
    "\t%\n",
    "\t\\re{\\tilde{G}_{AB}(\\omega)} &\\approx \\sum_n  \\mel{\\psi_g}{ \\hat{A} }{n}\\mel{n} {\\hat{B}}{\\psi_g} \\left( \\frac{\\bar{E}_n - \\omega }{(\\omega - \\bar{E}_n)^2 + \\delta^2} \\right),\n",
    "\\end{align*}\n",
    "$$\n",
    "where $\\delta \\ll 1$ is a small parameter that assures finite width of the Lorentzian curves."
   ]
  },
  {
   "cell_type": "code",
   "execution_count": 2,
   "metadata": {},
   "outputs": [],
   "source": [
    "# create instance of DynamicalHubbard class\n",
    "h1 = dh.DynamicalHubbard()\n",
    "\n",
    "# layout of widgets\n",
    "box_layout = widgets.Layout(border='solid 2px')"
   ]
  },
  {
   "cell_type": "markdown",
   "metadata": {},
   "source": [
    "## Spin-Spin Correlation Functions"
   ]
  },
  {
   "cell_type": "markdown",
   "metadata": {},
   "source": [
    "In the two widgets below you can explore the real an imaginary part of the Fourier transformed causal Green's function of the spin-spin correlation for the Hubbard model. Due to symmetry reasons, some combinations of $i$ and $j$ are equivalent, e.g. for $n=6$ we have $\\expval{\\hat{S_1}\\hat{\n",
    "S_2}}_\\omega = \\expval{\\hat{S_1}\\hat{S_6}}_\\omega$, which is why we only show the minimal subset containing all different combinations\n",
    "\n",
    "By changing the value of $U$ the spectral weight is shifted to higher energies, while the width of the Lorentzian curves is determined by the value of $\\delta$. Setting $\\delta = 0$ would result in a delta distribution, which is not well-defined in a numerical sense, and will instead set $\\delta = 10^{-5}$.\n",
    "\n",
    "One can adjust the range of $\\omega$ via the range slider, which allows plotting over negative values of $\\omega$. Due to the symmetry of the Hubbard model, the spectral weight is symmetric around $\\omega = 0$, which can be explored by the user.\n",
    "\n",
    "### Real-Space"
   ]
  },
  {
   "cell_type": "code",
   "execution_count": 3,
   "metadata": {},
   "outputs": [
    {
     "data": {
      "application/vnd.jupyter.widget-view+json": {
       "model_id": "e05b05c366b04680943469d2464b9d16",
       "version_major": 2,
       "version_minor": 0
      },
      "text/plain": [
       "VBox(children=(HBox(children=(Button(description='Save Current Figure', layout=Layout(width='5cm'), style=Butt…"
      ]
     },
     "metadata": {},
     "output_type": "display_data"
    }
   ],
   "source": [
    "close_widgets(dir())\n",
    "\n",
    "#create the widget\n",
    "w1 = widgets.interactive(lambda **kwargs: h1.Plot_G_SzSz(Lorentzian=\"Imaginary\"), w=h1.omega_range, u=h1.u25, d=h1.delta, n=h1.n, s_up=h1.s_up, s_down=h1.s_down, box=h1.t_ij);\n",
    "\n",
    "# create the save figure button\n",
    "filename = set_filename(\"Dynamical_Spin-Spin_Correlation_Imaginary.pdf\")\n",
    "Save_Figure_Button.on_click(functools.partial(Click_Save_Figure, widget=w1, name_widget=filename, output=h1.out, path=\"Figures/\"))\n",
    "\n",
    "# vertical and horizontal box for widgets\n",
    "d1 = VBox([\n",
    "    \tHBox([Save_Figure_Button, filename, h1.out], layout=box_layout),\n",
    "        HBox([\n",
    "            VBox(w1.children[0:3], layout=box_layout),\n",
    "\t\t\tVBox(w1.children[3:6], layout=box_layout),\n",
    "\t\t\tVBox([w1.children[6]], layout=box_layout)\n",
    "\t\t\t]),\n",
    "        w1.children[-1],\n",
    "\t\t])\n",
    "\n",
    "display(d1)\n",
    "w1.update()\t# otherwise graph will only appear after the first interaction"
   ]
  },
  {
   "cell_type": "code",
   "execution_count": 4,
   "metadata": {},
   "outputs": [
    {
     "data": {
      "application/vnd.jupyter.widget-view+json": {
       "model_id": "5b26b6253519426bbbb6ab570c42a965",
       "version_major": 2,
       "version_minor": 0
      },
      "text/plain": [
       "VBox(children=(HBox(children=(Button(description='Save Current Figure', layout=Layout(width='5cm'), style=Butt…"
      ]
     },
     "metadata": {},
     "output_type": "display_data"
    }
   ],
   "source": [
    "close_widgets(dir())\n",
    "\n",
    "#create the widhet\n",
    "w2 = widgets.interactive(lambda **kwargs: h1.Plot_G_SzSz(Lorentzian=\"Real\"), w=h1.omega_range, u=h1.u25, d=h1.delta, n=h1.n, s_up=h1.s_up, s_down=h1.s_down, box=h1.t_ij);\n",
    "\n",
    "# create the save figure button\n",
    "filename = set_filename(\"Dynamical_Spin-Spin_Correlation_Real.pdf\")\n",
    "Save_Figure_Button.on_click(functools.partial(Click_Save_Figure, widget=w2, name_widget=filename, output=h1.out, path=\"Figures/\"))\n",
    "\n",
    "# vertical and horizontal box for widgets\n",
    "d2 = VBox([\n",
    "    \tHBox([Save_Figure_Button, filename, h1.out], layout=box_layout),\n",
    "        HBox([\n",
    "            VBox(w2.children[0:3], layout=box_layout),\n",
    "\t\t\tVBox(w2.children[3:6], layout=box_layout),\n",
    "\t\t\tVBox([w2.children[6]], layout=box_layout)\n",
    "\t\t\t]),\n",
    "        w2.children[-1],\n",
    "\t\t])\n",
    "\n",
    "display(d2)\n",
    "w2.update()\t# otherwise graph will only appear after the first interaction"
   ]
  },
  {
   "cell_type": "markdown",
   "metadata": {},
   "source": [
    "### Reciprocal-Space\n",
    "\n",
    "Like in the previous notebook we can use translation symmetry to reduce the number of different real-space correlation functions ($n^2$) we have to calculate to just $\\left \\lfloor n/2 \\right \\rfloor$ non-zero, reciprocal-space functions, holding all the information. Of course one can switch back and forth from one representation to the other via a Fourier transform.\n",
    "\n",
    "The widget below shows the imaginary and real part of all relevant time-dependent, reciprocal-space correlation functions $\\expval{S_z(\\vb k) S_z(-\\vb k)}_\\omega$ as a function of the interaction strength $U$. Note that in this case we have no symmetry around $\\omega = 0$. Also, for $k=0 \\cdot \\pi$ the correlation function is identically zero."
   ]
  },
  {
   "cell_type": "code",
   "execution_count": 6,
   "metadata": {},
   "outputs": [
    {
     "data": {
      "application/vnd.jupyter.widget-view+json": {
       "model_id": "f0b5e9717cb747b5b56481d21bfd8a8b",
       "version_major": 2,
       "version_minor": 0
      },
      "text/plain": [
       "VBox(children=(HBox(children=(Button(description='Save Current Figure', layout=Layout(width='5cm'), style=Butt…"
      ]
     },
     "metadata": {},
     "output_type": "display_data"
    }
   ],
   "source": [
    "close_widgets(dir())\n",
    "\n",
    "#create the widhet\n",
    "w3 = widgets.interactive(h1.Plot_G_SzkSzk, w=h1.omega_range, u=h1.u25, d=h1.delta, n=h1.n, s_up=h1.s_up, s_down=h1.s_down, box=h1.t_ij);\n",
    "\n",
    "# create the save figure button\n",
    "filename = set_filename(\"Reciprocal_Dynamical_Spin-Spin_Correlation.pdf\")\n",
    "Save_Figure_Button.on_click(functools.partial(Click_Save_Figure, widget=w3, name_widget=filename, output=h1.out, path=\"Figures/\"))\n",
    "\n",
    "# vertical and horizontal box for widgets\n",
    "d3 = VBox([\n",
    "    \tHBox([Save_Figure_Button, filename, h1.out], layout=box_layout),\n",
    "        HBox([\n",
    "            VBox(w3.children[0:3], layout=box_layout),\n",
    "\t\t\tVBox(w3.children[3:6], layout=box_layout),\n",
    "\t\t\tVBox([w3.children[6]], layout=box_layout)\n",
    "\t\t\t]),\n",
    "        w3.children[-1],\n",
    "\t\t])\n",
    "\n",
    "display(d3)\n",
    "w3.update()\t# otherwise graph will only appear after the first interaction"
   ]
  },
  {
   "cell_type": "markdown",
   "metadata": {},
   "source": [
    "## Electronic Propagators\n",
    "\n",
    "At the beginning of these notebooks we introduced a lot of symmetry concepts and conservation laws to reduce the computational effort. \n",
    "For example, in the Hubbard Hamiltonian we have the conservation of the total number of particles $N$, the total spin $S^2$, as well as conservation of the spin component $S_z$.\n",
    "These allowed us to basically reduce the dimension of the Hilbert space to significantly less than $2^N$. In terms of matrices this means that we can diagonalise the Hamiltonian in a block-wise fashion, where each block corresponds to a certain number of spin-up and spin-down particles. There are $N^2$ blocks in total due to the different combinations of spin up and spin down particles.\n",
    "\n",
    "Up until now it was sufficient to only look at one of these sectors, but now we want to look at electronic propagators of the form\n",
    "\n",
    "$$\n",
    "\\large\n",
    "\\expval{\\hat{c}_{j,\\uparrow}(t)\\hat{c}^\\dagger_{i,\\uparrow}(0)} \\coloneqq \\mel{\\psi_g}{e^{\\ii t \\hat{H}} \\hat{c}_{j,\\uparrow} e^{-\\ii t \\hat{H}}  \\hat{c}^\\dagger_{i,\\uparrow}}{\\psi_g},\n",
    "$$\n",
    "also known as one-particle correlation function or one-particle propagator, that temporarily change the number of electrons in the system. Here $\\hat{c}_{j,\\uparrow}$ is the annihilation operator for an electron with spin up at site $j$ and $\\hat{c}^\\dagger_{i,\\uparrow}$ is the creation operator for an electron with spin up at site $i$. Thus, the operator $\\hat{c}_{j,\\uparrow} \\hat{c}^\\dagger_{i,\\uparrow}$ creates an electron at site $i$ and annihilates it at site $j$ after time $t$.\n",
    "\n",
    "After applying the creation/annihilation operator, the number of electrons in the system is changed by $\\pm 1$, which means that we have to look at a different sector in the Hamiltonian's matrix representation to perform the time evolution $\\exp(-\\ii t \\hat{H})$. Thus we also have to calculate the matrix representation and the basis states for these two other sectors."
   ]
  },
  {
   "cell_type": "markdown",
   "metadata": {},
   "source": [
    "### Creation and Annihilation Operators\n",
    "\n",
    "All the operators we encountered so far were represented by square matrices, which is not (necessarily) the case for the creation and annihilation operators. As mentioned above this is the first time we have to deal with operators that change the number of particles in the system and thus move us from one sector to another. To better illustrate this, let us look at a $n=3$ sited system with $s_\\mathrm{up} = 1$ and $s_\\mathrm{down} = 2$ particles. There are 9 possibly basis states in this system. The spin up creation and annihilation operators (in our convention) are thus given by\n",
    "\n",
    "$$\n",
    "\\begin{alignat*}{3}\n",
    "\\hat{c}_{1,\\uparrow} &= \\begin{pmatrix}\n",
    "0 & 0 & 0 & 0 & 0 & 0 & 1 & 0 & 0 \\\\\n",
    "  0 & 0 & 0 & 0 & 0 & 0 & 0 & 1 & 0 \\\\\n",
    "  0 & 0 & 0 & 0 & 0 & 0 & 0 & 0 & 1\n",
    "\\end{pmatrix},& \\;\n",
    "%\n",
    "\\hat{c}_{2,\\uparrow} &= \\begin{pmatrix}\n",
    "0 & 0 & 0 & 1 & 0 & 0 & 0 & 0 & 0 \\\\\n",
    "  0 & 0 & 0 & 0 & 1 & 0 & 0 & 0 & 0 \\\\\n",
    "  0 & 0 & 0 & 0 & 0 & 1 & 0 & 0 & 0\n",
    "\\end{pmatrix},& \\;\n",
    "%\n",
    "\\hat{c}_{3,\\uparrow} &= \\begin{pmatrix}\n",
    "1 & 0 & 0 & 0 & 0 & 0 & 0 & 0 & 0 \\\\\n",
    "  0 & 1 & 0 & 0 & 0 & 0 & 0 & 0 & 0 \\\\\n",
    "  0 & 0 & 1 & 0 & 0 & 0 & 0 & 0 & 0\n",
    "\\end{pmatrix}\\;\n",
    "\\\\\n",
    "\\\\\n",
    "\\hat{c}^\\dagger_{1,\\uparrow} &= \\begin{pmatrix}\n",
    "0 & 0 & 0 & 0 & 0 & 0 & 0 & 0 & 0 \\\\\n",
    "  0 & 0 & 0 & 0 & 0 & 0 & 0 & 0 & 0 \\\\\n",
    "  0 & 0 & 0 & 0 & 0 & 0 & 0 & 0 & 0 \\\\\n",
    "  -1 & 0 & 0 & 0 & 0 & 0 & 0 & 0 & 0 \\\\\n",
    "  0 & -1 & 0 & 0 & 0 & 0 & 0 & 0 & 0 \\\\\n",
    "  0 & 0 & -1 & 0 & 0 & 0 & 0 & 0 & 0 \\\\\n",
    "  0 & 0 & 0 & -1 & 0 & 0 & 0 & 0 & 0 \\\\\n",
    "  0 & 0 & 0 & 0 & -1 & 0 & 0 & 0 & 0 \\\\\n",
    "  0 & 0 & 0 & 0 & 0 & -1 & 0 & 0 & 0\n",
    "\\end{pmatrix},& \\;\n",
    "%\n",
    "\\hat{c}^\\dagger_{2,\\uparrow} &= \\begin{pmatrix}\n",
    "-1 & 0 & 0 & 0 & 0 & 0 & 0 & 0 & 0 \\\\\n",
    "  0 & -1 & 0 & 0 & 0 & 0 & 0 & 0 & 0 \\\\\n",
    "  0 & 0 & -1 & 0 & 0 & 0 & 0 & 0 & 0 \\\\\n",
    "  0 & 0 & 0 & 0 & 0 & 0 & 0 & 0 & 0 \\\\\n",
    "  0 & 0 & 0 & 0 & 0 & 0 & 0 & 0 & 0 \\\\\n",
    "  0 & 0 & 0 & 0 & 0 & 0 & 0 & 0 & 0 \\\\\n",
    "  0 & 0 & 0 & 0 & 0 & 0 & 1 & 0 & 0 \\\\\n",
    "  0 & 0 & 0 & 0 & 0 & 0 & 0 & 1 & 0 \\\\\n",
    "  0 & 0 & 0 & 0 & 0 & 0 & 0 & 0 & 1\n",
    "\\end{pmatrix},& \\;\n",
    "%\n",
    "\\hat{c}^\\dagger_{3,\\uparrow} &= \\begin{pmatrix}\n",
    "0 & 0 & 0 & 1 & 0 & 0 & 0 & 0 & 0 \\\\\n",
    "  0 & 0 & 0 & 0 & 1 & 0 & 0 & 0 & 0 \\\\\n",
    "  0 & 0 & 0 & 0 & 0 & 1 & 0 & 0 & 0 \\\\\n",
    "  0 & 0 & 0 & 0 & 0 & 0 & 1 & 0 & 0 \\\\\n",
    "  0 & 0 & 0 & 0 & 0 & 0 & 0 & 1 & 0 \\\\\n",
    "  0 & 0 & 0 & 0 & 0 & 0 & 0 & 0 & 1 \\\\\n",
    "  0 & 0 & 0 & 0 & 0 & 0 & 0 & 0 & 0 \\\\\n",
    "  0 & 0 & 0 & 0 & 0 & 0 & 0 & 0 & 0 \\\\\n",
    "  0 & 0 & 0 & 0 & 0 & 0 & 0 & 0 & 0\n",
    "\n",
    "\\end{pmatrix}\n",
    "\\end{alignat*}\n",
    "$$\n",
    "\n",
    "Notice how this sector's annihilation operators are not square matrices, but instead have only 3 rows and 9 columns. This is because there are only three basis states in the sector with one spin up particle less. The creation operators in this case are 9x9 square matrices, since there are 9 basis states in the sector with one spin up particle more.\n",
    "\n",
    "We can also observe that some rows and columns are zero, which indicates that the corresponding basis states at position $i$ already contains an electron, and we cannot add another one or position $i$ does not contain an electron, and we thus cannot remove one. "
   ]
  },
  {
   "cell_type": "markdown",
   "metadata": {},
   "source": [
    "### Reciprocal-Space\n",
    "\n",
    "As always, we can also Fourier Transform these operators via\n",
    "\n",
    "$$\n",
    "\\large\n",
    "\\begin{align*}\n",
    " \t\\hat{c}_{\\uparrow}(\\vb k) &:= \\frac{1}{\\sqrt{N}}\\sum_{\\vb k} \\exp(-\\ii \\vb k \\cdot \\vb R) \\hat{c}_{i,\\uparrow},\\\\\n",
    "\t\\hat{c}^\\dagger_{\\uparrow}(\\vb k') &:= \\frac{1}{\\sqrt{N}}\\sum_{\\vb k'} \\exp(\\ii \\vb k' \\cdot \\vb R) \\hat{c}^\\dagger_{i,\\uparrow},\n",
    "\\end{align*}\n",
    "$$\n",
    "to obtain the reciprocal-space representation of the creation and annihilation operators, which again reduces the number of non-zero Green's functions we have to deal with from $n^2$ correlations of the form $\\expval{\\hat{c}_{j,\\uparrow}\\hat{c}^\\dagger_{i,\\uparrow}}_\\omega $ to only $\\left \\lfloor n/2 \\right \\rfloor$ of the form $\\expval{\\hat{c}(k)\\hat{c}^\\dagger(k)}_\\omega$.\n",
    "Here we already implicitly assumed that the system is translationally invariant such that this time $k' = k$ dude to the conjugation of the Fourier transform for the daggered creation operator.\n",
    "\n",
    "For the sake of completeness, we also show the reciprocal-space representation of the spin up creation and annihilation operators for the same system with three sites:\n",
    "\n",
    "\n",
    "$$\n",
    "\\begin{alignat*}{3}\n",
    "\\hat{c}_{\\uparrow}(0) &= \\begin{pmatrix}\n",
    " a & 0 & 0 & a & 0 & 0 & a & 0 & 0 \\\\\n",
    " 0 & a & 0 & 0 & a & 0 & 0 & a & 0 \\\\\n",
    " 0 & 0 & a & 0 & 0 & a & 0 & 0 & a \\\\\n",
    "\\end{pmatrix},& \\;\n",
    "%\n",
    "\\hat{c}_{\\uparrow}(1) &= \\begin{pmatrix}\n",
    "b & 0 & 0 & \\overline{b} & 0 & 0 & a & 0 & 0 \\\\\n",
    " 0 & b & 0 & 0 & \\overline{b} & 0 & 0 & a & 0 \\\\\n",
    " 0 & 0 & b & 0 & 0 & \\overline{b} & 0 & 0 & a \\\\\n",
    "\\end{pmatrix},& \\;\n",
    "%\n",
    "\\hat{c}_{\\uparrow}(2) &= \\begin{pmatrix}\n",
    "\\overline{b} & 0 & 0 & b & 0 & 0 & a & 0 & 0 \\\\\n",
    " 0 & \\overline{b} & 0 & 0 & b & 0 & 0 & a & 0 \\\\\n",
    " 0 & 0 & \\overline{b} & 0 & 0 & b & 0 & 0 & a \\\\\n",
    "\\end{pmatrix}\\;\n",
    "\\\\\n",
    "\\\\\n",
    "\\hat{c}^\\dagger_{\\uparrow}(0) &= \\begin{pmatrix}\n",
    " -a & 0 & 0 & a & 0 & 0 & 0 & 0 & 0 \\\\\n",
    " 0 & -a & 0 & 0 & a & 0 & 0 & 0 & 0 \\\\\n",
    " 0 & 0 & -a & 0 & 0 & a & 0 & 0 & 0 \\\\\n",
    " -a & 0 & 0 & 0 & 0 & 0 & a & 0 & 0 \\\\\n",
    " 0 & -a & 0 & 0 & 0 & 0 & 0 & a & 0 \\\\\n",
    " 0 & 0 & -a & 0 & 0 & 0 & 0 & 0 & a \\\\\n",
    " 0 & 0 & 0 & -a & 0 & 0 & a & 0 & 0 \\\\\n",
    " 0 & 0 & 0 & 0 & -a & 0 & 0 & a & 0 \\\\\n",
    " 0 & 0 & 0 & 0 & 0 & -a & 0 & 0 & a \\\\\n",
    "\\end{pmatrix},& \\;\n",
    "%\n",
    "\\hat{c}^\\dagger_{\\uparrow}(1) &= \\begin{pmatrix}\n",
    " -b & 0 & 0 & \\overline{b} & 0 & 0 & 0 & 0 & 0 \\\\\n",
    " 0 & -b & 0 & 0 & \\overline{b} & 0 & 0 & 0 & 0 \\\\\n",
    " 0 & 0 & -b & 0 & 0 & \\overline{b} & 0 & 0 & 0 \\\\\n",
    " -a & 0 & 0 & 0 & 0 & 0 & \\overline{b} & 0 & 0 \\\\\n",
    " 0 & -a & 0 & 0 & 0 & 0 & 0 & \\overline{b} & 0 \\\\\n",
    " 0 & 0 & -a & 0 & 0 & 0 & 0 & 0 & \\overline{b} \\\\\n",
    " 0 & 0 & 0 & -a & 0 & 0 & b & 0 & 0 \\\\\n",
    " 0 & 0 & 0 & 0 & -a & 0 & 0 & b & 0 \\\\\n",
    " 0 & 0 & 0 & 0 & 0 & -a & 0 & 0 & b \\\\\n",
    "\\end{pmatrix},& \\;\n",
    "%\n",
    "\\hat{c}^\\dagger_{\\uparrow}(2) &= \\begin{pmatrix}\n",
    "-\\overline{b} & 0 & 0 & b & 0 & 0 & 0 & 0 & 0 \\\\\n",
    " 0 & -\\overline{b} & 0 & 0 & b & 0 & 0 & 0 & 0 \\\\\n",
    " 0 & 0 & -\\overline{b} & 0 & 0 & b & 0 & 0 & 0 \\\\\n",
    " -a & 0 & 0 & 0 & 0 & 0 & b & 0 & 0 \\\\\n",
    " 0 & -a & 0 & 0 & 0 & 0 & 0 & b & 0 \\\\\n",
    " 0 & 0 & -a & 0 & 0 & 0 & 0 & 0 & b \\\\\n",
    " 0 & 0 & 0 & -a & 0 & 0 & \\overline{b} & 0 & 0 \\\\\n",
    " 0 & 0 & 0 & 0 & -a & 0 & 0 & \\overline{b} & 0 \\\\\n",
    " 0 & 0 & 0 & 0 & 0 & -a & 0 & 0 & \\overline{b} \\\\\n",
    "\\end{pmatrix}\\;\n",
    "\\end{alignat*}\n",
    "$$\n",
    "Here we used the abbreviations $a = \\frac{1}{\\sqrt{3}} \\approx 0.58$, $b = \\frac{1}{2\\sqrt{3}}(\\ii-\\sqrt{3})\\approx -0.29 - 0.5\\ii$ and $\\overline{b}$ for the complex conjugate of $b$."
   ]
  },
  {
   "cell_type": "markdown",
   "metadata": {},
   "source": [
    "## Chemical Potential $\\mu$\n",
    "\n",
    "To account for the fact, that we have now operators that change the number of particles in the system, we have to introduce a new parameter $\\mu$, the so-called **chemical potential** and adjust the Hamiltonian to\n",
    "\n",
    "$$\n",
    "\\large\n",
    "\\hat{H} = -t \\sum_{\\langle i,j \\rangle, \\sigma} \\hat{c}^\\dagger_{i,\\sigma} \\hat{c}_{j,\\sigma} + U \\sum_i \\hat{n}_{i,\\uparrow} \\hat{n}_{i,\\downarrow} - \\mu \\sum_{i,\\sigma} \\hat{n}_{i,\\sigma},\n",
    "$$\n",
    "where $\\hat{n}_{i,\\sigma} \\coloneqq \\hat{c}^\\dagger_{i,\\sigma} \\hat{c}_{i,\\sigma}$ is the number operator for spin $\\sigma$ at site $i$.\n",
    "The chemical is the energy required to add an electron to the system, and it essentially shifts the one-particle energy of all states by $\\pm\\mu$.\n",
    "Without this parameter, if we were to increase the value of $U$ we might shift the ground state away from the sector we are interested in.\n",
    "To avoid this, we can adjust the chemical potential to compensate for an increase in $U$ such that the ground state is always in the sector we are interested in by setting $\\mu = \\frac{U}{2}$.\n",
    "\n",
    "As with on-site interactions, the third term with the chemical potential $\\mu$ is diagonal in the basis of the number of particles.\n",
    "Thus, we can simply add/subtract $\\mu$ from the energies $E_n \\mapsto E_n \\pm \\mu$ in our numerical approximations for the Fourier transform of the causal Green's function $\\tilde{G}_{AB}(\\omega)$."
   ]
  },
  {
   "cell_type": "markdown",
   "metadata": {},
   "source": [
    "## One-Particle Spectral Function\n",
    "With all the tools developed above we can finally look at the one-particle spectral function $A(\\omega)$ defined via\n",
    "\n",
    "$$\n",
    "\\large\n",
    "\tA(\\omega) \\coloneqq \\begin{cases}\n",
    "\t\\sum\\limits_l \\abs{\\mel{n+1, 0}{ \\hat{c}^\\dagger_{i,\\uparrow} }{n, l}}^2 \\delta\\left(\\omega - (E_{n+1}^l - E_{n}^0 - \\mu)\\right) & \\mathrm{for} \\quad \\omega > 0, \\\\\n",
    "\t\\sum\\limits_l \\abs{\\mel{n-1, 0}{ \\hat{c}^\\dagger_{i,\\uparrow} }{n, l}}^2 \\delta\\left(\\omega - (E_{n-1}^l - E_{n}^0 + \\mu)\\right) & \\mathrm{for} \\quad \\omega < 0,\n",
    "\\end{cases}\n",
    "$$\n",
    "where $\\ket{n, l}$ is the $l$-th eigenstate (ordered ascending from the ground state $l=0$) in the sector with $n$ electrons and $E_{n}^l$ is the corresponding energy. Hence, with this convention the electron removal frequency $\\omega$ is negative and the electron addition frequency is positive.\n",
    "We can, as always, also use the reciprocal-space representation of the creation $\\hat{c}^\\dagger_{\\uparrow}(k)$ and annihilation $\\hat{c}_{\\uparrow}(k)$ operators to obtain the reciprocal-space representation of the spectral function $\\tilde{A}(\\omega, k)$"
   ]
  },
  {
   "cell_type": "code",
   "execution_count": 3,
   "metadata": {},
   "outputs": [],
   "source": [
    "from Modules.M05_Dynamical_Correlations.Module_Dynamical_Hubbard import Sector\n",
    "hp = dh.DynamicalHubbardPropagator()\n",
    "# layout of widgets\n",
    "box_layout = widgets.Layout(border='solid 2px')\n",
    "close_widgets(dir())"
   ]
  },
  {
   "cell_type": "markdown",
   "metadata": {},
   "source": [
    "In the widget below you can observe the Fourier Transform of the one-particle spectral function for the Hubbard model.\n",
    "One can change the number of sites $n$ and the number of spin-up and spin-down particles in the system, as well as the interaction strength $U$ and the chemical potential $\\mu$. The chemical potential is initially set to $\\mu = \\frac{U}{2}$, which is the value that keeps the ground state in the sector we are interested. Note that by changing mu, we only shift the spectral function to the left or right, but do not change its shape.\n",
    "\n",
    "The range of $\\omega$ can be adjusted via the range slider, which allows plotting over negative values of $\\omega$.\n",
    "We only show the $\\left \\lfloor n/2 \\right \\rfloor + 1$ non-zero spectral functions, where $k = k'$, where we plot the contributions from the electron creation operator $\\hat{c}^\\dagger_{\\uparrow}(k)$ in orange and the electron annihilation operator $\\hat{c}_{\\uparrow}(k)$ in blue separately.\n",
    "\n",
    "Finally, the last image shows the local one-particle spectral functions for the sites $i$ and $j$, which can also be adjusted via their respective combo boxes.\n",
    "Note the part attributed to the creation operator is shown in red and the part of the annihilation operator is shown in green."
   ]
  },
  {
   "cell_type": "code",
   "execution_count": 5,
   "metadata": {},
   "outputs": [
    {
     "data": {
      "application/vnd.jupyter.widget-view+json": {
       "model_id": "6fbfdedeb9cd4f9a9e56abca4a8f3253",
       "version_major": 2,
       "version_minor": 0
      },
      "text/plain": [
       "VBox(children=(HBox(children=(Button(description='Save Current Figure', layout=Layout(width='5cm'), style=Butt…"
      ]
     },
     "metadata": {},
     "output_type": "display_data"
    }
   ],
   "source": [
    "close_widgets(dir())\n",
    "\n",
    "#create the widhet\n",
    "w4 = widgets.interactive(hp.Plot_A_w, w=hp.omega_range, u=hp.u25, d=hp.delta, m=hp.mu, n=hp.n, s_up=hp.s_up, s_down=hp.s_down, box=hp.t_ij, i=hp.site_i, j=hp.site_j);\n",
    "\n",
    "# create the save figure button\n",
    "filename = set_filename(\"One-Particle_Spectral_Function.pdf\")\n",
    "Save_Figure_Button.on_click(functools.partial(Click_Save_Figure, widget=w4, name_widget=filename, output=hp.out, path=\"Figures/\"))\n",
    "\n",
    "# vertical and horizontal box for widgets\n",
    "d4 = VBox([\n",
    "    \tHBox([Save_Figure_Button, filename, hp.out], layout=box_layout),\n",
    "        HBox([\n",
    "            VBox(w4.children[0:4], layout=box_layout),\n",
    "\t\t\tVBox(w4.children[4:7], layout=box_layout),\n",
    "\t\t\tVBox(w4.children[7:10], layout=box_layout)\n",
    "\t\t\t]),\n",
    "        w4.children[-1],\n",
    "\t\t])\n",
    "\n",
    "display(d4)\n",
    "w4.update()\t# otherwise graph will only appear after the first interaction"
   ]
  },
  {
   "cell_type": "code",
   "execution_count": null,
   "metadata": {},
   "outputs": [],
   "source": []
  }
 ],
 "metadata": {
  "kernelspec": {
   "display_name": "projektarbeit_kunes_311",
   "language": "python",
   "name": "python3"
  },
  "language_info": {
   "codemirror_mode": {
    "name": "ipython",
    "version": 3
   },
   "file_extension": ".py",
   "mimetype": "text/x-python",
   "name": "python",
   "nbconvert_exporter": "python",
   "pygments_lexer": "ipython3",
   "version": "3.10.12"
  }
 },
 "nbformat": 4,
 "nbformat_minor": 4
}
