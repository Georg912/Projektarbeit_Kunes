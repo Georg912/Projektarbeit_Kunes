{
	"cells": [
		{
			"cell_type": "markdown",
			"metadata": {},
			"source": [
				"## Import all the relevant Modules "
			]
		},
		{
			"cell_type": "code",
			"execution_count": null,
			"metadata": {},
			"outputs": [],
			"source": [
				"%matplotlib inline\n",
				"\n",
				"\n",
				"#TODO: Rename module shortcuts such as hb into something usefull after development\n",
				"import Modules.M05_Dynamical_Correlations.Module_Dynamical_Hubbard as dh\n",
				"from Modules.M00_General.Module_Widgets_and_Sliders import Save_Figure_Button, Click_Save_Figure, set_filename\n",
				"\n",
				"# default Jupyter widgets\n",
				"import ipywidgets as widgets\n",
				"from ipywidgets import HBox, VBox\n",
				"\n",
				"# Plotting\n",
				"import seaborn as sns\n",
				"sns.set_style(\"darkgrid\")\n",
				"import matplotlib.pyplot as plt\n",
				"plt.rcParams.update({'font.size':14})\n",
				"\n",
				"# for printlenght and save figures button\n",
				"import functools\n",
				"import numpy as np\n",
				"np.set_printoptions(linewidth=150) #set output length, default=75\n",
				"\n",
				"def close_widgets(DIR) -> None:\n",
				"    \"\"\"Close all widgets `wi` and displays `di` in notebook directory `dir()`.\n",
				"    Also clear `Save_Figure_Button`\n",
				"    \"\"\"\n",
				"    for i in range(100):\n",
				"        if f\"w{i}\" in DIR:\n",
				"            exec(f\"w{i}.close()\")\n",
				"        if f\"d{i}\" in DIR:\n",
				"            exec(f\"d{i}.close()\")\n",
				"    # clear `Save_Figure_Button` callbacks, otherwise all previous callbacks are executed and figures are saved multiple times\n",
				"    Save_Figure_Button._click_handlers.callbacks = []\n",
				"            \n",
				"\n",
				"%load_ext autoreload\n",
				"%autoreload 2"
			]
		},
		{
			"cell_type": "markdown",
			"metadata": {},
			"source": [
				"# Dynamical Correlation Functions\n",
				"<!---  Define a few convenience macros for bra-ket notation. -->\n",
				"$\\newcommand{\\ket}[1]{\\left\\vert{#1}\\right\\rangle}$\n",
				"$\\newcommand{\\bra}[1]{\\left\\langle{#1}\\right\\vert}$\n",
				"$\\newcommand{\\braket}[2]{\\left\\langle{#1}\\middle|{#2}\\right\\rangle}$\n",
				"$\\newcommand{\\dyad}[2]{\\left|{#1}\\middle\\rangle\\middle\\langle{#2}\\right|}$\n",
				"$\\newcommand{\\mel}[3]{\\left\\langle{#1}\\vphantom{#2#3}\\right|{#2}\\left|{#3}\\vphantom{#1#2}\\right\\rangle}$\n",
				"$\\newcommand{\\expval}[1]{\\left\\langle{#1}\\right\\rangle}$\n",
				"$\\newcommand\\dif{\\mathop{}\\!\\mathrm{d}}$\n",
				"$\\newcommand\\ii{\\mathrm{i}}$\n",
				"$\\newcommand{\\coloneqq}{\\mathop{:=}}$\n",
				"$\\newcommand{\\abs}[1]{\\left\\vert{#1}\\right\\vert}$\n",
				"$\\newcommand{\\vb}[1]{\\mathbf{#1}}$\n",
				"$\\newcommand{\\im}[1]{\\operatorname{Im}{#1}}$\n",
				"$\\newcommand{\\re}[1]{\\operatorname{Re}{#1}}$\n",
				"\n",
				"Up until now we only looked at equal-time correlation functions. We want to further look at so-called **dynamical correlation functions** which depend on time or frequency. To this end we define the time dependent correlation function\n",
				"$$ \\large\n",
				"    \\expval{\\hat{A}(t)\\hat{B}(0)} \\coloneqq \\mel{\\psi_g}{e^{\\ii t \\hat{H}} \\hat{A} e^{-\\ii t \\hat{H}}  \\hat{B}}{\\psi_g},\n",
				"$$\n",
				"where $\\hat{A}$ and $\\hat{B}$ are arbitrary operators and $\\hat{A}(t) \\coloneqq e^{\\ii t \\hat{H}} \\hat{A} e^{-\\ii t \\hat{H}}$ is the time evolution of the operator $\\hat{A}$."
			]
		},
		{
			"cell_type": "markdown",
			"metadata": {},
			"source": [
				"\n",
				"## Spectral Representation of the Correlation Function\n",
				"By using the completeness relation of the Hamiltonian's eigenfunctions $\\ket{n}$, i.e. $1 = \\sum_n \\dyad{n}{n}$ and the eigenvalue equation for $H$, we can rewrite the correlation function as\n",
				"\n",
				"$$ \\large\n",
				"\\begin{align*} \n",
				"\t\\expval{\\hat{A}(t)\\hat{B}(0)} &\\coloneqq \\mel{\\psi_g}{e^{\\ii t \\hat{H}} \\hat{A} e^{-\\ii t \\hat{H}}  \\hat{B}}{\\psi_g} \\\\\n",
				"\t%\n",
				"\t&= \\sum_n  \\mel{\\psi_g}{e^{\\ii t \\hat{H}} \\hat{A} \\dyad{n}{n} e^{-\\ii t \\hat{H}}  \\hat{B}}{\\psi_g} \\\\\n",
				"\t%\n",
				"\t&= \\sum_n e^{-\\ii t (E_n - E_g)} \\mel{\\psi_g}{ \\hat{A} }{n}\\mel{n} {\\hat{B}}{\\psi_g} \\\\\n",
				"\t%\n",
				"\t&= \\sum_n e^{-\\ii t \\bar{E}_n} \\mel{\\psi_g}{ \\hat{A} }{n}\\mel{n} {\\hat{B}}{\\psi_g},\n",
				"\\end{align*}\n",
				"$$\n",
				"\n",
				"where we defined the energy difference $\\bar{E}_n \\coloneqq E_n - E_g$.\n",
				"Note that we drastically simplified the expression from the complicated exponential of an operator to an exponential of just a number.\n",
				"As we have the sum of exponentials, it is natural to look at the Fourier transform of the correlation function."
			]
		},
		{
			"cell_type": "markdown",
			"metadata": {},
			"source": [
				"## Fourier Transform of the Correlation Function\n",
				"If one were to naively apply the Fourier transform from time domain $t$ to frequency domain $\\omega$ of the correlation function, one would obtain an expression\n",
				"$$ \\large\n",
				"    \\propto \\int_{-\\infty}^{\\infty} \\dif{t} \\, e^{-\\ii t (\\omega - \\bar{E}_n)}, \n",
				"$$\n",
				"which is unfortunately not well defined as a function, but only in a distributional sence. We will remedy this problem in measurability in a twofold way.\n",
				"First, we will restrict the time range to the interval $[0, \\infty)$.\n",
				"From a physical point of few this implies that we are only interested in the correlation of the system were Operator $\\hat{A}$ is applied after operator $\\hat{B}$ was applied. \n",
				"One calls this the **causal Green's function** \n",
				"\n",
				"$$ \\large\n",
				"    G_{AB}(t) \\coloneqq \\Theta(t) \\mel{\\psi_g}{e^{\\ii t \\hat{H}} \\hat{A} e^{-\\ii t \\hat{H}}  \\hat{B}}{\\psi_g} = \\Theta(t) \\sum_n e^{-\\ii t \\bar{E}_n} \\mel{\\psi_g}{ \\hat{A} }{n}\\mel{n} {\\hat{B}}{\\psi_g}.\n",
				"$$,\n",
				"where $\\Theta(t)$ is the Heaviside step function.\n",
				"\n",
				"The second step is to promote $\\omega$ to a complex number, i.e. $\\omega \\to \\Omega \\coloneqq \\omega + \\ii \\delta$. We can therefore evaluate the Fourier transformation of the causal Green's function as\n",
				"\n",
				"$$ \\large\n",
				"    \\int_{-\\infty}^{\\infty} \\dif{t} \\, \\Theta(t) \\, e^{-\\ii t (\\omega - \\bar{E}_n)} =  \\int_{0}^{\\infty} \\dif{t} \\, e^{-\\ii t (\\omega - \\bar{E}_n)} = \\frac{1}{\\omega + \\ii \\delta - \\bar{E}_n} \\quad \\mathrm{for} \\quad \\delta > 0.\n",
				"$$\n",
				"\n",
				"To finally obtain the Fourier transform of the causal Green's function we have to take the limit $\\delta \\to 0$ from above, which gives (keeping in mind, that a distribution is only defined via integration by a test function)\n",
				"\n",
				"$$ \\large\n",
				"    \\lim_{\\delta \\to 0} \\frac{1}{\\omega + \\ii \\delta - \\bar{E}_n} = \\mathrm{P.V.} \\left(\\int_{-\\infty}^{\\infty} \\dif{\\omega} \\,\\frac{1}{\\omega - \\bar{E}_n}\\right) - \\ii \\pi \\delta(\\omega - \\bar{E}_n),\n",
				"$$\n",
				"\n",
				"where $\\mathrm{P.V.}$ denotes the principal value of an integral. \n",
				"This results in our final result for the Fourier transform of the causal Green's function\n",
				"\n",
				"$$ \\large\n",
				"\t\\tilde{G}_{AB}(\\omega) \\coloneqq \\expval{\\hat{A}\\hat{B}}_\\omega \\coloneqq \\sum_n \\mel{\\psi_g}{ \\hat{A} }{n}\\mel{n} {\\hat{B}}{\\psi_g} \\left( \\mathrm{P.V.} \\left(\\int_{-\\infty}^{\\infty} \\dif{\\omega} \\,\\frac{1}{\\omega - \\bar{E}_n}\\right) - \\ii \\pi \\delta(\\omega - \\bar{E}_n)\\right).\n",
				"$$"
			]
		},
		{
			"cell_type": "markdown",
			"metadata": {},
			"source": [
				"## Numerical Approximation of $\\tilde{G}_{AB}(\\omega)$\n",
				"\n",
				"Since neither the principal value nor the delta distribution are well defined in a numerical sense, to visualize them we have to approximate them by using **Lorentzian curves** for the real and imaginary part of $\\tilde{G}_{AB}(\\omega)$. \n",
				"The Lorentzian curves are defined as\n",
				"$$\n",
				"\\large\n",
				"\\begin{align*} \n",
				"\t\\im{\\tilde{G}_{AB}(\\omega)} &\\approx \\sum_n  \\mel{\\psi_g}{ \\hat{A} }{n}\\mel{n} {\\hat{B}}{\\psi_g} \\left( \\frac{\\delta / 2}{(\\omega - \\bar{E}_n)^2 + \\delta^2} \\right) \\\\\n",
				"\t%\n",
				"\t\\re{\\tilde{G}_{AB}(\\omega)} &\\approx \\sum_n  \\mel{\\psi_g}{ \\hat{A} }{n}\\mel{n} {\\hat{B}}{\\psi_g} \\left( \\frac{\\bar{E}_n - \\omega }{(\\omega - \\bar{E}_n)^2 + \\delta^2} \\right),\n",
				"\\end{align*}\n",
				"$$\n",
				"where $\\delta \\ll 1$ is a small parameter that assures finite width of the Lorentzian curves."
			]
		},
		{
			"cell_type": "code",
			"execution_count": null,
			"metadata": {},
			"outputs": [],
			"source": [
				"# create instance of DynamicalHubbard class\n",
				"h1 = dh.DynamicalHubbard()\n",
				"\n",
				"# layout of widgets\n",
				"box_layout = widgets.Layout(border='solid 2px')"
			]
		},
		{
			"cell_type": "markdown",
			"metadata": {},
			"source": [
				"## Spin-Spin Correlation Functions"
			]
		},
		{
			"cell_type": "markdown",
			"metadata": {},
			"source": [
				"In the two widgets below you can explore the real an imaginary part of the Fourier transform of the causal Green's function for the Hubbard model. Due to symmetry reasons, some combinations of $i$ and $j$ are equivalent, e.g. for $n=6$ we have $\\expval{\\hat{S_1}\\hat{\n",
				"S_2}}_\\omega = \\expval{\\hat{S_1}\\hat{S_6}}_\\omega$, which is why we only show the minimal subset containing all different combinations\n",
				"\n",
				"By changing the value of $U$ the spectral weight is shifted to higher energies, while the width of the Lorentzian curves is determined by the value of $\\delta$. Setting $\\delta = 0$ would result in a delta distribution, which is not well-defined in a numerical sense, and will instead set $\\delta = 10^{-5}$.\n",
				"\n",
				"One can adjust the range of $\\omega$ via the range slider, which allows plotting over negative values of $\\omega$. Due to the symmetry of the Hubbard model, the spectral weight is symmetric around $\\omega = 0$, which can be explored by the user.\n",
				"\n",
				"### Real-Space"
			]
		},
		{
			"cell_type": "code",
			"execution_count": null,
			"metadata": {},
			"outputs": [],
			"source": [
				"close_widgets(dir())\n",
				"\n",
				"#create the widget\n",
				"w1 = widgets.interactive(lambda **kwargs: h1.Plot_G_SzSz(Lorentzian=\"Imaginary\"), w=h1.omega_range, u=h1.u25, d=h1.delta, n=h1.n, s_up=h1.s_up, s_down=h1.s_down, box=h1.t_ij);\n",
				"\n",
				"# create the save figure button\n",
				"filename = set_filename(\"Dynamical_Spin-Spin_Correlation_Imaginary.pdf\")\n",
				"Save_Figure_Button.on_click(functools.partial(Click_Save_Figure, widget=w1, name_widget=filename, output=h1.out, path=\"Figures/\"))\n",
				"\n",
				"# vertical and horizontal box for widgets\n",
				"d1 = VBox([\n",
				"    \tHBox([Save_Figure_Button, filename, h1.out], layout=box_layout),\n",
				"        HBox([\n",
				"            VBox(w1.children[0:3], layout=box_layout),\n",
				"\t\t\tVBox(w1.children[3:6], layout=box_layout),\n",
				"\t\t\tVBox([w1.children[6]], layout=box_layout)\n",
				"\t\t\t]),\n",
				"        w1.children[-1],\n",
				"\t\t])\n",
				"\n",
				"display(d1)\n",
				"w1.update()\t# otherwise graph will only appear after the first interaction"
			]
		},
		{
			"cell_type": "code",
			"execution_count": null,
			"metadata": {},
			"outputs": [],
			"source": [
				"close_widgets(dir())\n",
				"\n",
				"#create the widhet\n",
				"w2 = widgets.interactive(lambda **kwargs: h1.Plot_G_SzSz(Lorentzian=\"Real\"), w=h1.omega_range, u=h1.u25, d=h1.delta, n=h1.n, s_up=h1.s_up, s_down=h1.s_down, box=h1.t_ij);\n",
				"\n",
				"# create the save figure button\n",
				"filename = set_filename(\"Dynamical_Spin-Spin_Correlation_Real.pdf\")\n",
				"Save_Figure_Button.on_click(functools.partial(Click_Save_Figure, widget=w2, name_widget=filename, output=h1.out, path=\"Figures/\"))\n",
				"\n",
				"# vertical and horizontal box for widgets\n",
				"d2 = VBox([\n",
				"    \tHBox([Save_Figure_Button, filename, h1.out], layout=box_layout),\n",
				"        HBox([\n",
				"            VBox(w2.children[0:3], layout=box_layout),\n",
				"\t\t\tVBox(w2.children[3:6], layout=box_layout),\n",
				"\t\t\tVBox([w2.children[6]], layout=box_layout)\n",
				"\t\t\t]),\n",
				"        w2.children[-1],\n",
				"\t\t])\n",
				"\n",
				"display(d2)\n",
				"w2.update()\t# otherwise graph will only appear after the first interaction"
			]
		},
		{
			"cell_type": "markdown",
			"metadata": {},
			"source": [
				"### Reciprocal-Space\n",
				"\n",
				"Like in the previous notebook we can use translation symmetry to reduce the number of different real-space correlation functions ($n^2$) we have to calculate to just $\\left \\lfloor n/2 \\right \\rfloor$ non-zero, reciprocal-space functions, holding all the information. Of course one can switch back and forth from one representation to the other via a Fourier transform.\n",
				"\n",
				"The widget below shows the imaginary and real part of all relevant time-dependent, reciprocal-space correlation functions $\\expval{S_z(\\vb k) S_z(-\\vb k)}_\\omega$ as a function of the interaction strength $U$. Note that in this case we have no symmetry around $\\omega = 0$. Also, for $k=0 \\cdot \\pi$ the correlation function is identically zero."
			]
		},
		{
			"cell_type": "code",
			"execution_count": null,
			"metadata": {},
			"outputs": [],
			"source": [
				"close_widgets(dir())\n",
				"\n",
				"#create the widhet\n",
				"w3 = widgets.interactive(h1.Plot_G_SzkSzk, w=h1.omega_range, u=h1.u25, d=h1.delta, n=h1.n, s_up=h1.s_up, s_down=h1.s_down, box=h1.t_ij);\n",
				"\n",
				"# create the save figure button\n",
				"filename = set_filename(\"Reciprocal_Dynamical_Spin-Spin_Correlation.pdf\")\n",
				"Save_Figure_Button.on_click(functools.partial(Click_Save_Figure, widget=w3, name_widget=filename, output=h1.out, path=\"Figures/\"))\n",
				"\n",
				"# vertical and horizontal box for widgets\n",
				"d3 = VBox([\n",
				"    \tHBox([Save_Figure_Button, filename, h1.out], layout=box_layout),\n",
				"        HBox([\n",
				"            VBox(w3.children[0:3], layout=box_layout),\n",
				"\t\t\tVBox(w3.children[3:6], layout=box_layout),\n",
				"\t\t\tVBox([w3.children[6]], layout=box_layout)\n",
				"\t\t\t]),\n",
				"        w3.children[-1],\n",
				"\t\t])\n",
				"\n",
				"display(d3)\n",
				"w3.update()\t# otherwise graph will only appear after the first interaction"
			]
		},
		{
			"cell_type": "markdown",
			"metadata": {},
			"source": [
				"## Electronic Propagators"
			]
		},
		{
			"cell_type": "code",
			"execution_count": 1,
			"metadata": {},
			"outputs": [],
			"source": [
				"%matplotlib inline\n",
				"\n",
				"\n",
				"#TODO: Rename module shortcuts such as hb into something usefull after development\n",
				"import Modules.M05_Dynamical_Correlations.Module_Dynamical_Hubbard as dh\n",
				"from Modules.M00_General.Module_Widgets_and_Sliders import Save_Figure_Button, Click_Save_Figure, set_filename\n",
				"\n",
				"# default Jupyter widgets\n",
				"import ipywidgets as widgets\n",
				"from ipywidgets import HBox, VBox\n",
				"\n",
				"# Plotting\n",
				"import seaborn as sns\n",
				"sns.set_style(\"darkgrid\")\n",
				"import matplotlib.pyplot as plt\n",
				"plt.rcParams.update({'font.size':14})\n",
				"\n",
				"# for printlenght and save figures button\n",
				"import functools\n",
				"import numpy as np\n",
				"np.set_printoptions(linewidth=150) #set output length, default=75\n",
				"\n",
				"def close_widgets(DIR) -> None:\n",
				"    \"\"\"Close all widgets `wi` and displays `di` in notebook directory `dir()`.\n",
				"    Also clear `Save_Figure_Button`\n",
				"    \"\"\"\n",
				"    for i in range(100):\n",
				"        if f\"w{i}\" in DIR:\n",
				"            exec(f\"w{i}.close()\")\n",
				"        if f\"d{i}\" in DIR:\n",
				"            exec(f\"d{i}.close()\")\n",
				"    # clear `Save_Figure_Button` callbacks, otherwise all previous callbacks are executed and figures are saved multiple times\n",
				"    Save_Figure_Button._click_handlers.callbacks = []\n",
				"            \n",
				"\n",
				"%load_ext autoreload\n",
				"%autoreload 2"
			]
		},
		{
			"cell_type": "code",
			"execution_count": 2,
			"metadata": {},
			"outputs": [],
			"source": [
				"hp = dh.DynamicalHubbardPropagator()\n",
				"close_widgets(dir())"
			]
		},
		{
			"cell_type": "code",
			"execution_count": 3,
			"metadata": {},
			"outputs": [
				{
					"data": {
						"application/vnd.jupyter.widget-view+json": {
							"model_id": "87790aa6b64649eab9fb3e4705167ac2",
							"version_major": 2,
							"version_minor": 0
						},
						"text/plain": [
							"BoundedIntText(value=6, description='$n = $', layout=Layout(width='3cm'), max=7, min=2, style=DescriptionStyle…"
						]
					},
					"metadata": {},
					"output_type": "display_data"
				},
				{
					"data": {
						"application/vnd.jupyter.widget-view+json": {
							"model_id": "01a489748e9d4b99b46b80fc0aeeec51",
							"version_major": 2,
							"version_minor": 0
						},
						"text/plain": [
							"BoundedIntText(value=3, description='$s_\\\\mathrm{up} = $', layout=Layout(width='5cm'), max=6, style=Descriptio…"
						]
					},
					"metadata": {},
					"output_type": "display_data"
				},
				{
					"data": {
						"application/vnd.jupyter.widget-view+json": {
							"model_id": "c134987bc05d4cb78f9e59f34617813a",
							"version_major": 2,
							"version_minor": 0
						},
						"text/plain": [
							"BoundedIntText(value=3, description='$s_\\\\mathrm{down} = $', layout=Layout(width='5cm'), max=6, style=Descript…"
						]
					},
					"metadata": {},
					"output_type": "display_data"
				},
				{
					"data": {
						"application/vnd.jupyter.widget-view+json": {
							"model_id": "dca5d6fc95b746eab17e1c0b3cad6777",
							"version_major": 2,
							"version_minor": 0
						},
						"text/plain": [
							"Output()"
						]
					},
					"metadata": {},
					"output_type": "display_data"
				}
			],
			"source": [
				"display(hp.n, hp.s_up, hp.s_down, hp.out)"
			]
		},
		{
			"cell_type": "code",
			"execution_count": 23,
			"metadata": {},
			"outputs": [
				{
					"data": {
						"text/plain": [
							"(1225, 1225)"
						]
					},
					"execution_count": 23,
					"metadata": {},
					"output_type": "execute_result"
				}
			],
			"source": [
				"# %%timeit\n",
				"hp.Op_Ck_dagger(0).shape"
			]
		},
		{
			"cell_type": "code",
			"execution_count": null,
			"metadata": {},
			"outputs": [],
			"source": [
				"ep, vp = hp.hubbard_plus.All_Eigvals_and_Eigvecs\n",
				"em, vm = hp.hubbard_minus.All_Eigvals_and_Eigvecs"
			]
		},
		{
			"cell_type": "code",
			"execution_count": null,
			"metadata": {},
			"outputs": [],
			"source": [
				"print(ep[4])\n",
				"print(vp[4])\n",
				"print(np.round(em[4], 3))\n",
				"print(np.round(vm[4], 3))\n"
			]
		},
		{
			"cell_type": "code",
			"execution_count": null,
			"metadata": {},
			"outputs": [],
			"source": [
				"print(hp.hubbard_plus.basis.shape)\n",
				"print(hp.hubbard_minus.basis.shape)\n",
				"# print(hp.hubbard_plus.basis)\n",
				"# print(hp.hubbard_minus.basis)\n",
				"print(hp.hubbard_plus.Ht)\n",
				"print(hp.hubbard_minus.Ht)"
			]
		},
		{
			"cell_type": "code",
			"execution_count": null,
			"metadata": {},
			"outputs": [],
			"source": [
				"hp.out"
			]
		},
		{
			"cell_type": "code",
			"execution_count": null,
			"metadata": {},
			"outputs": [],
			"source": []
		}
	],
	"metadata": {
		"kernelspec": {
			"display_name": "projektarbeit_kunes",
			"language": "python",
			"name": "projektarbeit_kunes"
		},
		"language_info": {
			"codemirror_mode": {
				"name": "ipython",
				"version": 3
			},
			"file_extension": ".py",
			"mimetype": "text/x-python",
			"name": "python",
			"nbconvert_exporter": "python",
			"pygments_lexer": "ipython3",
			"version": "3.10.12"
		},
		"vscode": {
			"interpreter": {
				"hash": "e7370f93d1d0cde622a1f8e1c04877d8463912d04d973331ad4851f04de6915a"
			}
		}
	},
	"nbformat": 4,
	"nbformat_minor": 4
}
