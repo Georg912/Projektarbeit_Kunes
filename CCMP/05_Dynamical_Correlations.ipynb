{
 "cells": [
  {
   "cell_type": "markdown",
   "metadata": {},
   "source": [
    "## Import all the relevant Modules "
   ]
  },
  {
   "cell_type": "code",
   "execution_count": 1,
   "metadata": {},
   "outputs": [],
   "source": [
    "%matplotlib inline\n",
    "\n",
    "\n",
    "#TODO: Rename module shortcuts such as hb into something usefull after development\n",
    "import Modules.Dynamical_Correlations.Module_Dynamical_Hubbard as dh\n",
    "from Modules.General.Module_Widgets_and_Sliders import Text_Box, Save_Figure_Button, Click_Save_Figure, set_filename\n",
    "\n",
    "# default Jupyter widgets\n",
    "import ipywidgets as widgets\n",
    "from ipywidgets import HBox, VBox\n",
    "\n",
    "# Plotting\n",
    "import matplotlib.pyplot as plt\n",
    "plt.style.use('seaborn-dark')\n",
    "plt.rcParams.update({'font.size':16})\n",
    "\n",
    "# for printlenght and save figures button\n",
    "import functools\n",
    "import numpy as np\n",
    "np.set_printoptions(linewidth=150) #set output length, default=75\n",
    "\n",
    "def close_widgets(DIR):\n",
    "    \"\"\" Close all widgets `wi` and displays `di` in notebook directory `dir()`.\n",
    "    \"\"\"\n",
    "    for i in range(100):\n",
    "        if f\"w{i}\" in DIR:\n",
    "            exec(f\"w{i}.close()\")\n",
    "        if f\"d{i}\" in DIR:\n",
    "            exec(f\"d{i}.close()\")\n",
    "            \n",
    "\n",
    "%load_ext autoreload\n",
    "%autoreload 2"
   ]
  },
  {
   "cell_type": "markdown",
   "metadata": {},
   "source": [
    "# Dynamical Correlation Functions\n",
    "<!---  Define a few convenience macros for bra-ket notation. -->\n",
    "$\\newcommand{\\ket}[1]{\\left\\vert{#1}\\right\\rangle}$\n",
    "$\\newcommand{\\bra}[1]{\\left\\langle{#1}\\right\\vert}$\n",
    "$\\newcommand{\\braket}[2]{\\left\\langle{#1}\\middle|{#2}\\right\\rangle}$\n",
    "$\\newcommand{\\dyad}[2]{\\left|{#1}\\middle\\rangle\\middle\\langle{#2}\\right|}$\n",
    "$\\newcommand{\\mel}[3]{\\left\\langle{#1}\\vphantom{#2#3}\\right|{#2}\\left|{#3}\\vphantom{#1#2}\\right\\rangle}$\n",
    "$\\newcommand{\\expval}[1]{\\left\\langle{#1}\\right\\rangle}$\n",
    "$\\newcommand\\dif{\\mathop{}\\!\\mathrm{d}}$\n",
    "$\\newcommand\\ii{\\mathrm{i}}$\n",
    "$\\newcommand{\\coloneqq}{\\mathop{:=}}$\n",
    "$\\newcommand{\\abs}[1]{\\left\\vert{#1}\\right\\vert}$\n",
    "$\\newcommand{\\vb}[1]{\\mathbf{#1}}$\n",
    "$\\newcommand{\\im}[1]{\\operatorname{Im}{#1}}$\n",
    "$\\newcommand{\\re}[1]{\\operatorname{Re}{#1}}$\n",
    "\n",
    "Up until now we only looked at equal time correlation functions. We want to further look at so called **dynamical correlation functions** which depend on time or frequency. To this end we define the time dependent correlation function\n",
    "$$ \\large\n",
    "    \\expval{\\hat{A}(t)\\hat{B}(0)} \\coloneqq \\mel{\\psi_g}{e^{\\ii t \\hat{H}} \\hat{A} e^{-\\ii t \\hat{H}}  \\hat{B}}{\\psi_g},\n",
    "$$\n",
    "where $\\hat{A}$ and $\\hat{B}$ are arbitrary operators and $\\hat{A}(t) \\coloneqq e^{\\ii t \\hat{H}} \\hat{A} e^{-\\ii t \\hat{H}}$ is the time evolution of the operator $\\hat{A}$."
   ]
  },
  {
   "cell_type": "markdown",
   "metadata": {},
   "source": [
    "\n",
    "## Spectral Representation of the Correlation Function\n",
    "By using the completeness relation of the Hamiltonian's eigenfunctions $\\ket{n}$, i.e. $1 = \\sum_n \\dyad{n}{n}$ and the eigenvalue equation for $H$, we can rewrite the correlation function as\n",
    "\n",
    "$$ \\large\n",
    "\\begin{align*} \n",
    "\t\\expval{\\hat{A}(t)\\hat{B}(0)} &\\coloneqq \\mel{\\psi_g}{e^{\\ii t \\hat{H}} \\hat{A} e^{-\\ii t \\hat{H}}  \\hat{B}}{\\psi_g} \\\\\n",
    "\t%\n",
    "\t&= \\sum_n  \\mel{\\psi_g}{e^{\\ii t \\hat{H}} \\hat{A} \\dyad{n}{n} e^{-\\ii t \\hat{H}}  \\hat{B}}{\\psi_g} \\\\\n",
    "\t%\n",
    "\t&= \\sum_n e^{-\\ii t (E_n - E_g)} \\mel{\\psi_g}{ \\hat{A} }{n}\\mel{n} {\\hat{B}}{\\psi_g} \\\\\n",
    "\t%\n",
    "\t&= \\sum_n e^{-\\ii t \\bar{E}_n} \\mel{\\psi_g}{ \\hat{A} }{n}\\mel{n} {\\hat{B}}{\\psi_g},\n",
    "\\end{align*}\n",
    "$$\n",
    "\n",
    "where we defined the energy difference $\\bar{E}_n \\coloneqq E_n - E_g$.\n",
    "Note that we drastically simplified the expression from the complicated exponential of an operator to an exponential of just a number.\n",
    "As we have the sum of exponentials, it is natural to look at the Fourier transform of the correlation function."
   ]
  },
  {
   "cell_type": "markdown",
   "metadata": {},
   "source": [
    "## Fourier Transform of the Correlation Function\n",
    "If one were to naively apply the Fourier transform from time domain $t$ to frequency domain $\\omega$ of the correlation function, one would obtain an expression\n",
    "$$ \\large\n",
    "    \\propto \\int_{-\\infty}^{\\infty} \\dif{t} \\, e^{-\\ii t (\\omega - \\bar{E}_n)}, \n",
    "$$\n",
    "which is unfortunately not well defined as a function, but only in a distributional sence. We will remedy this problem in measurability in a twofold way.\n",
    "First, we will restrict the time range to the interval $[0, \\infty]$.\n",
    "From a physical point of few this implies that we are only interested in the correlation of the system were Operator $\\hat{A}$ is applied after operator $\\hat{B}$ was applied. \n",
    "One calls this the **causal Green's function** \n",
    "\n",
    "$$ \\large\n",
    "    G_{AB}(t) \\coloneqq \\Theta(t) \\mel{\\psi_g}{e^{\\ii t \\hat{H}} \\hat{A} e^{-\\ii t \\hat{H}}  \\hat{B}}{\\psi_g} = \\Theta(t) \\sum_n e^{-\\ii t \\bar{E}_n} \\mel{\\psi_g}{ \\hat{A} }{n}\\mel{n} {\\hat{B}}{\\psi_g}.\n",
    "$$,\n",
    "where $\\Theta(t)$ is the Heaviside step function.\n",
    "\n",
    "The second step is to promote $\\omega$ to a complex number, i.e. $\\omega \\to \\Omega \\coloneqq \\omega + \\ii \\delta$. We can therefore evaluate the Fourier transformation of the causal Green's function as\n",
    "\n",
    "$$ \\large\n",
    "    \\int_{-\\infty}^{\\infty} \\dif{t} \\, \\Theta(t) \\, e^{-\\ii t (\\omega - \\bar{E}_n)} =  \\int_{0}^{\\infty} \\dif{t} \\, e^{-\\ii t (\\omega - \\bar{E}_n)} = \\frac{1}{\\omega + \\ii \\delta - \\bar{E}_n} \\quad \\mathrm{for} \\quad \\delta > 0.\n",
    "$$\n",
    "\n",
    "To finally obtain the Fourier transform of the causal Green's function we have to take the limit $\\delta \\to 0$ from above, which gives (keeping in mind, that a distributional is only defined via integration by a test function)\n",
    "\n",
    "$$ \\large\n",
    "    \\lim_{\\delta \\to 0} \\frac{1}{\\omega + \\ii \\delta - \\bar{E}_n} = \\mathrm{P.V.} \\left(\\int_{-\\infty}^{\\infty} \\dif{\\omega} \\,\\frac{1}{\\omega - \\bar{E}_n}\\right) - \\ii \\pi \\delta(\\omega - \\bar{E}_n),\n",
    "$$\n",
    "\n",
    "where $\\mathrm{P.V.}$ denotes the principal value of an integral. \n",
    "This results in our final result for the Fourier transform of the causal Green's function\n",
    "\n",
    "$$ \\large\n",
    "\t\\tilde{G}_{AB}(\\omega) \\coloneqq \\expval{\\hat{A}\\hat{B}}_\\omega \\coloneqq \\sum_n \\mel{\\psi_g}{ \\hat{A} }{n}\\mel{n} {\\hat{B}}{\\psi_g} \\left( \\mathrm{P.V.} \\left(\\int_{-\\infty}^{\\infty} \\dif{\\omega} \\,\\frac{1}{\\omega - \\bar{E}_n}\\right) - \\ii \\pi \\delta(\\omega - \\bar{E}_n)\\right).\n",
    "$$"
   ]
  },
  {
   "cell_type": "markdown",
   "metadata": {},
   "source": [
    "## Numerical Approximation of $\\tilde{G}_{AB}(\\omega)$\n",
    "\n",
    "Since neither the principal value nor the delta distribution are well defined in a numerical sense, to visualize them we have to approximate them by using **Lorentzian curves** for the real and imaginary part of $\\tilde{G}_{AB}(\\omega)$. \n",
    "The Lorentzian curves are defined as\n",
    "$$\n",
    "\\large\n",
    "\\begin{align*} \n",
    "\t\\im{\\tilde{G}_{AB}(\\omega)} &\\approx \\sum_n  \\mel{\\psi_g}{ \\hat{A} }{n}\\mel{n} {\\hat{B}}{\\psi_g} \\left( \\frac{\\delta}{(\\omega - \\bar{E}_n)^2 + \\delta^2} \\right) \\\\\n",
    "\t%\n",
    "\t\\re{\\tilde{G}_{AB}(\\omega)} &\\approx \\sum_n  \\mel{\\psi_g}{ \\hat{A} }{n}\\mel{n} {\\hat{B}}{\\psi_g} \\left( \\frac{\\bar{E}_n - \\omega }{(\\omega - \\bar{E}_n)^2 + \\delta^2} \\right),\n",
    "\\end{align*}\n",
    "$$\n",
    "where $\\delta \\ll 1$ is a small parameter that assures finite width of the Lorentzian curves."
   ]
  },
  {
   "cell_type": "code",
   "execution_count": 2,
   "metadata": {},
   "outputs": [],
   "source": [
    "h1 = dh.DynamicalHubbard()"
   ]
  },
  {
   "cell_type": "markdown",
   "metadata": {},
   "source": [
    "TODO: Write Text\n",
    "G(w) is symmetric"
   ]
  },
  {
   "cell_type": "code",
   "execution_count": 3,
   "metadata": {},
   "outputs": [
    {
     "data": {
      "application/vnd.jupyter.widget-view+json": {
       "model_id": "35cb5d78769941c6abc28a6dfcf043f9",
       "version_major": 2,
       "version_minor": 0
      },
      "text/plain": [
       "HBox(children=(Button(description='Save Current Figure', layout=Layout(width='5cm'), style=ButtonStyle()), Tex…"
      ]
     },
     "metadata": {},
     "output_type": "display_data"
    },
    {
     "data": {
      "application/vnd.jupyter.widget-view+json": {
       "model_id": "767bbaa9d99f48f986d913621a2c20c4",
       "version_major": 2,
       "version_minor": 0
      },
      "text/plain": [
       "interactive(children=(FloatRangeSlider(value=(0.5, 5.0), continuous_update=False, description='$\\\\omega=$', la…"
      ]
     },
     "metadata": {},
     "output_type": "display_data"
    }
   ],
   "source": [
    "close_widgets(dir())\n",
    "w1 = widgets.interactive(h1.Plot_G_SzSz, w=h1.omega_range, u=h1.u25, d=h1.delta, n=h1.n, s_up=h1.s_up, s_down=h1.s_down, box=h1.t_ij);\n",
    "\n",
    "filename = set_filename(\"Dynamical_Spin-Spin_Correlation.pdf\")\n",
    "Save_Figure_Button.on_click(functools.partial(Click_Save_Figure, widget=w1, name_widget=filename, output=h1.out, path=\"Figures/\"))\n",
    "\n",
    "d1 = HBox([Save_Figure_Button, filename, h1.out])\n",
    "display(d1)\n",
    "display(w1)"
   ]
  },
  {
   "cell_type": "markdown",
   "metadata": {},
   "source": [
    "question for Prof Kunes, how does omega influence the height"
   ]
  },
  {
   "cell_type": "code",
   "execution_count": 13,
   "metadata": {},
   "outputs": [
    {
     "data": {
      "text/plain": [
       "(2601,)"
      ]
     },
     "execution_count": 13,
     "metadata": {},
     "output_type": "execute_result"
    }
   ],
   "source": [
    "h1.Greens_Function(h1.Imag_Lorentzian, 4, h1.Mel_Sz_0[4,:]).shape"
   ]
  },
  {
   "cell_type": "code",
   "execution_count": 7,
   "metadata": {},
   "outputs": [
    {
     "data": {
      "text/plain": [
       "(2601,)"
      ]
     },
     "execution_count": 7,
     "metadata": {},
     "output_type": "execute_result"
    }
   ],
   "source": [
    "h1.omega_array.shape"
   ]
  },
  {
   "cell_type": "code",
   "execution_count": null,
   "metadata": {},
   "outputs": [],
   "source": []
  }
 ],
 "metadata": {
  "kernelspec": {
   "display_name": "Python 3 (ipykernel)",
   "language": "python",
   "name": "python3"
  },
  "language_info": {
   "codemirror_mode": {
    "name": "ipython",
    "version": 3
   },
   "file_extension": ".py",
   "mimetype": "text/x-python",
   "name": "python",
   "nbconvert_exporter": "python",
   "pygments_lexer": "ipython3",
   "version": "3.8.10"
  },
  "vscode": {
   "interpreter": {
    "hash": "767d51c1340bd893661ea55ea3124f6de3c7a262a8b4abca0554b478b1e2ff90"
   }
  }
 },
 "nbformat": 4,
 "nbformat_minor": 4
}
