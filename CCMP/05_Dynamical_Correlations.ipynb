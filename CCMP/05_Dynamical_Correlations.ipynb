{
 "cells": [
  {
   "cell_type": "markdown",
   "metadata": {},
   "source": [
    "## Import all the relevant Modules "
   ]
  },
  {
   "cell_type": "code",
   "execution_count": 1,
   "metadata": {},
   "outputs": [],
   "source": [
    "%matplotlib inline\n",
    "\n",
    "\n",
    "#TODO: Rename module shortcuts such as hb into something usefull after development\n",
    "import Modules.Hubbard_Model as hb\n",
    "from Modules.General.Module_Widgets_and_Sliders import Text_Box, Save_Figure_Button, Click_Save_Figure, set_filename\n",
    "\n",
    "# default Jupyter widgets\n",
    "import ipywidgets as widgets\n",
    "from ipywidgets import HBox, VBox\n",
    "\n",
    "# Plotting\n",
    "import matplotlib.pyplot as plt\n",
    "plt.style.use('seaborn-dark')\n",
    "plt.rcParams.update({'font.size':16})\n",
    "\n",
    "# for printlenght and save figures button\n",
    "import functools\n",
    "import numpy as np\n",
    "np.set_printoptions(linewidth=150) #set output length, default=75\n",
    "\n",
    "def close_widgets(DIR):\n",
    "    \"\"\" Close all widgets `wi` and displays `di` in notebook directory `dir()`.\n",
    "    \"\"\"\n",
    "    for i in range(100):\n",
    "        if f\"w{i}\" in DIR:\n",
    "            exec(f\"w{i}.close()\")\n",
    "        if f\"d{i}\" in DIR:\n",
    "            exec(f\"d{i}.close()\")\n",
    "            \n",
    "\n",
    "%load_ext autoreload\n",
    "%autoreload 2"
   ]
  },
  {
   "cell_type": "markdown",
   "metadata": {},
   "source": [
    "# Dynamical Correlation Functions\n",
    "<!---  Define a few convenience macros for bra-ket notation. -->\n",
    "$\\newcommand{\\ket}[1]{\\left\\vert{#1}\\right\\rangle}$\n",
    "$\\newcommand{\\bra}[1]{\\left\\langle{#1}\\right\\vert}$\n",
    "$\\newcommand{\\braket}[2]{\\left\\langle{#1}\\middle|{#2}\\right\\rangle}$\n",
    "$\\newcommand{\\dyad}[2]{\\left|{#1}\\middle\\rangle\\middle\\langle{#2}\\right|}$\n",
    "$\\newcommand{\\mel}[3]{\\left\\langle{#1}\\vphantom{#2#3}\\right|{#2}\\left|{#3}\\vphantom{#1#2}\\right\\rangle}$\n",
    "$\\newcommand{\\expval}[1]{\\left\\langle{#1}\\right\\rangle}$\n",
    "$\\newcommand\\dif{\\mathop{}\\!\\mathrm{d}}$\n",
    "$\\newcommand\\ii{\\mathrm{i}}$\n",
    "$\\newcommand{\\coloneqq}{\\mathop{:=}}$\n",
    "$\\newcommand{\\abs}[1]{\\left\\vert{#1}\\right\\vert}$\n",
    "$\\newcommand{\\vb}[1]{\\mathbf{#1}}$\n",
    "$\\newcommand{\\im}[1]{\\operatorname{Im}{#1}}$\n",
    "$\\newcommand{\\re}[1]{\\operatorname{Re}{#1}}$\n",
    "\n",
    "Up until now we only looked at equal time correlation functions. We want to further look at so called **dynamical correlation functions** which depend on time or frequency. To this end we define the time dependent correlation function\n",
    "$$ \\large\n",
    "\t\\expval{\\hat{A}(t)\\hat{B}(0)} \\coloneqq \\mel{\\psi_g}{e^{\\ii t \\hat{H}} \\hat{A} e^{-\\ii t \\hat{H}}  \\hat{B}}{\\psi_g},\n",
    "$$\n",
    "where $\\hat{A}$ and $\\hat{B}$ are arbitrary operators and $\\hat{A}(t) \\coloneqq e^{\\ii t \\hat{H}} \\hat{A} e^{-\\ii t \\hat{H}}$ is the time evolution of the operator $\\hat{A}$."
   ]
  },
  {
   "cell_type": "markdown",
   "metadata": {},
   "source": [
    "\n",
    "## Spectral Representation of the Correlation Function\n",
    "By using the completeness relation of the Hamiltonian's eigenfunctions $\\ket{n}$, i.e. $1 = \\sum_n \\dyad{n}{n}$ and the eigenvalue equation for $H$, we can rewrite the correlation function as\n",
    "\\begin{align*} \\large\n",
    "\t\\expval{\\hat{A}(t)\\hat{B}(0)} &\\coloneqq \\mel{\\psi_g}{e^{\\ii t \\hat{H}} \\hat{A} e^{-\\ii t \\hat{H}}  \\hat{B}}{\\psi_g} \\\\\n",
    "\t%\n",
    "\t&= \\sum_n  \\mel{\\psi_g}{e^{\\ii t \\hat{H}} \\hat{A} \\dyad{n}{n} e^{-\\ii t \\hat{H}}  \\hat{B}}{\\psi_g} \\\\\n",
    "\t%\n",
    "\t&= \\sum_n e^{-\\ii t (E_n - E_g)} \\mel{\\psi_g}{ \\hat{A} }{n}\\mel{n} {\\hat{B}}{\\psi_g} \\\\\n",
    "\t%\n",
    "\t&= \\sum_n e^{-\\ii t \\bar{E}_n} \\mel{\\psi_g}{ \\hat{A} }{n}\\mel{n} {\\hat{B}}{\\psi_g},\n",
    "\\end{align*}\n",
    "where we defined the energy difference $\\bar{E}_n \\coloneqq E_n - E_g$.\n",
    "Note that we drastically simplified the expression from the exponential of an operator to an exponential of just a number.\n",
    "As we have the sum of exponentials, it is natural to look at the Fourier transform of the correlation function."
   ]
  },
  {
   "cell_type": "markdown",
   "metadata": {},
   "source": [
    "## Fourier Transform of the Correlation Function\n",
    "If one were to naively apply the Fourier transform from time domain $t$ to frequency domain $\\omega$ of the correlation function, one would obtain an expression\n",
    "$$ \\large\n",
    "\t\\propto \\int_{-\\infty}^{\\infty} \\dif{t} \\, e^{-\\ii t (\\omega - \\bar{E}_n)}, \n",
    "$$\n",
    "which is unfortunately not well defined as a function, but only in a distributional sence. We will remedy this problem in measurability in a twofold way.\n",
    "First, we will restrict the time range to the interval $[0, \\infty]$.\n",
    "From a physical point of few this implies that we are only interested in the correlation of the system were Operator $\\hat{A}$ is applied after operator $\\hat{B}$ was applied. \n",
    "One calls this the **causal Green's function** \n",
    "$$ \\large\n",
    "\tG_{AB}(t) \\coloneqq \\Theta(t) \\mel{\\psi_g}{e^{\\ii t \\hat{H}} \\hat{A} e^{-\\ii t \\hat{H}}  \\hat{B}}{\\psi_g} = \\Theta(t) \\sum_n e^{-\\ii t \\bar{E}_n} \\mel{\\psi_g}{ \\hat{A} }{n}\\mel{n} {\\hat{B}}{\\psi_g}.\n",
    "$$,\n",
    "where $\\Theta(t)$ is the Heaviside step function.\n",
    "\n",
    "The second step is to promote $\\omega$ to a complex number, i.e. $\\omega \\to \\Omega \\coloneqq \\omega + \\ii \\delta$. We can therefore evaluate the Fourier transformation of the causal Green's function as\n",
    "$$ \\large\n",
    "\t \\int_{-\\infty}^{\\infty} \\dif{t} \\, \\Theta(t) \\, e^{-\\ii t (\\omega - \\bar{E}_n)} =  \\int_{0}^{\\infty} \\dif{t} \\, e^{-\\ii t (\\omega - \\bar{E}_n)} = \\frac{1}{\\omega + \\ii \\delta - \\bar{E}_n} \\quad \\mathrm{for} \\quad \\delta > 0.\n",
    "$$\n",
    "To finally obtain the Fourier transform of the causal Green's function we have to take the limit $\\delta \\to 0$ from above, which gives (keeping in mind, that a distributional is only defined via integration by a test function)\n",
    "$$\n",
    "\t\\lim_{\\delta \\to 0} \\int_{-\\infty}^{\\infty} \\dif{\\omega} \\,\\frac{1}{\\omega + \\ii \\delta - \\bar{E}_n} = \\mathrm{P.V.} \\left(\\int_{-\\infty}^{\\infty} \\dif{\\omega} \\,\\frac{1}{\\omega - \\bar{E}_n}\\right) - \\ii \\pi \\delta(\\omega - \\bar{E}_n),\n",
    "$$\n",
    "where $\\mathrm{P.V.}$ denotes the principal value of an integral. \n",
    "This results in our final result for the Fourier transform of the causal Green's function\n",
    "$$ \\large\n",
    "\t\\tilde{G}_{AB}(\\omega) \\coloneqq \\sum_n \\mel{\\psi_g}{ \\hat{A} }{n}\\mel{n} {\\hat{B}}{\\psi_g} \\left( \\mathrm{P.V.} \\left(\\int_{-\\infty}^{\\infty} \\dif{\\omega} \\,\\frac{1}{\\omega - \\bar{E}_n}\\right) - \\ii \\pi \\delta(\\omega - \\bar{E}_n)\\right).\n",
    "$$,"
   ]
  },
  {
   "cell_type": "markdown",
   "metadata": {},
   "source": [
    "## Numercial Approximation of $\\tilde{G}_{AB}(\\omega)$\n",
    "\n",
    "Since neither the principal value nor the delta distribution are well defined in a numerical sense, to visualize them we have to approximate them by using **Lorentzian curves** for the real and imaginary part of $\\tilde{G}_{AB}(t)$. \n",
    "The Lorentzian curves are defined as\n",
    "$$\n",
    "\\large\n",
    "\\begin{align*} \n",
    "\t\\im{\\tilde{G}_{AB}(\\omega)} &\\approx \\sum_n  \\mel{\\psi_g}{ \\hat{A} }{n}\\mel{n} {\\hat{B}}{\\psi_g} \\left( \\frac{\\delta}{(\\omega - \\bar{E}_n)^2 + \\delta^2} \\right) \\\\\n",
    "\t%\n",
    "\t\\re{\\tilde{G}_{AB}(\\omega)} &\\approx \\sum_n  \\mel{\\psi_g}{ \\hat{A} }{n}\\mel{n} {\\hat{B}}{\\psi_g} \\left( \\frac{\\bar{E}_n - \\omega }{(\\omega - \\bar{E}_n)^2 + \\delta^2} \\right).\n",
    "\\end{align*}\n",
    "$$,\n",
    "where $\\delta \\ll 1$ is a small parameter that assures finite width of the Lorentzian curves."
   ]
  },
  {
   "cell_type": "code",
   "execution_count": 77,
   "metadata": {},
   "outputs": [],
   "source": [
    "def ImL(w, d, E):\n",
    "    return d / ((w**2 - E**2)**2 + d**2)\n",
    "\n",
    "def ReL(w, d, E):\n",
    "    return (E - w) / ((w**2 - E**2)**2 + d**2)\n",
    "\n",
    "def G(func, w, d, E, A, B):\n",
    "\t\treturn np.sum(A * B * func(w, d, E)[:, np.newaxis], axis=1)"
   ]
  },
  {
   "cell_type": "code",
   "execution_count": 78,
   "metadata": {},
   "outputs": [
    {
     "data": {
      "text/plain": [
       "(1000,)"
      ]
     },
     "execution_count": 78,
     "metadata": {},
     "output_type": "execute_result"
    }
   ],
   "source": [
    "ReL(w, 0.1, E).shape"
   ]
  },
  {
   "cell_type": "code",
   "execution_count": 103,
   "metadata": {},
   "outputs": [
    {
     "data": {
      "image/png": "[encoded data removed]",
      "text/plain": [
       "<Figure size 432x288 with 1 Axes>"
      ]
     },
     "metadata": {},
     "output_type": "display_data"
    }
   ],
   "source": [
    "w = np.linspace(0, 4, 1000)\n",
    "E = np.random.rand() * 3\n",
    "\n",
    "#plt.plot(w, L(w, 0.1, E));\n",
    "plt.plot(w, G(ImL, w, 0.5, E, A, B));\n",
    "plt.plot(w, G(ReL, w, 0.5, E, A, B));"
   ]
  },
  {
   "cell_type": "code",
   "execution_count": 98,
   "metadata": {},
   "outputs": [
    {
     "data": {
      "text/plain": [
       "array([0.  , 0.  , 0.  , 0.  , 0.  , 0.  , 0.  , 0.  , 0.  , 0.  , 0.  , 0.  , 0.  , 0.  , 0.  , 0.  , 0.  , 0.  , 0.  , 0.  , 0.  , 0.  , 0.  ,\n",
       "       0.  , 0.  , 0.  , 0.  , 0.  , 0.  , 0.  , 0.  , 0.  , 0.  , 0.  , 0.  , 0.  , 0.  , 0.  , 0.  , 0.  , 0.  , 0.  , 0.  , 0.  , 0.  , 0.  ,\n",
       "       0.  , 0.  , 0.  , 0.  , 0.  , 0.  , 0.  , 0.  , 0.  , 0.  , 0.  , 0.  , 0.  , 0.  , 0.  , 0.  , 0.  , 0.  , 0.  , 0.  , 0.  , 0.  , 0.  ,\n",
       "       0.  , 0.  , 0.  , 0.  , 0.  , 0.  , 0.  , 0.  , 0.  , 0.  , 0.  , 0.  , 0.  , 0.  , 0.  , 0.  , 0.  , 0.  , 0.  , 0.  , 0.  , 0.  , 0.  ,\n",
       "       0.  , 0.  , 0.  , 0.  , 0.  , 0.  , 0.  , 0.  , 0.  , 0.  , 0.  , 0.  , 0.  , 0.  , 0.  , 0.  , 0.  , 0.  , 0.  , 0.  , 0.  , 0.  , 0.  ,\n",
       "       0.  , 0.  , 0.  , 0.  , 0.  , 0.  , 0.  , 0.  , 0.  , 0.  , 0.  , 0.  , 0.  , 0.  , 0.  , 0.  , 0.  , 0.  , 0.  , 0.  , 0.  , 0.  , 0.  ,\n",
       "       0.  , 0.  , 0.  , 0.  , 0.  , 0.  , 0.  , 0.  , 0.  , 0.  , 0.  , 0.  , 0.  , 0.  , 0.  , 0.  , 0.  , 0.  , 0.  , 0.  , 0.  , 0.  , 0.  ,\n",
       "       0.  , 0.  , 0.  , 0.  , 0.  , 0.  , 0.  , 0.  , 0.  , 0.  , 0.  , 0.  , 0.  , 0.  , 0.  , 0.  , 0.  , 0.  , 0.  , 0.  , 0.  , 0.  , 0.  ,\n",
       "       0.  , 0.  , 0.  , 0.  , 0.  , 0.  , 0.  , 0.  , 0.  , 0.  , 0.  , 0.  , 0.  , 0.  , 0.  , 0.  , 0.  , 0.  , 0.  , 0.  , 0.  , 0.  , 0.  ,\n",
       "       0.  , 0.  , 0.  , 0.  , 0.  , 0.  , 0.  , 0.  , 0.  , 0.  , 0.  , 0.  , 0.  , 0.  , 0.  , 0.  , 0.  , 0.  , 0.  , 0.01, 0.01, 0.01, 0.01,\n",
       "       0.01, 0.01, 0.01, 0.01, 0.01, 0.01, 0.01, 0.01, 0.01, 0.01, 0.01, 0.01, 0.01, 0.01, 0.01, 0.01, 0.01, 0.01, 0.01, 0.01, 0.01, 0.01, 0.01,\n",
       "       0.01, 0.01, 0.01, 0.01, 0.01, 0.01, 0.01, 0.01, 0.01, 0.01, 0.01, 0.01, 0.01, 0.01, 0.01, 0.01, 0.01, 0.01, 0.01, 0.01, 0.01, 0.01, 0.01,\n",
       "       0.01, 0.01, 0.01, 0.01, 0.01, 0.01, 0.01, 0.01, 0.01, 0.01, 0.01, 0.01, 0.01, 0.01, 0.01, 0.01, 0.01, 0.01, 0.01, 0.01, 0.01, 0.01, 0.01,\n",
       "       0.01, 0.01, 0.01, 0.01, 0.01, 0.01, 0.01, 0.01, 0.01, 0.01, 0.01, 0.01, 0.01, 0.01, 0.01, 0.01, 0.01, 0.01, 0.01, 0.01, 0.01, 0.01, 0.01,\n",
       "       0.01, 0.01, 0.01, 0.01, 0.01, 0.01, 0.01, 0.01, 0.01, 0.01, 0.01, 0.01, 0.01, 0.01, 0.01, 0.01, 0.01, 0.01, 0.01, 0.01, 0.01, 0.01, 0.01,\n",
       "       0.01, 0.02, 0.02, 0.02, 0.02, 0.02, 0.02, 0.02, 0.02, 0.02, 0.02, 0.02, 0.02, 0.02, 0.02, 0.02, 0.02, 0.02, 0.02, 0.02, 0.02, 0.02, 0.02,\n",
       "       0.02, 0.02, 0.02, 0.02, 0.02, 0.02, 0.02, 0.03, 0.03, 0.03, 0.03, 0.03, 0.03, 0.03, 0.03, 0.03, 0.03, 0.03, 0.03, 0.03, 0.03, 0.03, 0.04,\n",
       "       0.04, 0.04, 0.04, 0.04, 0.04, 0.04, 0.04, 0.04, 0.05, 0.05, 0.05, 0.05, 0.05, 0.05, 0.06, 0.06, 0.06, 0.06, 0.06, 0.07, 0.07, 0.07, 0.07,\n",
       "       0.08, 0.08, 0.08, 0.09, 0.09, 0.1 , 0.1 , 0.11, 0.11, 0.12, 0.12, 0.13, 0.14, 0.14, 0.15, 0.16, 0.17, 0.18, 0.2 , 0.21, 0.22, 0.24, 0.26,\n",
       "       0.28, 0.3 , 0.33, 0.36, 0.4 , 0.44, 0.49, 0.54, 0.61, 0.68, 0.78, 0.89, 1.03, 1.2 , 1.42, 1.69, 2.05, 2.51, 3.12, 3.91, 4.9 , 6.07, 7.24,\n",
       "       8.02, 8.05, 7.31, 6.15, 4.96, 3.93, 3.12, 2.5 , 2.03, 1.67, 1.39, 1.17, 1.  , 0.86, 0.75, 0.65, 0.58, 0.51, 0.46, 0.41, 0.37, 0.34, 0.31,\n",
       "       0.28, 0.26, 0.24, 0.22, 0.2 , 0.19, 0.17, 0.16, 0.15, 0.14, 0.13, 0.13, 0.12, 0.11, 0.11, 0.1 , 0.09, 0.09, 0.08, 0.08, 0.08, 0.07, 0.07,\n",
       "       0.07, 0.06, 0.06, 0.06, 0.06, 0.05, 0.05, 0.05, 0.05, 0.05, 0.04, 0.04, 0.04, 0.04, 0.04, 0.04, 0.04, 0.03, 0.03, 0.03, 0.03, 0.03, 0.03,\n",
       "       0.03, 0.03, 0.03, 0.03, 0.02, 0.02, 0.02, 0.02, 0.02, 0.02, 0.02, 0.02, 0.02, 0.02, 0.02, 0.02, 0.02, 0.02, 0.02, 0.02, 0.02, 0.02, 0.02,\n",
       "       0.02, 0.01, 0.01, 0.01, 0.01, 0.01, 0.01, 0.01, 0.01, 0.01, 0.01, 0.01, 0.01, 0.01, 0.01, 0.01, 0.01, 0.01, 0.01, 0.01, 0.01, 0.01, 0.01,\n",
       "       0.01, 0.01, 0.01, 0.01, 0.01, 0.01, 0.01, 0.01, 0.01, 0.01, 0.01, 0.01, 0.01, 0.01, 0.01, 0.01, 0.01, 0.01, 0.01, 0.01, 0.01, 0.01, 0.01,\n",
       "       0.01, 0.01, 0.01, 0.01, 0.01, 0.01, 0.01, 0.01, 0.01, 0.01, 0.01, 0.01, 0.01, 0.  , 0.  , 0.  , 0.  , 0.  , 0.  , 0.  , 0.  , 0.  , 0.  ,\n",
       "       0.  , 0.  , 0.  , 0.  , 0.  , 0.  , 0.  , 0.  , 0.  , 0.  , 0.  , 0.  , 0.  , 0.  , 0.  , 0.  , 0.  , 0.  , 0.  , 0.  , 0.  , 0.  , 0.  ,\n",
       "       0.  , 0.  , 0.  , 0.  , 0.  , 0.  , 0.  , 0.  , 0.  , 0.  , 0.  , 0.  , 0.  , 0.  , 0.  , 0.  , 0.  , 0.  , 0.  , 0.  , 0.  , 0.  , 0.  ,\n",
       "       0.  , 0.  , 0.  , 0.  , 0.  , 0.  , 0.  , 0.  , 0.  , 0.  , 0.  , 0.  , 0.  , 0.  , 0.  , 0.  , 0.  , 0.  , 0.  , 0.  , 0.  , 0.  , 0.  ,\n",
       "       0.  , 0.  , 0.  , 0.  , 0.  , 0.  , 0.  , 0.  , 0.  , 0.  , 0.  , 0.  , 0.  , 0.  , 0.  , 0.  , 0.  , 0.  , 0.  , 0.  , 0.  , 0.  , 0.  ,\n",
       "       0.  , 0.  , 0.  , 0.  , 0.  , 0.  , 0.  , 0.  , 0.  , 0.  , 0.  , 0.  , 0.  , 0.  , 0.  , 0.  , 0.  , 0.  , 0.  , 0.  , 0.  , 0.  , 0.  ,\n",
       "       0.  , 0.  , 0.  , 0.  , 0.  , 0.  , 0.  , 0.  , 0.  , 0.  , 0.  , 0.  , 0.  , 0.  , 0.  , 0.  , 0.  , 0.  , 0.  , 0.  , 0.  , 0.  , 0.  ,\n",
       "       0.  , 0.  , 0.  , 0.  , 0.  , 0.  , 0.  , 0.  , 0.  , 0.  , 0.  , 0.  , 0.  , 0.  , 0.  , 0.  , 0.  , 0.  , 0.  , 0.  , 0.  , 0.  , 0.  ,\n",
       "       0.  , 0.  , 0.  , 0.  , 0.  , 0.  , 0.  , 0.  , 0.  , 0.  , 0.  , 0.  , 0.  , 0.  , 0.  , 0.  , 0.  , 0.  , 0.  , 0.  , 0.  , 0.  , 0.  ,\n",
       "       0.  , 0.  , 0.  , 0.  , 0.  , 0.  , 0.  , 0.  , 0.  , 0.  , 0.  , 0.  , 0.  , 0.  , 0.  , 0.  , 0.  , 0.  , 0.  , 0.  , 0.  , 0.  , 0.  ,\n",
       "       0.  , 0.  , 0.  , 0.  , 0.  , 0.  , 0.  , 0.  , 0.  , 0.  , 0.  , 0.  , 0.  , 0.  , 0.  , 0.  , 0.  , 0.  , 0.  , 0.  , 0.  , 0.  , 0.  ,\n",
       "       0.  , 0.  , 0.  , 0.  , 0.  , 0.  , 0.  , 0.  , 0.  , 0.  , 0.  , 0.  , 0.  , 0.  , 0.  , 0.  , 0.  , 0.  , 0.  , 0.  , 0.  , 0.  , 0.  ,\n",
       "       0.  , 0.  , 0.  , 0.  , 0.  , 0.  , 0.  , 0.  , 0.  , 0.  , 0.  , 0.  , 0.  , 0.  , 0.  , 0.  , 0.  , 0.  , 0.  , 0.  , 0.  , 0.  , 0.  ,\n",
       "       0.  , 0.  , 0.  , 0.  , 0.  , 0.  , 0.  , 0.  , 0.  , 0.  , 0.  , 0.  , 0.  , 0.  , 0.  , 0.  , 0.  , 0.  , 0.  , 0.  , 0.  , 0.  , 0.  ,\n",
       "       0.  , 0.  , 0.  , 0.  , 0.  , 0.  , 0.  , 0.  , 0.  , 0.  , 0.  , 0.  , 0.  , 0.  , 0.  , 0.  , 0.  , 0.  , 0.  , 0.  , 0.  , 0.  , 0.  ,\n",
       "       0.  , 0.  , 0.  , 0.  , 0.  , 0.  , 0.  , 0.  , 0.  , 0.  , 0.  , 0.  , 0.  , 0.  , 0.  , 0.  , 0.  , 0.  , 0.  , 0.  , 0.  , 0.  , 0.  ,\n",
       "       0.  , 0.  , 0.  , 0.  , 0.  , 0.  , 0.  , 0.  , 0.  , 0.  , 0.  , 0.  , 0.  , 0.  , 0.  , 0.  , 0.  , 0.  , 0.  , 0.  , 0.  , 0.  , 0.  ,\n",
       "       0.  , 0.  , 0.  , 0.  , 0.  , 0.  , 0.  , 0.  , 0.  , 0.  , 0.  ])"
      ]
     },
     "execution_count": 98,
     "metadata": {},
     "output_type": "execute_result"
    }
   ],
   "source": [
    "G(ImL, w, 0.1, E, A, B).round(2)"
   ]
  },
  {
   "cell_type": "code",
   "execution_count": 51,
   "metadata": {},
   "outputs": [
    {
     "data": {
      "text/plain": [
       "array([2, 3, 4, 5, 6])"
      ]
     },
     "execution_count": 51,
     "metadata": {},
     "output_type": "execute_result"
    }
   ],
   "source": [
    "a = np.arange(2,7)\n",
    "b = np.arange(5)\n",
    "a"
   ]
  },
  {
   "cell_type": "code",
   "execution_count": 50,
   "metadata": {},
   "outputs": [
    {
     "data": {
      "text/plain": [
       "array([[ 0,  0,  0,  0,  0],\n",
       "       [ 2,  3,  4,  5,  6],\n",
       "       [ 4,  6,  8, 10, 12],\n",
       "       [ 6,  9, 12, 15, 18],\n",
       "       [ 8, 12, 16, 20, 24]])"
      ]
     },
     "execution_count": 50,
     "metadata": {},
     "output_type": "execute_result"
    }
   ],
   "source": [
    "a * b[:, np.newaxis]"
   ]
  },
  {
   "cell_type": "code",
   "execution_count": 96,
   "metadata": {},
   "outputs": [
    {
     "data": {
      "text/plain": [
       "array([0.09494731, 0.09249334, 0.08716973, 0.08122541, 0.09784941, 0.07400073, 0.04097276, 0.0376758 , 0.05686159, 0.00780816, 0.0711192 ,\n",
       "       0.06637591, 0.01061867, 0.05044367, 0.09918158, 0.09068809, 0.09080773, 0.00616196, 0.08175026, 0.03556322, 0.00970957, 0.00652252,\n",
       "       0.04231806, 0.09876124, 0.03221454, 0.08979984, 0.08694403, 0.03531189, 0.00222632, 0.04161001, 0.09510983, 0.07372914, 0.03578752,\n",
       "       0.06858726, 0.02909436, 0.08191542, 0.02974267, 0.02757027, 0.09113756, 0.03198376, 0.00464855, 0.02146956, 0.07309293, 0.09575156,\n",
       "       0.05714839, 0.03691674, 0.00221827, 0.03661332, 0.07449366, 0.07136352, 0.02059169, 0.06217356, 0.05958687, 0.07829707, 0.06265697,\n",
       "       0.04948568, 0.08583472, 0.03252881, 0.09624709, 0.08449521, 0.06289835, 0.03865992, 0.00458994, 0.00442495, 0.05202862, 0.08714741,\n",
       "       0.08362543, 0.07363407, 0.06237535, 0.07597837, 0.05578402, 0.07240855, 0.00966173, 0.09226944, 0.03880179, 0.02228326, 0.06159151,\n",
       "       0.05936983, 0.07124757, 0.07635894, 0.08821452, 0.01644501, 0.07037085, 0.08424762, 0.09558512, 0.04889905, 0.00380445, 0.05620026,\n",
       "       0.02534312, 0.00639667, 0.09943825, 0.01413058, 0.0979089 , 0.00425599, 0.01078049, 0.08925169, 0.036852  , 0.07080877, 0.08469398,\n",
       "       0.09309369])"
      ]
     },
     "execution_count": 96,
     "metadata": {},
     "output_type": "execute_result"
    }
   ],
   "source": [
    "rand = np.random.rand(100)*0.1\n",
    "A = np.where(rand > 0.095, rand, rand)\n",
    "B = A * 2\n",
    "A"
   ]
  },
  {
   "cell_type": "code",
   "execution_count": 43,
   "metadata": {},
   "outputs": [
    {
     "data": {
      "text/plain": [
       "array([[1, 2, 3],\n",
       "       [2, 3, 4]])"
      ]
     },
     "execution_count": 43,
     "metadata": {},
     "output_type": "execute_result"
    }
   ],
   "source": [
    "a = np.array([[1, 2, 3],[2,3,4]])\n",
    "a"
   ]
  },
  {
   "cell_type": "code",
   "execution_count": 45,
   "metadata": {},
   "outputs": [
    {
     "data": {
      "text/plain": [
       "array([6, 9])"
      ]
     },
     "execution_count": 45,
     "metadata": {},
     "output_type": "execute_result"
    }
   ],
   "source": [
    "np.sum(a, axis=1)"
   ]
  },
  {
   "cell_type": "code",
   "execution_count": 64,
   "metadata": {},
   "outputs": [],
   "source": [
    "a = np.arange(3)\n",
    "b = np.arange(2,7)"
   ]
  },
  {
   "cell_type": "code",
   "execution_count": 76,
   "metadata": {},
   "outputs": [
    {
     "data": {
      "text/plain": [
       "array([ 6,  9, 12, 15, 18])"
      ]
     },
     "execution_count": 76,
     "metadata": {},
     "output_type": "execute_result"
    }
   ],
   "source": [
    "np.sum(a * b[:, np.newaxis], axis=1)"
   ]
  },
  {
   "cell_type": "code",
   "execution_count": 67,
   "metadata": {},
   "outputs": [
    {
     "data": {
      "text/plain": [
       "array([2, 3, 4, 5, 6])"
      ]
     },
     "execution_count": 67,
     "metadata": {},
     "output_type": "execute_result"
    }
   ],
   "source": [
    "b"
   ]
  },
  {
   "cell_type": "code",
   "execution_count": 74,
   "metadata": {},
   "outputs": [
    {
     "data": {
      "text/plain": [
       "array([0, 1, 2])"
      ]
     },
     "execution_count": 74,
     "metadata": {},
     "output_type": "execute_result"
    }
   ],
   "source": [
    "a"
   ]
  },
  {
   "cell_type": "code",
   "execution_count": null,
   "metadata": {},
   "outputs": [],
   "source": []
  }
 ],
 "metadata": {
  "kernelspec": {
   "display_name": "Python 3.8.10 64-bit",
   "language": "python",
   "name": "python3"
  },
  "language_info": {
   "codemirror_mode": {
    "name": "ipython",
    "version": 3
   },
   "file_extension": ".py",
   "mimetype": "text/x-python",
   "name": "python",
   "nbconvert_exporter": "python",
   "pygments_lexer": "ipython3",
   "version": "3.8.10"
  },
  "orig_nbformat": 4,
  "vscode": {
   "interpreter": {
    "hash": "767d51c1340bd893661ea55ea3124f6de3c7a262a8b4abca0554b478b1e2ff90"
   }
  }
 },
 "nbformat": 4,
 "nbformat_minor": 2
}
