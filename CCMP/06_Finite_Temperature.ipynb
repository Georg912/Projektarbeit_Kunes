{
 "cells": [
  {
   "cell_type": "markdown",
   "metadata": {},
   "source": [
    "## Import all the relevant Modules "
   ]
  },
  {
   "cell_type": "code",
   "execution_count": 2,
   "metadata": {},
   "outputs": [],
   "source": [
    "%matplotlib inline\n",
    "\n",
    "\n",
    "#TODO: Rename module shortcuts such as hb into something usefull after development\n",
    "import Modules.M06_Finite_Temperature.Module_Finite_Temperature as ft\n",
    "from Modules.M00_General.Module_Widgets_and_Sliders import Save_Figure_Button, Click_Save_Figure, set_filename\n",
    "\n",
    "# default Jupyter widgets\n",
    "import ipywidgets as widgets\n",
    "from ipywidgets import HBox, VBox\n",
    "\n",
    "# Plotting\n",
    "import seaborn as sns\n",
    "sns.set_style(\"darkgrid\")\n",
    "import matplotlib.pyplot as plt\n",
    "plt.rcParams.update({'font.size':14})\n",
    "\n",
    "# for printlenght and save figures button\n",
    "import functools\n",
    "import numpy as np\n",
    "np.set_printoptions(linewidth=150) #set output length, default=75\n",
    "\n",
    "def close_widgets(DIR) -> None:\n",
    "    \"\"\"Close all widgets `wi` and displays `di` in notebook directory `dir()`.\n",
    "    Also clear `Save_Figure_Button`\n",
    "    \"\"\"\n",
    "    for i in range(100):\n",
    "        if f\"w{i}\" in DIR:\n",
    "            exec(f\"w{i}.close()\")\n",
    "        if f\"d{i}\" in DIR:\n",
    "            exec(f\"d{i}.close()\")\n",
    "    # clear `Save_Figure_Button` callbacks, otherwise all previous callbacks are executed and figures are saved multiple times\n",
    "    Save_Figure_Button._click_handlers.callbacks = []\n",
    "            \n",
    "\n",
    "%load_ext autoreload\n",
    "%autoreload 2"
   ]
  },
  {
   "cell_type": "markdown",
   "metadata": {},
   "source": [
    "## Finite Temperature\n",
    "<!---  Define a few convenience macros for bra-ket notation. -->\n",
    "$\\newcommand{\\ket}[1]{\\left\\vert{#1}\\right\\rangle}$\n",
    "$\\newcommand{\\bra}[1]{\\left\\langle{#1}\\right\\vert}$\n",
    "$\\newcommand{\\braket}[2]{\\left\\langle{#1}\\middle|{#2}\\right\\rangle}$\n",
    "$\\newcommand{\\dyad}[2]{\\left|{#1}\\middle\\rangle\\middle\\langle{#2}\\right|}$\n",
    "$\\newcommand{\\mel}[3]{\\left\\langle{#1}\\vphantom{#2#3}\\right|{#2}\\left|{#3}\\vphantom{#1#2}\\right\\rangle}$\n",
    "$\\newcommand{\\expval}[1]{\\left\\langle{#1}\\right\\rangle}$\n",
    "$\\newcommand\\dif{\\mathop{}\\!\\mathrm{d}}$\n",
    "$\\newcommand\\ii{\\mathrm{i}}$\n",
    "$\\newcommand{\\coloneqq}{\\mathop{:=}}$\n",
    "$\\newcommand{\\abs}[1]{\\left\\vert{#1}\\right\\vert}$\n",
    "$\\newcommand{\\vb}[1]{\\mathbf{#1}}$\n",
    "$\\newcommand{\\im}[1]{\\operatorname{Im}{#1}}$\n",
    "$\\newcommand{\\re}[1]{\\operatorname{Re}{#1}}$\n",
    "\n",
    "We previously saw how to compute time-dependent correlation functions and electronic propagators (one-particle spectral function), always assuming zero temperature. In this notebook, we will extend our investigation to finite temperature. \n",
    "\n",
    "To this end we assume our system which we want to study is weakly coupled to a heat bath at temperature $T$, with which it can exchange energy and/or particles, which would lead to so-called canonical and grand canonical ensembles, respectively. We will focus on the canonical ensemble, which is the most relevant for our purposes, where the system is allowed to exchange energy with the heat bath, but not particles.\n",
    "\n",
    "Because we now allow for energy exchange we have to modify our view and for a given number of sites $n$, include all possible spin sectors that lead to the same total number of particles $N$. For example, for $n=6$ and $N=6$ we have the following possible spin sectors:\n",
    "\n",
    "$$\n",
    "\\large\n",
    "(6, 0), (5, 1), (4, 2), (3, 3), (2, 4), (1, 5), (0, 6),\n",
    "$$\n",
    "where the first number in each tuple is the number of spin-up particles and the second number is the number of spin-down particles."
   ]
  },
  {
   "cell_type": "markdown",
   "metadata": {},
   "source": [
    "### Ergodic Hypothesis\n",
    "\n",
    "To compute the averages over finite temperature we will make use of the ergodic hypothesis, which roughly states that the time average of an observable is equal to its ensemble average. This is a very powerful statement, because it allows us to compute the time average of an observable, which is something we can measure in an experiment, by computing the ensemble average, which is something we can compute using our numerical methods. In other words, we assume it is as good to simulate a system over a long time as it is to make many independent realizations of the same system, which is not always true, but often a good approximation.\n",
    "\n",
    "Under this assumption the thermal average of an observable $\\hat{O}$ can be shown to be given by\n",
    "\n",
    "$$\n",
    "\\large\n",
    "\\expval{\\hat{O}}_T = \\frac{1}{Z(T)} \\sum_{\\ell} \\exp(-\\beta E_{\\ell}) \\mel{\\ell}{\\hat{O}}{\\ell},\n",
    "$$\n",
    "where the inverse temperature $\\beta = \\frac{1}{k_\\mathrm{B} T}$, $k_\\mathrm{B}$ is the Boltzmann constant which we will set to 1 for the rest of the derivations, $T$ is the temperature, $E_{\\ell}$ is the energy of the $\\ell$-th eigenstate of the system, and the exponential factor is the Boltzmann factor which gives the probability of the system to be in the $\\ell$-th eigenstate for a given temperature. Finally, $Z(T)$ is the partition function, which is given by the sum of all Boltzmann factors, such that the sum of all probabilities is equal to 1:\n",
    "\n",
    "$$\n",
    "\\large\n",
    "Z(T) = \\sum_{i} \\exp(-\\beta E_{i}). \n",
    "\n",
    "$$\n",
    "\n",
    "By inserting the identity operator $\\hat{1} = \\sum_{n} \\dyad{n}{n}$ we can rewrite the thermal average as\n",
    "\n",
    "$$\n",
    "\\large\n",
    "\\begin{align*}\n",
    "\\expval{\\hat{O}}_T &= \\frac{1}{Z(T)} \\sum_{\\ell} \\exp(-\\beta E_{\\ell}) \\mel{\\ell}{\\hat{O}}{\\ell} \\\\\n",
    "\t\t\t\t\t%\n",
    "\t\t\t\t   &= \\frac{1}{Z(T)} \\sum_{\\ell} \\sum_{n} \\exp(-\\beta E_{\\ell}) \\mel{\\ell}{\\hat{O}}{n} \\bra{n}\\ket{\\ell} \\\\\n",
    "\t\t\t\t\t%\n",
    "\t\t\t\t\t&=  \\sum_{n} \\sum_{\\ell} \\bra{n}\\frac{1}{Z(T)}\\ket{\\ell} \\exp(-\\beta E_{\\ell}) \\mel{\\ell}{\\hat{O}}{n}  \\\\\n",
    "\t\t\t\t\t%\n",
    "\t\t\t\t\t&=  \\sum_{n} \\mel{n}{\\hat{\\rho}\\hat{O}}{n}  \\\\\n",
    "\t\t\t\t\t%\n",
    "\t\t\t\t\t&= \\mathrm{Tr}(\\hat{\\rho}\\hat{O}),\n",
    "\\end{align*}\n",
    "$$\n",
    "where we have defined the density matrix $\\hat{\\rho}$ as\n",
    "\n",
    "$$\n",
    "\\large\n",
    "\\hat{\\rho} \\coloneqq \\frac{1}{Z(T)} \\sum_{\\ell} \\exp(-\\beta E_{\\ell}) \\dyad{\\ell}{\\ell}.\n",
    "$$\n",
    "\n",
    "Note that the formula for the thermal average as the trace of the density matrix and the operator is generally true even for mixed systems, while the formula for the density matrix is only true in thermal equilibrium."
   ]
  },
  {
   "cell_type": "code",
   "execution_count": 3,
   "metadata": {},
   "outputs": [],
   "source": [
    "#create instance of finite temperature class\n",
    "h_ft = ft.FiniteTemperature()\n",
    "h_ft.n.value = 3\n",
    "h_ft.N.value = 4\n",
    "\n",
    "# layout of widgets\n",
    "box_layout = widgets.Layout(border='solid 2px')"
   ]
  },
  {
   "cell_type": "markdown",
   "metadata": {},
   "source": [
    "### Poor Man's Density of States\n",
    "The first widget shows all the eigenvalues of the Hubbard Hamiltonian for a system with $n$ sites and $N$ electrons. One can play around with the number of bins and the on-site interaction $U$. Observe how with increasing values of $U$ certain energy clusters form, which are separated by gaps\n",
    "\n",
    "Note that the update on the widgets takes a few seconds, so please be patient as far more complicated calculations are performed in the background, then in the previous notebooks."
   ]
  },
  {
   "cell_type": "code",
   "execution_count": null,
   "metadata": {},
   "outputs": [],
   "source": [
    "close_widgets(dir())\n",
    "\n",
    "#create the widget\n",
    "w1 = widgets.interactive(h_ft.Plot_Energy_Histogram, u=h_ft.u25, bins=h_ft.bins, n=h_ft.n, N=h_ft.N, box=h_ft.t_ij);\n",
    "\n",
    "# create the save figure button\n",
    "filename = set_filename(\"Energy_Histogram.pdf\")\n",
    "Save_Figure_Button.on_click(functools.partial(Click_Save_Figure, widget=w1, name_widget=filename, output=h_ft.out, path=\"Figures/\"))\n",
    "\n",
    "# vertical and horizontal box for widgets\n",
    "d1 = VBox([\n",
    "    \tHBox([Save_Figure_Button, filename, h_ft.out], layout=box_layout),\n",
    "        HBox([\n",
    "            VBox(w1.children[0:2], layout=box_layout),\n",
    "\t\t\tVBox(w1.children[2:4], layout=box_layout),\n",
    "\t\t\tVBox([w1.children[4]], layout=box_layout)\n",
    "\t\t\t]),\n",
    "        w1.children[-1],\n",
    "\t\t])\n",
    "\n",
    "display(d1)\n",
    "w1.update()\t# otherwise graph will only appear after the first interaction"
   ]
  },
  {
   "cell_type": "markdown",
   "metadata": {},
   "source": [
    "### Partition Function\n",
    "In the next widget once can see the partition function $Z(T)$ as a function of temperature $T$ for a system with $n$ sites and $N$ electrons. One can change the Temperature range and on-site interaction. Observe how the partition function increases with increasing temperature, as expected. Also for certain combinations of $n$ and $N$ the value of the partition function at $T=0$ is not 1, indicating that the ground state is degenerate, which is for example case for $n=6$ and $N=5$."
   ]
  },
  {
   "cell_type": "code",
   "execution_count": 7,
   "metadata": {},
   "outputs": [
    {
     "data": {
      "application/vnd.jupyter.widget-view+json": {
       "model_id": "f1e8ee9bda62443c9fd671e80179063c",
       "version_major": 2,
       "version_minor": 0
      },
      "text/plain": [
       "VBox(children=(HBox(children=(Button(description='Save Current Figure', layout=Layout(width='5cm'), style=Butt…"
      ]
     },
     "metadata": {},
     "output_type": "display_data"
    }
   ],
   "source": [
    "close_widgets(dir())\n",
    "\n",
    "#create the widget\n",
    "w2 = widgets.interactive(h_ft.Plot_Partition_Function_Z, T=h_ft.T_range, u=h_ft.u25, n=h_ft.n, N=h_ft.N, box=h_ft.t_ij);\n",
    "\n",
    "# create the save figure button\n",
    "filename = set_filename(\"Partition_Function_Z.pdf\")\n",
    "Save_Figure_Button.on_click(functools.partial(Click_Save_Figure, widget=w2, name_widget=filename, output=h_ft.out, path=\"Figures/\"))\n",
    "\n",
    "# vertical and horizontal box for widgets\n",
    "d2 = VBox([\n",
    "    \tHBox([Save_Figure_Button, filename, h_ft.out], layout=box_layout),\n",
    "        HBox([\n",
    "            VBox(w2.children[0:2], layout=box_layout),\n",
    "\t\t\tVBox(w2.children[2:4], layout=box_layout),\n",
    "\t\t\tVBox([w2.children[4]], layout=box_layout)\n",
    "\t\t\t]),\n",
    "        w2.children[-1],\n",
    "\t\t])\n",
    "\n",
    "display(d2)\n",
    "w2.update()\t# otherwise graph will only appear after the first interaction"
   ]
  },
  {
   "cell_type": "markdown",
   "metadata": {},
   "source": [
    "### Thermodynamic Observables\n",
    "\n",
    "After deriving the formula for the thermal average and the partition function, we can now derive some thermodynamic observables relevant for our system. We will start with the internal energy $U$, which is just the expectation value of the Hamiltonian given by\n",
    "\n",
    "$$\n",
    "\\large\n",
    "U = \\expval{\\hat{H}}_T = \\mathrm{Tr}(\\hat{\\rho}\\hat{H}).\n",
    "$$\n",
    "\n",
    "Next we will compute the free energy $F$ which is a useful quantity to compute for further developments. One can derive the free energy from the partition function as\n",
    "\n",
    "$$\n",
    "\\large\n",
    "F = -T \\ln(Z(T)).\n",
    "$$\n",
    "\n",
    "The definition of the free energy allows us to calculate another important quantity, the entropy $S$ of the system via\n",
    "\n",
    "$$\n",
    "\\large\n",
    "F = U - T S.\n",
    "$$\n",
    "\n",
    "Finally, we will compute the specific heat or heat capacity $C_V$ of the system, which is defined as\n",
    "\n",
    "$$\n",
    "\\large\n",
    "c_\\mathrm{V} = \\frac{\\partial U}{\\partial T}.\n",
    "$$\n",
    "\n",
    "In the widget below all four quantities are plotted as a function of temperature $T$ for a system with $n$ sites and $N$ electrons. One can change the Temperature range and on-site interaction. Observe how the internal energy increases with increasing temperature, while the free energy decreases. The entropy increases with increasing temperature, while the heat capacity shows a peak at a certain temperature.\n"
   ]
  },
  {
   "cell_type": "code",
   "execution_count": 4,
   "metadata": {},
   "outputs": [
    {
     "data": {
      "application/vnd.jupyter.widget-view+json": {
       "model_id": "67d58413bac54d798586606b81b0e28e",
       "version_major": 2,
       "version_minor": 0
      },
      "text/plain": [
       "VBox(children=(HBox(children=(Button(description='Save Current Figure', layout=Layout(width='5cm'), style=Butt…"
      ]
     },
     "metadata": {},
     "output_type": "display_data"
    }
   ],
   "source": [
    "close_widgets(dir())\n",
    "\n",
    "#create the widget\n",
    "w3 = widgets.interactive(h_ft.Plot_Thermodynamic_Observables, T=h_ft.T_range, u=h_ft.u25, n=h_ft.n, N=h_ft.N, box=h_ft.t_ij);\n",
    "\n",
    "# create the save figure button\n",
    "filename = set_filename(\"Thermodynamic_Observables.pdf\")\n",
    "Save_Figure_Button.on_click(functools.partial(Click_Save_Figure, widget=w3, name_widget=filename, output=h_ft.out, path=\"Figures/\"))\n",
    "\n",
    "# vertical and horizontal box for widgets\n",
    "d3 = VBox([\n",
    "    \tHBox([Save_Figure_Button, filename, h_ft.out], layout=box_layout),\n",
    "        HBox([\n",
    "            VBox(w3.children[0:2], layout=box_layout),\n",
    "\t\t\tVBox(w3.children[2:4], layout=box_layout),\n",
    "\t\t\tVBox([w3.children[4]], layout=box_layout)\n",
    "\t\t\t]),\n",
    "        w3.children[-1],\n",
    "\t\t])\n",
    "\n",
    "display(d3)\n",
    "w3.update()\t# otherwise graph will only appear after the first interaction"
   ]
  },
  {
   "cell_type": "markdown",
   "metadata": {},
   "source": [
    "We can also ask about the average value of the Spin $S_z$ operator and the square of the spin $S^2$ operator. The average value of the spin operator is given by\n",
    "\n",
    "$$\n",
    "\\large\n",
    "\\expval{\\hat{S}_z} = \\mathrm{Tr}(\\hat{\\rho}\\hat{S}_z),\n",
    "$$\n",
    "where $\\hat{S}_z$ is the spin operator given by\n",
    "\n",
    "The next to widgets show on the one-hand the matrix elements of both of these operators given by\n",
    "\n",
    "$$\n",
    "\\large\n",
    "\\mel{\\ell}{\\hat{S}_z}{\\ell} \\text{ and } \\mel{\\ell}{\\hat{S}^2}{\\ell},\n",
    "$$\n",
    "which are both diagonal in the eigenbasis of the Hubbard Hamiltonian. The second widget shows the thermal average of these operators given by\n",
    "\n",
    "$$\n",
    "\\large\n",
    "\\expval{\\hat{S}_z} = \\mathrm{Tr}(\\hat{\\rho}\\hat{S}_z) \\text{ and } \\expval{\\hat{S}^2} = \\mathrm{Tr}(\\hat{\\rho}\\hat{S}^2),\n",
    "$$"
   ]
  },
  {
   "cell_type": "code",
   "execution_count": 6,
   "metadata": {},
   "outputs": [
    {
     "data": {
      "application/vnd.jupyter.widget-view+json": {
       "model_id": "57affe707179462fa421296551015c15",
       "version_major": 2,
       "version_minor": 0
      },
      "text/plain": [
       "VBox(children=(HBox(children=(Button(description='Save Current Figure', layout=Layout(width='5cm'), style=Butt…"
      ]
     },
     "metadata": {},
     "output_type": "display_data"
    }
   ],
   "source": [
    "close_widgets(dir())\n",
    "\n",
    "#create the widget\n",
    "w4 = widgets.interactive(h_ft.Plot_Sz_Sz2_T_Elements, n=h_ft.n, N=h_ft.N, box=h_ft.t_ij);\n",
    "\n",
    "# create the save figure button\n",
    "filename = set_filename(\"Sz_Sz2_Matrix_Elements.pdf\")\n",
    "Save_Figure_Button.on_click(functools.partial(Click_Save_Figure, widget=w4, name_widget=filename, output=h_ft.out, path=\"Figures/\"))\n",
    "\n",
    "# vertical and horizontal box for widgets\n",
    "d4 = VBox([\n",
    "    \tHBox([Save_Figure_Button, filename, h_ft.out], layout=box_layout),\n",
    "        HBox([\n",
    "            VBox(w4.children[0:2], layout=box_layout)\n",
    "\t\t\t]),\n",
    "        w4.children[-1],\n",
    "\t\t])\n",
    "\n",
    "display(d4)\n",
    "w4.update()\t# otherwise graph will only appear after the first interaction"
   ]
  },
  {
   "cell_type": "code",
   "execution_count": 7,
   "metadata": {},
   "outputs": [
    {
     "data": {
      "application/vnd.jupyter.widget-view+json": {
       "model_id": "20e21bb3234741849c608d0b94055194",
       "version_major": 2,
       "version_minor": 0
      },
      "text/plain": [
       "VBox(children=(HBox(children=(Button(description='Save Current Figure', layout=Layout(width='5cm'), style=Butt…"
      ]
     },
     "metadata": {},
     "output_type": "display_data"
    }
   ],
   "source": [
    "close_widgets(dir())\n",
    "\n",
    "#create the widget\n",
    "w5 = widgets.interactive(h_ft.Plot_Sz_Sz2_T, T=h_ft.T_range, u=h_ft.u25, n=h_ft.n, N=h_ft.N, box=h_ft.t_ij);\n",
    "\n",
    "# create the save figure button\n",
    "filename = set_filename(\"Thermal_Average_Sz_Sz2.pdf\")\n",
    "Save_Figure_Button.on_click(functools.partial(Click_Save_Figure, widget=w5, name_widget=filename, output=h_ft.out, path=\"Figures/\"))\n",
    "\n",
    "# vertical and horizontal box for widgets\n",
    "d5 = VBox([\n",
    "    \tHBox([Save_Figure_Button, filename, h_ft.out], layout=box_layout),\n",
    "        HBox([\n",
    "            VBox(w5.children[0:2], layout=box_layout),\n",
    "\t\t\tVBox(w5.children[2:4], layout=box_layout),\n",
    "\t\t\tVBox([w5.children[4]], layout=box_layout)\n",
    "\t\t\t]),\n",
    "        w5.children[-1],\n",
    "\t\t])\n",
    "\n",
    "display(d5)\n",
    "w5.update()\t# otherwise graph will only appear after the first interaction"
   ]
  },
  {
   "cell_type": "markdown",
   "metadata": {},
   "source": [
    "### Spin-Spin Correlation Function\n",
    "\n",
    "Finally, we will compute the thermal spin-spin correlation function, which is defined for a given spin operator $\\hat{S}_i$ at site $i$ and a given spin operator $\\hat{S}_j$ at site $j$ as\n",
    "\n",
    "$$\n",
    "\\large\n",
    "\\expval{\\hat{S}_{i,z}\\hat{S}_{j,z}}_T \n",
    "$$\n",
    "\n",
    "In the widget below the thermal spin-spin correlation function is plotted as a function of temperature $T$ for a system with $n$ sites and $N$ electrons. Due to symmetry reasons we only show the relevant different combinations of sites $i$ and $j$. One can change the Temperature range and on-site interaction. Observe how the spin-spin correlation function decreases with increasing temperature."
   ]
  },
  {
   "cell_type": "code",
   "execution_count": 9,
   "metadata": {},
   "outputs": [
    {
     "data": {
      "application/vnd.jupyter.widget-view+json": {
       "model_id": "474f2d6a9509421dbdd47ff0a5cd167b",
       "version_major": 2,
       "version_minor": 0
      },
      "text/plain": [
       "VBox(children=(HBox(children=(Button(description='Save Current Figure', layout=Layout(width='5cm'), style=Butt…"
      ]
     },
     "metadata": {},
     "output_type": "display_data"
    }
   ],
   "source": [
    "close_widgets(dir())\n",
    "\n",
    "#create the widget\n",
    "w6 = widgets.interactive(h_ft.Plot_SzSz_T, T=h_ft.T_range, u=h_ft.u25, n=h_ft.n, N=h_ft.N, box=h_ft.t_ij);\n",
    "\n",
    "# create the save figure button\n",
    "filename = set_filename(\"Temperature_Spin_Spin_Correlation.pdf\")\n",
    "Save_Figure_Button.on_click(functools.partial(Click_Save_Figure, widget=w6, name_widget=filename, output=h_ft.out, path=\"Figures/\"))\n",
    "\n",
    "# vertical and horizontal box for widgets\n",
    "d6 = VBox([\n",
    "    \tHBox([Save_Figure_Button, filename, h_ft.out], layout=box_layout),\n",
    "        HBox([\n",
    "            VBox(w6.children[0:2], layout=box_layout),\n",
    "\t\t\tVBox(w6.children[2:4], layout=box_layout),\n",
    "\t\t\tVBox([w6.children[4]], layout=box_layout)\n",
    "\t\t\t]),\n",
    "        w6.children[-1],\n",
    "\t\t])\n",
    "\n",
    "display(d6)\n",
    "w6.update()\t# otherwise graph will only appear after the first interaction"
   ]
  },
  {
   "cell_type": "code",
   "execution_count": null,
   "metadata": {},
   "outputs": [],
   "source": []
  }
 ],
 "metadata": {
  "kernelspec": {
   "display_name": "projektarbeit_kunes",
   "language": "python",
   "name": "python3"
  },
  "language_info": {
   "codemirror_mode": {
    "name": "ipython",
    "version": 3
   },
   "file_extension": ".py",
   "mimetype": "text/x-python",
   "name": "python",
   "nbconvert_exporter": "python",
   "pygments_lexer": "ipython3",
   "version": "3.10.12"
  },
  "orig_nbformat": 4
 },
 "nbformat": 4,
 "nbformat_minor": 2
}
