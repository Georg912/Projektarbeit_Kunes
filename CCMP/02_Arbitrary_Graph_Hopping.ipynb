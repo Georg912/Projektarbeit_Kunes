{
 "cells": [
  {
   "cell_type": "markdown",
   "id": "a00ed5db",
   "metadata": {},
   "source": [
    "## Import all relevant Modules\n",
    "<a id='section_id'></a>"
   ]
  },
  {
   "cell_type": "code",
   "execution_count": 1,
   "id": "9ee45e11",
   "metadata": {},
   "outputs": [],
   "source": [
    "#%matplotlib widget\n",
    "%matplotlib inline\n",
    "\n",
    "import numpy as np\n",
    "np.set_printoptions(linewidth=200) #set output length, default=75\n",
    "\n",
    "import matplotlib.pyplot as plt # Plotting\n",
    "plt.style.use('seaborn-v0_8-dark')\n",
    "plt.rcParams.update({'font.size':14})\n",
    "\n",
    "import ipywidgets as widgets\n",
    "from ipywidgets import HBox, VBox\n",
    "import functools\n",
    "\n",
    "%load_ext autoreload\n",
    "%autoreload 2"
   ]
  },
  {
   "cell_type": "markdown",
   "id": "2707aa26",
   "metadata": {
    "tags": []
   },
   "source": [
    "## Remark\n",
    "If you are interested in the theory of Markovian and Quantum Mechanical evolution please refer to this [jupyter notebook](01_Dynamical_Systems.ipynb#markovian_evolution)\n",
    "\n",
    "## How to use\n",
    "This is an interactive jupyter notebook which allows the user to create and explore hopping on an arbitrary (user defined) connected graph with $n$ vertices.\n",
    "1. After executing the cells below one has to first define the number of vertices `n` of the graph via a `text box`. \n",
    "\n",
    "2. Afterwards hopping from any site $i$ to another site $j$ ($i,j \\in \\{1,2,\\ldots, n\\}$) can be chosen with probability $0 \\leq p_{ij} \\leq 1$ and pressing the button `Add hopping`. One can choose the probability $p_{ij}$ by the default step size or by giving ones own input (if more precision is desired).\n",
    "\n",
    "3. Every click on the `Undo last hopping` button undoes the last modification. i.e. the last hopping process.\n",
    "\n",
    "4. Whenever desired, a click on the `Show current H and T` button displays the current hopping matrix $H$, as well as the transition matrix $T$.\n",
    "\n",
    "5.  * We have $H_{ij} \\in \\{0,1\\}$ which represents whether hopping from site $i$ to site $j$ is possible.\n",
    "\n",
    "    * Initially $T_{ij} = I_n = H_{ij}$, where $I_n$ is the $n$-dimensional identity matrix, i.e. no hopping at all. Whenever $n$ is changed $H$ and $T$ are reset to $I_n$ (and one cannot undo this operation).\n",
    "\n",
    "    * For ease of use whenever hopping from site $i$ to site $j$ with $p_{ij}$ is added, also hopping in the reverse order is applied, i.e. $H_{ij} = H_{ji}$ and $T_{ij} = T_{ji}$. \n",
    "     \n",
    "    * To ensure the particle does not disappear, we have to satisfy $\\sum_j p_{ij} = 1 \\, \\forall i$. Whenever a probability $p_{ij}\\; (i \\neq j)$ is added the diagonal entries of $T$, $T_{ii}$ and $T_{jj}$ are reduced accordingly to fulfill the condition of no particle vanishing.\n",
    "     \n",
    "    * Finally, whenever hopping to the same site $i = j$ occurs, i.e. not hopping to any other site, neither $H$ nor $T$ change.\n",
    "  \n",
    "6. A click on the `Reset H and T` button sets $H$ and $T$ back to their initial state $I_n$.\n",
    "\n",
    "7. Output messages indicating an operation succeeded, e.g. `done`, `undone`, $\\ldots$ can be displayed by ticking the `Display output messages` check box. Enabling this option reduces the input speed as a new operation can only succeed if the previous output message already faded. An experienced user might leave this option unticked.\n",
    "\n",
    "8. One might switch to a periodic $n$-chain by ticking the `Use periodic isotropic n-chain` check box. This option allows to add $1^\\mathrm{st}$, $2^\\mathrm{nd}$ and $3^\\mathrm{rd}$ neighbor hoppping defined by the probabilities $p_1, p_2$ and $p_3$, respectively"
   ]
  },
  {
   "cell_type": "code",
   "execution_count": 2,
   "id": "64059884",
   "metadata": {},
   "outputs": [],
   "source": [
    "from Modules.Arbitrary_Graph_Hopping.Module_Arbitrary_Hopping import Hopping"
   ]
  },
  {
   "cell_type": "code",
   "execution_count": 3,
   "id": "c10934f1",
   "metadata": {},
   "outputs": [
    {
     "data": {
      "application/vnd.jupyter.widget-view+json": {
       "model_id": "a5319d7b46f1446eb82c30dc4e6109d7",
       "version_major": 2,
       "version_minor": 0
      },
      "text/plain": [
       "BoundedIntText(value=6, description='$n = $', layout=Layout(width='3cm'), max=10, min=2, style=DescriptionStyl…"
      ]
     },
     "metadata": {},
     "output_type": "display_data"
    },
    {
     "data": {
      "application/vnd.jupyter.widget-view+json": {
       "model_id": "7837c4599b874f1aa97a2349af176b06",
       "version_major": 2,
       "version_minor": 0
      },
      "text/plain": [
       "HBox(children=(VBox(children=(Button(description='Add hopping', layout=Layout(width='5cm'), style=ButtonStyle(…"
      ]
     },
     "metadata": {},
     "output_type": "display_data"
    },
    {
     "data": {
      "application/vnd.jupyter.widget-view+json": {
       "model_id": "4571651f20224307aa51657105bf99ec",
       "version_major": 2,
       "version_minor": 0
      },
      "text/plain": [
       "HBox(children=(Checkbox(value=False, description='Display output messages', layout=Layout(width='5cm'), style=…"
      ]
     },
     "metadata": {},
     "output_type": "display_data"
    },
    {
     "data": {
      "application/vnd.jupyter.widget-view+json": {
       "model_id": "e10eac7fa92f45aaad3fd6651a1164c2",
       "version_major": 2,
       "version_minor": 0
      },
      "text/plain": [
       "HBox(children=(VBox(children=(BoundedIntText(value=1, description='Hopping from site $i$ = ', layout=Layout(vi…"
      ]
     },
     "metadata": {},
     "output_type": "display_data"
    },
    {
     "data": {
      "application/vnd.jupyter.widget-view+json": {
       "model_id": "a4a7cc6eb111419a87d5cc72d8afff9a",
       "version_major": 2,
       "version_minor": 0
      },
      "text/plain": [
       "Output()"
      ]
     },
     "metadata": {},
     "output_type": "display_data"
    }
   ],
   "source": [
    "inst = Hopping()\n",
    "display(inst.n, HBox([VBox([inst.button_to_add, inst.button_to_undo]), VBox([inst.button_to_reset, inst.button_to_show])]))\n",
    "display(HBox([inst.checkbox, inst.pbc_checkbox]))\n",
    "display(HBox([VBox([inst.i, inst.j, inst.p]), VBox([inst.p1, inst.p2, inst.p3])]))\n",
    "display(inst.out)"
   ]
  },
  {
   "cell_type": "markdown",
   "id": "793cc617",
   "metadata": {},
   "source": [
    "Let us take a look at the hopping and transition matrices $H$ and $T$ by pressing `Show current H and T` above"
   ]
  },
  {
   "cell_type": "markdown",
   "id": "96d0d14b",
   "metadata": {},
   "source": [
    "Now we can calculate the Markovian time evolution of the system for `n_its` iterations with a particle at different initial positions."
   ]
  },
  {
   "cell_type": "code",
   "execution_count": 4,
   "id": "1b3df4eb",
   "metadata": {},
   "outputs": [],
   "source": [
    "from Modules.General.Module_Widgets_and_Sliders import Text_Box, Iterations_Slider, Initial_State, Save_Figure_Button, Click_Save_Figure\n",
    "from Modules.General.Module_Widgets_and_Sliders import states_dict, set_filename"
   ]
  },
  {
   "cell_type": "code",
   "execution_count": 5,
   "id": "005fd90a",
   "metadata": {},
   "outputs": [
    {
     "data": {
      "application/vnd.jupyter.widget-view+json": {
       "model_id": "f9490f22cc7a43ab9626b5008faa7f36",
       "version_major": 2,
       "version_minor": 0
      },
      "text/plain": [
       "HBox(children=(Button(description='Save Current Figure', layout=Layout(width='5cm'), style=ButtonStyle()), Tex…"
      ]
     },
     "metadata": {},
     "output_type": "display_data"
    },
    {
     "data": {
      "application/vnd.jupyter.widget-view+json": {
       "model_id": "976cb3f9bf3947f7bfb6e073a756ec21",
       "version_major": 2,
       "version_minor": 0
      },
      "text/plain": [
       "interactive(children=(Dropdown(description='Initial State:', options=([1, 0, 0, 0, 0, 0], [0, 1, 0, 0, 0, 0], …"
      ]
     },
     "metadata": {},
     "output_type": "display_data"
    }
   ],
   "source": [
    "m = widgets.interactive(inst.Plot_Markov,\n",
    "        state=Initial_State,\n",
    "        n_its=Iterations_Slider);\n",
    "\n",
    "output_markov = widgets.Output()\n",
    "filename = set_filename(\"Markov.pdf\")\n",
    "Save_Figure_Button.on_click(functools.partial(Click_Save_Figure, widget=m, name_widget=filename, output=output_markov))\n",
    "\n",
    "display(HBox([Save_Figure_Button, filename, output_markov]))\n",
    "display(m)"
   ]
  },
  {
   "cell_type": "markdown",
   "id": "21b0e783-2f24-4aea-a4ec-998776f80b05",
   "metadata": {},
   "source": [
    "For comparison we calculate the Quantum Mechanical time evolution of the system for `n_its` iterations with a particle at different initial positions. Note the different, oscillatory behavior in contrast to the converging Markovian evolution."
   ]
  },
  {
   "cell_type": "code",
   "execution_count": 6,
   "id": "9d8bea9c-67b8-43b4-8403-0b2407b59368",
   "metadata": {},
   "outputs": [
    {
     "data": {
      "application/vnd.jupyter.widget-view+json": {
       "model_id": "86d527e39dd9435b933e74ae14d445ec",
       "version_major": 2,
       "version_minor": 0
      },
      "text/plain": [
       "HBox(children=(Button(description='Save Current Figure', layout=Layout(width='5cm'), style=ButtonStyle()), Tex…"
      ]
     },
     "metadata": {},
     "output_type": "display_data"
    },
    {
     "data": {
      "application/vnd.jupyter.widget-view+json": {
       "model_id": "8127ac0958e44127a59d84c86146682c",
       "version_major": 2,
       "version_minor": 0
      },
      "text/plain": [
       "interactive(children=(Dropdown(description='Initial State:', options=([1, 0, 0, 0, 0, 0], [0, 1, 0, 0, 0, 0], …"
      ]
     },
     "metadata": {},
     "output_type": "display_data"
    }
   ],
   "source": [
    "qm = widgets.interactive(inst.Plot_QM_Evolution,\n",
    "        state=Initial_State,\n",
    "        n_its=Iterations_Slider)\n",
    "\n",
    "output_qm = widgets.Output()\n",
    "filename = set_filename(\"QM.pdf\")\n",
    "Save_Figure_Button.on_click(functools.partial(Click_Save_Figure, widget=qm, name_widget=filename))\n",
    "\n",
    "display(HBox([Save_Figure_Button, filename, output_qm]))\n",
    "display(qm)"
   ]
  },
  {
   "cell_type": "code",
   "execution_count": null,
   "id": "ea1f1cc6",
   "metadata": {},
   "outputs": [],
   "source": []
  }
 ],
 "metadata": {
  "interpreter": {
   "hash": "767d51c1340bd893661ea55ea3124f6de3c7a262a8b4abca0554b478b1e2ff90"
  },
  "kernelspec": {
   "display_name": "Python 3 (ipykernel)",
   "language": "python",
   "name": "python3"
  },
  "language_info": {
   "codemirror_mode": {
    "name": "ipython",
    "version": 3
   },
   "file_extension": ".py",
   "mimetype": "text/x-python",
   "name": "python",
   "nbconvert_exporter": "python",
   "pygments_lexer": "ipython3",
   "version": "3.8.10"
  },
  "toc-showcode": true
 },
 "nbformat": 4,
 "nbformat_minor": 5
}
