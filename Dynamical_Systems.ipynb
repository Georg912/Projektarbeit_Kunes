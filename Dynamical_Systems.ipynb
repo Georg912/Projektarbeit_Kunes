{
 "cells": [
  {
   "cell_type": "markdown",
   "source": [
    "# Import all the relevant modules"
   ],
   "metadata": {}
  },
  {
   "cell_type": "code",
   "execution_count": 1,
   "source": [
    "#widget has bugs with reloading plot\n",
    "#%matplotlib widget\n",
    "%matplotlib inline\n",
    "#TODO: widget works, but size is not displayed correctly\n",
    "\n",
    "\n",
    "import numpy as np \n",
    "import matplotlib.pyplot as plt # Plotting\n",
    "\n",
    "\n",
    "import seaborn as sns\n",
    "plt.style.use('seaborn-dark')\n",
    "plt.rcParams.update({'font.size':14})\n",
    "#mpl.rcParams['figure.dpi']= 100\n",
    "\n",
    "\n",
    "import ipywidgets as widgets\n",
    "from ipywidgets import HBox, VBox\n",
    "from IPython.display import clear_output\n",
    "import functools, time\n",
    "\n",
    "%load_ext autoreload\n",
    "%autoreload 2\n",
    "\n",
    "  \n",
    "# adding `Modules/` to the system path\n",
    "import sys\n",
    "sys.path.insert(0, 'Modules/')"
   ],
   "outputs": [],
   "metadata": {}
  },
  {
   "cell_type": "markdown",
   "source": [
    "# About Jupyter and the following Notebooks\n",
    "\n",
    "(Almost) every function is documented in the [Numpy docstring convention](https://numpydoc.readthedocs.io/en/latest/format.html) and the documentation can be displayed for each object individually by calling `help(<object>)`, e.g. `help(np.linspace)`. Also, for readability and good practice, many functions and sliders are defined in the modules in the `Modules/` folder.\n",
    "\n",
    "(Almost) always the initial setup is taken from the lecture, i.e. has $n = 6, t = 0.1$, etc. as default parameters.\n",
    "\n",
    "\n",
    "This Notebook contains interactive widgets to change parameters on the fly and get a feeling for the different models via hands-on experience by the user. If the widgets in the notebook are **not displayed correctly** please refer to the official [Ipywidgets Documentation](https://ipywidgets.readthedocs.io/en/latest/user_install.html) for help.\n",
    "\n"
   ],
   "metadata": {}
  },
  {
   "cell_type": "markdown",
   "source": [
    "# Part 1 - Introduction: Classical vs Quantum Mechanical dynamics\n",
    "<!---  Define a few convenience macros for bra-ket notation. -->\n",
    "$\\newcommand{\\ket}[1]{\\left\\vert{#1}\\right\\rangle}$\n",
    "$\\newcommand{\\bra}[1]{\\left\\langle{#1}\\right\\vert}$\n",
    "$\\newcommand{\\braket}[2]{\\left\\langle{#1}\\middle|{#2}\\right\\rangle}$\n",
    "$\\newcommand{\\dyad}[2]{\\left|{#1}\\middle\\rangle\\middle\\langle{#2}\\right|}$\n",
    "$\\newcommand{\\mela}[3]{\\left\\langle #1 \\vphantom{#2#3} \\right| #2 \\left| #3 \\vphantom{#1#2} \\right\\rangle}$\n",
    "$\\newcommand\\dif{\\mathop{}\\!\\mathrm{d}}$\n",
    "$\\newcommand\\ii{\\mathrm{i}}$\n",
    "$\\newcommand{\\coloneqq}{\\mathop{:=}}$\n",
    "\n",
    "We first want to explore the difference between classical and quantum mechanical (QM) dynamics using a simple Model: One Particle on a one dimensional $N$-chain with nearest neighbor hopping and periodic boundary conditions (see image below).\n",
    "\n",
    "\n",
    "[//]:# \"![](Images_For_Notebooks/1D_NN_Chain.png)\"\n",
    "\n",
    "<img src=\"Images_For_Notebooks/1D_NN_Chain.png\" height=200 />\n",
    "<figcaption> Fig: 1D NN-Chain with 8 sites and a particle (blue) on site 1</figcaption>\n",
    "\n",
    "# Markovian evolution\n",
    "In the classical sense this model's dynamics might be governed by a [Markovian Process](https://en.wikipedia.org/wiki/Markov_chain) (and describe e.g. Brownian motion) where:\n",
    "\n",
    "* The particle is always at a definite site $j \\in \\{1,2, \\ldots, N\\}$.\n",
    "* At each discrete time-step it might hop with equal probability $p_1$ to the left or right, or it stays put with $p_0 = 1 - 2p_1$.\n",
    "* We assume $0 \\leq p_i \\leq 1\\; \\forall i$ and $\\sum_{i=0} p_i = 1$, for a valid probability.\n",
    "* The $j$-th component of the $N$-vector $(x_1, x_2, \\ldots, x_N)$ is the probability of finding the particle at site $j$.\n",
    "\n",
    "\n"
   ],
   "metadata": {}
  },
  {
   "cell_type": "markdown",
   "source": [
    "Let us first define the `Hopping_Matrix` $H$ (which in fact will prove to be our discretized Hamiltonian in QM time evolution) whose entries $H_{ij} \\in \\{0, 1\\}$ determine if a particle can take a direct path from site $i$ to another site $j$ and afterwards the `Transfer_Matrix` $T$ which includes all hopping probabilities for this different paths. For $T$ to be a valid transition matrix, all rows sum have to equal 1, $\\sum_j T_{ij} = 1\\, \\forall i$."
   ],
   "metadata": {}
  },
  {
   "cell_type": "code",
   "execution_count": 3,
   "source": [
    "from Module_Markov import Hopping_Matrix, Transfer_Matrix\n",
    "\n",
    "print(f\"H = \", Hopping_Matrix(), \"\", sep=\"\\n\")\n",
    "print(f\"T = \", Transfer_Matrix(), sep=\"\\n\")"
   ],
   "outputs": [
    {
     "output_type": "stream",
     "name": "stdout",
     "text": [
      "H = \n",
      "[[0. 1. 0. 0. 0. 1.]\n",
      " [1. 0. 1. 0. 0. 0.]\n",
      " [0. 1. 0. 1. 0. 0.]\n",
      " [0. 0. 1. 0. 1. 0.]\n",
      " [0. 0. 0. 1. 0. 1.]\n",
      " [1. 0. 0. 0. 1. 0.]]\n",
      "\n",
      "T = \n",
      "[[0.98 0.01 0.   0.   0.   0.01]\n",
      " [0.01 0.98 0.01 0.   0.   0.  ]\n",
      " [0.   0.01 0.98 0.01 0.   0.  ]\n",
      " [0.   0.   0.01 0.98 0.01 0.  ]\n",
      " [0.   0.   0.   0.01 0.98 0.01]\n",
      " [0.01 0.   0.   0.   0.01 0.98]]\n"
     ]
    }
   ],
   "metadata": {}
  },
  {
   "cell_type": "markdown",
   "source": [
    "We are now ready to calculate the time evolution of an initial `state` $s$ via $s' = T s$.\n",
    "\n",
    "The code below adds slider to change the number of sites $n$, the hopping probabilites $p_i$ and the number of iterations $n_\\mathrm{its}$. One can also choose a different initial state via the `Dropdown` menu or add a custom one by changing `User Input`. Finally choosing a filename and pressing the `save figure` button stores the plot in the folder `Figures/` ."
   ],
   "metadata": {}
  },
  {
   "cell_type": "code",
   "execution_count": 4,
   "source": [
    "#TODO: split modul into submodules for readability\n",
    "#TODO: change title of plots to include n"
   ],
   "outputs": [],
   "metadata": {}
  },
  {
   "cell_type": "code",
   "execution_count": 5,
   "source": [
    "from Module_Markov import Calc_Markov, Plot_Markov\n",
    "from Module_Widgets_and_Sliders import Text_Box, Iterations_Slider, p1_Slider, p2_Slider, Initial_State, n_Slider, Save_Figure_Button\n",
    "from Module_Widgets_and_Sliders import states_dict, set_filename\n",
    "output = widgets.Output()\n",
    "def on_button_clicked(b, widget, name_widget):\n",
    "    widget.result.savefig(f\"Figures/{name_widget.value}\", bbox_inches='tight')\n",
    "\n",
    "    with output:\n",
    "        print(\" Done\")\n",
    "        time.sleep(2)\n",
    "        clear_output()\n",
    "\n",
    "\n",
    "#TODO possibly display T matrix in interact"
   ],
   "outputs": [],
   "metadata": {}
  },
  {
   "cell_type": "code",
   "execution_count": 6,
   "source": [
    "m = widgets.interactive(Plot_Markov,\n",
    "        state=Initial_State,\n",
    "        n_its=Iterations_Slider,\n",
    "        n=n_Slider,\n",
    "        p1=p1_Slider,\n",
    "        p2=p2_Slider);\n",
    "\n",
    "\n",
    "filename = set_filename(\"Markov.pdf\")\n",
    "Save_Figure_Button.on_click(functools.partial(on_button_clicked, widget=m, name_widget=filename))\n",
    "\n",
    "display(HBox([Save_Figure_Button, filename, output]))\n",
    "display(VBox([Text_Box, m]))"
   ],
   "outputs": [
    {
     "output_type": "display_data",
     "data": {
      "text/plain": [
       "HBox(children=(Button(description='Click to save current figure', layout=Layout(width='5cm'), style=ButtonStyl…"
      ],
      "application/vnd.jupyter.widget-view+json": {
       "model_id": "d0380ddbfef94a08948dbd141a49db99",
       "version_major": 2,
       "version_minor": 0
      }
     },
     "metadata": {}
    },
    {
     "output_type": "display_data",
     "data": {
      "text/plain": [
       "VBox(children=(Text(value='[1, 0, 0, 0, 0, 0]', continuous_update=False, description='User Input:', placeholde…"
      ],
      "application/vnd.jupyter.widget-view+json": {
       "model_id": "2445dc5d5a974c1aa7250bea2e20fb3a",
       "version_major": 2,
       "version_minor": 0
      }
     },
     "metadata": {}
    }
   ],
   "metadata": {}
  },
  {
   "cell_type": "markdown",
   "source": [
    "# Markov Evolution by counting paths\n",
    "\n",
    "One can also arrive at the result obtained above by #TODO: write theory"
   ],
   "metadata": {}
  },
  {
   "cell_type": "code",
   "execution_count": 7,
   "source": [
    "from Module_Widgets_and_Sliders import seed_Slider, n_paths_Slider, initial_position_Slider\n",
    "from Module_Markov import Markov_Path, Plot_Markov_Path\n",
    "#TODO add p1 to all plot outputs\n"
   ],
   "outputs": [],
   "metadata": {}
  },
  {
   "cell_type": "code",
   "execution_count": 8,
   "source": [
    "m_path = widgets.interactive(Plot_Markov_Path,\n",
    "        initial_position=initial_position_Slider,\n",
    "        n_its=Iterations_Slider,\n",
    "        p1=p1_Slider,\n",
    "        n_paths=n_paths_Slider,\n",
    "        seed=seed_Slider,\n",
    "        n=n_Slider);\n",
    "\n",
    "\n",
    "filename = set_filename(\"Markov_Path.pdf\")\n",
    "Save_Figure_Button.on_click(functools.partial(on_button_clicked, widget=m_path, name_widget=filename))\n",
    "\n",
    "display(HBox([Save_Figure_Button, filename, output]))\n",
    "display(VBox([m_path]))"
   ],
   "outputs": [
    {
     "output_type": "display_data",
     "data": {
      "text/plain": [
       "HBox(children=(Button(description='Click to save current figure', layout=Layout(width='5cm'), style=ButtonStyl…"
      ],
      "application/vnd.jupyter.widget-view+json": {
       "model_id": "e29b3f34f567452292ea18049be02f04",
       "version_major": 2,
       "version_minor": 0
      }
     },
     "metadata": {}
    },
    {
     "output_type": "display_data",
     "data": {
      "text/plain": [
       "VBox(children=(interactive(children=(Dropdown(description='Initial position:', options=(1, 2, 3, 4, 5, 6, 7), …"
      ],
      "application/vnd.jupyter.widget-view+json": {
       "model_id": "b55dc193ce3144aa9dfcc6329188c8ec",
       "version_major": 2,
       "version_minor": 0
      }
     },
     "metadata": {}
    }
   ],
   "metadata": {}
  },
  {
   "cell_type": "markdown",
   "source": [
    "# Quantum Mechanical Time Evolution\n",
    "In a quantum mechanical system we have:\n",
    "* A state of the system at a given time $t$ (which is represented by a wave function $\\ket{\\psi(t)}$) is described by a complex $n$-vector\n",
    "* The particle is in a superposition of the different sites and not localised until the measurement.\n",
    "* At each time-step the wave function (WF) undergoes a unitary time evolution given by\n",
    "$$\n",
    "    \\ket{\\psi(t)} = U \\ket{\\psi(0)},\n",
    "$$\n",
    "\n",
    "    where $U = \\exp(-\\ii t H)$ is the time evolution operator. This follows from integrating the time dependent Schrödinger equation\n",
    "$$\n",
    "    \\ii \\frac{\\dif}{\\dif t} \\ket{\\psi(t)} = H \\ket{\\psi(t)}\n",
    "$$\n",
    "\n",
    "    and setting the inital state $\\ket{\\psi(0)}$ at $t=0$.\n",
    "* The probability of measuring the particle at time $t'$ on site $j$ is given by the overlap of the WF with the site vector, i.e. the absolute square of the their inner product. By choosing the Euclidean basis $\\ket{\\mathrm{e}_i}$ for our sites we simply take the amplitude, i.e. the absolute square of the $j$-th component of the WF $\\ket{\\psi(t')}$ to arrive at the specifiy probability."
   ],
   "metadata": {}
  },
  {
   "cell_type": "code",
   "execution_count": 12,
   "source": [
    "from Module_QM import Calc_QM, Plot_QM_Evolution\n",
    "from Module_Widgets_and_Sliders import t_Slider"
   ],
   "outputs": [],
   "metadata": {}
  },
  {
   "cell_type": "markdown",
   "source": [
    "We are now ready to take a look at the quantum mechanical evolution"
   ],
   "metadata": {}
  },
  {
   "cell_type": "code",
   "execution_count": 13,
   "source": [
    "qm = widgets.interactive(Plot_QM_Evolution,\n",
    "        state=Initial_State,\n",
    "        n_its=Iterations_Slider,\n",
    "        n=n_Slider,\n",
    "        t=t_Slider);\n",
    "        #t2=x2_Slider);\n",
    "\n",
    "#TODO: display U or T next to image to compare\n",
    "#TODO: fragen wie das mit NN hopping bei U is und gscheit implementieren\n",
    "#TODO: if widgets infleuce eahc other and updates get slow\n",
    "\n",
    "filename = set_filename(\"QM.pdf\")\n",
    "Save_Figure_Button.on_click(functools.partial(on_button_clicked, widget=qm, name_widget=filename))\n",
    "\n",
    "display(HBox([Save_Figure_Button, filename, output]))\n",
    "display(VBox([Text_Box, qm]))"
   ],
   "outputs": [
    {
     "output_type": "display_data",
     "data": {
      "text/plain": [
       "HBox(children=(Button(description='Click to save current figure', layout=Layout(width='5cm'), style=ButtonStyl…"
      ],
      "application/vnd.jupyter.widget-view+json": {
       "model_id": "473a0130cddc4953b3442d85c284e11c",
       "version_major": 2,
       "version_minor": 0
      }
     },
     "metadata": {}
    },
    {
     "output_type": "display_data",
     "data": {
      "text/plain": [
       "VBox(children=(Text(value='[1, 0, 0, 0, 0, 0, 0, 0]', continuous_update=False, description='User Input:', plac…"
      ],
      "application/vnd.jupyter.widget-view+json": {
       "model_id": "60c762306f1b46bb81e8b3100eb63600",
       "version_major": 2,
       "version_minor": 0
      }
     },
     "metadata": {}
    }
   ],
   "metadata": {}
  },
  {
   "cell_type": "markdown",
   "source": [
    "For completeness and better comparison a side by side view of the Markovian and Qantum Mechanical models."
   ],
   "metadata": {}
  },
  {
   "cell_type": "code",
   "execution_count": 14,
   "source": [
    "#TODO: fragen wie das mit NN hopping bei U is und gscheit implementieren\n",
    "#filename.value=\"QM.pdf\"\n",
    "#display(HBox([Button_Markov, filename, output]))\n",
    "display(HBox([VBox([Text_Box, m]), VBox([Text_Box, qm])]))"
   ],
   "outputs": [
    {
     "output_type": "display_data",
     "data": {
      "text/plain": [
       "HBox(children=(VBox(children=(Text(value='[1, 0, 0, 0, 0, 0, 0, 0]', continuous_update=False, description='Use…"
      ],
      "application/vnd.jupyter.widget-view+json": {
       "model_id": "8e7f37b984e94fb886e476e2aaef2dba",
       "version_major": 2,
       "version_minor": 0
      }
     },
     "metadata": {}
    }
   ],
   "metadata": {}
  },
  {
   "cell_type": "markdown",
   "source": [
    "# Time evolution using Eigenstates of the Hamiltonian $H$\n",
    "\n",
    "Instead of directly propagating the initial state with the Time Evolution Operator $U$, we can also use the Eigensystem of the Hamiltonian to achieve time evolution, if the Hamiltonian is not explicitly time dependent. \n",
    "\n",
    "Starting from the time-independent Schrödinger equation\n",
    "$$\n",
    "    H \\ket{\\phi_n} = E_n \\ket{\\phi_n},\n",
    "$$\n",
    "with $\\ket{\\phi_n}$ being the Eigenvector corresponding to the $n$-th Eigenvalue $E_n$, one can construct a complete orthonormal eigenbasis of the Hamiltonian $\\sum_n \\dyad{\\phi_n}{\\phi_n} = \\mathbb{1}$. This Basis has to exist, as the operator is hermitian. Inserting the latter into the time evolution of a state $\\ket{\\psi(0)}$\n",
    "\n",
    "$$\n",
    "    \\ket{\\psi(t)} = U \\ket{\\psi(0)} = \\exp(-\\ii t H) \\ket{\\psi(0)},\n",
    "$$\n",
    "and massaging the equation, we arrive at\n",
    "\n",
    "\\begin{align}\n",
    "    \\ket{\\psi(t)} &= \\exp(-\\ii t H) \\mathbb{1} \\ket{\\psi(0)} \\\\\n",
    "                  &= \\sum_n \\exp(-\\ii t H) \\ket{\\phi_n} \\underbrace{\\braket{\\phi_n}{\\psi(0)}}_{\\coloneqq c_n} \\\\\n",
    "                  &= \\sum_n c_n \\exp(-\\ii t H) \\ket{\\phi_n} \\\\\n",
    "                  &= \\sum_n c_n \\exp(-\\ii t E_n) \\ket{\\phi_n},\n",
    "\\end{align}\n",
    "where $c_n = \\braket{\\phi_n}{\\psi(0)}$ are the (complex) basis coefficients. In the last step we used the Eigenvalue equation of $H$ together with the fact, that a matrix exponential is [defined](https://en.wikipedia.org/wiki/Matrix_exponential) by the taylor series of the exponential function. Note, how the time evolution operator uses a matrix exponential, whereas the Eigendecomposition only relies on the exponential of a scalar.\n",
    "\n",
    "Finally, the probability of measuring the particle on site $j$ after $m$ steps is again given by\n",
    "$$\n",
    "    P(m, j) = \\left|\\braket{\\mathrm{e}_j}{\\psi(m)}\\right|^2\n",
    "$$"
   ],
   "metadata": {}
  },
  {
   "cell_type": "markdown",
   "source": [
    "Let us first take a look at eigenvalues of the $n=6$-ring Hamiltonian. We can see that two of the eigenvalues are doubly degenerate, which occurs due to the symmetry of hopping either once or twice to the left or right at any given position."
   ],
   "metadata": {}
  },
  {
   "cell_type": "code",
   "execution_count": 18,
   "source": [
    "#qm.close(), w.close() #possibly close the previous widgets for better performance\n",
    "values, _ = np.linalg.eigh(Hopping_Matrix())\n",
    "print(f\"Eigenvalues for H with n = 6: {values}\")"
   ],
   "outputs": [
    {
     "output_type": "stream",
     "name": "stdout",
     "text": [
      "Eigenvalues for H with n = 6: [-2. -1. -1.  1.  1.  2.]\n"
     ]
    }
   ],
   "metadata": {}
  },
  {
   "cell_type": "code",
   "execution_count": 19,
   "source": [
    "from Module_QM import Calc_QM_with_Eigenstates, Plot_QM_with_Eigenstates"
   ],
   "outputs": [],
   "metadata": {}
  },
  {
   "cell_type": "markdown",
   "source": [
    "We check our derivation by plotting once again a quantum mechanical time evolution and expecting the exact same behaviour."
   ],
   "metadata": {}
  },
  {
   "cell_type": "code",
   "execution_count": 20,
   "source": [
    "qm_Eigenstates = widgets.interactive(Plot_QM_with_Eigenstates,\n",
    "        state=Initial_State,\n",
    "        n_its=Iterations_Slider,\n",
    "        n=n_Slider,\n",
    "        t=t_Slider);\n",
    "\n",
    "filename = set_filename(\"QM_Eigenstates.pdf\")\n",
    "Save_Figure_Button.on_click(functools.partial(on_button_clicked, widget=qm_Eigenstates))\n",
    "\n",
    "#TODO: fragen wie das mit NN hopping bei U is und gscheit implementieren\n",
    "display(HBox([Save_Figure_Button, filename, output]))\n",
    "display(VBox([Text_Box, qm_Eigenstates]))"
   ],
   "outputs": [
    {
     "output_type": "display_data",
     "data": {
      "text/plain": [
       "HBox(children=(Button(description='Click to save current figure', layout=Layout(width='5cm'), style=ButtonStyl…"
      ],
      "application/vnd.jupyter.widget-view+json": {
       "model_id": "e3a30ebbd7b5439d906a4e8636d21c83",
       "version_major": 2,
       "version_minor": 0
      }
     },
     "metadata": {}
    },
    {
     "output_type": "display_data",
     "data": {
      "text/plain": [
       "VBox(children=(Text(value='[1, 0, 0, 0, 0, 0, 0, 0]', continuous_update=False, description='User Input:', plac…"
      ],
      "application/vnd.jupyter.widget-view+json": {
       "model_id": "c3eda742b0b14770921a72d73675b087",
       "version_major": 2,
       "version_minor": 0
      }
     },
     "metadata": {}
    }
   ],
   "metadata": {}
  },
  {
   "cell_type": "code",
   "execution_count": null,
   "source": [],
   "outputs": [],
   "metadata": {}
  }
 ],
 "metadata": {
  "interpreter": {
   "hash": "767d51c1340bd893661ea55ea3124f6de3c7a262a8b4abca0554b478b1e2ff90"
  },
  "kernelspec": {
   "display_name": "Python 3 (ipykernel)",
   "language": "python",
   "name": "python3"
  },
  "language_info": {
   "codemirror_mode": {
    "name": "ipython",
    "version": 3
   },
   "file_extension": ".py",
   "mimetype": "text/x-python",
   "name": "python",
   "nbconvert_exporter": "python",
   "pygments_lexer": "ipython3",
   "version": "3.9.6"
  }
 },
 "nbformat": 4,
 "nbformat_minor": 5
}