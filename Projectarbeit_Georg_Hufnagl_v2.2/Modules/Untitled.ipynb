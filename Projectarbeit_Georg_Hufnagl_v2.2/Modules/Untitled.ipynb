{
 "cells": [
  {
   "cell_type": "code",
   "execution_count": 1,
   "id": "d34b75ee-6bb7-467d-92c9-3a3a4c8e1cde",
   "metadata": {},
   "outputs": [],
   "source": [
    "import numpy as np"
   ]
  },
  {
   "cell_type": "code",
   "execution_count": null,
   "id": "cb524c6a-d69d-40e9-a062-12455bb547b3",
   "metadata": {},
   "outputs": [],
   "source": [
    "[1,2,3,4,5,6,...,n]\n",
    "[n * (n+1) / 2, 0,0,0,0,]\n",
    "random\n",
    "[+- pi]"
   ]
  },
  {
   "cell_type": "code",
   "execution_count": 3,
   "id": "0a9144d0-d8d3-49e5-a891-24de3d674de6",
   "metadata": {},
   "outputs": [],
   "source": [
    "d1 = {\"a\": 1, \"b\":2}\n",
    "d2 = {\"a\":3, \"b\":4}\n",
    "\n",
    "d = {}\n",
    "d.update(d1)"
   ]
  },
  {
   "cell_type": "code",
   "execution_count": 5,
   "id": "df08ad20-08d8-4202-a12e-8caa774c0933",
   "metadata": {},
   "outputs": [],
   "source": [
    "d.update(d2)"
   ]
  },
  {
   "cell_type": "code",
   "execution_count": 6,
   "id": "8dbdff8f-2d1f-4db5-b177-c85c75d90434",
   "metadata": {},
   "outputs": [
    {
     "data": {
      "text/plain": [
       "{'a': 3, 'b': 4}"
      ]
     },
     "execution_count": 6,
     "metadata": {},
     "output_type": "execute_result"
    }
   ],
   "source": [
    "d"
   ]
  },
  {
   "cell_type": "code",
   "execution_count": 9,
   "id": "b7913f00-e2fe-4eac-8b32-6c628ab05ebe",
   "metadata": {},
   "outputs": [
    {
     "name": "stdout",
     "output_type": "stream",
     "text": [
      "['a', 'b', 'c']\n",
      "{'a': [1, 5], 'b': [2, 6], 'c': [3, 7]}\n"
     ]
    }
   ],
   "source": [
    "d1 = {'a': 1, 'b': 2, 'c':3}\n",
    "d2 = {'a': 5, 'b': 6, 'c':7} \n",
    "\n",
    "# get keys from one of the dictionary\n",
    "ks = [k for k in d1.keys()]\n",
    "\n",
    "print(ks)\n",
    "['a', 'b', 'c']\n",
    "\n",
    "# call values from each dictionary on available keys\n",
    "d_merged = {k: [d1[k], d2[k]] for k in ks}\n",
    "\n",
    "print(d_merged)"
   ]
  },
  {
   "cell_type": "code",
   "execution_count": 70,
   "id": "30f4cbde-6900-4ae6-bd71-b8f32fe14cde",
   "metadata": {},
   "outputs": [
    {
     "data": {
      "text/plain": [
       "{2: [1, 2],\n",
       " 3: [1, 2, 3],\n",
       " 4: [1, 2, 3, 4],\n",
       " 5: [1, 2, 3, 4, 5],\n",
       " 6: [1, 2, 3, 4, 5, 6],\n",
       " 7: [1, 2, 3, 4, 5, 6, 7],\n",
       " 8: [1, 2, 3, 4, 5, 6, 7, 8],\n",
       " 9: [1, 2, 3, 4, 5, 6, 7, 8, 9],\n",
       " 10: [1, 2, 3, 4, 5, 6, 7, 8, 9, 10]}"
      ]
     },
     "execution_count": 70,
     "metadata": {},
     "output_type": "execute_result"
    }
   ],
   "source": []
  },
  {
   "cell_type": "code",
   "execution_count": 71,
   "id": "2377886b-3e91-4b74-bd61-9e3bd292cdf0",
   "metadata": {},
   "outputs": [
    {
     "data": {
      "text/plain": [
       "{2: [3, 0],\n",
       " 3: [6, 0, 0],\n",
       " 4: [10, 0, 0, 0],\n",
       " 5: [15, 0, 0, 0, 0],\n",
       " 6: [21, 0, 0, 0, 0, 0],\n",
       " 7: [28, 0, 0, 0, 0, 0, 0],\n",
       " 8: [36, 0, 0, 0, 0, 0, 0, 0],\n",
       " 9: [45, 0, 0, 0, 0, 0, 0, 0, 0],\n",
       " 10: [55, 0, 0, 0, 0, 0, 0, 0, 0, 0]}"
      ]
     },
     "execution_count": 71,
     "metadata": {},
     "output_type": "execute_result"
    }
   ],
   "source": [
    "n = 10\n",
    "d2"
   ]
  },
  {
   "cell_type": "code",
   "execution_count": 72,
   "id": "7405484a-4d9f-4649-8933-61a4af8413e8",
   "metadata": {},
   "outputs": [
    {
     "data": {
      "text/plain": [
       "{2: [0.3, 0.44],\n",
       " 3: [0.58, 0.41, 0.63],\n",
       " 4: [0.2, 0.29, 0.02, 0.25],\n",
       " 5: [0.77, 0.91, 0.15, 0.04, 0.05],\n",
       " 6: [0.48, 0.48, 0.91, 0.64, 0.81, 0.51],\n",
       " 7: [0.52, 0.36, 0.52, 0.42, 0.3, 0.44, 0.81],\n",
       " 8: [0.36, 0.55, 0.8, 0.27, 0.8, 0.38, 0.76, 0.38],\n",
       " 9: [0.29, 0.98, 0.3, 0.44, 0.84, 0.59, 0.89, 0.38, 0.28],\n",
       " 10: [0.18, 0.49, 0.19, 0.08, 0.57, 0.98, 0.79, 0.82, 0.61, 1.0]}"
      ]
     },
     "execution_count": 72,
     "metadata": {},
     "output_type": "execute_result"
    }
   ],
   "source": [
    "n = 10\n",
    "\n",
    "d3"
   ]
  },
  {
   "cell_type": "code",
   "execution_count": 73,
   "id": "b5174226-ec84-4449-bda2-80bd600a9c1e",
   "metadata": {},
   "outputs": [
    {
     "data": {
      "text/plain": [
       "{2: [1.57, -1.57],\n",
       " 3: [1.57, -1.57, 1.57],\n",
       " 4: [1.57, -1.57, 1.57, -1.57],\n",
       " 5: [1.57, -1.57, 1.57, -1.57, 1.57],\n",
       " 6: [1.57, -1.57, 1.57, -1.57, 1.57, -1.57],\n",
       " 7: [1.57, -1.57, 1.57, -1.57, 1.57, -1.57, 1.57],\n",
       " 8: [1.57, -1.57, 1.57, -1.57, 1.57, -1.57, 1.57, -1.57],\n",
       " 9: [1.57, -1.57, 1.57, -1.57, 1.57, -1.57, 1.57, -1.57, 1.57],\n",
       " 10: [1.57, -1.57, 1.57, -1.57, 1.57, -1.57, 1.57, -1.57, 1.57, -1.57]}"
      ]
     },
     "execution_count": 73,
     "metadata": {},
     "output_type": "execute_result"
    }
   ],
   "source": [
    "n = 10\n",
    "\n",
    "d4"
   ]
  },
  {
   "cell_type": "code",
   "execution_count": 82,
   "id": "8aaee06b-336d-441a-9590-ec25d7987b34",
   "metadata": {},
   "outputs": [
    {
     "name": "stdout",
     "output_type": "stream",
     "text": [
      "[2, 3, 4, 5, 6, 7, 8, 9, 10]\n"
     ]
    }
   ],
   "source": []
  },
  {
   "cell_type": "code",
   "execution_count": 83,
   "id": "e4deb08e-738b-4306-ae6c-3dc9aa58be64",
   "metadata": {},
   "outputs": [
    {
     "data": {
      "text/plain": [
       "{2: [[1, 2], [3, 0], [0.3, 0.44], [1.57, -1.57]],\n",
       " 3: [[1, 2, 3], [6, 0, 0], [0.58, 0.41, 0.63], [1.57, -1.57, 1.57]],\n",
       " 4: [[1, 2, 3, 4],\n",
       "  [10, 0, 0, 0],\n",
       "  [0.2, 0.29, 0.02, 0.25],\n",
       "  [1.57, -1.57, 1.57, -1.57]],\n",
       " 5: [[1, 2, 3, 4, 5],\n",
       "  [15, 0, 0, 0, 0],\n",
       "  [0.77, 0.91, 0.15, 0.04, 0.05],\n",
       "  [1.57, -1.57, 1.57, -1.57, 1.57]],\n",
       " 6: [[1, 2, 3, 4, 5, 6],\n",
       "  [21, 0, 0, 0, 0, 0],\n",
       "  [0.48, 0.48, 0.91, 0.64, 0.81, 0.51],\n",
       "  [1.57, -1.57, 1.57, -1.57, 1.57, -1.57]],\n",
       " 7: [[1, 2, 3, 4, 5, 6, 7],\n",
       "  [28, 0, 0, 0, 0, 0, 0],\n",
       "  [0.52, 0.36, 0.52, 0.42, 0.3, 0.44, 0.81],\n",
       "  [1.57, -1.57, 1.57, -1.57, 1.57, -1.57, 1.57]],\n",
       " 8: [[1, 2, 3, 4, 5, 6, 7, 8],\n",
       "  [36, 0, 0, 0, 0, 0, 0, 0],\n",
       "  [0.36, 0.55, 0.8, 0.27, 0.8, 0.38, 0.76, 0.38],\n",
       "  [1.57, -1.57, 1.57, -1.57, 1.57, -1.57, 1.57, -1.57]],\n",
       " 9: [[1, 2, 3, 4, 5, 6, 7, 8, 9],\n",
       "  [45, 0, 0, 0, 0, 0, 0, 0, 0],\n",
       "  [0.29, 0.98, 0.3, 0.44, 0.84, 0.59, 0.89, 0.38, 0.28],\n",
       "  [1.57, -1.57, 1.57, -1.57, 1.57, -1.57, 1.57, -1.57, 1.57]],\n",
       " 10: [[1, 2, 3, 4, 5, 6, 7, 8, 9, 10],\n",
       "  [55, 0, 0, 0, 0, 0, 0, 0, 0, 0],\n",
       "  [0.18, 0.49, 0.19, 0.08, 0.57, 0.98, 0.79, 0.82, 0.61, 1.0],\n",
       "  [1.57, -1.57, 1.57, -1.57, 1.57, -1.57, 1.57, -1.57, 1.57, -1.57]]}"
      ]
     },
     "execution_count": 83,
     "metadata": {},
     "output_type": "execute_result"
    }
   ],
   "source": [
    "d_merged"
   ]
  },
  {
   "cell_type": "code",
   "execution_count": null,
   "id": "d4036a8f-0885-4d67-a8fb-11c1064f5e5c",
   "metadata": {},
   "outputs": [],
   "source": []
  }
 ],
 "metadata": {
  "kernelspec": {
   "display_name": "Python 3 (ipykernel)",
   "language": "python",
   "name": "python3"
  },
  "language_info": {
   "codemirror_mode": {
    "name": "ipython",
    "version": 3
   },
   "file_extension": ".py",
   "mimetype": "text/x-python",
   "name": "python",
   "nbconvert_exporter": "python",
   "pygments_lexer": "ipython3",
   "version": "3.8.10"
  }
 },
 "nbformat": 4,
 "nbformat_minor": 5
}
