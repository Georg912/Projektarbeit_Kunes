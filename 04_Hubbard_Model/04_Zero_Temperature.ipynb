{
 "cells": [
  {
   "cell_type": "code",
   "execution_count": 3,
   "metadata": {},
   "outputs": [],
   "source": [
    "from more_itertools import distinct_permutations\n",
    "import numpy as np\n",
    "import scipy.spatial.distance as sp\n",
    "import numba as nb\n",
    "from numba import jit, njit\n",
    "\n",
    "n = 6\n",
    "s1 = 3\n",
    "s2 = 3\n",
    "\n",
    "# a = np.concatenate((np.ones(s1),np.zeros(n-s1)))\n",
    "# b = np.concatenate((np.ones(s2),np.zeros(n-s2)))\n",
    "# print(a,b)\n",
    "\n",
    "# p_a = np.array(tuple(distinct_permutations(a)))\n",
    "# p_b = np.array(tuple(distinct_permutations(b)))\n",
    "# #print(p_a,\"\\n\\n\", p_b)\n",
    "\n",
    "# p_aa = np.repeat(p_a, p_b.shape[0], axis=0)\n",
    "# p_bb = np.tile(p_b, (p_a.shape[0],1))\n",
    "\n",
    "# base = np.concatenate((p_aa, p_bb), axis=1)\n",
    "\n",
    "\n",
    "def Base(n=6, s1=3, s2=3):\n",
    "    up_state = np.concatenate((np.ones(s1),np.zeros(n-s1)))\n",
    "    down_state = np.concatenate((np.ones(s2),np.zeros(n-s2)))\n",
    "    \n",
    "    all_up_states = np.array(tuple(distinct_permutations(up_state)))\n",
    "    all_down_states = np.array(tuple(distinct_permutations(down_state)))\n",
    " \n",
    "\t#reshape and repeat or tile to get all possible combinations:\n",
    "    up_repeated = np.repeat(all_up_states, all_down_states.shape[0], axis=0)\n",
    "    down_repeated = np.tile(all_down_states, (all_up_states.shape[0], 1))\n",
    "    \n",
    "    return np.concatenate((up_repeated, down_repeated), axis=1)"
   ]
  },
  {
   "cell_type": "code",
   "execution_count": 4,
   "metadata": {},
   "outputs": [],
   "source": [
    "def up(x):\n",
    "    y = np.atleast_2d(x)\n",
    "    return y[:, : y.shape[1]//2]\n",
    "\n",
    "def down(x):\n",
    "    y = np.atleast_2d(x)\n",
    "    return y[:, y.shape[1]//2 : ]\n",
    "\n",
    "def nn(x):\n",
    "    return np.sum(up(x) * down(x), axis=1)\n",
    "\n",
    "def diag(basis, i):\n",
    "    return np.atleast_2d(basis)[:,i] * np.atleast_2d(basis)[:, 2*n//2 + i]\n",
    "\n",
    "def Double(basis, i):\n",
    "    return np.diag(diag(basis, i))\n",
    "\n",
    "def DoubleSiteAvg(basis): return np.diag(np.mean(up(basis) * down(basis), axis=1))\n",
    "\n",
    "def OpSz(basis, i): return np.diag((up(basis) - down(basis))[:, i])\n",
    "def OpSzSz(basis, i, j): return OpSz(basis, i) @ OpSz(basis, j)\n",
    "\n",
    "@jit\n",
    "def norm(x): return np.sum(np.abs(x))\n",
    "\n",
    "@jit\n",
    "def Allowed_Hoppings(n=6):\n",
    "    h_0n = np.arange(0, n)\n",
    "    h_1n = np.arange(1,n+1) % n\n",
    "    \n",
    "    up_clockwise = np.stack((h_0n, h_1n)).T\n",
    "    up_counter_clockwise = np.fliplr(up_clockwise)\n",
    "    down_clockwise = up_clockwise + n\n",
    "    down_counter_clockwise = up_counter_clockwise + n\n",
    "    \n",
    "    if n==2: #clockwise and counterclockwise are the same\n",
    "        return np.vstack((up_clockwise, down_clockwise))\n",
    "    \n",
    "    return np.vstack((up_clockwise, up_counter_clockwise, down_clockwise, down_counter_clockwise))\n",
    "\n",
    "def Allowed_Hoppings_single(n=6):\n",
    "    h_0n = np.arange(0, n)\n",
    "    h_1n = np.arange(1,n+1) % n\n",
    "    \n",
    "    up_clockwise = np.stack((h_0n, h_1n)).T\n",
    "    up_counter_clockwise = np.flip(up_clockwise, axis=1)\n",
    "    #down_clockwise = up_clockwise + n\n",
    "    #down_counter_clockwise = up_counter_clockwise + n\n",
    "    \n",
    "    if n==2: #clockwise and counterclockwise are the same\n",
    "        return np.vstack((up_clockwise))\n",
    "    \n",
    "    return np.vstack((up_clockwise, up_counter_clockwise))"
   ]
  },
  {
   "cell_type": "code",
   "execution_count": 18,
   "metadata": {},
   "outputs": [],
   "source": [
    "@jit\n",
    "def Hop_sign(x, i): return (-1)**np.sum(x[i+1 : ])\n",
    "\n",
    "@jit\n",
    "def HopTest(x, y, cre, anh): return norm(x-y) == 2.0 and x[cre]==1 and x[anh]==0 and y[cre]==0 and y[anh]==1\n",
    "\n",
    "# @jit\n",
    "# def HopTest_no(x, y, cre, anh): return x[cre]==1 and x[anh]==0 and y[cre]==0 and y[anh]==1\n",
    "\n",
    "@jit\n",
    "def HopTest_no(x, y, cre, anh): return x[cre] * y[anh]==1 and x[anh] + y[cre]==0"
   ]
  },
  {
   "cell_type": "code",
   "execution_count": 23,
   "metadata": {},
   "outputs": [],
   "source": [
    "n=3\n",
    "base = Base(n=n,s1=2,s2=1)"
   ]
  },
  {
   "cell_type": "code",
   "execution_count": 7,
   "metadata": {},
   "outputs": [],
   "source": [
    "@jit(fastmath=True)\n",
    "def H1(basis, n):\n",
    "\thop = Allowed_Hoppings(n=n)\n",
    "\tH = np.zeros((basis.shape[0], basis.shape[0]))\n",
    "\n",
    "\tfor cre, anh in hop:\n",
    "\t\tfor bra in nb.prange(basis.shape[0]):\n",
    "\t\t\tfor ket in nb.prange(basis.shape[0]):\n",
    "\t\t\t\tif HopTest(basis[bra], basis[ket], cre, anh):\n",
    "\t\t\t\t\tH[bra, ket] += Hop_sign(basis[bra], cre) * Hop_sign(basis[ket], anh)\n",
    "\treturn H"
   ]
  },
  {
   "cell_type": "code",
   "execution_count": 8,
   "metadata": {},
   "outputs": [],
   "source": [
    "# def H1_new(basis, n):\n",
    "# \ta = sp.cdist(basis, basis, metric=\"cityblock\")\n",
    "# \ta = np.where(a==2, 1, 0)\n",
    "\n",
    "# \tb = np.prod(np.array([sp.cdist(base, base, lambda u,v:  4*Hop_sign(u,i) * Hop_sign(v,j) if HopTest_no(u,v,i,j) else 1) for i,j in Allowed_Hoppings(n=n)]), axis=0)\n",
    "# \tb = np.where(b > 1, 1, np.where(b < -1, -1, 0))\n",
    " \n",
    "# \treturn a*b"
   ]
  },
  {
   "cell_type": "code",
   "execution_count": 9,
   "metadata": {},
   "outputs": [],
   "source": [
    "@njit(fastmath=True,parallel=True)\n",
    "def eucl_naive(A,B, ii, jj):\n",
    "    assert A.shape[1]==B.shape[1]\n",
    "    C=np.empty((A.shape[0],B.shape[0]),A.dtype)\n",
    "    \n",
    "    for i in nb.prange(A.shape[0]):\n",
    "        for j in range(B.shape[0]):\n",
    "            C[i,j] = 4*Hop_sign(A[i,:],ii) * Hop_sign(B[j,:],jj) if HopTest_no(A[i,:],B[j,:],ii,jj) else 1\n",
    "    return C"
   ]
  },
  {
   "cell_type": "code",
   "execution_count": 10,
   "metadata": {},
   "outputs": [],
   "source": [
    "@njit(fastmath=True,parallel=True)\n",
    "def eucl(A,B, ii, jj):\n",
    "    assert A.shape[1]==B.shape[1]\n",
    "    C=np.empty((A.shape[0],B.shape[0]),A.dtype)\n",
    "    \n",
    "    for i in nb.prange(A.shape[0]):\n",
    "        for j in range(B.shape[0]):\n",
    "            C[i,j] = 4*Hop_sign(A[i,:],ii) * Hop_sign(B[j,:],jj) if HopTest(A[i,:],B[j,:],ii,jj) else 1\n",
    "    return C"
   ]
  },
  {
   "cell_type": "code",
   "execution_count": 11,
   "metadata": {},
   "outputs": [],
   "source": [
    "@jit(forceobj=True)\n",
    "def H1_new(basis, n):\n",
    "\ta = sp.cdist(basis, basis, metric=\"cityblock\")\n",
    "\ta = np.where(a==2, 1, 0)\n",
    "\n",
    "\tb = np.prod(np.array([eucl_naive(basis, basis, i, j) for i, j in Allowed_Hoppings(n=n)]), axis=0)\n",
    "\tb = np.where(b > 1, 1, np.where(b < -1, -1, 0))\n",
    " \n",
    "\treturn a*b"
   ]
  },
  {
   "cell_type": "code",
   "execution_count": 81,
   "metadata": {},
   "outputs": [],
   "source": [
    "n=6\n",
    "base = Base(n=n,s1=1,s2=2)"
   ]
  },
  {
   "cell_type": "code",
   "execution_count": 32,
   "metadata": {},
   "outputs": [
    {
     "name": "stdout",
     "output_type": "stream",
     "text": [
      "890 ms ± 22 ms per loop (mean ± std. dev. of 7 runs, 1 loop each)\n"
     ]
    }
   ],
   "source": [
    "%%timeit\n",
    "H = H1(base, n=n)\n",
    "#H"
   ]
  },
  {
   "cell_type": "code",
   "execution_count": 82,
   "metadata": {},
   "outputs": [
    {
     "data": {
      "text/plain": [
       "array([[0., 1., 0., ..., 0., 0., 0.],\n",
       "       [1., 0., 1., ..., 0., 0., 0.],\n",
       "       [0., 1., 0., ..., 0., 0., 0.],\n",
       "       ...,\n",
       "       [0., 0., 0., ..., 0., 1., 0.],\n",
       "       [0., 0., 0., ..., 1., 0., 1.],\n",
       "       [0., 0., 0., ..., 0., 1., 0.]])"
      ]
     },
     "execution_count": 82,
     "metadata": {},
     "output_type": "execute_result"
    }
   ],
   "source": [
    "#%%timeit\n",
    "H_ = H1(base, n=n)\n",
    "H_"
   ]
  },
  {
   "cell_type": "code",
   "execution_count": 30,
   "metadata": {},
   "outputs": [],
   "source": [
    "#%%timeit\n",
    "H_new = H1_new(base, n=n)\n",
    "#H_new"
   ]
  },
  {
   "cell_type": "code",
   "execution_count": 26,
   "metadata": {},
   "outputs": [
    {
     "data": {
      "text/plain": [
       "array([[ 0,  1,  1,  1,  0,  0, -1,  0,  0],\n",
       "       [ 1,  0,  1,  0,  1,  0,  0, -1,  0],\n",
       "       [ 1,  1,  0,  0,  0,  1,  0,  0, -1],\n",
       "       [ 1,  0,  0,  0,  1,  1,  1,  0,  0],\n",
       "       [ 0,  1,  0,  1,  0,  1,  0,  1,  0],\n",
       "       [ 0,  0,  1,  1,  1,  0,  0,  0,  1],\n",
       "       [-1,  0,  0,  1,  0,  0,  0,  1,  1],\n",
       "       [ 0, -1,  0,  0,  1,  0,  1,  0,  1],\n",
       "       [ 0,  0, -1,  0,  0,  1,  1,  1,  0]])"
      ]
     },
     "execution_count": 26,
     "metadata": {},
     "output_type": "execute_result"
    }
   ],
   "source": [
    "#%%timeit\n",
    "H_new = H1_new(base, n=n)\n",
    "H_new"
   ]
  },
  {
   "cell_type": "code",
   "execution_count": 21,
   "metadata": {},
   "outputs": [
    {
     "name": "stdout",
     "output_type": "stream",
     "text": [
      "456 ms ± 33.1 ms per loop (mean ± std. dev. of 7 runs, 1 loop each)\n"
     ]
    }
   ],
   "source": [
    "%%timeit\n",
    "H_new = H1_new(base, n=n)\n",
    "#H_new"
   ]
  },
  {
   "cell_type": "code",
   "execution_count": 31,
   "metadata": {},
   "outputs": [
    {
     "data": {
      "text/plain": [
       "0.0"
      ]
     },
     "execution_count": 31,
     "metadata": {},
     "output_type": "execute_result"
    }
   ],
   "source": [
    "np.sum(np.abs(H_) - np.abs(H_new))"
   ]
  },
  {
   "cell_type": "code",
   "execution_count": 88,
   "metadata": {},
   "outputs": [],
   "source": [
    "def H2(basis): return np.diag(nn(basis))\n",
    "\n",
    "@jit\n",
    "def H(H1, H2, u): return u * H2 + H1"
   ]
  },
  {
   "cell_type": "code",
   "execution_count": 83,
   "metadata": {},
   "outputs": [],
   "source": [
    "H2_ = H2(base)"
   ]
  },
  {
   "cell_type": "code",
   "execution_count": 79,
   "metadata": {},
   "outputs": [
    {
     "data": {
      "text/plain": [
       "CPUDispatcher(<function H1 at 0x7f68cf2a1790>)"
      ]
     },
     "execution_count": 79,
     "metadata": {},
     "output_type": "execute_result"
    }
   ],
   "source": [
    "H1"
   ]
  },
  {
   "cell_type": "code",
   "execution_count": 101,
   "metadata": {},
   "outputs": [],
   "source": [
    "H_what = H(H_, H2_, 10)"
   ]
  },
  {
   "cell_type": "code",
   "execution_count": 40,
   "metadata": {},
   "outputs": [],
   "source": [
    "import matplotlib.pyplot as plt"
   ]
  },
  {
   "cell_type": "code",
   "execution_count": 86,
   "metadata": {},
   "outputs": [],
   "source": [
    "@jit\n",
    "def s(Ht, Hu):\n",
    "\treturn np.array([np.linalg.eigvalsh(H(Ht, Hu, u)) for u in np.linspace(0,20, num=40)])"
   ]
  },
  {
   "cell_type": "code",
   "execution_count": 90,
   "metadata": {},
   "outputs": [
    {
     "name": "stdout",
     "output_type": "stream",
     "text": [
      "85.4 ms ± 17.4 ms per loop (mean ± std. dev. of 7 runs, 10 loops each)\n"
     ]
    }
   ],
   "source": [
    "%%timeit\n",
    "s(H_,H2_)"
   ]
  },
  {
   "cell_type": "code",
   "execution_count": 105,
   "metadata": {},
   "outputs": [
    {
     "data": {
      "image/png": "[encoded data removed]",
      "text/plain": [
       "<Figure size 432x288 with 1 Axes>"
      ]
     },
     "metadata": {
      "needs_background": "light"
     },
     "output_type": "display_data"
    }
   ],
   "source": [
    "plt.plot(np.linspace(0,20, num=40), eigs, \".-\");"
   ]
  },
  {
   "cell_type": "code",
   "execution_count": 110,
   "metadata": {},
   "outputs": [],
   "source": [
    "import numba as nb"
   ]
  },
  {
   "cell_type": "code",
   "execution_count": 125,
   "metadata": {},
   "outputs": [],
   "source": []
  },
  {
   "cell_type": "code",
   "execution_count": 65,
   "metadata": {},
   "outputs": [],
   "source": []
  },
  {
   "cell_type": "code",
   "execution_count": 66,
   "metadata": {},
   "outputs": [
    {
     "data": {
      "text/plain": [
       "array([[0., 1., 1., 0., 0., 1.],\n",
       "       [0., 1., 1., 0., 1., 0.],\n",
       "       [0., 1., 1., 1., 0., 0.],\n",
       "       [1., 0., 1., 0., 0., 1.],\n",
       "       [1., 0., 1., 0., 1., 0.],\n",
       "       [1., 0., 1., 1., 0., 0.],\n",
       "       [1., 1., 0., 0., 0., 1.],\n",
       "       [1., 1., 0., 0., 1., 0.],\n",
       "       [1., 1., 0., 1., 0., 0.]])"
      ]
     },
     "execution_count": 66,
     "metadata": {},
     "output_type": "execute_result"
    }
   ],
   "source": [
    "n=3\n",
    "base = Base(n=n,s1=2,s2=1)\n",
    "base"
   ]
  },
  {
   "cell_type": "code",
   "execution_count": 78,
   "metadata": {},
   "outputs": [
    {
     "data": {
      "text/plain": [
       "array([[ 0.,  0.,  0.,  0.,  0.,  0.,  0.,  0.,  0.],\n",
       "       [ 0.,  0.,  0.,  0.,  0.,  0.,  0.,  0.,  0.],\n",
       "       [ 0.,  0., -1.,  0.,  0.,  0.,  0.,  0.,  0.],\n",
       "       [ 0.,  0.,  0.,  0.,  0.,  0.,  0.,  0.,  0.],\n",
       "       [ 0.,  0.,  0.,  0.,  1.,  0.,  0.,  0.,  0.],\n",
       "       [ 0.,  0.,  0.,  0.,  0.,  0.,  0.,  0.,  0.],\n",
       "       [ 0.,  0.,  0.,  0.,  0.,  0., -1.,  0.,  0.],\n",
       "       [ 0.,  0.,  0.,  0.,  0.,  0.,  0.,  0.,  0.],\n",
       "       [ 0.,  0.,  0.,  0.,  0.,  0.,  0.,  0.,  0.]])"
      ]
     },
     "execution_count": 78,
     "metadata": {},
     "output_type": "execute_result"
    }
   ],
   "source": [
    "OpSzSz(base, 0, 2)"
   ]
  },
  {
   "cell_type": "code",
   "execution_count": 37,
   "metadata": {},
   "outputs": [
    {
     "data": {
      "text/plain": [
       "array([[0., 1., 1., 0., 0., 1.],\n",
       "       [0., 1., 1., 0., 1., 0.],\n",
       "       [0., 1., 1., 1., 0., 0.],\n",
       "       [1., 0., 1., 0., 0., 1.],\n",
       "       [1., 0., 1., 0., 1., 0.],\n",
       "       [1., 0., 1., 1., 0., 0.],\n",
       "       [1., 1., 0., 0., 0., 1.],\n",
       "       [1., 1., 0., 0., 1., 0.],\n",
       "       [1., 1., 0., 1., 0., 0.]])"
      ]
     },
     "execution_count": 37,
     "metadata": {},
     "output_type": "execute_result"
    }
   ],
   "source": [
    "base"
   ]
  },
  {
   "cell_type": "code",
   "execution_count": 73,
   "metadata": {},
   "outputs": [],
   "source": [
    "import ipywidgets as widgets\n",
    "\n",
    "f = widgets.FloatRangeSlider(\n",
    "    value=[5, 7.5],\n",
    "    min=0,\n",
    "    max=10.0,\n",
    "    step=0.01,\n",
    "    description='Test:',\n",
    "    disabled=False,\n",
    "    continuous_update=False,\n",
    "    orientation='horizontal',\n",
    "    readout=True,\n",
    "    readout_format='.1f',\n",
    ")\n",
    "\n"
   ]
  },
  {
   "cell_type": "code",
   "execution_count": 74,
   "metadata": {},
   "outputs": [
    {
     "data": {
      "application/vnd.jupyter.widget-view+json": {
       "model_id": "baa2aa9e4000493c84b35e1de4987c0d",
       "version_major": 2,
       "version_minor": 0
      },
      "text/plain": [
       "FloatRangeSlider(value=(5.0, 7.5), continuous_update=False, description='Test:', max=10.0, readout_format='.1f…"
      ]
     },
     "metadata": {},
     "output_type": "display_data"
    }
   ],
   "source": [
    "f"
   ]
  },
  {
   "cell_type": "code",
   "execution_count": 72,
   "metadata": {},
   "outputs": [
    {
     "data": {
      "text/plain": [
       "array([ 0. ,  0.1,  0.2,  0.3,  0.4,  0.5,  0.6,  0.7,  0.8,  0.9,  1. ,\n",
       "        1.1,  1.2,  1.3,  1.4,  1.5,  1.6,  1.7,  1.8,  1.9,  2. ,  2.1,\n",
       "        2.2,  2.3,  2.4,  2.5,  2.6,  2.7,  2.8,  2.9,  3. ,  3.1,  3.2,\n",
       "        3.3,  3.4,  3.5,  3.6,  3.7,  3.8,  3.9,  4. ,  4.1,  4.2,  4.3,\n",
       "        4.4,  4.5,  4.6,  4.7,  4.8,  4.9,  5. ,  5.1,  5.2,  5.3,  5.4,\n",
       "        5.5,  5.6,  5.7,  5.8,  5.9,  6. ,  6.1,  6.2,  6.3,  6.4,  6.5,\n",
       "        6.6,  6.7,  6.8,  6.9,  7. ,  7.1,  7.2,  7.3,  7.4,  7.5,  7.6,\n",
       "        7.7,  7.8,  7.9,  8. ,  8.1,  8.2,  8.3,  8.4,  8.5,  8.6,  8.7,\n",
       "        8.8,  8.9,  9. ,  9.1,  9.2,  9.3,  9.4,  9.5,  9.6,  9.7,  9.8,\n",
       "        9.9, 10. ])"
      ]
     },
     "execution_count": 72,
     "metadata": {},
     "output_type": "execute_result"
    }
   ],
   "source": [
    "np.linspace(*f.value, num=int(np.subtract(*f.value[::-1]).round(2) / f.step)+1)"
   ]
  },
  {
   "cell_type": "code",
   "execution_count": 51,
   "metadata": {},
   "outputs": [
    {
     "data": {
      "text/plain": [
       "6.9"
      ]
     },
     "execution_count": 51,
     "metadata": {},
     "output_type": "execute_result"
    }
   ],
   "source": [
    "np.abs(np.subtract(*f.value))/f.step"
   ]
  },
  {
   "cell_type": "code",
   "execution_count": 67,
   "metadata": {},
   "outputs": [
    {
     "data": {
      "text/plain": [
       "4.2"
      ]
     },
     "execution_count": 67,
     "metadata": {},
     "output_type": "execute_result"
    }
   ],
   "source": [
    "np.subtract(*f.value[::-1]).round(2)"
   ]
  },
  {
   "cell_type": "code",
   "execution_count": null,
   "metadata": {},
   "outputs": [],
   "source": []
  }
 ],
 "metadata": {
  "interpreter": {
   "hash": "767d51c1340bd893661ea55ea3124f6de3c7a262a8b4abca0554b478b1e2ff90"
  },
  "kernelspec": {
   "display_name": "Python 3.8.10 64-bit",
   "language": "python",
   "name": "python3"
  },
  "language_info": {
   "codemirror_mode": {
    "name": "ipython",
    "version": 3
   },
   "file_extension": ".py",
   "mimetype": "text/x-python",
   "name": "python",
   "nbconvert_exporter": "python",
   "pygments_lexer": "ipython3",
   "version": "3.8.10"
  },
  "orig_nbformat": 4
 },
 "nbformat": 4,
 "nbformat_minor": 2
}
