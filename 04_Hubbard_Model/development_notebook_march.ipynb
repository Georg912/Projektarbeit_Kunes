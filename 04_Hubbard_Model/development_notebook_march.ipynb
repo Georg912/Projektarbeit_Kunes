{
 "cells": [
  {
   "cell_type": "markdown",
   "metadata": {},
   "source": [
    "general todo, organize class, maybe subclass, some static methods\n",
    "write documentation"
   ]
  },
  {
   "cell_type": "markdown",
   "metadata": {},
   "source": [
    "## Import all the relevant Modules "
   ]
  },
  {
   "cell_type": "code",
   "execution_count": 1,
   "metadata": {},
   "outputs": [],
   "source": [
    "%matplotlib inline\n",
    "\n",
    "# adding `Modules/` to the system path\n",
    "#import sys\n",
    "#sys.path.insert(0, './Modules/')\n",
    "\n",
    "#TODO: Rename module shortcuts such as hb into something usefull after development\n",
    "import Modules.Hubbard_Class as hb\n",
    "import Modules.Widgets as w\n",
    "import ipywidgets as widgets\n",
    "import numpy as np\n",
    "\n",
    "# Plotting\n",
    "import matplotlib.pyplot as plt\n",
    "plt.style.use('seaborn-dark')\n",
    "plt.rcParams.update({'font.size':14})\n",
    "\n",
    "from ipywidgets import HBox, VBox\n",
    "import functools\n",
    "\n",
    "%load_ext autoreload\n",
    "%autoreload 2\n",
    "#TODO rename one of the modules folders"
   ]
  },
  {
   "cell_type": "markdown",
   "metadata": {},
   "source": [
    "TODO: give a good description of the model we're looking at\n",
    "## Introduction"
   ]
  },
  {
   "cell_type": "code",
   "execution_count": null,
   "metadata": {},
   "outputs": [],
   "source": []
  },
  {
   "cell_type": "markdown",
   "metadata": {},
   "source": [
    "The following are all markdown todos\n",
    "* TODO: Check name of basis states\n",
    "* TODO: Show how basis is created\n",
    "* #TODO state that total number of basis states is ncr(n,s1) ncr (n,s2)\n",
    "## The Fock Basis states "
   ]
  },
  {
   "cell_type": "code",
   "execution_count": 2,
   "metadata": {},
   "outputs": [],
   "source": [
    "h1 = hb.Hubbard()"
   ]
  },
  {
   "cell_type": "code",
   "execution_count": null,
   "metadata": {},
   "outputs": [],
   "source": [
    "basis_widget = widgets.interactive(h1.show_basis, index=h1.basis_index, n=h1.n, s_up=h1.s_up, s_down=h1.s_down);\n",
    "\n",
    "display(basis_widget)\n",
    "#TODO check how to close all widgets, even if they are not already opened"
   ]
  },
  {
   "cell_type": "markdown",
   "metadata": {},
   "source": [
    "## Hopping Hamiltonian\n",
    "\n",
    "Markdown Taks:\n",
    "* TODO: possibly show the simple n=2 analytic calculation for the hubbard molecule in occupation number basis\n",
    "* TODO: Show the operator nn, na, nb etc\n",
    "\n",
    "\n",
    "* TODO: Show the operator nn, na, nb etc, show S_a. S_b, S^2\n",
    "\n",
    "* TODO: Do not show hopping, boring!"
   ]
  },
  {
   "cell_type": "markdown",
   "metadata": {},
   "source": [
    "In the Widget below one can play around with the number of sites $n$, spin up and spin down states, as well as the interaction strength $U$ and the hopping amplitude $t$ to explore the hamiltonian $H$. Note that only for $n \\leq 4$ the complete matrix can be fully displayed."
   ]
  },
  {
   "cell_type": "code",
   "execution_count": null,
   "metadata": {},
   "outputs": [],
   "source": [
    "#close previous widget to prevent slowing down calculations\n",
    "#basis_widget.close()\n",
    "\n",
    "np.set_printoptions(linewidth=150) #set output length, default=75\n",
    "H_widget = widgets.interactive(h1.Show_H, u=h1.u, t=h1.t, n=h1.n, s_up=h1.s_up, s_down=h1.s_down);\n",
    "display(H_widget)"
   ]
  },
  {
   "cell_type": "markdown",
   "metadata": {},
   "source": [
    "# Calculate Eigenenergies \n",
    "TODO: for Hu in widget (copy paste)\n",
    "TODO: for Ht with widget (copy paste) "
   ]
  },
  {
   "cell_type": "code",
   "execution_count": 4,
   "metadata": {},
   "outputs": [],
   "source": [
    "# adding `Modules/` to the system path\n",
    "import sys\n",
    "sys.path.insert(0, '../Modules/')\n",
    "\n",
    "from Module_Widgets_and_Sliders import Text_Box, Save_Figure_Button, Click_Save_Figure, set_filename#\n",
    "#from Widgets import steps_Slider"
   ]
  },
  {
   "cell_type": "code",
   "execution_count": 8,
   "metadata": {},
   "outputs": [
    {
     "data": {
      "application/vnd.jupyter.widget-view+json": {
       "model_id": "b46e8568436944c4b47a3ff50d1517f0",
       "version_major": 2,
       "version_minor": 0
      },
      "text/plain": [
       "HBox(children=(Button(description='Save Current Figure', layout=Layout(width='5cm'), style=ButtonStyle()), Tex…"
      ]
     },
     "metadata": {},
     "output_type": "display_data"
    },
    {
     "data": {
      "application/vnd.jupyter.widget-view+json": {
       "model_id": "dd5f7a23ef474263b0f7aa841f164d1e",
       "version_major": 2,
       "version_minor": 0
      },
      "text/plain": [
       "interactive(children=(FloatRangeSlider(value=(2.0, 7.0), continuous_update=False, description='$U=$', max=40.0…"
      ]
     },
     "metadata": {},
     "output_type": "display_data"
    }
   ],
   "source": [
    "#H_widget.close()\n",
    "\n",
    "Hu_widget = widgets.interactive(h1.Plot_Eigvals_Hu, u=h1.u_range, n=h1.n, s_up=h1.s_up, s_down=h1.s_down);\n",
    "\n",
    "filename = set_filename(\"Hubbard.pdf\")\n",
    "Save_Figure_Button.on_click(functools.partial(Click_Save_Figure, widget=Hu_widget, name_widget=filename, output=h1.out, path=\"\"))\n",
    "\n",
    "display(HBox([Save_Figure_Button, filename, h1.out]))\n",
    "display(Hu_widget)"
   ]
  },
  {
   "cell_type": "code",
   "execution_count": null,
   "metadata": {},
   "outputs": [],
   "source": [
    "Ht_widget = widgets.interactive(h1.Plot_Eigvals_Ht, t=h1.t_range, n=h1.n, s_up=h1.s_up, s_down=h1.s_down);\n",
    "\n",
    "filename = set_filename(\"Hubbard.pdf\")\n",
    "Save_Figure_Button.on_click(functools.partial(Click_Save_Figure, widget=Ht_widget, name_widget=filename, output=h1.out, path=\"\"))\n",
    "\n",
    "display(HBox([Save_Figure_Button, filename, h1.out]))\n",
    "display(Ht_widget)"
   ]
  },
  {
   "cell_type": "code",
   "execution_count": null,
   "metadata": {},
   "outputs": [],
   "source": [
    "Ht_widget.close()\n",
    "\n",
    "H_all_widget = widgets.interactive(h1.Plot_Eigvals_H, u=h1.t_range, t=h1.u_range, n=h1.n, s_up=h1.s_up, s_down=h1.s_down);\n",
    "\n",
    "filename = set_filename(\"Hubbard.pdf\")\n",
    "Save_Figure_Button.on_click(functools.partial(Click_Save_Figure, widget=H_all_widget, name_widget=filename, output=h1.out, path=\"\"))\n",
    "\n",
    "display(HBox([Save_Figure_Button, filename, h1.out]))\n",
    "display(H_all_widget)"
   ]
  },
  {
   "cell_type": "code",
   "execution_count": null,
   "metadata": {},
   "outputs": [],
   "source": [
    "gs = h1.Eigvecs_Hu();\n",
    "gs.shape"
   ]
  },
  {
   "cell_type": "code",
   "execution_count": 47,
   "metadata": {},
   "outputs": [
    {
     "data": {
      "text/plain": [
       "(9, 9)"
      ]
     },
     "execution_count": 47,
     "metadata": {},
     "output_type": "execute_result"
    }
   ],
   "source": [
    "Hgs = h1.DoubleSiteAvg()\n",
    "Hgs.shape"
   ]
  },
  {
   "cell_type": "code",
   "execution_count": null,
   "metadata": {},
   "outputs": [],
   "source": [
    "#plt.plot(np.diag(gs @ Hgs @ gs.T))\n",
    "plt.plot(np.einsum(\"ij, ji->i\", gs, Hgs @ gs.T))"
   ]
  },
  {
   "cell_type": "code",
   "execution_count": null,
   "metadata": {},
   "outputs": [],
   "source": [
    "%%timeit\n",
    "np.diag(gs @ Hgs @ gs.T)#.shape"
   ]
  },
  {
   "cell_type": "code",
   "execution_count": null,
   "metadata": {},
   "outputs": [],
   "source": [
    "%%timeit\n",
    "np.einsum(\"ij, ji->i\", gs, Hgs @ gs.T)#.shape"
   ]
  },
  {
   "cell_type": "code",
   "execution_count": null,
   "metadata": {},
   "outputs": [],
   "source": [
    "gs.shape"
   ]
  },
  {
   "cell_type": "code",
   "execution_count": null,
   "metadata": {},
   "outputs": [],
   "source": [
    "x = 80\n",
    "y = 400\n",
    "a = np.random.rand(x,y) * 100\n",
    "b = np.random.rand(y,y) * 100"
   ]
  },
  {
   "cell_type": "code",
   "execution_count": null,
   "metadata": {},
   "outputs": [],
   "source": [
    "%%timeit\n",
    "np.diag(a @ b @ a.T)"
   ]
  },
  {
   "cell_type": "code",
   "execution_count": null,
   "metadata": {},
   "outputs": [],
   "source": [
    "%%timeit\n",
    "np.einsum(\"ij, ji->i\", a, b @ a.T)"
   ]
  },
  {
   "cell_type": "code",
   "execution_count": null,
   "metadata": {},
   "outputs": [],
   "source": [
    "gs"
   ]
  },
  {
   "cell_type": "code",
   "execution_count": 11,
   "metadata": {},
   "outputs": [],
   "source": [
    "import scipy as sp\n",
    "import scipy.sparse.linalg as splin"
   ]
  },
  {
   "cell_type": "code",
   "execution_count": 51,
   "metadata": {},
   "outputs": [],
   "source": [
    "a = h1.Eigvecs_Hu()"
   ]
  },
  {
   "cell_type": "code",
   "execution_count": 49,
   "metadata": {},
   "outputs": [
    {
     "name": "stdout",
     "output_type": "stream",
     "text": [
      "4.23 ms ± 114 µs per loop (mean ± std. dev. of 7 runs, 100 loops each)\n"
     ]
    }
   ],
   "source": [
    "%%timeit\n",
    "[sp.linalg.eigh(a[i], subset_by_index=[0, 0]) for i in np.arange(a.shape[0])]"
   ]
  },
  {
   "cell_type": "code",
   "execution_count": null,
   "metadata": {},
   "outputs": [],
   "source": [
    "%%timeit\n",
    "[sp.linalg.eigh(a[i]) for i in np.arange(a.shape[0])]"
   ]
  },
  {
   "cell_type": "code",
   "execution_count": 20,
   "metadata": {},
   "outputs": [
    {
     "name": "stdout",
     "output_type": "stream",
     "text": [
      "4.26 s ± 208 ms per loop (mean ± std. dev. of 7 runs, 1 loop each)\n"
     ]
    }
   ],
   "source": [
    "%%timeit\n",
    "np.linalg.eigh(a)"
   ]
  },
  {
   "cell_type": "code",
   "execution_count": 52,
   "metadata": {},
   "outputs": [
    {
     "name": "stdout",
     "output_type": "stream",
     "text": [
      "27 ms ± 350 µs per loop (mean ± std. dev. of 7 runs, 10 loops each)\n"
     ]
    }
   ],
   "source": [
    "%%timeit\n",
    "[splin.eigsh(a[i], k=1, which=\"SM\") for i in np.arange(a.shape[0])]"
   ]
  },
  {
   "cell_type": "code",
   "execution_count": 53,
   "metadata": {},
   "outputs": [],
   "source": [
    "b = [splin.eigsh(a[i], k=1,  which=\"SM\")[1].flatten() for i in np.arange(80)]\n",
    "b = np.array(b)"
   ]
  },
  {
   "cell_type": "code",
   "execution_count": null,
   "metadata": {},
   "outputs": [],
   "source": [
    "b.shape"
   ]
  },
  {
   "cell_type": "code",
   "execution_count": 54,
   "metadata": {},
   "outputs": [
    {
     "data": {
      "text/plain": [
       "[<matplotlib.lines.Line2D at 0x7fb4899ffcd0>]"
      ]
     },
     "execution_count": 54,
     "metadata": {},
     "output_type": "execute_result"
    },
    {
     "data": {
      "image/png": "[encoded data removed]",
      "text/plain": [
       "<Figure size 432x288 with 1 Axes>"
      ]
     },
     "metadata": {},
     "output_type": "display_data"
    }
   ],
   "source": [
    "plt.plot(np.diag(b @ Hgs @ b.T))"
   ]
  },
  {
   "cell_type": "code",
   "execution_count": 46,
   "metadata": {},
   "outputs": [
    {
     "data": {
      "text/plain": [
       "0.007346938775510204"
      ]
     },
     "execution_count": 46,
     "metadata": {},
     "output_type": "execute_result"
    }
   ],
   "source": [
    "np.count_nonzero(a) / a.size"
   ]
  },
  {
   "cell_type": "code",
   "execution_count": 40,
   "metadata": {},
   "outputs": [
    {
     "data": {
      "text/plain": [
       "(array([11.90216532]),\n",
       " array([[ 0.00799698],\n",
       "        [-0.01509314],\n",
       "        [ 0.00922785],\n",
       "        ...,\n",
       "        [-0.0011597 ],\n",
       "        [-0.00433568],\n",
       "        [ 0.00389084]]))"
      ]
     },
     "execution_count": 40,
     "metadata": {},
     "output_type": "execute_result"
    }
   ],
   "source": [
    "splin.eigsh(a[0], k=1, sigma=12)"
   ]
  },
  {
   "cell_type": "code",
   "execution_count": null,
   "metadata": {},
   "outputs": [],
   "source": []
  }
 ],
 "metadata": {
  "interpreter": {
   "hash": "767d51c1340bd893661ea55ea3124f6de3c7a262a8b4abca0554b478b1e2ff90"
  },
  "kernelspec": {
   "display_name": "Python 3 (ipykernel)",
   "language": "python",
   "name": "python3"
  },
  "language_info": {
   "codemirror_mode": {
    "name": "ipython",
    "version": 3
   },
   "file_extension": ".py",
   "mimetype": "text/x-python",
   "name": "python",
   "nbconvert_exporter": "python",
   "pygments_lexer": "ipython3",
   "version": "3.8.10"
  }
 },
 "nbformat": 4,
 "nbformat_minor": 4
}
