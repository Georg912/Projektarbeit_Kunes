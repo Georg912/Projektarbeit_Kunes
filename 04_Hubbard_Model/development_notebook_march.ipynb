{
 "cells": [
  {
   "cell_type": "markdown",
   "metadata": {},
   "source": [
    "general todo, organize class, maybe subclass, some static methods\n",
    "write documentation"
   ]
  },
  {
   "cell_type": "markdown",
   "metadata": {},
   "source": [
    "## Import all the relevant Modules "
   ]
  },
  {
   "cell_type": "code",
   "execution_count": 104,
   "metadata": {},
   "outputs": [
    {
     "name": "stdout",
     "output_type": "stream",
     "text": [
      "The autoreload extension is already loaded. To reload it, use:\n",
      "  %reload_ext autoreload\n"
     ]
    }
   ],
   "source": [
    "%matplotlib inline\n",
    "\n",
    "# adding `Modules/` to the system path\n",
    "#import sys\n",
    "#sys.path.insert(0, './Modules/')\n",
    "\n",
    "#TODO: Rename module shortcuts such as hb into something usefull after development\n",
    "import Modules.Hubbard_Class as hb\n",
    "import Modules.Widgets as w\n",
    "import ipywidgets as widgets\n",
    "import numpy as np\n",
    "\n",
    "# Plotting\n",
    "import matplotlib.pyplot as plt\n",
    "plt.style.use('seaborn-dark')\n",
    "plt.rcParams.update({'font.size':16})\n",
    "\n",
    "from ipywidgets import HBox, VBox\n",
    "import functools\n",
    "\n",
    "def close_widgets(DIR):\n",
    "    \"\"\" Close all widgets `wi` and displays `di` in notebook directory `dir()`.\n",
    "    \"\"\"\n",
    "    for i in range(100):\n",
    "        if f\"w{i}\" in DIR:\n",
    "            exec(f\"w{i}.close()\")\n",
    "        if f\"d{i}\" in DIR:\n",
    "            exec(f\"d{i}.close()\")\n",
    "            \n",
    "# adding `Modules/` to the system path\n",
    "import sys\n",
    "sys.path.insert(0, '../Modules/')\n",
    "\n",
    "from Module_Widgets_and_Sliders import Text_Box, Save_Figure_Button, Click_Save_Figure, set_filename\n",
    "\n",
    "%load_ext autoreload\n",
    "%autoreload 2\n",
    "#TODO rename one of the modules folders"
   ]
  },
  {
   "cell_type": "markdown",
   "metadata": {},
   "source": [
    "TODO: give a good description of the model we're looking at\n",
    "## Lattice Quantum Field Theory (QFT)\n",
    "<!---  Define a few convenience macros for bra-ket notation. -->\n",
    "$\\renewcommand{\\ket}[1]{\\left\\vert{#1}\\right\\rangle}$\n",
    "$\\renewcommand{\\bra}[1]{\\left\\langle{#1}\\right\\vert}$\n",
    "$\\renewcommand{\\braket}[2]{\\left\\langle{#1}\\middle|{#2}\\right\\rangle}$\n",
    "$\\newcommand{\\dyad}[2]{\\left|{#1}\\middle\\rangle\\middle\\langle{#2}\\right|}$\n",
    "$\\newcommand{\\mel}[3]{\\left\\langle {#1} \\vphantom{#2#3} \\right| {#2} \\left| {#3} \\vphantom{#1#2} \\right\\rangle}$\n",
    "\n",
    "$\\newcommand{\\expval}[1]{\\left\\langle {#1} \\right\\rangle}$\n",
    "$\\newcommand\\dif{\\mathop{}\\!\\mathrm{d}}$\n",
    "$\\newcommand\\ii{\\mathrm{i}}$\n",
    "$\\renewcommand{\\coloneqq}{\\mathop{:=}}$\n",
    "\n",
    "We will now use methods from QFT to describe the dynamics of a quantum system on lattice. Contrary to the previous notebooks, where we used QM to describe each particles path through space, we will now use QFT to describe the states of space points. This naturally leads to second quantization, a method in which we do not ask \"which particles are in which states,\" but rather \"how many particles are in each state\".\n",
    "\n",
    "To simplify our model, we assume our electrons to live on discrete points in space, i.e. on a lattice. Further, as we deal with fermions, the Pauli exlusion principle dictates that a single site can be occupied by no more than two electrons (one with spin up and one with spin down). Consequently, each site can be in one of four states: zero electrons, one up, one down, or up and down. Thus the total number of possible states grows exponentially with the number of sites $n$, as $4^n$. These states are called Fock states or states in the occupation number basis.\n",
    "\n",
    "## Hubbard model\n",
    "\n",
    "We use the so called Hubbard model to describe the dynamics of a system of electrons on a lattice. The model's Hamiltonain is defined as follows:\n",
    "\n",
    "$$ \\large\n",
    "H = t \\sum_{\\langle ij \\rangle, \\sigma}  c_{i,\\sigma}^\\dagger c_{j,\\sigma} + U \\sum_{i} n_{i \\uparrow} n_{i \\downarrow},\n",
    "$$\n",
    "where $\\langle ij \\rangle$ denotes nearest neigbour hopping, the spin $\\sigma \\in \\{\\frac12, -\\frac12\\} = \\{\\uparrow, \\downarrow\\}$, $\\large c_{i,\\sigma}^\\dagger$ and $\\large c_{j,\\sigma}$ is an electron creation and annihilation operator, respectively, and $\\large n_{i \\uparrow}$ and $\\large n_{i \\downarrow}$ are the occupation number operators. The latter are zero if no electron with spin $\\sigma$ is at site $i$ and one else.\n",
    "\n",
    "The first term describes electron hopping from site $j$ to $i$ with coupling $t$ (hopping amplitude). The second term models the electron-electron repulsion at site $i$ with on-site interaction strength $U$."
   ]
  },
  {
   "cell_type": "markdown",
   "metadata": {},
   "source": [
    "## The Fock Basis states \n",
    "Our Hamiltonian $H$ has an equal number of creation and annihilation operators in each term, implying that we cannot change the number of electrons in our system when acting with $H$. Almost the same reasoning ($\\sigma$ does not change via $c^\\dagger$ and $c$) individually conserves the number of spin up and down electrons. We can therefore reduce the number of Fock states by considering only those with a fixed number of spin up and down electrons (e.g. for diagonalizing $H$). Hence we only need to consider $\\large \\binom{n}{s_\\mathrm{up}} \\binom{n}{s_\\mathrm{down}}$ basis states instead of $4^n$\n",
    "\n",
    "Numerically we can label a basis state via a $2n$-dimensional binary array, where the first $n$ indices label the spin up states of site $i$ and the second $n$ label the spin down sites. For example the basis vector $[0,0,1,0,1,1]$ would correspond to a $n=3$ sited problem with one up electron on site 1 and two down electrons on sites 2 and 3.\n",
    "\n",
    "In the Widget below the total number of Fock basis states as well an individual one are displayed. One can change the number of sites $n \\leq 7$, the number of electrons per site $s_\\mathrm{up}$ and $s_\\mathrm{down}$ and which `State` to show."
   ]
  },
  {
   "cell_type": "code",
   "execution_count": 105,
   "metadata": {},
   "outputs": [
    {
     "name": "stdout",
     "output_type": "stream",
     "text": [
      "Dimension of H = 400 x 400\n",
      "H = \n",
      "[[6. 1. 0. ... 0. 0. 0.]\n",
      " [1. 4. 1. ... 0. 0. 0.]\n",
      " [0. 1. 4. ... 0. 0. 0.]\n",
      " ...\n",
      " [0. 0. 0. ... 4. 1. 0.]\n",
      " [0. 0. 0. ... 1. 4. 1.]\n",
      " [0. 0. 0. ... 0. 1. 6.]]\n"
     ]
    }
   ],
   "source": [
    "h1 = hb.Hubbard()"
   ]
  },
  {
   "cell_type": "code",
   "execution_count": 4,
   "metadata": {},
   "outputs": [
    {
     "data": {
      "application/vnd.jupyter.widget-view+json": {
       "model_id": "123bb04305fe4d6892e80b1114a9a7c4",
       "version_major": 2,
       "version_minor": 0
      },
      "text/plain": [
       "interactive(children=(BoundedIntText(value=6, description='State $=$', layout=Layout(width='3cm'), max=399, st…"
      ]
     },
     "metadata": {},
     "output_type": "display_data"
    }
   ],
   "source": [
    "close_widgets(dir())\n",
    "w1 = widgets.interactive(h1.show_basis, index=h1.basis_index, n=h1.n, s_up=h1.s_up, s_down=h1.s_down);\n",
    "\n",
    "display(w1)"
   ]
  },
  {
   "cell_type": "markdown",
   "metadata": {},
   "source": [
    "## Hopping Hamiltonian\n",
    "\n",
    "Markdown Taks:\n",
    "* TODO: possibly show the simple n=2 analytic calculation for the hubbard molecule in occupation number basis\n",
    "* TODO: Show the operator nn, na, nb etc\n",
    "\n",
    "\n",
    "* TODO: Show the operator nn, na, nb etc, show S_a. S_b, S^2\n",
    "\n",
    "* TODO: Do not show hopping, boring!"
   ]
  },
  {
   "cell_type": "markdown",
   "metadata": {},
   "source": [
    "In the Widget below one can play around with the number of sites $n$, spin up and spin down states, as well as the interaction strength $U$ and the hopping amplitude $t$ to explore the hamiltonian $H$. Note that only for $n \\leq 4$ the complete matrix can be fully displayed. Note the different signs for the hopping terms."
   ]
  },
  {
   "cell_type": "code",
   "execution_count": 5,
   "metadata": {},
   "outputs": [
    {
     "data": {
      "application/vnd.jupyter.widget-view+json": {
       "model_id": "7eb66df2c1bb4451a6cace9c104b67c6",
       "version_major": 2,
       "version_minor": 0
      },
      "text/plain": [
       "interactive(children=(FloatSlider(value=2.0, continuous_update=False, description='$U=$', max=5.0, min=-5.0, r…"
      ]
     },
     "metadata": {},
     "output_type": "display_data"
    }
   ],
   "source": [
    "#close previous widget to prevent slowing down calculations\n",
    "close_widgets(dir())\n",
    "\n",
    "np.set_printoptions(linewidth=150) #set output length, default=75\n",
    "w2 = widgets.interactive(h1.Show_H, u=h1.u, t=h1.t, n=h1.n, s_up=h1.s_up, s_down=h1.s_down);\n",
    "display(w2)"
   ]
  },
  {
   "cell_type": "markdown",
   "metadata": {},
   "source": [
    "# Eigenenergies\n",
    "\n",
    "Our first goal is to diagonalize the hamiltonian $H$ and calculate its eigenspectrum.\n",
    "\n",
    "In the three widgets below the eigenvalues of $H$ are displayed as a function of either $U$ or $t$, while keeping the other one constant. One can again play around with the global parameters of the model ($n, s_\\mathrm{up}, s_\\mathrm{down}$) as well as change the hopping amplitude $t$ and the interaction strength $U$.\n",
    "\n",
    "The last widget shows a combination of changes in $U$ and $t$. The non-interacting limit $U \\to 0$ (weak coupling expansion) is shown on the left and the atomic limit $t \\to 0 $ (strong coupling expansion) is shown on the right. The two plots are depicted in the same figure to emphasize the transition. Note the inverted $t$-axis on the right plot\n",
    "\n",
    "The non-interacting limit is especially interesting, because we can find all eigenstates by simply diagonalizing the one particle Hamiltonian!"
   ]
  },
  {
   "cell_type": "code",
   "execution_count": 11,
   "metadata": {},
   "outputs": [
    {
     "data": {
      "application/vnd.jupyter.widget-view+json": {
       "model_id": "996cb23439e649e69654fed629c89501",
       "version_major": 2,
       "version_minor": 0
      },
      "text/plain": [
       "HBox(children=(Button(description='Save Current Figure', layout=Layout(width='5cm'), style=ButtonStyle()), Tex…"
      ]
     },
     "metadata": {},
     "output_type": "display_data"
    },
    {
     "data": {
      "application/vnd.jupyter.widget-view+json": {
       "model_id": "f002c5c304754b189b9baa2c17c1ebdf",
       "version_major": 2,
       "version_minor": 0
      },
      "text/plain": [
       "interactive(children=(FloatRangeSlider(value=(0.0, 7.0), continuous_update=False, description='$U=$', layout=L…"
      ]
     },
     "metadata": {},
     "output_type": "display_data"
    }
   ],
   "source": [
    "close_widgets(dir())\n",
    "w3 = widgets.interactive(h1.Plot_Eigvals_Hu, u=h1.u_range, n=h1.n, s_up=h1.s_up, s_down=h1.s_down);\n",
    "\n",
    "filename = set_filename(\"Eigenergies_U.pdf\")\n",
    "Save_Figure_Button.on_click(functools.partial(Click_Save_Figure, widget=w3, name_widget=filename, output=h1.out, path=\"\"))\n",
    " \n",
    "d3 = HBox([Save_Figure_Button, filename, h1.out])\n",
    "display(d3)\n",
    "display(w3)"
   ]
  },
  {
   "cell_type": "code",
   "execution_count": 7,
   "metadata": {},
   "outputs": [
    {
     "data": {
      "application/vnd.jupyter.widget-view+json": {
       "model_id": "f11054f165754d69810b99ea39d3bddf",
       "version_major": 2,
       "version_minor": 0
      },
      "text/plain": [
       "HBox(children=(Button(description='Save Current Figure', layout=Layout(width='5cm'), style=ButtonStyle()), Tex…"
      ]
     },
     "metadata": {},
     "output_type": "display_data"
    },
    {
     "data": {
      "application/vnd.jupyter.widget-view+json": {
       "model_id": "1168aa56e0f748cc9027cadfff8df4c5",
       "version_major": 2,
       "version_minor": 0
      },
      "text/plain": [
       "interactive(children=(FloatRangeSlider(value=(0.0, 1.0), continuous_update=False, description='$t=$', max=5.0,…"
      ]
     },
     "metadata": {},
     "output_type": "display_data"
    }
   ],
   "source": [
    "close_widgets(dir())\n",
    "w4 = widgets.interactive(h1.Plot_Eigvals_Ht, t=h1.t_range, n=h1.n, s_up=h1.s_up, s_down=h1.s_down);\n",
    "\n",
    "filename = set_filename(\"Eigenenergies_t.pdf\")\n",
    "Save_Figure_Button.on_click(functools.partial(Click_Save_Figure, widget=w4, name_widget=filename, output=h1.out, path=\"\"))\n",
    "\n",
    "d4 = HBox([Save_Figure_Button, filename, h1.out])\n",
    "display(d4)\n",
    "display(w4)"
   ]
  },
  {
   "cell_type": "code",
   "execution_count": 8,
   "metadata": {},
   "outputs": [
    {
     "data": {
      "application/vnd.jupyter.widget-view+json": {
       "model_id": "ace6605795464878a1ecea616ad0070c",
       "version_major": 2,
       "version_minor": 0
      },
      "text/plain": [
       "HBox(children=(Button(description='Save Current Figure', layout=Layout(width='5cm'), style=ButtonStyle()), Tex…"
      ]
     },
     "metadata": {},
     "output_type": "display_data"
    },
    {
     "data": {
      "application/vnd.jupyter.widget-view+json": {
       "model_id": "651ba07b16b44229a586349cf7a83d4f",
       "version_major": 2,
       "version_minor": 0
      },
      "text/plain": [
       "interactive(children=(FloatRangeSlider(value=(0.0, 1.0), continuous_update=False, description='$t=$', max=5.0,…"
      ]
     },
     "metadata": {},
     "output_type": "display_data"
    }
   ],
   "source": [
    "close_widgets(dir())\n",
    "w5 = widgets.interactive(h1.Plot_Eigvals_H, u=h1.t_range, t=h1.u_range, n=h1.n, s_up=h1.s_up, s_down=h1.s_down);\n",
    "\n",
    "filename = set_filename(\"Eigenenergies_Ut.pdf\")\n",
    "Save_Figure_Button.on_click(functools.partial(Click_Save_Figure, widget=w5, name_widget=filename, output=h1.out, path=\"\"))\n",
    "\n",
    "d5 = HBox([Save_Figure_Button, filename, h1.out])\n",
    "display(d5)\n",
    "display(w5)"
   ]
  },
  {
   "cell_type": "markdown",
   "metadata": {},
   "source": [
    "# Expectation values\n",
    "\n",
    "After diagonalizing the Hamiltonian $H$ and obtaining the ground-state of the system $\\ket{\\psi_\\mathrm{g}}$, we can calculate the ground-state expectation value of an operator $\\hat O$ by\n",
    "$$\n",
    "\t\\expval{\\hat{O}} = \\mel{\\psi_\\mathrm{g}}{\\hat O}{\\psi_\\mathrm{g}}\n",
    "$$\n",
    "\n",
    "### Average Double Occupation\n",
    "\n",
    "Let us first consider the average double occupation of site $i$ $\\expval{n_i^\\mathrm{up} n_i^\\mathrm{down}}$. The widget below shows the average double occupation in blue as a function of the interaction strength $U$. The dashed orange and green lines are the $U \\to 0$ and $U \\to \\infty$ limit, respectively.\n",
    "They are analytically given by\n",
    "$$\n",
    "\t\\expval{n_i^\\mathrm{up} n_i^\\mathrm{down}}_\\mathrm{U \\to 0} = \\frac{s_\\up}{n} \\frac{s_down}{n} \\mathrm{ and } \\expval{n_i^\\mathrm{up} n_i^\\mathrm{down}}_\\mathrm{U \\to \\infty} = \\max{0, \\frac{s_\\mathrm{up} + s_\\mathrm{down} - n}{n}}\n",
    "$$"
   ]
  },
  {
   "cell_type": "code",
   "execution_count": 22,
   "metadata": {},
   "outputs": [
    {
     "data": {
      "application/vnd.jupyter.widget-view+json": {
       "model_id": "acd0ef9f296a468187e8f1fed5c16748",
       "version_major": 2,
       "version_minor": 0
      },
      "text/plain": [
       "HBox(children=(Button(description='Save Current Figure', layout=Layout(width='5cm'), style=ButtonStyle()), Tex…"
      ]
     },
     "metadata": {},
     "output_type": "display_data"
    },
    {
     "data": {
      "application/vnd.jupyter.widget-view+json": {
       "model_id": "10617e65162a4dc7a180fcfde046616b",
       "version_major": 2,
       "version_minor": 0
      },
      "text/plain": [
       "interactive(children=(FloatRangeSlider(value=(0.0, 9.25), continuous_update=False, description='$U=$', layout=…"
      ]
     },
     "metadata": {},
     "output_type": "display_data"
    }
   ],
   "source": [
    "close_widgets(dir())\n",
    "w6 = widgets.interactive(h1.Plot_ExpVal_nn, u=h1.u_range, n=h1.n, s_up=h1.s_up, s_down=h1.s_down);\n",
    "\n",
    "filename = set_filename(\"Average_double_occupation.pdf\")\n",
    "Save_Figure_Button.on_click(functools.partial(Click_Save_Figure, widget=w6, name_widget=filename, output=h1.out, path=\"\"))\n",
    "\n",
    "d6 = HBox([Save_Figure_Button, filename, h1.out])\n",
    "display(d6)\n",
    "display(w6)"
   ]
  },
  {
   "cell_type": "markdown",
   "metadata": {},
   "source": [
    "### Average Spin Moments\n",
    "\n",
    "Next we consider some $z$-spin expectation values, $\\expval{S_i}, \\expval{S_i^2}$ and $\\expval{\\Delta S_i^2}$. The widget below shows these as a function of the interaction strength $U$.\n",
    "\n",
    "TODO: check if they are correct"
   ]
  },
  {
   "cell_type": "code",
   "execution_count": 106,
   "metadata": {},
   "outputs": [
    {
     "data": {
      "application/vnd.jupyter.widget-view+json": {
       "model_id": "51a4d8c337864ed6a66dbca2b45ec2a9",
       "version_major": 2,
       "version_minor": 0
      },
      "text/plain": [
       "HBox(children=(Button(description='Save Current Figure', layout=Layout(width='5cm'), style=ButtonStyle()), Tex…"
      ]
     },
     "metadata": {},
     "output_type": "display_data"
    },
    {
     "data": {
      "application/vnd.jupyter.widget-view+json": {
       "model_id": "53b5128758944ef18271198e95ed9a18",
       "version_major": 2,
       "version_minor": 0
      },
      "text/plain": [
       "interactive(children=(FloatRangeSlider(value=(0.0, 20.0), continuous_update=False, description='$U=$', layout=…"
      ]
     },
     "metadata": {},
     "output_type": "display_data"
    }
   ],
   "source": [
    "close_widgets(dir())\n",
    "w7 = widgets.interactive(h1.Plot_ExpVal_Sz, u=h1.u_range, n=h1.n, s_up=h1.s_up, s_down=h1.s_down);\n",
    "\n",
    "filename = set_filename(\"Average_Spin.pdf\")\n",
    "Save_Figure_Button.on_click(functools.partial(Click_Save_Figure, widget=w7, name_widget=filename, output=h1.out, path=\"\"))\n",
    "\n",
    "d7 = HBox([Save_Figure_Button, filename, h1.out])\n",
    "display(d7)\n",
    "display(w7)"
   ]
  },
  {
   "cell_type": "markdown",
   "metadata": {},
   "source": [
    "### Spin-Spin Correlations\n",
    "\n",
    "We can also ask about non-local spin-spin correlation between sites $i$ and $j$. The widget below shows the spin-spin correlation as a function of the interaction strength $U$. Negative correlation implies spin on site $i$ and $j$ tends to align antiparallel to each other, while positive correlation induces parallel spin alignment. Due to symmetry some combinations are equivalent, e.g. for $n=6$ we have $\\expval{S_1S_2} = \\expval{S_1S_6}$."
   ]
  },
  {
   "cell_type": "code",
   "execution_count": 30,
   "metadata": {},
   "outputs": [
    {
     "data": {
      "application/vnd.jupyter.widget-view+json": {
       "model_id": "7897568c4a3b4409b106a229adf4c459",
       "version_major": 2,
       "version_minor": 0
      },
      "text/plain": [
       "HBox(children=(Button(description='Save Current Figure', layout=Layout(width='5cm'), style=ButtonStyle()), Tex…"
      ]
     },
     "metadata": {},
     "output_type": "display_data"
    },
    {
     "data": {
      "application/vnd.jupyter.widget-view+json": {
       "model_id": "fe1a4cce2b3b4b0bb62edbbc74b7badb",
       "version_major": 2,
       "version_minor": 0
      },
      "text/plain": [
       "interactive(children=(FloatRangeSlider(value=(0.0, 20.0), continuous_update=False, description='$U=$', layout=…"
      ]
     },
     "metadata": {},
     "output_type": "display_data"
    }
   ],
   "source": [
    "close_widgets(dir())\n",
    "w8 = widgets.interactive(h1.Plot_ExpVal_SzSz, u=h1.u_range, n=h1.n, s_up=h1.s_up, s_down=h1.s_down);\n",
    "\n",
    "filename = set_filename(\"Spin-Spin_Correlation.pdf\")\n",
    "Save_Figure_Button.on_click(functools.partial(Click_Save_Figure, widget=w8, name_widget=filename, output=h1.out, path=\"\"))\n",
    "\n",
    "d8 = HBox([Save_Figure_Button, filename, h1.out])\n",
    "display(d8)\n",
    "display(w8)"
   ]
  },
  {
   "cell_type": "code",
   "execution_count": 65,
   "metadata": {},
   "outputs": [
    {
     "data": {
      "application/vnd.jupyter.widget-view+json": {
       "model_id": "19cccdb59dac47d4a35b173da56056f7",
       "version_major": 2,
       "version_minor": 0
      },
      "text/plain": [
       "HBox(children=(Button(description='Save Current Figure', layout=Layout(width='5cm'), style=ButtonStyle()), Tex…"
      ]
     },
     "metadata": {},
     "output_type": "display_data"
    },
    {
     "data": {
      "application/vnd.jupyter.widget-view+json": {
       "model_id": "f588d38ae085486c9803c7c00ea88a5a",
       "version_major": 2,
       "version_minor": 0
      },
      "text/plain": [
       "interactive(children=(FloatRangeSlider(value=(0.0, 10.6), continuous_update=False, description='$U=$', layout=…"
      ]
     },
     "metadata": {},
     "output_type": "display_data"
    }
   ],
   "source": [
    "close_widgets(dir())\n",
    "w9 = widgets.interactive(h1.Plot_Local_Chi, u=h1.u_range, n=h1.n, s_up=h1.s_up, s_down=h1.s_down);\n",
    "\n",
    "filename = set_filename(\"Hubbard.pdf\")\n",
    "Save_Figure_Button.on_click(functools.partial(Click_Save_Figure, widget=w9, name_widget=filename, output=h1.out, path=\"\"))\n",
    "\n",
    "d9 = HBox([Save_Figure_Button, filename, h1.out])\n",
    "display(d9)\n",
    "display(w9)"
   ]
  },
  {
   "cell_type": "code",
   "execution_count": 59,
   "metadata": {},
   "outputs": [
    {
     "data": {
      "application/vnd.jupyter.widget-view+json": {
       "model_id": "1318d415a3fb46ef9806ad4e228e0c15",
       "version_major": 2,
       "version_minor": 0
      },
      "text/plain": [
       "HBox(children=(Button(description='Save Current Figure', layout=Layout(width='5cm'), style=ButtonStyle()), Tex…"
      ]
     },
     "metadata": {},
     "output_type": "display_data"
    },
    {
     "data": {
      "application/vnd.jupyter.widget-view+json": {
       "model_id": "b529222a6d104183bb1ee76110c917cc",
       "version_major": 2,
       "version_minor": 0
      },
      "text/plain": [
       "interactive(children=(FloatRangeSlider(value=(0.0, 10.6), continuous_update=False, description='$U=$', layout=…"
      ]
     },
     "metadata": {},
     "output_type": "display_data"
    }
   ],
   "source": [
    "close_widgets(dir())\n",
    "w10 = widgets.interactive(h1.Plot_Chi_Staggered, u=h1.u_range, n=h1.n, s_up=h1.s_up, s_down=h1.s_down);\n",
    "\n",
    "filename = set_filename(\"Hubbard.pdf\")\n",
    "Save_Figure_Button.on_click(functools.partial(Click_Save_Figure, widget=w10, name_widget=filename, output=h1.out, path=\"\"))\n",
    "\n",
    "d10 = HBox([Save_Figure_Button, filename, h1.out])\n",
    "display(d10)\n",
    "display(w10)"
   ]
  },
  {
   "cell_type": "code",
   "execution_count": 66,
   "metadata": {},
   "outputs": [
    {
     "data": {
      "application/vnd.jupyter.widget-view+json": {
       "model_id": "16d470a778ec425e868cca6ef1c5520a",
       "version_major": 2,
       "version_minor": 0
      },
      "text/plain": [
       "interactive(children=(FloatRangeSlider(value=(0.0, 1.0), continuous_update=False, description='$t=$', max=5.0,…"
      ]
     },
     "metadata": {},
     "output_type": "display_data"
    }
   ],
   "source": [
    "close_widgets(dir())\n",
    "x = lambda u,  **kwargs: u\n",
    "w99 = widgets.interactive(x, u=h1.t_range, t=h1.u_range, n=h1.n, s_up=h1.s_up, s_down=h1.s_down)\n",
    "w99"
   ]
  },
  {
   "cell_type": "code",
   "execution_count": 160,
   "metadata": {},
   "outputs": [
    {
     "data": {
      "application/vnd.jupyter.widget-view+json": {
       "model_id": "7dbf568adf1a40a5b6367446a2f0d418",
       "version_major": 2,
       "version_minor": 0
      },
      "text/plain": [
       "interactive(children=(FloatRangeSlider(value=(0.0, 1.0), continuous_update=False, description='$t=$', max=5.0,…"
      ]
     },
     "metadata": {},
     "output_type": "display_data"
    }
   ],
   "source": [
    "close_widgets(dir())\n",
    "x = lambda u,  **kwargs: u\n",
    "w99 = widgets.interactive(x, u=h1.t_range, t=h1.u_range, n=h1.n, s_up=h1.s_up, s_down=h1.s_down)\n",
    "w99"
   ]
  },
  {
   "cell_type": "code",
   "execution_count": null,
   "metadata": {},
   "outputs": [],
   "source": [
    "TODO: Clean folder structure, add theory, send to professor"
   ]
  },
  {
   "cell_type": "code",
   "execution_count": 80,
   "metadata": {},
   "outputs": [
    {
     "data": {
      "application/vnd.jupyter.widget-view+json": {
       "model_id": "fc0f1f6d6152423092e412db5b3ee21a",
       "version_major": 2,
       "version_minor": 0
      },
      "text/plain": [
       "interactive(children=(FloatRangeSlider(value=(0.0, 1.0), continuous_update=False, description='$t=$', max=5.0,…"
      ]
     },
     "metadata": {},
     "output_type": "display_data"
    }
   ],
   "source": [
    "close_widgets(dir())\n",
    "x = lambda u,  **kwargs: u\n",
    "w99 = widgets.interactive(x,  {\"manual\": True}, u=h1.t_range, t=h1.u_range, n=h1.n, s_up=h1.s_up, s_down=h1.s_down)\n",
    "w99"
   ]
  },
  {
   "cell_type": "code",
   "execution_count": 99,
   "metadata": {},
   "outputs": [],
   "source": [
    "vals, vecs = np.linalg.eigh(h1.H(2,1))"
   ]
  },
  {
   "cell_type": "code",
   "execution_count": 100,
   "metadata": {},
   "outputs": [
    {
     "data": {
      "text/plain": [
       "array([-1.2093, -1.2093,  0.    ,  0.3542,  0.3542,  1.2679,  1.2679,  2.    ,  2.    ,  2.    ,  2.4688,  2.4688,  3.5312,  3.5312,  4.    ,\n",
       "        4.    ,  4.    ,  4.7321,  4.7321,  5.6458,  5.6458,  6.    ,  7.2093,  7.2093])"
      ]
     },
     "execution_count": 100,
     "metadata": {},
     "output_type": "execute_result"
    }
   ],
   "source": [
    "np.round(vals, 4)"
   ]
  },
  {
   "cell_type": "code",
   "execution_count": 101,
   "metadata": {},
   "outputs": [
    {
     "data": {
      "text/plain": [
       "(3, 24, 2)"
      ]
     },
     "execution_count": 101,
     "metadata": {},
     "output_type": "execute_result"
    }
   ],
   "source": [
    "np.round(h1.GS,2).shape"
   ]
  },
  {
   "cell_type": "code",
   "execution_count": 84,
   "metadata": {},
   "outputs": [
    {
     "data": {
      "text/plain": [
       "(16, 16)"
      ]
     },
     "execution_count": 84,
     "metadata": {},
     "output_type": "execute_result"
    }
   ],
   "source": [
    "h1.H(1,1).shape"
   ]
  },
  {
   "cell_type": "code",
   "execution_count": 102,
   "metadata": {},
   "outputs": [
    {
     "data": {
      "text/plain": [
       "array([3.        , 2.78626127, 2.59891985])"
      ]
     },
     "execution_count": 102,
     "metadata": {},
     "output_type": "execute_result"
    }
   ],
   "source": [
    "h1.Exp_Val_0(h1.Op_nn)"
   ]
  },
  {
   "cell_type": "code",
   "execution_count": null,
   "metadata": {},
   "outputs": [],
   "source": []
  }
 ],
 "metadata": {
  "interpreter": {
   "hash": "767d51c1340bd893661ea55ea3124f6de3c7a262a8b4abca0554b478b1e2ff90"
  },
  "kernelspec": {
   "display_name": "Python 3 (ipykernel)",
   "language": "python",
   "name": "python3"
  },
  "language_info": {
   "codemirror_mode": {
    "name": "ipython",
    "version": 3
   },
   "file_extension": ".py",
   "mimetype": "text/x-python",
   "name": "python",
   "nbconvert_exporter": "python",
   "pygments_lexer": "ipython3",
   "version": "3.8.10"
  }
 },
 "nbformat": 4,
 "nbformat_minor": 4
}
