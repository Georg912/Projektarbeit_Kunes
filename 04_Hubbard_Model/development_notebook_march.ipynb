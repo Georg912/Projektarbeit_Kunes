{
 "cells": [
  {
   "cell_type": "markdown",
   "metadata": {},
   "source": [
    "general todo, organize class, maybe subclass, some static methods\n",
    "write documentation"
   ]
  },
  {
   "cell_type": "markdown",
   "metadata": {},
   "source": [
    "## Import all the relevant Modules "
   ]
  },
  {
   "cell_type": "code",
   "execution_count": 1,
   "metadata": {},
   "outputs": [],
   "source": [
    "%matplotlib inline\n",
    "\n",
    "# adding `Modules/` to the system path\n",
    "#import sys\n",
    "#sys.path.insert(0, './Modules/')\n",
    "\n",
    "#TODO: Rename module shortcuts such as hb into something usefull after development\n",
    "import Modules.Hubbard_Class as hb\n",
    "import Modules.Widgets as w\n",
    "import ipywidgets as widgets\n",
    "import numpy as np\n",
    "\n",
    "# Plotting\n",
    "import matplotlib.pyplot as plt\n",
    "plt.style.use('seaborn-dark')\n",
    "plt.rcParams.update({'font.size':14})\n",
    "\n",
    "from ipywidgets import HBox, VBox\n",
    "import functools\n",
    "\n",
    "def close_widgets(DIR):\n",
    "    \"\"\" Close all widgets wi and displays di in notebook directory `dir()`. \"\"\"\n",
    "    for i in range(100):\n",
    "        if f\"w{i}\" in DIR:\n",
    "            exec(f\"w{i}.close()\")\n",
    "        if f\"d{i}\" in DIR:\n",
    "            exec(f\"d{i}.close()\")\n",
    "            \n",
    "# adding `Modules/` to the system path\n",
    "import sys\n",
    "sys.path.insert(0, '../Modules/')\n",
    "\n",
    "from Module_Widgets_and_Sliders import Text_Box, Save_Figure_Button, Click_Save_Figure, set_filename\n",
    "\n",
    "%load_ext autoreload\n",
    "%autoreload 2\n",
    "#TODO rename one of the modules folders"
   ]
  },
  {
   "cell_type": "markdown",
   "metadata": {},
   "source": [
    "TODO: give a good description of the model we're looking at\n",
    "## Introduction"
   ]
  },
  {
   "cell_type": "markdown",
   "metadata": {},
   "source": [
    "The following are all markdown todos\n",
    "* TODO: Check name of basis states\n",
    "* TODO: Show how basis is created\n",
    "* #TODO state that total number of basis states is ncr(n,s1) ncr (n,s2)\n",
    "## The Fock Basis states "
   ]
  },
  {
   "cell_type": "code",
   "execution_count": 2,
   "metadata": {},
   "outputs": [],
   "source": [
    "h1 = hb.Hubbard()"
   ]
  },
  {
   "cell_type": "code",
   "execution_count": null,
   "metadata": {},
   "outputs": [],
   "source": [
    "close_widgets(dir())\n",
    "w1 = widgets.interactive(h1.show_basis, index=h1.basis_index, n=h1.n, s_up=h1.s_up, s_down=h1.s_down);\n",
    "\n",
    "display(w1)"
   ]
  },
  {
   "cell_type": "markdown",
   "metadata": {},
   "source": [
    "## Hopping Hamiltonian\n",
    "\n",
    "Markdown Taks:\n",
    "* TODO: possibly show the simple n=2 analytic calculation for the hubbard molecule in occupation number basis\n",
    "* TODO: Show the operator nn, na, nb etc\n",
    "\n",
    "\n",
    "* TODO: Show the operator nn, na, nb etc, show S_a. S_b, S^2\n",
    "\n",
    "* TODO: Do not show hopping, boring!"
   ]
  },
  {
   "cell_type": "markdown",
   "metadata": {},
   "source": [
    "In the Widget below one can play around with the number of sites $n$, spin up and spin down states, as well as the interaction strength $U$ and the hopping amplitude $t$ to explore the hamiltonian $H$. Note that only for $n \\leq 4$ the complete matrix can be fully displayed."
   ]
  },
  {
   "cell_type": "code",
   "execution_count": null,
   "metadata": {},
   "outputs": [],
   "source": [
    "#close previous widget to prevent slowing down calculations\n",
    "close_widgets(dir())\n",
    "\n",
    "np.set_printoptions(linewidth=150) #set output length, default=75\n",
    "w2 = widgets.interactive(h1.Show_H, u=h1.u, t=h1.t, n=h1.n, s_up=h1.s_up, s_down=h1.s_down);\n",
    "display(w2)"
   ]
  },
  {
   "cell_type": "markdown",
   "metadata": {},
   "source": [
    "# Calculate Eigenenergies \n",
    "TODO: for Hu in widget (copy paste)\n",
    "TODO: for Ht with widget (copy paste) \n",
    "TODO: for Ht+Hu widget"
   ]
  },
  {
   "cell_type": "code",
   "execution_count": null,
   "metadata": {},
   "outputs": [],
   "source": []
  },
  {
   "cell_type": "code",
   "execution_count": null,
   "metadata": {},
   "outputs": [],
   "source": [
    "close_widgets(dir())\n",
    "w3 = widgets.interactive(h1.Plot_Eigvals_Hu, u=h1.u_range, n=h1.n, s_up=h1.s_up, s_down=h1.s_down);\n",
    "\n",
    "filename = set_filename(\"Hubbard.pdf\")\n",
    "Save_Figure_Button.on_click(functools.partial(Click_Save_Figure, widget=w3, name_widget=filename, output=h1.out, path=\"\"))\n",
    " \n",
    "d3 = HBox([Save_Figure_Button, filename, h1.out])\n",
    "display(d3)\n",
    "display(w3)"
   ]
  },
  {
   "cell_type": "code",
   "execution_count": null,
   "metadata": {},
   "outputs": [],
   "source": [
    "import scipy as sp\n",
    "_H = [sp.sparse.csr_matrix(h1.H(0.01, 1))]\n",
    "eig_vecs = np.array([sp.sparse.linalg.eigsh(h, k=4, which=\"SA\")[0] for h in _H]).reshape(4, -1)\n",
    "eig_vecs\n",
    "#np.einsum(\"ij, ji->i\", eig_vecs, h1.Op_nn_mean @ eig_vecs.T).sum() / 4"
   ]
  },
  {
   "cell_type": "code",
   "execution_count": null,
   "metadata": {},
   "outputs": [],
   "source": [
    "close_widgets(dir())\n",
    "w4 = widgets.interactive(h1.Plot_Eigvals_Ht, t=h1.t_range, n=h1.n, s_up=h1.s_up, s_down=h1.s_down);\n",
    "\n",
    "filename = set_filename(\"Hubbard.pdf\")\n",
    "Save_Figure_Button.on_click(functools.partial(Click_Save_Figure, widget=w4, name_widget=filename, output=h1.out, path=\"\"))\n",
    "\n",
    "d4 = HBox([Save_Figure_Button, filename, h1.out])\n",
    "display(d4)\n",
    "display(w4)"
   ]
  },
  {
   "cell_type": "code",
   "execution_count": null,
   "metadata": {},
   "outputs": [],
   "source": [
    "close_widgets(dir())\n",
    "w5 = widgets.interactive(h1.Plot_Eigvals_H, u=h1.t_range, t=h1.u_range, n=h1.n, s_up=h1.s_up, s_down=h1.s_down);\n",
    "\n",
    "filename = set_filename(\"Hubbard.pdf\")\n",
    "Save_Figure_Button.on_click(functools.partial(Click_Save_Figure, widget=w5, name_widget=filename, output=h1.out, path=\"\"))\n",
    "\n",
    "d5 = HBox([Save_Figure_Button, filename, h1.out])\n",
    "display(d5)\n",
    "display(w5)"
   ]
  },
  {
   "cell_type": "markdown",
   "metadata": {},
   "source": [
    "# Plot Expectation values\n",
    "TODO: nn_mean, Sz, Sz fluctuations = Sz^2 - <Sz>^2, <n_up>, <n_down>, <Sz(i)Sz(j)>"
   ]
  },
  {
   "cell_type": "code",
   "execution_count": 65,
   "metadata": {},
   "outputs": [
    {
     "data": {
      "application/vnd.jupyter.widget-view+json": {
       "model_id": "ca76af423db7496b9e974b8a96088ed4",
       "version_major": 2,
       "version_minor": 0
      },
      "text/plain": [
       "interactive(children=(FloatRangeSlider(value=(0.0, 1.0), continuous_update=False, description='$t=$', max=5.0,…"
      ]
     },
     "metadata": {},
     "output_type": "display_data"
    }
   ],
   "source": [
    "close_widgets(dir())\n",
    "x = lambda u,  **kwargs: u\n",
    "w99 = widgets.interactive(x, u=h1.t_range, t=h1.u_range, n=h1.n, s_up=h1.s_up, s_down=h1.s_down)\n",
    "w99"
   ]
  },
  {
   "cell_type": "code",
   "execution_count": null,
   "metadata": {},
   "outputs": [],
   "source": [
    "close_widgets(dir())\n",
    "w6 = widgets.interactive(h1.Plot_ExpVal_nn, {\"manual\": True}, u=h1.u_range, n=h1.n, s_up=h1.s_up, s_down=h1.s_down);\n",
    "\n",
    "filename = set_filename(\"Hubbard.pdf\")\n",
    "Save_Figure_Button.on_click(functools.partial(Click_Save_Figure, widget=w6, name_widget=filename, output=h1.out, path=\"\"))\n",
    "\n",
    "d6 = HBox([Save_Figure_Button, filename, h1.out])\n",
    "display(d6)\n",
    "display(w6)"
   ]
  },
  {
   "cell_type": "code",
   "execution_count": 10,
   "metadata": {},
   "outputs": [
    {
     "data": {
      "application/vnd.jupyter.widget-view+json": {
       "model_id": "0318f945178f4943baa20fcaa8178d63",
       "version_major": 2,
       "version_minor": 0
      },
      "text/plain": [
       "HBox(children=(Button(description='Save Current Figure', layout=Layout(width='5cm'), style=ButtonStyle()), Tex…"
      ]
     },
     "metadata": {},
     "output_type": "display_data"
    },
    {
     "data": {
      "application/vnd.jupyter.widget-view+json": {
       "model_id": "595487a267164f4f874e22eaff454899",
       "version_major": 2,
       "version_minor": 0
      },
      "text/plain": [
       "interactive(children=(FloatRangeSlider(value=(0.0, 9.9), continuous_update=False, description='$U=$', layout=L…"
      ]
     },
     "metadata": {},
     "output_type": "display_data"
    }
   ],
   "source": [
    "close_widgets(dir())\n",
    "w7 = widgets.interactive(h1.Plot_ExpVal_Sz, u=h1.u_range, n=h1.n, s_up=h1.s_up, s_down=h1.s_down);\n",
    "\n",
    "filename = set_filename(\"Hubbard.pdf\")\n",
    "Save_Figure_Button.on_click(functools.partial(Click_Save_Figure, widget=w7, name_widget=filename, output=h1.out, path=\"\"))\n",
    "\n",
    "d7 = HBox([Save_Figure_Button, filename, h1.out])\n",
    "display(d7)\n",
    "display(w7)"
   ]
  },
  {
   "cell_type": "code",
   "execution_count": 34,
   "metadata": {},
   "outputs": [
    {
     "data": {
      "application/vnd.jupyter.widget-view+json": {
       "model_id": "64e42f9210aa417181d28e2f9ffa2f45",
       "version_major": 2,
       "version_minor": 0
      },
      "text/plain": [
       "HBox(children=(Button(description='Save Current Figure', layout=Layout(width='5cm'), style=ButtonStyle()), Tex…"
      ]
     },
     "metadata": {},
     "output_type": "display_data"
    },
    {
     "data": {
      "application/vnd.jupyter.widget-view+json": {
       "model_id": "535539dce6594668b3d7a1ed4e463b41",
       "version_major": 2,
       "version_minor": 0
      },
      "text/plain": [
       "interactive(children=(FloatRangeSlider(value=(0.0, 9.9), continuous_update=False, description='$U=$', layout=L…"
      ]
     },
     "metadata": {},
     "output_type": "display_data"
    }
   ],
   "source": [
    "close_widgets(dir())\n",
    "w8 = widgets.interactive(h1.Plot_ExpVal_SzSz, u=h1.u_range, n=h1.n, s_up=h1.s_up, s_down=h1.s_down);\n",
    "\n",
    "filename = set_filename(\"Hubbard.pdf\")\n",
    "Save_Figure_Button.on_click(functools.partial(Click_Save_Figure, widget=w8, name_widget=filename, output=h1.out, path=\"\"))\n",
    "\n",
    "d8 = HBox([Save_Figure_Button, filename, h1.out])\n",
    "display(d8)\n",
    "display(w8)"
   ]
  },
  {
   "cell_type": "code",
   "execution_count": 20,
   "metadata": {},
   "outputs": [
    {
     "data": {
      "image/png": "[encoded data removed]",
      "text/plain": [
       "<Figure size 432x288 with 1 Axes>"
      ]
     },
     "metadata": {},
     "output_type": "display_data"
    }
   ],
   "source": [
    "for i in range(h1.n.value):\n",
    "\tplt.plot(np.round(h1.Exp_Val_0(h1.Op_n_up(i)),2)[:], c=\"r\")\n",
    "\tplt.plot(np.round(h1.Exp_Val_0(h1.Op_n_down(i)),2)[:], c=\"b\")"
   ]
  },
  {
   "cell_type": "code",
   "execution_count": 21,
   "metadata": {},
   "outputs": [
    {
     "data": {
      "image/png": "[encoded data removed]",
      "text/plain": [
       "<Figure size 432x288 with 1 Axes>"
      ]
     },
     "metadata": {},
     "output_type": "display_data"
    }
   ],
   "source": [
    "fig = plt.figure()\n",
    "u = 100\n",
    "[plt.plot(h1.u_array[:u], np.round(h1.Exp_Val_0(h1.Op_SzSz(0,i)),4)[:u], label=f\"{i}\") for i in range(h1.n.value)]\n",
    "plt.legend();"
   ]
  },
  {
   "cell_type": "code",
   "execution_count": 66,
   "metadata": {},
   "outputs": [
    {
     "data": {
      "application/vnd.jupyter.widget-view+json": {
       "model_id": "16d470a778ec425e868cca6ef1c5520a",
       "version_major": 2,
       "version_minor": 0
      },
      "text/plain": [
       "interactive(children=(FloatRangeSlider(value=(0.0, 1.0), continuous_update=False, description='$t=$', max=5.0,…"
      ]
     },
     "metadata": {},
     "output_type": "display_data"
    }
   ],
   "source": [
    "close_widgets(dir())\n",
    "x = lambda u,  **kwargs: u\n",
    "w99 = widgets.interactive(x, u=h1.t_range, t=h1.u_range, n=h1.n, s_up=h1.s_up, s_down=h1.s_down)\n",
    "w99"
   ]
  },
  {
   "cell_type": "code",
   "execution_count": 140,
   "metadata": {},
   "outputs": [],
   "source": [
    "H = np.array([h1.H(u,1) for u in np.linspace(0, 40, num=200)])"
   ]
  },
  {
   "cell_type": "code",
   "execution_count": 141,
   "metadata": {},
   "outputs": [],
   "source": [
    "vals, vecs = np.linalg.eigh(H)"
   ]
  },
  {
   "cell_type": "code",
   "execution_count": 142,
   "metadata": {},
   "outputs": [],
   "source": [
    "vec0 = vecs[:, :, 0]"
   ]
  },
  {
   "cell_type": "code",
   "execution_count": 143,
   "metadata": {},
   "outputs": [],
   "source": [
    "vals0 = vals[:, 0]"
   ]
  },
  {
   "cell_type": "code",
   "execution_count": 146,
   "metadata": {},
   "outputs": [],
   "source": [
    "a = 2 * np.sum(np.einsum(\"ijk, ji->ik\", vecs[:, :, 1:], h1.Op_Sz(0) @ vec0.T)**2 / (vals[:, 1:] - vals0[:, None]), axis=1)"
   ]
  },
  {
   "cell_type": "code",
   "execution_count": 147,
   "metadata": {},
   "outputs": [
    {
     "data": {
      "text/plain": [
       "[<matplotlib.lines.Line2D at 0x7ff166e86670>]"
      ]
     },
     "execution_count": 147,
     "metadata": {},
     "output_type": "execute_result"
    },
    {
     "data": {
      "image/png": "[encoded data removed]",
      "text/plain": [
       "<Figure size 432x288 with 1 Axes>"
      ]
     },
     "metadata": {},
     "output_type": "display_data"
    }
   ],
   "source": [
    "plt.plot(a)"
   ]
  },
  {
   "cell_type": "code",
   "execution_count": null,
   "metadata": {},
   "outputs": [],
   "source": [
    "plt.plot(a)"
   ]
  },
  {
   "cell_type": "code",
   "execution_count": 137,
   "metadata": {},
   "outputs": [],
   "source": [
    "S = np.sum([(-1)**i * h1.Op_Sz(i) for i in np.arange(h1.n.value)], axis=0)"
   ]
  },
  {
   "cell_type": "code",
   "execution_count": null,
   "metadata": {},
   "outputs": [],
   "source": [
    "plt.plot(np.round(h1.Exp_Val_0(h1.Op_Sz(1)@h1.Op_Sz(1)),4))\n",
    "plt.plot(np.round(1 - 2*h1.Exp_Val_0(h1.Op_nn_mean),4), label=\"nn\")\n",
    "plt.legend()"
   ]
  },
  {
   "cell_type": "code",
   "execution_count": null,
   "metadata": {},
   "outputs": [],
   "source": [
    "np.round(h1.DoubleSiteAvg,2)"
   ]
  },
  {
   "cell_type": "code",
   "execution_count": null,
   "metadata": {},
   "outputs": [],
   "source": [
    "h1.Exp_Val_0(h1.Op_nn_mean).shape"
   ]
  },
  {
   "cell_type": "code",
   "execution_count": null,
   "metadata": {},
   "outputs": [],
   "source": [
    "h1.diag(0)"
   ]
  },
  {
   "cell_type": "code",
   "execution_count": null,
   "metadata": {},
   "outputs": [],
   "source": [
    "h1.Op_nn"
   ]
  },
  {
   "cell_type": "code",
   "execution_count": null,
   "metadata": {},
   "outputs": [],
   "source": [
    "np.diag(h1.Op_n_up(0)* h1.Op_n_down(0))"
   ]
  },
  {
   "cell_type": "code",
   "execution_count": null,
   "metadata": {},
   "outputs": [],
   "source": [
    "vars()"
   ]
  },
  {
   "cell_type": "code",
   "execution_count": null,
   "metadata": {},
   "outputs": [],
   "source": [
    "str"
   ]
  }
 ],
 "metadata": {
  "interpreter": {
   "hash": "767d51c1340bd893661ea55ea3124f6de3c7a262a8b4abca0554b478b1e2ff90"
  },
  "kernelspec": {
   "display_name": "Python 3 (ipykernel)",
   "language": "python",
   "name": "python3"
  },
  "language_info": {
   "codemirror_mode": {
    "name": "ipython",
    "version": 3
   },
   "file_extension": ".py",
   "mimetype": "text/x-python",
   "name": "python",
   "nbconvert_exporter": "python",
   "pygments_lexer": "ipython3",
   "version": "3.8.10"
  }
 },
 "nbformat": 4,
 "nbformat_minor": 4
}
