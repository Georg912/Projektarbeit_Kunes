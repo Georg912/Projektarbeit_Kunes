{
 "cells": [
  {
   "cell_type": "markdown",
   "metadata": {},
   "source": [
    "general todo, organize class, maybe subclass, some static methods\n",
    "write documentation"
   ]
  },
  {
   "cell_type": "markdown",
   "metadata": {},
   "source": [
    "## Import all the relevant Modules "
   ]
  },
  {
   "cell_type": "code",
   "execution_count": 1,
   "metadata": {},
   "outputs": [],
   "source": [
    "%matplotlib inline\n",
    "\n",
    "# adding `Modules/` to the system path\n",
    "#import sys\n",
    "#sys.path.insert(0, './Modules/')\n",
    "\n",
    "#TODO: Rename module shortcuts such as hb into something usefull after development\n",
    "import Modules.Hubbard_Class as hb\n",
    "import Modules.Widgets as w\n",
    "import ipywidgets as widgets\n",
    "import numpy as np\n",
    "\n",
    "# Plotting\n",
    "import matplotlib.pyplot as plt\n",
    "plt.style.use('seaborn-dark')\n",
    "plt.rcParams.update({'font.size':14})\n",
    "\n",
    "from ipywidgets import HBox, VBox\n",
    "import functools\n",
    "\n",
    "def close_widgets(DIR):\n",
    "    \"\"\" Close all widgets wi and displays di in notebook directory `dir()`. \"\"\"\n",
    "    for i in range(100):\n",
    "        if f\"w{i}\" in DIR:\n",
    "            exec(f\"w{i}.close()\")\n",
    "        if f\"d{i}\" in DIR:\n",
    "            exec(f\"d{i}.close()\")\n",
    "\n",
    "%load_ext autoreload\n",
    "%autoreload 2\n",
    "#TODO rename one of the modules folders"
   ]
  },
  {
   "cell_type": "markdown",
   "metadata": {},
   "source": [
    "TODO: give a good description of the model we're looking at\n",
    "## Introduction"
   ]
  },
  {
   "cell_type": "markdown",
   "metadata": {},
   "source": [
    "The following are all markdown todos\n",
    "* TODO: Check name of basis states\n",
    "* TODO: Show how basis is created\n",
    "* #TODO state that total number of basis states is ncr(n,s1) ncr (n,s2)\n",
    "## The Fock Basis states "
   ]
  },
  {
   "cell_type": "code",
   "execution_count": 2,
   "metadata": {},
   "outputs": [],
   "source": [
    "h1 = hb.Hubbard()"
   ]
  },
  {
   "cell_type": "code",
   "execution_count": 3,
   "metadata": {},
   "outputs": [
    {
     "data": {
      "application/vnd.jupyter.widget-view+json": {
       "model_id": "518e4b027cf346a8a57ea79685883d3d",
       "version_major": 2,
       "version_minor": 0
      },
      "text/plain": [
       "interactive(children=(BoundedIntText(value=6, description='State $=$', layout=Layout(width='3cm'), max=399, st…"
      ]
     },
     "metadata": {},
     "output_type": "display_data"
    }
   ],
   "source": [
    "close_widgets(dir())\n",
    "w1 = widgets.interactive(h1.show_basis, index=h1.basis_index, n=h1.n, s_up=h1.s_up, s_down=h1.s_down);\n",
    "\n",
    "display(w1)"
   ]
  },
  {
   "cell_type": "markdown",
   "metadata": {},
   "source": [
    "## Hopping Hamiltonian\n",
    "\n",
    "Markdown Taks:\n",
    "* TODO: possibly show the simple n=2 analytic calculation for the hubbard molecule in occupation number basis\n",
    "* TODO: Show the operator nn, na, nb etc\n",
    "\n",
    "\n",
    "* TODO: Show the operator nn, na, nb etc, show S_a. S_b, S^2\n",
    "\n",
    "* TODO: Do not show hopping, boring!"
   ]
  },
  {
   "cell_type": "markdown",
   "metadata": {},
   "source": [
    "In the Widget below one can play around with the number of sites $n$, spin up and spin down states, as well as the interaction strength $U$ and the hopping amplitude $t$ to explore the hamiltonian $H$. Note that only for $n \\leq 4$ the complete matrix can be fully displayed."
   ]
  },
  {
   "cell_type": "code",
   "execution_count": 4,
   "metadata": {},
   "outputs": [
    {
     "data": {
      "application/vnd.jupyter.widget-view+json": {
       "model_id": "9a0b30ebd91e4ccfbbe69a073ac09c6e",
       "version_major": 2,
       "version_minor": 0
      },
      "text/plain": [
       "interactive(children=(FloatSlider(value=2.0, continuous_update=False, description='$U=$', max=5.0, min=-5.0, r…"
      ]
     },
     "metadata": {},
     "output_type": "display_data"
    }
   ],
   "source": [
    "#close previous widget to prevent slowing down calculations\n",
    "close_widgets(dir())\n",
    "\n",
    "np.set_printoptions(linewidth=150) #set output length, default=75\n",
    "w2 = widgets.interactive(h1.Show_H, u=h1.u, t=h1.t, n=h1.n, s_up=h1.s_up, s_down=h1.s_down);\n",
    "display(w2)"
   ]
  },
  {
   "cell_type": "markdown",
   "metadata": {},
   "source": [
    "# Calculate Eigenenergies \n",
    "TODO: for Hu in widget (copy paste)\n",
    "TODO: for Ht with widget (copy paste) \n",
    "TODO: for Ht+Hu widget"
   ]
  },
  {
   "cell_type": "code",
   "execution_count": 5,
   "metadata": {},
   "outputs": [],
   "source": [
    "# adding `Modules/` to the system path\n",
    "import sys\n",
    "sys.path.insert(0, '../Modules/')\n",
    "\n",
    "from Module_Widgets_and_Sliders import Text_Box, Save_Figure_Button, Click_Save_Figure, set_filename"
   ]
  },
  {
   "cell_type": "code",
   "execution_count": 6,
   "metadata": {},
   "outputs": [
    {
     "data": {
      "application/vnd.jupyter.widget-view+json": {
       "model_id": "5fca4fe4b975473a82b25e672e27003a",
       "version_major": 2,
       "version_minor": 0
      },
      "text/plain": [
       "HBox(children=(Button(description='Save Current Figure', layout=Layout(width='5cm'), style=ButtonStyle()), Tex…"
      ]
     },
     "metadata": {},
     "output_type": "display_data"
    },
    {
     "data": {
      "application/vnd.jupyter.widget-view+json": {
       "model_id": "1e2600af053d48acaaee55dac3958040",
       "version_major": 2,
       "version_minor": 0
      },
      "text/plain": [
       "interactive(children=(FloatRangeSlider(value=(2.0, 7.0), continuous_update=False, description='$U=$', layout=L…"
      ]
     },
     "metadata": {},
     "output_type": "display_data"
    }
   ],
   "source": [
    "close_widgets(dir())\n",
    "w3 = widgets.interactive(h1.Plot_Eigvals_Hu, u=h1.u_range, n=h1.n, s_up=h1.s_up, s_down=h1.s_down);\n",
    "\n",
    "filename = set_filename(\"Hubbard.pdf\")\n",
    "Save_Figure_Button.on_click(functools.partial(Click_Save_Figure, widget=w3, name_widget=filename, output=h1.out, path=\"\"))\n",
    " \n",
    "d3 = HBox([Save_Figure_Button, filename, h1.out])\n",
    "display(d3)\n",
    "display(w3)"
   ]
  },
  {
   "cell_type": "code",
   "execution_count": 7,
   "metadata": {},
   "outputs": [
    {
     "data": {
      "application/vnd.jupyter.widget-view+json": {
       "model_id": "",
       "version_major": 2,
       "version_minor": 0
      },
      "text/plain": [
       "HBox(children=(Button(description='Save Current Figure', layout=Layout(width='5cm'), style=ButtonStyle()), Tex…"
      ]
     },
     "metadata": {},
     "output_type": "display_data"
    },
    {
     "data": {
      "application/vnd.jupyter.widget-view+json": {
       "model_id": "",
       "version_major": 2,
       "version_minor": 0
      },
      "text/plain": [
       "interactive(children=(FloatRangeSlider(value=(0.0, 1.0), continuous_update=False, description='$t=$', max=5.0,…"
      ]
     },
     "metadata": {},
     "output_type": "display_data"
    }
   ],
   "source": [
    "close_widgets(dir())\n",
    "w4 = widgets.interactive(h1.Plot_Eigvals_Ht, t=h1.t_range, n=h1.n, s_up=h1.s_up, s_down=h1.s_down);\n",
    "\n",
    "filename = set_filename(\"Hubbard.pdf\")\n",
    "Save_Figure_Button.on_click(functools.partial(Click_Save_Figure, widget=w4, name_widget=filename, output=h1.out, path=\"\"))\n",
    "\n",
    "d4 = HBox([Save_Figure_Button, filename, h1.out])\n",
    "display(d4)\n",
    "display(w4)"
   ]
  },
  {
   "cell_type": "code",
   "execution_count": 8,
   "metadata": {},
   "outputs": [
    {
     "data": {
      "application/vnd.jupyter.widget-view+json": {
       "model_id": "d99f6c445c2d47c79f057ea2bf6d6051",
       "version_major": 2,
       "version_minor": 0
      },
      "text/plain": [
       "HBox(children=(Button(description='Save Current Figure', layout=Layout(width='5cm'), style=ButtonStyle()), Tex…"
      ]
     },
     "metadata": {},
     "output_type": "display_data"
    },
    {
     "data": {
      "application/vnd.jupyter.widget-view+json": {
       "model_id": "c25b6f30341d4c3496053ba8d859901e",
       "version_major": 2,
       "version_minor": 0
      },
      "text/plain": [
       "interactive(children=(FloatRangeSlider(value=(0.0, 1.0), continuous_update=False, description='$t=$', max=5.0,…"
      ]
     },
     "metadata": {},
     "output_type": "display_data"
    }
   ],
   "source": [
    "close_widgets(dir())\n",
    "w5 = widgets.interactive(h1.Plot_Eigvals_H, u=h1.t_range, t=h1.u_range, n=h1.n, s_up=h1.s_up, s_down=h1.s_down);\n",
    "\n",
    "filename = set_filename(\"Hubbard.pdf\")\n",
    "Save_Figure_Button.on_click(functools.partial(Click_Save_Figure, widget=w5, name_widget=filename, output=h1.out, path=\"\"))\n",
    "\n",
    "d5 = HBox([Save_Figure_Button, filename, h1.out])\n",
    "display(d5)\n",
    "display(w5)"
   ]
  },
  {
   "cell_type": "code",
   "execution_count": 4,
   "metadata": {},
   "outputs": [
    {
     "data": {
      "application/vnd.jupyter.widget-view+json": {
       "model_id": "d0509e02a24f4a76afed01776e009ad1",
       "version_major": 2,
       "version_minor": 0
      },
      "text/plain": [
       "interactive(children=(FloatRangeSlider(value=(0.0, 1.0), continuous_update=False, description='$t=$', max=5.0,…"
      ]
     },
     "metadata": {},
     "output_type": "display_data"
    }
   ],
   "source": [
    "x = lambda u,  **kwargs: u\n",
    "wwidgets.interactive(x, u=h1.t_range, t=h1.u_range, n=h1.n, s_up=h1.s_up, s_down=h1.s_down)"
   ]
  },
  {
   "cell_type": "code",
   "execution_count": 27,
   "metadata": {},
   "outputs": [
    {
     "data": {
      "image/png": "[encoded data removed]",
      "text/plain": [
       "<Figure size 432x288 with 1 Axes>"
      ]
     },
     "metadata": {},
     "output_type": "display_data"
    }
   ],
   "source": [
    "for i in range(h1.n.value):\n",
    "\tplt.plot(np.round(h1.Exp_Val_0(h1.Op_n_up(i)),2)[:], c=\"r\")\n",
    "\tplt.plot(np.round(h1.Exp_Val_0(h1.Op_n_down(i)),2)[:], c=\"b\")"
   ]
  },
  {
   "cell_type": "code",
   "execution_count": 28,
   "metadata": {},
   "outputs": [
    {
     "data": {
      "image/png": "[encoded data removed]",
      "text/plain": [
       "<Figure size 432x288 with 1 Axes>"
      ]
     },
     "metadata": {},
     "output_type": "display_data"
    }
   ],
   "source": [
    "fig = plt.figure()\n",
    "u = 100\n",
    "[plt.plot(h1.u_array[:u], np.round(h1.Exp_Val_0(h1.Op_SzSz(0,i)),4)[:u], label=f\"{i}\") for i in range(h1.n.value)]\n",
    "plt.legend();"
   ]
  },
  {
   "cell_type": "code",
   "execution_count": 69,
   "metadata": {},
   "outputs": [
    {
     "data": {
      "text/plain": [
       "array([ 0. ,  0.5,  1. ,  1.5,  2. ,  2.5,  3. ,  3.5,  4. ,  4.5,  5. ,  5.5,  6. ,  6.5,  7. ,  7.5,  8. ,  8.5,  9. ,  9.5, 10. , 10.5, 11. ,\n",
       "       11.5, 12. , 12.5, 13. , 13.5, 14. , 14.5, 15. , 15.5, 16. , 16.5, 17. , 17.5, 18. , 18.5, 19. , 19.5, 20. , 20.5, 21. , 21.5, 22. , 22.5,\n",
       "       23. , 23.5, 24. , 24.5, 25. , 25.5, 26. , 26.5, 27. , 27.5, 28. , 28.5, 29. , 29.5, 30. , 30.5, 31. , 31.5, 32. , 32.5, 33. , 33.5, 34. ,\n",
       "       34.5, 35. , 35.5, 36. , 36.5, 37. , 37.5, 38. , 38.5, 39. , 39.5, 40. ])"
      ]
     },
     "execution_count": 69,
     "metadata": {},
     "output_type": "execute_result"
    }
   ],
   "source": [
    "h1.u_array"
   ]
  },
  {
   "cell_type": "code",
   "execution_count": 21,
   "metadata": {},
   "outputs": [
    {
     "data": {
      "text/plain": [
       "<matplotlib.legend.Legend at 0x7f5f9086b100>"
      ]
     },
     "execution_count": 21,
     "metadata": {},
     "output_type": "execute_result"
    },
    {
     "data": {
      "image/png": "[encoded data removed]",
      "text/plain": [
       "<Figure size 432x288 with 1 Axes>"
      ]
     },
     "metadata": {},
     "output_type": "display_data"
    }
   ],
   "source": [
    "plt.plot(np.round(h1.Exp_Val_0(h1.Op_Sz(1)@h1.Op_Sz(1)),4))\n",
    "plt.plot(np.round(1 - 2*h1.Exp_Val_0(h1.Op_nn_mean),4), label=\"nn\")\n",
    "plt.legend()"
   ]
  },
  {
   "cell_type": "code",
   "execution_count": 59,
   "metadata": {},
   "outputs": [
    {
     "data": {
      "text/plain": [
       "array([[0.67, 0.  , 0.  ],\n",
       "       [0.  , 0.67, 0.  ],\n",
       "       [0.  , 0.  , 0.67]])"
      ]
     },
     "execution_count": 59,
     "metadata": {},
     "output_type": "execute_result"
    }
   ],
   "source": [
    "np.round(h1.DoubleSiteAvg,2)"
   ]
  },
  {
   "cell_type": "code",
   "execution_count": 11,
   "metadata": {},
   "outputs": [
    {
     "data": {
      "text/plain": [
       "(81,)"
      ]
     },
     "execution_count": 11,
     "metadata": {},
     "output_type": "execute_result"
    }
   ],
   "source": [
    "h1.Exp_Val_0(h1.Op_nn_mean).shape"
   ]
  },
  {
   "cell_type": "code",
   "execution_count": 9,
   "metadata": {},
   "outputs": [
    {
     "data": {
      "text/plain": [
       "array([0., 0., 0., 0., 0., 1., 0., 0., 1.])"
      ]
     },
     "execution_count": 9,
     "metadata": {},
     "output_type": "execute_result"
    }
   ],
   "source": [
    "h1.diag(0)"
   ]
  },
  {
   "cell_type": "code",
   "execution_count": 8,
   "metadata": {},
   "outputs": [
    {
     "data": {
      "text/plain": [
       "array([[1., 0., 0., 0., 0., 0., 0., 0., 0.],\n",
       "       [0., 1., 0., 0., 0., 0., 0., 0., 0.],\n",
       "       [0., 0., 0., 0., 0., 0., 0., 0., 0.],\n",
       "       [0., 0., 0., 1., 0., 0., 0., 0., 0.],\n",
       "       [0., 0., 0., 0., 0., 0., 0., 0., 0.],\n",
       "       [0., 0., 0., 0., 0., 1., 0., 0., 0.],\n",
       "       [0., 0., 0., 0., 0., 0., 0., 0., 0.],\n",
       "       [0., 0., 0., 0., 0., 0., 0., 1., 0.],\n",
       "       [0., 0., 0., 0., 0., 0., 0., 0., 1.]])"
      ]
     },
     "execution_count": 8,
     "metadata": {},
     "output_type": "execute_result"
    }
   ],
   "source": [
    "h1.Op_nn"
   ]
  },
  {
   "cell_type": "code",
   "execution_count": 11,
   "metadata": {},
   "outputs": [
    {
     "data": {
      "text/plain": [
       "array([0., 0., 0., 0., 0., 1., 0., 0., 1.])"
      ]
     },
     "execution_count": 11,
     "metadata": {},
     "output_type": "execute_result"
    }
   ],
   "source": [
    "np.diag(h1.Op_n_up(0)* h1.Op_n_down(0))"
   ]
  },
  {
   "cell_type": "code",
   "execution_count": 14,
   "metadata": {},
   "outputs": [
    {
     "data": {
      "text/plain": [
       "{'__name__': '__main__',\n",
       " '__doc__': 'Automatically created module for IPython interactive environment',\n",
       " '__package__': None,\n",
       " '__loader__': None,\n",
       " '__spec__': None,\n",
       " '__builtin__': <module 'builtins' (built-in)>,\n",
       " '__builtins__': <module 'builtins' (built-in)>,\n",
       " '_ih': ['',\n",
       "  \"get_ipython().run_line_magic('matplotlib', 'inline')\\n\\n# adding `Modules/` to the system path\\n#import sys\\n#sys.path.insert(0, './Modules/')\\n\\n#TODO: Rename module shortcuts such as hb into something usefull after development\\nimport Modules.Hubbard_Class as hb\\nimport Modules.Widgets as w\\nimport ipywidgets as widgets\\nimport numpy as np\\n\\n# Plotting\\nimport matplotlib.pyplot as plt\\nplt.style.use('seaborn-dark')\\nplt.rcParams.update({'font.size':14})\\n\\nfrom ipywidgets import HBox, VBox\\nimport functools\\n\\nget_ipython().run_line_magic('load_ext', 'autoreload')\\nget_ipython().run_line_magic('autoreload', '2')\\n#TODO rename one of the modules folders\",\n",
       "  'h1 = hb.Hubbard()',\n",
       "  'h1.Op_nn',\n",
       "  'x = lambda u,  **kwargs: u\\nwidgets.interactive(x, u=h1.t_range, t=h1.u_range, n=h1.n, s_up=h1.s_up, s_down=h1.s_down)',\n",
       "  'h1.diag(0)',\n",
       "  'h1.diag(0)',\n",
       "  'h1.Op_nn',\n",
       "  'h1.Op_nn',\n",
       "  'h1.diag(0)',\n",
       "  'h1.Op_n_up(0)* h1.Op_n_down(0)',\n",
       "  'np.diag(h1.Op_n_up(0)* h1.Op_n_down(0))',\n",
       "  'vars()',\n",
       "  'vars(h1)',\n",
       "  'vars()'],\n",
       " '_oh': {3: array([[3., 0., 0., ..., 0., 0., 0.],\n",
       "         [0., 2., 0., ..., 0., 0., 0.],\n",
       "         [0., 0., 2., ..., 0., 0., 0.],\n",
       "         ...,\n",
       "         [0., 0., 0., ..., 2., 0., 0.],\n",
       "         [0., 0., 0., ..., 0., 2., 0.],\n",
       "         [0., 0., 0., ..., 0., 0., 3.]]),\n",
       "  4: interactive(children=(FloatRangeSlider(value=(0.0, 1.0), continuous_update=False, description='$t=$', max=5.0, readout_format='.1f'), FloatRangeSlider(value=(2.0, 7.0), continuous_update=False, description='$U=$', max=40.0, readout_format='.1f'), BoundedIntText(value=3, description='$n = $', layout=Layout(width='3cm'), max=7, min=2, style=DescriptionStyle(description_width='initial')), BoundedIntText(value=2, description='$s_\\\\mathrm{up} = $', layout=Layout(width='5cm'), max=3, style=DescriptionStyle(description_width='initial')), BoundedIntText(value=1, description='$s_\\\\mathrm{down} = $', layout=Layout(width='5cm'), max=3, style=DescriptionStyle(description_width='initial')), Output()), _dom_classes=('widget-interact',)),\n",
       "  5: array([0., 0., 0.]),\n",
       "  6: array([0., 0., 0., 0., 0., 0., 0., 0., 1.]),\n",
       "  7: array([[0., 0., 0.],\n",
       "         [0., 0., 0.],\n",
       "         [0., 0., 0.]]),\n",
       "  8: array([[1., 0., 0., 0., 0., 0., 0., 0., 0.],\n",
       "         [0., 1., 0., 0., 0., 0., 0., 0., 0.],\n",
       "         [0., 0., 0., 0., 0., 0., 0., 0., 0.],\n",
       "         [0., 0., 0., 1., 0., 0., 0., 0., 0.],\n",
       "         [0., 0., 0., 0., 0., 0., 0., 0., 0.],\n",
       "         [0., 0., 0., 0., 0., 1., 0., 0., 0.],\n",
       "         [0., 0., 0., 0., 0., 0., 0., 0., 0.],\n",
       "         [0., 0., 0., 0., 0., 0., 0., 1., 0.],\n",
       "         [0., 0., 0., 0., 0., 0., 0., 0., 1.]]),\n",
       "  9: array([0., 0., 0., 0., 0., 1., 0., 0., 1.]),\n",
       "  10: array([[0., 0., 0., 0., 0., 0., 0., 0., 0.],\n",
       "         [0., 0., 0., 0., 0., 0., 0., 0., 0.],\n",
       "         [0., 0., 0., 0., 0., 0., 0., 0., 0.],\n",
       "         [0., 0., 0., 0., 0., 0., 0., 0., 0.],\n",
       "         [0., 0., 0., 0., 0., 0., 0., 0., 0.],\n",
       "         [0., 0., 0., 0., 0., 1., 0., 0., 0.],\n",
       "         [0., 0., 0., 0., 0., 0., 0., 0., 0.],\n",
       "         [0., 0., 0., 0., 0., 0., 0., 0., 0.],\n",
       "         [0., 0., 0., 0., 0., 0., 0., 0., 1.]]),\n",
       "  11: array([0., 0., 0., 0., 0., 1., 0., 0., 1.]),\n",
       "  12: {...},\n",
       "  13: {'out': Output(),\n",
       "   'n': BoundedIntText(value=3, description='$n = $', layout=Layout(width='3cm'), max=7, min=2, style=DescriptionStyle(description_width='initial')),\n",
       "   's_up': BoundedIntText(value=2, description='$s_\\\\mathrm{up} = $', layout=Layout(width='5cm'), max=3, style=DescriptionStyle(description_width='initial')),\n",
       "   's_down': BoundedIntText(value=1, description='$s_\\\\mathrm{down} = $', layout=Layout(width='5cm'), max=3, style=DescriptionStyle(description_width='initial')),\n",
       "   'basis': array([[0., 1., 1., 0., 0., 1.],\n",
       "          [0., 1., 1., 0., 1., 0.],\n",
       "          [0., 1., 1., 1., 0., 0.],\n",
       "          [1., 0., 1., 0., 0., 1.],\n",
       "          [1., 0., 1., 0., 1., 0.],\n",
       "          [1., 0., 1., 1., 0., 0.],\n",
       "          [1., 1., 0., 0., 0., 1.],\n",
       "          [1., 1., 0., 0., 1., 0.],\n",
       "          [1., 1., 0., 1., 0., 0.]]),\n",
       "   'basis_index': BoundedIntText(value=0, description='State $=$', layout=Layout(width='3cm'), max=8, style=DescriptionStyle(description_width='initial')),\n",
       "   'hoppings': array([[0, 1],\n",
       "          [1, 2],\n",
       "          [2, 0],\n",
       "          [1, 0],\n",
       "          [2, 1],\n",
       "          [0, 2],\n",
       "          [3, 4],\n",
       "          [4, 5],\n",
       "          [5, 3],\n",
       "          [4, 3],\n",
       "          [5, 4],\n",
       "          [3, 5]]),\n",
       "   'u': FloatSlider(value=2.0, continuous_update=False, description='$U=$', max=5.0, min=-5.0, readout_format='.1f'),\n",
       "   't': FloatSlider(value=1.0, continuous_update=False, description='$t=$', max=5.0, min=-5.0, readout_format='.1f'),\n",
       "   'u_range': FloatRangeSlider(value=(2.0, 7.0), continuous_update=False, description='$U=$', max=40.0, readout_format='.1f'),\n",
       "   't_range': FloatRangeSlider(value=(0.0, 1.0), continuous_update=False, description='$t=$', max=5.0, readout_format='.1f'),\n",
       "   'u_array': array([ 0. ,  0.5,  1. ,  1.5,  2. ,  2.5,  3. ,  3.5,  4. ,  4.5,  5. ,\n",
       "           5.5,  6. ,  6.5,  7. ,  7.5,  8. ,  8.5,  9. ,  9.5, 10. , 10.5,\n",
       "          11. , 11.5, 12. , 12.5, 13. , 13.5, 14. , 14.5, 15. , 15.5, 16. ,\n",
       "          16.5, 17. , 17.5, 18. , 18.5, 19. , 19.5, 20. , 20.5, 21. , 21.5,\n",
       "          22. , 22.5, 23. , 23.5, 24. , 24.5, 25. , 25.5, 26. , 26.5, 27. ,\n",
       "          27.5, 28. , 28.5, 29. , 29.5, 30. , 30.5, 31. , 31.5, 32. , 32.5,\n",
       "          33. , 33.5, 34. , 34.5, 35. , 35.5, 36. , 36.5, 37. , 37.5, 38. ,\n",
       "          38.5, 39. , 39.5, 40. ]),\n",
       "   't_array': array([0. , 0.5, 1. , 1.5, 2. , 2.5, 3. , 3.5, 4. , 4.5, 5. ]),\n",
       "   'up': array([[0., 1., 1.],\n",
       "          [0., 1., 1.],\n",
       "          [0., 1., 1.],\n",
       "          [1., 0., 1.],\n",
       "          [1., 0., 1.],\n",
       "          [1., 0., 1.],\n",
       "          [1., 1., 0.],\n",
       "          [1., 1., 0.],\n",
       "          [1., 1., 0.]]),\n",
       "   'down': array([[0., 0., 1.],\n",
       "          [0., 1., 0.],\n",
       "          [1., 0., 0.],\n",
       "          [0., 0., 1.],\n",
       "          [0., 1., 0.],\n",
       "          [1., 0., 0.],\n",
       "          [0., 0., 1.],\n",
       "          [0., 1., 0.],\n",
       "          [1., 0., 0.]]),\n",
       "   'Op_nn': array([[1., 0., 0., 0., 0., 0., 0., 0., 0.],\n",
       "          [0., 1., 0., 0., 0., 0., 0., 0., 0.],\n",
       "          [0., 0., 0., 0., 0., 0., 0., 0., 0.],\n",
       "          [0., 0., 0., 1., 0., 0., 0., 0., 0.],\n",
       "          [0., 0., 0., 0., 0., 0., 0., 0., 0.],\n",
       "          [0., 0., 0., 0., 0., 1., 0., 0., 0.],\n",
       "          [0., 0., 0., 0., 0., 0., 0., 0., 0.],\n",
       "          [0., 0., 0., 0., 0., 0., 0., 1., 0.],\n",
       "          [0., 0., 0., 0., 0., 0., 0., 0., 1.]])}},\n",
       " '_dh': ['/home/georg/Projectarbeit_Kunes/04_Hubbard_Model'],\n",
       " 'In': ['',\n",
       "  \"get_ipython().run_line_magic('matplotlib', 'inline')\\n\\n# adding `Modules/` to the system path\\n#import sys\\n#sys.path.insert(0, './Modules/')\\n\\n#TODO: Rename module shortcuts such as hb into something usefull after development\\nimport Modules.Hubbard_Class as hb\\nimport Modules.Widgets as w\\nimport ipywidgets as widgets\\nimport numpy as np\\n\\n# Plotting\\nimport matplotlib.pyplot as plt\\nplt.style.use('seaborn-dark')\\nplt.rcParams.update({'font.size':14})\\n\\nfrom ipywidgets import HBox, VBox\\nimport functools\\n\\nget_ipython().run_line_magic('load_ext', 'autoreload')\\nget_ipython().run_line_magic('autoreload', '2')\\n#TODO rename one of the modules folders\",\n",
       "  'h1 = hb.Hubbard()',\n",
       "  'h1.Op_nn',\n",
       "  'x = lambda u,  **kwargs: u\\nwidgets.interactive(x, u=h1.t_range, t=h1.u_range, n=h1.n, s_up=h1.s_up, s_down=h1.s_down)',\n",
       "  'h1.diag(0)',\n",
       "  'h1.diag(0)',\n",
       "  'h1.Op_nn',\n",
       "  'h1.Op_nn',\n",
       "  'h1.diag(0)',\n",
       "  'h1.Op_n_up(0)* h1.Op_n_down(0)',\n",
       "  'np.diag(h1.Op_n_up(0)* h1.Op_n_down(0))',\n",
       "  'vars()',\n",
       "  'vars(h1)',\n",
       "  'vars()'],\n",
       " 'Out': {3: array([[3., 0., 0., ..., 0., 0., 0.],\n",
       "         [0., 2., 0., ..., 0., 0., 0.],\n",
       "         [0., 0., 2., ..., 0., 0., 0.],\n",
       "         ...,\n",
       "         [0., 0., 0., ..., 2., 0., 0.],\n",
       "         [0., 0., 0., ..., 0., 2., 0.],\n",
       "         [0., 0., 0., ..., 0., 0., 3.]]),\n",
       "  4: interactive(children=(FloatRangeSlider(value=(0.0, 1.0), continuous_update=False, description='$t=$', max=5.0, readout_format='.1f'), FloatRangeSlider(value=(2.0, 7.0), continuous_update=False, description='$U=$', max=40.0, readout_format='.1f'), BoundedIntText(value=3, description='$n = $', layout=Layout(width='3cm'), max=7, min=2, style=DescriptionStyle(description_width='initial')), BoundedIntText(value=2, description='$s_\\\\mathrm{up} = $', layout=Layout(width='5cm'), max=3, style=DescriptionStyle(description_width='initial')), BoundedIntText(value=1, description='$s_\\\\mathrm{down} = $', layout=Layout(width='5cm'), max=3, style=DescriptionStyle(description_width='initial')), Output()), _dom_classes=('widget-interact',)),\n",
       "  5: array([0., 0., 0.]),\n",
       "  6: array([0., 0., 0., 0., 0., 0., 0., 0., 1.]),\n",
       "  7: array([[0., 0., 0.],\n",
       "         [0., 0., 0.],\n",
       "         [0., 0., 0.]]),\n",
       "  8: array([[1., 0., 0., 0., 0., 0., 0., 0., 0.],\n",
       "         [0., 1., 0., 0., 0., 0., 0., 0., 0.],\n",
       "         [0., 0., 0., 0., 0., 0., 0., 0., 0.],\n",
       "         [0., 0., 0., 1., 0., 0., 0., 0., 0.],\n",
       "         [0., 0., 0., 0., 0., 0., 0., 0., 0.],\n",
       "         [0., 0., 0., 0., 0., 1., 0., 0., 0.],\n",
       "         [0., 0., 0., 0., 0., 0., 0., 0., 0.],\n",
       "         [0., 0., 0., 0., 0., 0., 0., 1., 0.],\n",
       "         [0., 0., 0., 0., 0., 0., 0., 0., 1.]]),\n",
       "  9: array([0., 0., 0., 0., 0., 1., 0., 0., 1.]),\n",
       "  10: array([[0., 0., 0., 0., 0., 0., 0., 0., 0.],\n",
       "         [0., 0., 0., 0., 0., 0., 0., 0., 0.],\n",
       "         [0., 0., 0., 0., 0., 0., 0., 0., 0.],\n",
       "         [0., 0., 0., 0., 0., 0., 0., 0., 0.],\n",
       "         [0., 0., 0., 0., 0., 0., 0., 0., 0.],\n",
       "         [0., 0., 0., 0., 0., 1., 0., 0., 0.],\n",
       "         [0., 0., 0., 0., 0., 0., 0., 0., 0.],\n",
       "         [0., 0., 0., 0., 0., 0., 0., 0., 0.],\n",
       "         [0., 0., 0., 0., 0., 0., 0., 0., 1.]]),\n",
       "  11: array([0., 0., 0., 0., 0., 1., 0., 0., 1.]),\n",
       "  12: {...},\n",
       "  13: {'out': Output(),\n",
       "   'n': BoundedIntText(value=3, description='$n = $', layout=Layout(width='3cm'), max=7, min=2, style=DescriptionStyle(description_width='initial')),\n",
       "   's_up': BoundedIntText(value=2, description='$s_\\\\mathrm{up} = $', layout=Layout(width='5cm'), max=3, style=DescriptionStyle(description_width='initial')),\n",
       "   's_down': BoundedIntText(value=1, description='$s_\\\\mathrm{down} = $', layout=Layout(width='5cm'), max=3, style=DescriptionStyle(description_width='initial')),\n",
       "   'basis': array([[0., 1., 1., 0., 0., 1.],\n",
       "          [0., 1., 1., 0., 1., 0.],\n",
       "          [0., 1., 1., 1., 0., 0.],\n",
       "          [1., 0., 1., 0., 0., 1.],\n",
       "          [1., 0., 1., 0., 1., 0.],\n",
       "          [1., 0., 1., 1., 0., 0.],\n",
       "          [1., 1., 0., 0., 0., 1.],\n",
       "          [1., 1., 0., 0., 1., 0.],\n",
       "          [1., 1., 0., 1., 0., 0.]]),\n",
       "   'basis_index': BoundedIntText(value=0, description='State $=$', layout=Layout(width='3cm'), max=8, style=DescriptionStyle(description_width='initial')),\n",
       "   'hoppings': array([[0, 1],\n",
       "          [1, 2],\n",
       "          [2, 0],\n",
       "          [1, 0],\n",
       "          [2, 1],\n",
       "          [0, 2],\n",
       "          [3, 4],\n",
       "          [4, 5],\n",
       "          [5, 3],\n",
       "          [4, 3],\n",
       "          [5, 4],\n",
       "          [3, 5]]),\n",
       "   'u': FloatSlider(value=2.0, continuous_update=False, description='$U=$', max=5.0, min=-5.0, readout_format='.1f'),\n",
       "   't': FloatSlider(value=1.0, continuous_update=False, description='$t=$', max=5.0, min=-5.0, readout_format='.1f'),\n",
       "   'u_range': FloatRangeSlider(value=(2.0, 7.0), continuous_update=False, description='$U=$', max=40.0, readout_format='.1f'),\n",
       "   't_range': FloatRangeSlider(value=(0.0, 1.0), continuous_update=False, description='$t=$', max=5.0, readout_format='.1f'),\n",
       "   'u_array': array([ 0. ,  0.5,  1. ,  1.5,  2. ,  2.5,  3. ,  3.5,  4. ,  4.5,  5. ,\n",
       "           5.5,  6. ,  6.5,  7. ,  7.5,  8. ,  8.5,  9. ,  9.5, 10. , 10.5,\n",
       "          11. , 11.5, 12. , 12.5, 13. , 13.5, 14. , 14.5, 15. , 15.5, 16. ,\n",
       "          16.5, 17. , 17.5, 18. , 18.5, 19. , 19.5, 20. , 20.5, 21. , 21.5,\n",
       "          22. , 22.5, 23. , 23.5, 24. , 24.5, 25. , 25.5, 26. , 26.5, 27. ,\n",
       "          27.5, 28. , 28.5, 29. , 29.5, 30. , 30.5, 31. , 31.5, 32. , 32.5,\n",
       "          33. , 33.5, 34. , 34.5, 35. , 35.5, 36. , 36.5, 37. , 37.5, 38. ,\n",
       "          38.5, 39. , 39.5, 40. ]),\n",
       "   't_array': array([0. , 0.5, 1. , 1.5, 2. , 2.5, 3. , 3.5, 4. , 4.5, 5. ]),\n",
       "   'up': array([[0., 1., 1.],\n",
       "          [0., 1., 1.],\n",
       "          [0., 1., 1.],\n",
       "          [1., 0., 1.],\n",
       "          [1., 0., 1.],\n",
       "          [1., 0., 1.],\n",
       "          [1., 1., 0.],\n",
       "          [1., 1., 0.],\n",
       "          [1., 1., 0.]]),\n",
       "   'down': array([[0., 0., 1.],\n",
       "          [0., 1., 0.],\n",
       "          [1., 0., 0.],\n",
       "          [0., 0., 1.],\n",
       "          [0., 1., 0.],\n",
       "          [1., 0., 0.],\n",
       "          [0., 0., 1.],\n",
       "          [0., 1., 0.],\n",
       "          [1., 0., 0.]]),\n",
       "   'Op_nn': array([[1., 0., 0., 0., 0., 0., 0., 0., 0.],\n",
       "          [0., 1., 0., 0., 0., 0., 0., 0., 0.],\n",
       "          [0., 0., 0., 0., 0., 0., 0., 0., 0.],\n",
       "          [0., 0., 0., 1., 0., 0., 0., 0., 0.],\n",
       "          [0., 0., 0., 0., 0., 0., 0., 0., 0.],\n",
       "          [0., 0., 0., 0., 0., 1., 0., 0., 0.],\n",
       "          [0., 0., 0., 0., 0., 0., 0., 0., 0.],\n",
       "          [0., 0., 0., 0., 0., 0., 0., 1., 0.],\n",
       "          [0., 0., 0., 0., 0., 0., 0., 0., 1.]])}},\n",
       " 'get_ipython': <bound method InteractiveShell.get_ipython of <ipykernel.zmqshell.ZMQInteractiveShell object at 0x7f919fe56940>>,\n",
       " 'exit': <IPython.core.autocall.ZMQExitAutocall at 0x7f919fe768b0>,\n",
       " 'quit': <IPython.core.autocall.ZMQExitAutocall at 0x7f919fe768b0>,\n",
       " '_': {'out': Output(),\n",
       "  'n': BoundedIntText(value=3, description='$n = $', layout=Layout(width='3cm'), max=7, min=2, style=DescriptionStyle(description_width='initial')),\n",
       "  's_up': BoundedIntText(value=2, description='$s_\\\\mathrm{up} = $', layout=Layout(width='5cm'), max=3, style=DescriptionStyle(description_width='initial')),\n",
       "  's_down': BoundedIntText(value=1, description='$s_\\\\mathrm{down} = $', layout=Layout(width='5cm'), max=3, style=DescriptionStyle(description_width='initial')),\n",
       "  'basis': array([[0., 1., 1., 0., 0., 1.],\n",
       "         [0., 1., 1., 0., 1., 0.],\n",
       "         [0., 1., 1., 1., 0., 0.],\n",
       "         [1., 0., 1., 0., 0., 1.],\n",
       "         [1., 0., 1., 0., 1., 0.],\n",
       "         [1., 0., 1., 1., 0., 0.],\n",
       "         [1., 1., 0., 0., 0., 1.],\n",
       "         [1., 1., 0., 0., 1., 0.],\n",
       "         [1., 1., 0., 1., 0., 0.]]),\n",
       "  'basis_index': BoundedIntText(value=0, description='State $=$', layout=Layout(width='3cm'), max=8, style=DescriptionStyle(description_width='initial')),\n",
       "  'hoppings': array([[0, 1],\n",
       "         [1, 2],\n",
       "         [2, 0],\n",
       "         [1, 0],\n",
       "         [2, 1],\n",
       "         [0, 2],\n",
       "         [3, 4],\n",
       "         [4, 5],\n",
       "         [5, 3],\n",
       "         [4, 3],\n",
       "         [5, 4],\n",
       "         [3, 5]]),\n",
       "  'u': FloatSlider(value=2.0, continuous_update=False, description='$U=$', max=5.0, min=-5.0, readout_format='.1f'),\n",
       "  't': FloatSlider(value=1.0, continuous_update=False, description='$t=$', max=5.0, min=-5.0, readout_format='.1f'),\n",
       "  'u_range': FloatRangeSlider(value=(2.0, 7.0), continuous_update=False, description='$U=$', max=40.0, readout_format='.1f'),\n",
       "  't_range': FloatRangeSlider(value=(0.0, 1.0), continuous_update=False, description='$t=$', max=5.0, readout_format='.1f'),\n",
       "  'u_array': array([ 0. ,  0.5,  1. ,  1.5,  2. ,  2.5,  3. ,  3.5,  4. ,  4.5,  5. ,\n",
       "          5.5,  6. ,  6.5,  7. ,  7.5,  8. ,  8.5,  9. ,  9.5, 10. , 10.5,\n",
       "         11. , 11.5, 12. , 12.5, 13. , 13.5, 14. , 14.5, 15. , 15.5, 16. ,\n",
       "         16.5, 17. , 17.5, 18. , 18.5, 19. , 19.5, 20. , 20.5, 21. , 21.5,\n",
       "         22. , 22.5, 23. , 23.5, 24. , 24.5, 25. , 25.5, 26. , 26.5, 27. ,\n",
       "         27.5, 28. , 28.5, 29. , 29.5, 30. , 30.5, 31. , 31.5, 32. , 32.5,\n",
       "         33. , 33.5, 34. , 34.5, 35. , 35.5, 36. , 36.5, 37. , 37.5, 38. ,\n",
       "         38.5, 39. , 39.5, 40. ]),\n",
       "  't_array': array([0. , 0.5, 1. , 1.5, 2. , 2.5, 3. , 3.5, 4. , 4.5, 5. ]),\n",
       "  'up': array([[0., 1., 1.],\n",
       "         [0., 1., 1.],\n",
       "         [0., 1., 1.],\n",
       "         [1., 0., 1.],\n",
       "         [1., 0., 1.],\n",
       "         [1., 0., 1.],\n",
       "         [1., 1., 0.],\n",
       "         [1., 1., 0.],\n",
       "         [1., 1., 0.]]),\n",
       "  'down': array([[0., 0., 1.],\n",
       "         [0., 1., 0.],\n",
       "         [1., 0., 0.],\n",
       "         [0., 0., 1.],\n",
       "         [0., 1., 0.],\n",
       "         [1., 0., 0.],\n",
       "         [0., 0., 1.],\n",
       "         [0., 1., 0.],\n",
       "         [1., 0., 0.]]),\n",
       "  'Op_nn': array([[1., 0., 0., 0., 0., 0., 0., 0., 0.],\n",
       "         [0., 1., 0., 0., 0., 0., 0., 0., 0.],\n",
       "         [0., 0., 0., 0., 0., 0., 0., 0., 0.],\n",
       "         [0., 0., 0., 1., 0., 0., 0., 0., 0.],\n",
       "         [0., 0., 0., 0., 0., 0., 0., 0., 0.],\n",
       "         [0., 0., 0., 0., 0., 1., 0., 0., 0.],\n",
       "         [0., 0., 0., 0., 0., 0., 0., 0., 0.],\n",
       "         [0., 0., 0., 0., 0., 0., 0., 1., 0.],\n",
       "         [0., 0., 0., 0., 0., 0., 0., 0., 1.]])},\n",
       " '__': {...},\n",
       " '___': array([0., 0., 0., 0., 0., 1., 0., 0., 1.]),\n",
       " 'sys': <module 'sys' (built-in)>,\n",
       " 'site': <module 'site' from '/usr/lib/python3.8/site.py'>,\n",
       " 'os': <module 'os' from '/usr/lib/python3.8/os.py'>,\n",
       " '__vsc_ipynb_file__': '/home/georg/Projectarbeit_Kunes/04_Hubbard_Model/development_notebook_march.ipynb',\n",
       " '_i': 'vars(h1)',\n",
       " '_ii': 'vars()',\n",
       " '_iii': 'np.diag(h1.Op_n_up(0)* h1.Op_n_down(0))',\n",
       " '_i1': \"%matplotlib inline\\n\\n# adding `Modules/` to the system path\\n#import sys\\n#sys.path.insert(0, './Modules/')\\n\\n#TODO: Rename module shortcuts such as hb into something usefull after development\\nimport Modules.Hubbard_Class as hb\\nimport Modules.Widgets as w\\nimport ipywidgets as widgets\\nimport numpy as np\\n\\n# Plotting\\nimport matplotlib.pyplot as plt\\nplt.style.use('seaborn-dark')\\nplt.rcParams.update({'font.size':14})\\n\\nfrom ipywidgets import HBox, VBox\\nimport functools\\n\\n%load_ext autoreload\\n%autoreload 2\\n#TODO rename one of the modules folders\",\n",
       " 'hb': <module 'Modules.Hubbard_Class' from '/home/georg/Projectarbeit_Kunes/04_Hubbard_Model/Modules/Hubbard_Class.py'>,\n",
       " 'w': <module 'Modules.Widgets' from '/home/georg/Projectarbeit_Kunes/04_Hubbard_Model/Modules/Widgets.py'>,\n",
       " 'widgets': <module 'ipywidgets' from '/home/georg/.local/lib/python3.8/site-packages/ipywidgets/__init__.py'>,\n",
       " 'np': <module 'numpy' from '/home/georg/.local/lib/python3.8/site-packages/numpy/__init__.py'>,\n",
       " 'plt': <module 'matplotlib.pyplot' from '/home/georg/.local/lib/python3.8/site-packages/matplotlib/pyplot.py'>,\n",
       " 'HBox': ipywidgets.widgets.widget_box.HBox,\n",
       " 'VBox': ipywidgets.widgets.widget_box.VBox,\n",
       " 'functools': <module 'functools' from '/usr/lib/python3.8/functools.py'>,\n",
       " '_i2': 'h1 = hb.Hubbard()',\n",
       " 'h1': <Modules.Hubbard_Class.Hubbard at 0x7f91853e55e0>,\n",
       " '_i3': 'h1.Op_nn',\n",
       " '_3': array([[3., 0., 0., ..., 0., 0., 0.],\n",
       "        [0., 2., 0., ..., 0., 0., 0.],\n",
       "        [0., 0., 2., ..., 0., 0., 0.],\n",
       "        ...,\n",
       "        [0., 0., 0., ..., 2., 0., 0.],\n",
       "        [0., 0., 0., ..., 0., 2., 0.],\n",
       "        [0., 0., 0., ..., 0., 0., 3.]]),\n",
       " '_i4': 'x = lambda u,  **kwargs: u\\nwidgets.interactive(x, u=h1.t_range, t=h1.u_range, n=h1.n, s_up=h1.s_up, s_down=h1.s_down)',\n",
       " 'x': <function __main__.<lambda>(u, **kwargs)>,\n",
       " '_4': interactive(children=(FloatRangeSlider(value=(0.0, 1.0), continuous_update=False, description='$t=$', max=5.0, readout_format='.1f'), FloatRangeSlider(value=(2.0, 7.0), continuous_update=False, description='$U=$', max=40.0, readout_format='.1f'), BoundedIntText(value=3, description='$n = $', layout=Layout(width='3cm'), max=7, min=2, style=DescriptionStyle(description_width='initial')), BoundedIntText(value=2, description='$s_\\\\mathrm{up} = $', layout=Layout(width='5cm'), max=3, style=DescriptionStyle(description_width='initial')), BoundedIntText(value=1, description='$s_\\\\mathrm{down} = $', layout=Layout(width='5cm'), max=3, style=DescriptionStyle(description_width='initial')), Output()), _dom_classes=('widget-interact',)),\n",
       " '_i5': 'h1.diag(0)',\n",
       " '_5': array([0., 0., 0.]),\n",
       " '_i6': 'h1.diag(0)',\n",
       " '_6': array([0., 0., 0., 0., 0., 0., 0., 0., 1.]),\n",
       " '_i7': 'h1.Op_nn',\n",
       " '_7': array([[0., 0., 0.],\n",
       "        [0., 0., 0.],\n",
       "        [0., 0., 0.]]),\n",
       " '_i8': 'h1.Op_nn',\n",
       " '_8': array([[1., 0., 0., 0., 0., 0., 0., 0., 0.],\n",
       "        [0., 1., 0., 0., 0., 0., 0., 0., 0.],\n",
       "        [0., 0., 0., 0., 0., 0., 0., 0., 0.],\n",
       "        [0., 0., 0., 1., 0., 0., 0., 0., 0.],\n",
       "        [0., 0., 0., 0., 0., 0., 0., 0., 0.],\n",
       "        [0., 0., 0., 0., 0., 1., 0., 0., 0.],\n",
       "        [0., 0., 0., 0., 0., 0., 0., 0., 0.],\n",
       "        [0., 0., 0., 0., 0., 0., 0., 1., 0.],\n",
       "        [0., 0., 0., 0., 0., 0., 0., 0., 1.]]),\n",
       " '_i9': 'h1.diag(0)',\n",
       " '_9': array([0., 0., 0., 0., 0., 1., 0., 0., 1.]),\n",
       " '_i10': 'h1.Op_n_up(0)* h1.Op_n_down(0)',\n",
       " '_10': array([[0., 0., 0., 0., 0., 0., 0., 0., 0.],\n",
       "        [0., 0., 0., 0., 0., 0., 0., 0., 0.],\n",
       "        [0., 0., 0., 0., 0., 0., 0., 0., 0.],\n",
       "        [0., 0., 0., 0., 0., 0., 0., 0., 0.],\n",
       "        [0., 0., 0., 0., 0., 0., 0., 0., 0.],\n",
       "        [0., 0., 0., 0., 0., 1., 0., 0., 0.],\n",
       "        [0., 0., 0., 0., 0., 0., 0., 0., 0.],\n",
       "        [0., 0., 0., 0., 0., 0., 0., 0., 0.],\n",
       "        [0., 0., 0., 0., 0., 0., 0., 0., 1.]]),\n",
       " '_i11': 'np.diag(h1.Op_n_up(0)* h1.Op_n_down(0))',\n",
       " '_11': array([0., 0., 0., 0., 0., 1., 0., 0., 1.]),\n",
       " '_i12': 'vars()',\n",
       " '_12': {...},\n",
       " '_i13': 'vars(h1)',\n",
       " '_13': {'out': Output(),\n",
       "  'n': BoundedIntText(value=3, description='$n = $', layout=Layout(width='3cm'), max=7, min=2, style=DescriptionStyle(description_width='initial')),\n",
       "  's_up': BoundedIntText(value=2, description='$s_\\\\mathrm{up} = $', layout=Layout(width='5cm'), max=3, style=DescriptionStyle(description_width='initial')),\n",
       "  's_down': BoundedIntText(value=1, description='$s_\\\\mathrm{down} = $', layout=Layout(width='5cm'), max=3, style=DescriptionStyle(description_width='initial')),\n",
       "  'basis': array([[0., 1., 1., 0., 0., 1.],\n",
       "         [0., 1., 1., 0., 1., 0.],\n",
       "         [0., 1., 1., 1., 0., 0.],\n",
       "         [1., 0., 1., 0., 0., 1.],\n",
       "         [1., 0., 1., 0., 1., 0.],\n",
       "         [1., 0., 1., 1., 0., 0.],\n",
       "         [1., 1., 0., 0., 0., 1.],\n",
       "         [1., 1., 0., 0., 1., 0.],\n",
       "         [1., 1., 0., 1., 0., 0.]]),\n",
       "  'basis_index': BoundedIntText(value=0, description='State $=$', layout=Layout(width='3cm'), max=8, style=DescriptionStyle(description_width='initial')),\n",
       "  'hoppings': array([[0, 1],\n",
       "         [1, 2],\n",
       "         [2, 0],\n",
       "         [1, 0],\n",
       "         [2, 1],\n",
       "         [0, 2],\n",
       "         [3, 4],\n",
       "         [4, 5],\n",
       "         [5, 3],\n",
       "         [4, 3],\n",
       "         [5, 4],\n",
       "         [3, 5]]),\n",
       "  'u': FloatSlider(value=2.0, continuous_update=False, description='$U=$', max=5.0, min=-5.0, readout_format='.1f'),\n",
       "  't': FloatSlider(value=1.0, continuous_update=False, description='$t=$', max=5.0, min=-5.0, readout_format='.1f'),\n",
       "  'u_range': FloatRangeSlider(value=(2.0, 7.0), continuous_update=False, description='$U=$', max=40.0, readout_format='.1f'),\n",
       "  't_range': FloatRangeSlider(value=(0.0, 1.0), continuous_update=False, description='$t=$', max=5.0, readout_format='.1f'),\n",
       "  'u_array': array([ 0. ,  0.5,  1. ,  1.5,  2. ,  2.5,  3. ,  3.5,  4. ,  4.5,  5. ,\n",
       "          5.5,  6. ,  6.5,  7. ,  7.5,  8. ,  8.5,  9. ,  9.5, 10. , 10.5,\n",
       "         11. , 11.5, 12. , 12.5, 13. , 13.5, 14. , 14.5, 15. , 15.5, 16. ,\n",
       "         16.5, 17. , 17.5, 18. , 18.5, 19. , 19.5, 20. , 20.5, 21. , 21.5,\n",
       "         22. , 22.5, 23. , 23.5, 24. , 24.5, 25. , 25.5, 26. , 26.5, 27. ,\n",
       "         27.5, 28. , 28.5, 29. , 29.5, 30. , 30.5, 31. , 31.5, 32. , 32.5,\n",
       "         33. , 33.5, 34. , 34.5, 35. , 35.5, 36. , 36.5, 37. , 37.5, 38. ,\n",
       "         38.5, 39. , 39.5, 40. ]),\n",
       "  't_array': array([0. , 0.5, 1. , 1.5, 2. , 2.5, 3. , 3.5, 4. , 4.5, 5. ]),\n",
       "  'up': array([[0., 1., 1.],\n",
       "         [0., 1., 1.],\n",
       "         [0., 1., 1.],\n",
       "         [1., 0., 1.],\n",
       "         [1., 0., 1.],\n",
       "         [1., 0., 1.],\n",
       "         [1., 1., 0.],\n",
       "         [1., 1., 0.],\n",
       "         [1., 1., 0.]]),\n",
       "  'down': array([[0., 0., 1.],\n",
       "         [0., 1., 0.],\n",
       "         [1., 0., 0.],\n",
       "         [0., 0., 1.],\n",
       "         [0., 1., 0.],\n",
       "         [1., 0., 0.],\n",
       "         [0., 0., 1.],\n",
       "         [0., 1., 0.],\n",
       "         [1., 0., 0.]]),\n",
       "  'Op_nn': array([[1., 0., 0., 0., 0., 0., 0., 0., 0.],\n",
       "         [0., 1., 0., 0., 0., 0., 0., 0., 0.],\n",
       "         [0., 0., 0., 0., 0., 0., 0., 0., 0.],\n",
       "         [0., 0., 0., 1., 0., 0., 0., 0., 0.],\n",
       "         [0., 0., 0., 0., 0., 0., 0., 0., 0.],\n",
       "         [0., 0., 0., 0., 0., 1., 0., 0., 0.],\n",
       "         [0., 0., 0., 0., 0., 0., 0., 0., 0.],\n",
       "         [0., 0., 0., 0., 0., 0., 0., 1., 0.],\n",
       "         [0., 0., 0., 0., 0., 0., 0., 0., 1.]])},\n",
       " '_i14': 'vars()'}"
      ]
     },
     "execution_count": 14,
     "metadata": {},
     "output_type": "execute_result"
    }
   ],
   "source": [
    "vars()"
   ]
  },
  {
   "cell_type": "code",
   "execution_count": null,
   "metadata": {},
   "outputs": [],
   "source": []
  }
 ],
 "metadata": {
  "interpreter": {
   "hash": "767d51c1340bd893661ea55ea3124f6de3c7a262a8b4abca0554b478b1e2ff90"
  },
  "kernelspec": {
   "display_name": "Python 3 (ipykernel)",
   "language": "python",
   "name": "python3"
  },
  "language_info": {
   "codemirror_mode": {
    "name": "ipython",
    "version": 3
   },
   "file_extension": ".py",
   "mimetype": "text/x-python",
   "name": "python",
   "nbconvert_exporter": "python",
   "pygments_lexer": "ipython3",
   "version": "3.8.10"
  }
 },
 "nbformat": 4,
 "nbformat_minor": 4
}
