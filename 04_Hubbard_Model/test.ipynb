{
 "cells": [
  {
   "cell_type": "code",
   "execution_count": 4,
   "metadata": {},
   "outputs": [
    {
     "name": "stdout",
     "output_type": "stream",
     "text": [
      "The autoreload extension is already loaded. To reload it, use:\n",
      "  %reload_ext autoreload\n"
     ]
    }
   ],
   "source": [
    "%matplotlib inline\n",
    "\n",
    "# adding `Modules/` to the system path\n",
    "import sys\n",
    "sys.path.insert(0, './Modules/')\n",
    "\n",
    "#TODO: Rename module shortcuts such as hb into something usefull after development\n",
    "import Hubbard_Class as hb\n",
    "import Widgets as w\n",
    "import ipywidgets as widgets\n",
    "import numpy as np\n",
    "\n",
    "# Plotting\n",
    "import matplotlib.pyplot as plt\n",
    "plt.style.use('seaborn-dark')\n",
    "plt.rcParams.update({'font.size':14})\n",
    "\n",
    "from ipywidgets import HBox, VBox\n",
    "import functools\n",
    "\n",
    "%load_ext autoreload\n",
    "%autoreload 2"
   ]
  },
  {
   "cell_type": "code",
   "execution_count": 5,
   "metadata": {},
   "outputs": [],
   "source": [
    "# adding `Modules/` to the system path\n",
    "import sys\n",
    "sys.path.insert(0, '../Modules/')"
   ]
  },
  {
   "cell_type": "code",
   "execution_count": 6,
   "metadata": {},
   "outputs": [],
   "source": [
    "from Module_Widgets_and_Sliders import Text_Box, Save_Figure_Button, Click_Save_Figure, set_filename#\n",
    "from Widgets import steps_Slider"
   ]
  },
  {
   "cell_type": "code",
   "execution_count": null,
   "metadata": {},
   "outputs": [],
   "source": [
    "h = hb.Hubbard()"
   ]
  },
  {
   "cell_type": "code",
   "execution_count": 37,
   "metadata": {},
   "outputs": [
    {
     "data": {
      "text/plain": [
       "array([[ 1.,  2.,  2.,  2.,  0.,  0., -2.,  0.,  0.],\n",
       "       [ 2.,  1.,  2.,  0.,  2.,  0.,  0., -2.,  0.],\n",
       "       [ 2.,  2.,  0.,  0.,  0.,  2.,  0.,  0., -2.],\n",
       "       [ 2.,  0.,  0.,  1.,  2.,  2.,  2.,  0.,  0.],\n",
       "       [ 0.,  2.,  0.,  2.,  0.,  2.,  0.,  2.,  0.],\n",
       "       [ 0.,  0.,  2.,  2.,  2.,  1.,  0.,  0.,  2.],\n",
       "       [-2.,  0.,  0.,  2.,  0.,  0.,  0.,  2.,  2.],\n",
       "       [ 0., -2.,  0.,  0.,  2.,  0.,  2.,  1.,  2.],\n",
       "       [ 0.,  0., -2.,  0.,  0.,  2.,  2.,  2.,  1.]])"
      ]
     },
     "execution_count": 37,
     "metadata": {},
     "output_type": "execute_result"
    }
   ],
   "source": [
    "h.Calc_H(1,2)"
   ]
  },
  {
   "cell_type": "code",
   "execution_count": 10,
   "metadata": {},
   "outputs": [
    {
     "data": {
      "application/vnd.jupyter.widget-view+json": {
       "model_id": "6f7b7ab031c54566a8e8b1924a3fcf0a",
       "version_major": 2,
       "version_minor": 0
      },
      "text/plain": [
       "HBox(children=(Button(description='Save Current Figure', layout=Layout(width='5cm'), style=ButtonStyle()), Tex…"
      ]
     },
     "metadata": {},
     "output_type": "display_data"
    },
    {
     "data": {
      "application/vnd.jupyter.widget-view+json": {
       "model_id": "40cb40e262ba470ea0acaa596cb80d2e",
       "version_major": 2,
       "version_minor": 0
      },
      "text/plain": [
       "interactive(children=(FloatRangeSlider(value=(2.0, 40.0), continuous_update=False, description='todo:', max=40…"
      ]
     },
     "metadata": {},
     "output_type": "display_data"
    }
   ],
   "source": [
    "m = widgets.interactive(h.Plot_Eigvals_u, u=h.u, n=h.n, s_up=h.s_up, s_down=h.s_down);\n",
    "\n",
    "output_hubbard = widgets.Output()\n",
    "filename = set_filename(\"Hubbard.pdf\")\n",
    "Save_Figure_Button.on_click(functools.partial(Click_Save_Figure, widget=m, name_widget=filename, output=output_hubbard, path=\"\"))\n",
    "\n",
    "display(HBox([Save_Figure_Button, filename, output_hubbard]))\n",
    "display(m, )"
   ]
  },
  {
   "cell_type": "code",
   "execution_count": 7,
   "metadata": {},
   "outputs": [
    {
     "data": {
      "application/vnd.jupyter.widget-view+json": {
       "model_id": "e5287a5d997e491ba584f05c4f79cdb2",
       "version_major": 2,
       "version_minor": 0
      },
      "text/plain": [
       "HBox(children=(Button(description='Save Current Figure', layout=Layout(width='5cm'), style=ButtonStyle()), Tex…"
      ]
     },
     "metadata": {},
     "output_type": "display_data"
    },
    {
     "data": {
      "application/vnd.jupyter.widget-view+json": {
       "model_id": "aae01c08bf164196944de1d07439d075",
       "version_major": 2,
       "version_minor": 0
      },
      "text/plain": [
       "interactive(children=(FloatRangeSlider(value=(0.0, 1.0), continuous_update=False, description='todo:', max=5.0…"
      ]
     },
     "metadata": {},
     "output_type": "display_data"
    }
   ],
   "source": [
    "t = widgets.interactive(h.Plot_Eigvals_t,t=h.t, n=h.n, s_up=h.s_up, s_down=h.s_down);\n",
    "\n",
    "output_hubbard_t = widgets.Output()\n",
    "filename = set_filename(\"Hubbard_t.pdf\")\n",
    "Save_Figure_Button.on_click(functools.partial(Click_Save_Figure, widget=t, name_widget=filename, output=output_hubbard_t, path=\"\"))\n",
    "\n",
    "display(HBox([Save_Figure_Button, filename, output_hubbard_t]))\n",
    "display(t)"
   ]
  },
  {
   "cell_type": "code",
   "execution_count": 88,
   "metadata": {},
   "outputs": [],
   "source": [
    "a = np.array([1,2])"
   ]
  },
  {
   "cell_type": "code",
   "execution_count": 84,
   "metadata": {},
   "outputs": [],
   "source": [
    "a = a.reshape(-1)"
   ]
  },
  {
   "cell_type": "code",
   "execution_count": 89,
   "metadata": {},
   "outputs": [
    {
     "data": {
      "text/plain": [
       "(2,)"
      ]
     },
     "execution_count": 89,
     "metadata": {},
     "output_type": "execute_result"
    }
   ],
   "source": [
    "a.shape"
   ]
  },
  {
   "cell_type": "code",
   "execution_count": null,
   "metadata": {},
   "outputs": [],
   "source": []
  }
 ],
 "metadata": {
  "interpreter": {
   "hash": "767d51c1340bd893661ea55ea3124f6de3c7a262a8b4abca0554b478b1e2ff90"
  },
  "kernelspec": {
   "display_name": "Python 3 (ipykernel)",
   "language": "python",
   "name": "python3"
  },
  "language_info": {
   "codemirror_mode": {
    "name": "ipython",
    "version": 3
   },
   "file_extension": ".py",
   "mimetype": "text/x-python",
   "name": "python",
   "nbconvert_exporter": "python",
   "pygments_lexer": "ipython3",
   "version": "3.8.10"
  }
 },
 "nbformat": 4,
 "nbformat_minor": 4
}
