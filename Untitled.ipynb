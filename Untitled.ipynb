{
 "cells": [
  {
   "cell_type": "code",
   "execution_count": 13,
   "id": "9570a4ee-5b83-4565-a023-8f8c907fa6ab",
   "metadata": {},
   "outputs": [],
   "source": [
    "import ipywidgets as widgets"
   ]
  },
  {
   "cell_type": "code",
   "execution_count": 14,
   "id": "6714891c-ec8c-4289-9783-75b2f16a1033",
   "metadata": {},
   "outputs": [],
   "source": [
    "drop = widgets.Dropdown(options=([3,4,5], [4,5], [5,6]))"
   ]
  },
  {
   "cell_type": "code",
   "execution_count": 15,
   "id": "42ca3dcf-4921-4028-a5ba-563e4110c572",
   "metadata": {},
   "outputs": [
    {
     "data": {
      "application/vnd.jupyter.widget-view+json": {
       "model_id": "49e7d27139ed44e0be235b467c2c7af3",
       "version_major": 2,
       "version_minor": 0
      },
      "text/plain": [
       "Dropdown(options=([3, 4, 5], [4, 5], [5, 6]), value=[3, 4, 5])"
      ]
     },
     "metadata": {},
     "output_type": "display_data"
    }
   ],
   "source": [
    "drop"
   ]
  },
  {
   "cell_type": "code",
   "execution_count": 19,
   "id": "dfd25fec-1111-4000-8124-f828436461c9",
   "metadata": {},
   "outputs": [],
   "source": [
    "drop.value = [4,5]"
   ]
  },
  {
   "cell_type": "code",
   "execution_count": null,
   "id": "cd32523b-039d-4cf8-9fa1-3614dbd281d9",
   "metadata": {},
   "outputs": [],
   "source": []
  }
 ],
 "metadata": {
  "kernelspec": {
   "display_name": "Python 3 (ipykernel)",
   "language": "python",
   "name": "python3"
  },
  "language_info": {
   "codemirror_mode": {
    "name": "ipython",
    "version": 3
   },
   "file_extension": ".py",
   "mimetype": "text/x-python",
   "name": "python",
   "nbconvert_exporter": "python",
   "pygments_lexer": "ipython3",
   "version": "3.8.10"
  }
 },
 "nbformat": 4,
 "nbformat_minor": 5
}
