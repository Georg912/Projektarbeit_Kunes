{
 "cells": [
  {
   "cell_type": "code",
   "execution_count": 3,
   "id": "fb87b938-6215-4959-9d35-177e70ce9efe",
   "metadata": {},
   "outputs": [],
   "source": [
    "import ipywidgets as widgets\n",
    "import numpy as np"
   ]
  },
  {
   "cell_type": "code",
   "execution_count": 5,
   "id": "7b352272-7c4b-4d58-91ff-fe35f6c503f0",
   "metadata": {},
   "outputs": [
    {
     "data": {
      "text/plain": [
       "(array([[0.23191534, 0.29576659, 0.13881706],\n",
       "        [0.43399569, 0.3830085 , 0.91229793],\n",
       "        [0.95816286, 0.63260174, 0.79199347]]),\n",
       " array([[0., 0., 0.],\n",
       "        [0., 1., 0.],\n",
       "        [0., 0., 2.]]))"
      ]
     },
     "execution_count": 5,
     "metadata": {},
     "output_type": "execute_result"
    }
   ],
   "source": [
    "a = np.random.rand(3,3)\n",
    "b = np.arange(3)*np.eye(3)\n",
    "a,b"
   ]
  },
  {
   "cell_type": "code",
   "execution_count": 61,
   "id": "a9668fb9-ea8b-4492-b4b2-179ea6b85837",
   "metadata": {},
   "outputs": [],
   "source": [
    "drop = widgets.Dropdown(options=((\"test\", np.random.rand),))"
   ]
  },
  {
   "cell_type": "code",
   "execution_count": 62,
   "id": "e2636d4b-c09d-4eea-bc94-a442d8f9fdd7",
   "metadata": {},
   "outputs": [
    {
     "data": {
      "application/vnd.jupyter.widget-view+json": {
       "model_id": "b66a86056a804485b7f93725bf314a61",
       "version_major": 2,
       "version_minor": 0
      },
      "text/plain": [
       "Dropdown(options=(('test', <built-in method rand of numpy.random.mtrand.RandomState object at 0x7f69d5165540>)…"
      ]
     },
     "metadata": {},
     "output_type": "display_data"
    }
   ],
   "source": [
    "display(drop)"
   ]
  },
  {
   "cell_type": "code",
   "execution_count": 63,
   "id": "3be9e4e8-c645-4a19-8a9d-8ef3f3935384",
   "metadata": {},
   "outputs": [
    {
     "data": {
      "text/plain": [
       "<function RandomState.rand>"
      ]
     },
     "execution_count": 63,
     "metadata": {},
     "output_type": "execute_result"
    }
   ],
   "source": [
    "drop.value"
   ]
  },
  {
   "cell_type": "code",
   "execution_count": 64,
   "id": "e7107226-3217-4f2d-ade6-09634b97936c",
   "metadata": {},
   "outputs": [
    {
     "data": {
      "text/plain": [
       "'test'"
      ]
     },
     "execution_count": 64,
     "metadata": {},
     "output_type": "execute_result"
    }
   ],
   "source": [
    "drop.label"
   ]
  },
  {
   "cell_type": "code",
   "execution_count": null,
   "id": "e160aa9f-c0f4-402d-bd62-36916f011ab5",
   "metadata": {},
   "outputs": [],
   "source": []
  }
 ],
 "metadata": {
  "kernelspec": {
   "display_name": "Python 3 (ipykernel)",
   "language": "python",
   "name": "python3"
  },
  "language_info": {
   "codemirror_mode": {
    "name": "ipython",
    "version": 3
   },
   "file_extension": ".py",
   "mimetype": "text/x-python",
   "name": "python",
   "nbconvert_exporter": "python",
   "pygments_lexer": "ipython3",
   "version": "3.8.10"
  }
 },
 "nbformat": 4,
 "nbformat_minor": 5
}
