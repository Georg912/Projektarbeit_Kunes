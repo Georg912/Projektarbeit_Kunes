{
 "cells": [
  {
   "cell_type": "code",
   "execution_count": 7,
   "id": "0ddec22c-d859-4831-a20f-3227c098f571",
   "metadata": {},
   "outputs": [
    {
     "name": "stdout",
     "output_type": "stream",
     "text": [
      "List is too long (12 elements, expected <= 10)\n"
     ]
    }
   ],
   "source": [
    "a = [0]*12\n",
    "if (n := len(a)) > 10:\n",
    "    print(f\"List is too long ({n} elements, expected <= 10)\")"
   ]
  },
  {
   "cell_type": "code",
   "execution_count": 13,
   "id": "96168a2b-d6b2-4a1f-8579-82009a1cc926",
   "metadata": {},
   "outputs": [],
   "source": [
    "from datetime import date"
   ]
  },
  {
   "cell_type": "code",
   "execution_count": 15,
   "id": "5755dee0-c90a-430b-9dc0-217f7f96bc48",
   "metadata": {},
   "outputs": [],
   "source": [
    "a=6\n",
    "b=5\n",
    "\n"
   ]
  },
  {
   "cell_type": "code",
   "execution_count": 16,
   "id": "7a3fffd6-7126-4f03-8160-a697a81cfdc4",
   "metadata": {},
   "outputs": [
    {
     "data": {
      "text/plain": [
       "'a=6, b=5, b*a=30, test'"
      ]
     },
     "execution_count": 16,
     "metadata": {},
     "output_type": "execute_result"
    }
   ],
   "source": [
    "f\"{a=}, {b=}, {b*a=}, test\""
   ]
  },
  {
   "cell_type": "code",
   "execution_count": null,
   "id": "fb87b938-6215-4959-9d35-177e70ce9efe",
   "metadata": {},
   "outputs": [],
   "source": []
  }
 ],
 "metadata": {
  "kernelspec": {
   "display_name": "Python 3 (ipykernel)",
   "language": "python",
   "name": "python3"
  },
  "language_info": {
   "codemirror_mode": {
    "name": "ipython",
    "version": 3
   },
   "file_extension": ".py",
   "mimetype": "text/x-python",
   "name": "python",
   "nbconvert_exporter": "python",
   "pygments_lexer": "ipython3",
   "version": "3.8.10"
  }
 },
 "nbformat": 4,
 "nbformat_minor": 5
}
